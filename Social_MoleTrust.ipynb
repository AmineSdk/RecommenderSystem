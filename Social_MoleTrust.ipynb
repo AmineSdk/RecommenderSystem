{
  "nbformat": 4,
  "nbformat_minor": 0,
  "metadata": {
    "colab": {
      "name": "Social-MoleTrust.ipynb",
      "provenance": [],
      "authorship_tag": "ABX9TyMcdxl/s7bNByF8cbf4aeDc",
      "include_colab_link": true
    },
    "kernelspec": {
      "name": "python3",
      "display_name": "Python 3"
    },
    "language_info": {
      "name": "python"
    },
    "gpuClass": "standard"
  },
  "cells": [
    {
      "cell_type": "markdown",
      "metadata": {
        "id": "view-in-github",
        "colab_type": "text"
      },
      "source": [
        "<a href=\"https://colab.research.google.com/github/AmineSdk/RecommenderSystem/blob/main/Social_MoleTrust.ipynb\" target=\"_parent\"><img src=\"https://colab.research.google.com/assets/colab-badge.svg\" alt=\"Open In Colab\"/></a>"
      ]
    },
    {
      "cell_type": "code",
      "execution_count": 1,
      "metadata": {
        "id": "Vewl0YOqGHv9"
      },
      "outputs": [],
      "source": [
        "import pandas as pd\n",
        "import numpy as np"
      ]
    },
    {
      "cell_type": "code",
      "source": [
        "! kaggle datasets download -d aminesedkaoui/yelp_review_ratings\n",
        "! kaggle datasets download -d aminesedkaoui/yelp_user_friends"
      ],
      "metadata": {
        "id": "XgN00444H-w8"
      },
      "execution_count": null,
      "outputs": []
    },
    {
      "cell_type": "code",
      "source": [
        "#constructing trust_dataset according to usersList minimization.\n",
        "def dataset_trust_construct(user,friends,usersList,data_trustdatasetList2DF) :\n",
        "  if user in usersList :\n",
        "    friends = friends.split(\", \")\n",
        "    # print(friends)\n",
        "    # print(len(friends))\n",
        "    for friend in friends :\n",
        "      # print('in for')\n",
        "      # print(friend)\n",
        "      if friend in usersList :\n",
        "        # print('in if')\n",
        "        # print(friend)\n",
        "        row = []\n",
        "        row.append(user)\n",
        "        row.append(friend)\n",
        "        row.append(1)\n",
        "        # print(row)\n",
        "        data_trustdatasetList2DF.append(row)\n",
        "        print(len(data_trustdatasetList2DF))\n",
        "  return data_trustdatasetList2DF\n",
        "\n",
        "def check (user1 , user2 , trustval, usersList, df_user_user) :\n",
        "  if (user1 in usersList) and (user2 in usersList) :\n",
        "    df_user_user.at[user1, user2] = trustval\n",
        "  return df_user_user\n",
        "\n",
        "\n",
        "def fill_user_matrix (usersList, df_user_user, dataset_trust) : \n",
        "  #df_user_user = dataset_trust.apply(lambda row : check(row['userID1'], row['userID2'], row['trustValue'], usersList, df_user_user), axis = 1)\n",
        "  dataset_trust.apply(lambda row : check(row['userID1'], row['userID2'], row['trustValue'], usersList, df_user_user), axis = 1)\n",
        "  return df_user_user\n",
        "  \n",
        "\n",
        "def moleTrustAlgorithme (dataset_rating , dataset_trust, usersList) : \n",
        "\n",
        "    usersNumber = len(usersList) \n",
        "    matrix_user_user = np.zeros((usersNumber, usersNumber))\n",
        "\n",
        "    df_user_user = pd.DataFrame(matrix_user_user, index = dataset_rating['userID'].unique()  ,columns = dataset_rating['userID'].unique()) \n",
        "    df_user_user = fill_user_matrix (usersList, df_user_user, dataset_trust)\n",
        "    print(\"df_user_user trust values after-filling :\")\n",
        "    print(df_user_user)\n",
        "\n",
        "\n",
        "\n",
        "    g = Graph() #directed\n",
        "    #maybe better. . > dictionnary construction < . .###################################################### \n",
        "    val2id = {}\n",
        "    for user in dataset_rating['userID'].unique() :\n",
        "      #add node to g\n",
        "      v = g.add_vertex() \n",
        "      #add it index to its user in the dictionarry\n",
        "      val2id[g.vertex_index[v]] = user\n",
        "\n",
        "    ##########################################################################\n",
        "\n",
        "    for i in range(usersNumber):\n",
        "      for j in range(usersNumber):\n",
        "        s1 = val2id[i] #users ID\n",
        "        s2 = val2id[j]\n",
        "\n",
        "        if df_user_user.at[s1, s2] != 0:\n",
        "          g.add_edge(g.vertex(i), g.vertex(j))\n",
        "\n",
        "\n",
        "    for a in range(usersNumber):\n",
        "      for b in range(usersNumber):\n",
        "\n",
        "        aUser = val2id[a] #users ID\n",
        "        bUser = val2id[b]\n",
        "\n",
        "        if df_user_user.at[aUser, bUser] == 0 and a != b:\n",
        "          Val_1 = 0\n",
        "          Val_2 = 0\n",
        "          Trust_propagation = 0\n",
        "\n",
        "          for path in graph_tool.topology.all_paths(g, g.vertex(a), g.vertex(b), cutoff=4, edges=True) :\n",
        "            W_k = 1\n",
        "            W_direct = 1\n",
        "            edge = len(path)\n",
        "            cpt = 0\n",
        "\n",
        "            for current_edge in path:\n",
        "              cpt = cpt + 1\n",
        "              #get vertexs\n",
        "              s1 = current_edge.source()\n",
        "              s2 = current_edge.target()\n",
        "              #get index of vertexs\n",
        "              index1 = g.vertex_index[s1]\n",
        "              index2 = g.vertex_index[s2]\n",
        "              #get Users of indexes\n",
        "              s1User = val2id[index1]\n",
        "              s2User = val2id[index2]\n",
        "              #get trust between the 2 users\n",
        "              Trust_value = df_user_user.at[s1User, s2User]\n",
        "              # # # # # # # # # # # #\n",
        "              if cpt < edge :\n",
        "                W_k = W_k * Trust_value\n",
        "              if cpt == edge :\n",
        "                W_direct = Trust_value\n",
        "\n",
        "            Val_1 = Val_1 + W_direct * W_k\n",
        "            Val_2 = Val_2 + W_k\n",
        "\n",
        "\n",
        "          if Val_1 == 0 and Val_2 == 0:\n",
        "                    Trust_propagation = 0\n",
        "          else:\n",
        "                    Trust_propagation = Val_1 / Val_2\n",
        "                \n",
        "          #Set Trust\n",
        "          df_user_user.at[aUser, bUser] = Trust_propagation\n",
        "    \n",
        "    return df_user_user\n"
      ],
      "metadata": {
        "id": "ByTuXltoHFeN"
      },
      "execution_count": null,
      "outputs": []
    },
    {
      "cell_type": "code",
      "source": [
        "#ratings\n",
        "dataset_rating = pd.read_csv(\"/content/yelp_review_ratings.csv\")\n",
        "dataset_rating.rename(columns = {'text': 'reviewText', 'stars': 'rating', 'business_id': 'productID', 'user_id': 'userID'}, inplace = True)\n",
        "#dataset_rating = dataset_rating[:100]\n",
        "usersList = dataset_rating['userID'].unique()\n",
        "print(len(usersList))\n",
        "\n",
        "print(len(dataset_rating))\n",
        "########################\n",
        "#trusts\n",
        "userfriends = pd.read_csv(\"/content/yelp_user_friends.csv\")\n",
        "userfriends.rename(columns = {'user_id': 'userID'}, inplace = True)\n",
        "print(userfriends.head(5))\n",
        "data_trustdatasetList2DF_cols = ['userID1','userID2','trustValue']\n",
        "data_trustdatasetList2DF = []\n",
        "userfriends.apply(lambda row : dataset_trust_construct(row['userID'], row['friends'], usersList, data_trustdatasetList2DF), axis = 1)\n",
        "\n",
        "print(len(data_trustdatasetList2DF))\n",
        "if len(data_trustdatasetList2DF) != 0 :\n",
        "  dataset_trust = pd.DataFrame(data_trustdatasetList2DF, columns=data_trustdatasetList2DF_cols)\n",
        "else :\n",
        "  print(\"Error trust dataset not filled.\")\n",
        "  dataset_trust = 0\n",
        "\n",
        "print(dataset_trust.head(5))\n",
        "dataset_trust.to_csv('/content/yelp_user_user_trust.csv')"
      ],
      "metadata": {
        "id": "WyQ6nRNFHHui"
      },
      "execution_count": null,
      "outputs": []
    }
  ]
}
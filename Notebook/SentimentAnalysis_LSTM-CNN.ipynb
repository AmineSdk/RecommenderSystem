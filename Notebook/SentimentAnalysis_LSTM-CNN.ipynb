{
  "cells": [
    {
      "cell_type": "code",
      "source": [
        "! pip install kaggle\n",
        "! mkdir ~/.kaggle\n",
        "! cp kaggle.json ~/.kaggle/\n",
        "! chmod 600 ~/.kaggle/kaggle.json\n",
        "! kaggle datasets download CellPhones -f CellPhonesRating.csv"
      ],
      "metadata": {
        "id": "UM0vifCk9CB0"
      },
      "execution_count": null,
      "outputs": []
    },
    {
      "cell_type": "code",
      "execution_count": null,
      "metadata": {
        "id": "hzC-uuMYYvXk"
      },
      "outputs": [],
      "source": [
        "!pip install tensorflow-text"
      ]
    },
    {
      "cell_type": "code",
      "source": [
        "# Check libcudnn8 version\n",
        "!apt-cache policy libcudnn8\n",
        "\n",
        "# Install latest version\n",
        "!apt install --allow-change-held-packages libcudnn8=8.4.1.50-1+cuda11.6\n",
        "\n",
        "# Export env variables\n",
        "!export PATH=/usr/local/cuda-11.4/bin${PATH:+:${PATH}}\n",
        "!export LD_LIBRARY_PATH=/usr/local/cuda-11.4/lib64:$LD_LIBRARY_PATH\n",
        "!export LD_LIBRARY_PATH=/usr/local/cuda-11.4/include:$LD_LIBRARY_PATH\n",
        "!export LD_LIBRARY_PATH=$LD_LIBRARY_PATH:/usr/local/cuda/extras/CUPTI/lib64"
      ],
      "metadata": {
        "id": "oHZP7bp73IiU"
      },
      "execution_count": null,
      "outputs": []
    },
    {
      "cell_type": "code",
      "execution_count": 4,
      "metadata": {
        "id": "LOYIL86oOtQo"
      },
      "outputs": [],
      "source": [
        "import os\n",
        "import tensorflow as tf \n",
        "import numpy as np\n",
        "import tensorflow_hub as hub\n",
        "import tensorflow_text as text\n",
        "import pandas as pd\n",
        "from tensorflow.keras import datasets, layers, models\n",
        "from sklearn.model_selection import train_test_split"
      ]
    },
    {
      "cell_type": "code",
      "source": [
        "DATA = ['/content/CellPhonesRating_50K_reviews.csv','dataset_2']\n",
        "MODEL_PATH = []\n",
        "PATH = ''\n",
        "rmse = tf.keras.metrics.RootMeanSquaredError()\n",
        "precision = tf.keras.metrics.Precision()\n",
        "METRICS = ['accuracy','mae',rmse,precision]"
      ],
      "metadata": {
        "id": "JFLHXfiPuBjH"
      },
      "execution_count": 5,
      "outputs": []
    },
    {
      "cell_type": "code",
      "source": [
        "df = pd.read_csv('/content/CellPhonesRating.csv.zip')"
      ],
      "metadata": {
        "id": "b0JZpVf9vDXV"
      },
      "execution_count": 6,
      "outputs": []
    },
    {
      "cell_type": "code",
      "source": [
        "df_sample = df[:50000]\n",
        "df_sample.to_csv('/content/CellPhonesRating_50K_reviews.csv')"
      ],
      "metadata": {
        "id": "-32p1FYAvheV"
      },
      "execution_count": 7,
      "outputs": []
    },
    {
      "cell_type": "code",
      "source": [
        "def loadBERT():\n",
        "  print(\"== LOADING BERT ...\")\n",
        "  bert_preprocess_model = hub.KerasLayer(\"https://tfhub.dev/tensorflow/bert_en_uncased_preprocess/3\")\n",
        "  bert_encoder = hub.KerasLayer(\"https://tfhub.dev/tensorflow/bert_en_uncased_L-12_H-768_A-12/4\")\n",
        "  \n",
        "  print(\"== BERT LOADED ==\")\n",
        "  return bert_preprocess_model,bert_encoder\n",
        "\n",
        "def preproDataset(df):\n",
        "  \n",
        "  print(\"== PREPROCESSING DATA ...\")\n",
        "  df = df.dropna(how='any',axis=0)\n",
        "  df.drop_duplicates(subset =['productID', 'reviewerID'] , keep = 'first' , inplace = True)\n",
        "\n",
        "  df['one']=df['rating'].apply(lambda x: 1 if x==1.0 else 0)\n",
        "  df['two']=df['rating'].apply(lambda x: 1 if x==2.0 else 0)\n",
        "  df['three']=df['rating'].apply(lambda x: 1 if x==3.0 else 0)\n",
        "  df['four']=df['rating'].apply(lambda x: 1 if x==4.0 else 0)\n",
        "  df['five']=df['rating'].apply(lambda x: 1 if x==5.0 else 0)\n",
        "  print(\"== DATA PREPROCESSED ==\")\n",
        "\n",
        "  return df\n",
        "\n",
        "def getBLCNNmodel(emb_size,filter):\n",
        "\n",
        "  bert_preprocess_model,bert_encoder = loadBERT()\n",
        "  #BERT layers\n",
        "  text_input = tf.keras.layers.Input(shape=(), dtype=tf.string, name='text')\n",
        "  preprocessed_review = bert_preprocess_model(text_input)\n",
        "  outputs = bert_encoder(preprocessed_review)\n",
        "\n",
        "  # LSTM + CNN layers\n",
        "\n",
        "  l = tf.keras.layers.LSTM(emb_size, dropout = 0.1, return_sequences=True)(outputs['sequence_output'])\n",
        "\n",
        "  conv_1 = tf.keras.layers.Conv1D(filters=filter, kernel_size=(3), activation='relu')(l)\n",
        "  pool_1 = tf.keras.layers.MaxPooling1D((3))(conv_1)\n",
        "        \n",
        "  flatten = layers.Flatten()(pool_1)\n",
        "  hidden1 = layers.Dense(64, activation='relu')(flatten)\n",
        "  output = layers.Dense(5, activation='softmax')(hidden1)\n",
        "\n",
        "  model = tf.keras.Model(inputs = text_input, outputs = output)\n",
        "\n",
        "  return model\n",
        "\n",
        "def createSentModel(modelID,fileID,nbrE,lossF,OF,emb,filter,cb):\n",
        "\n",
        "  sparseDf = loadDataset(fileID)\n",
        "  sparseDf = sparseDf\n",
        "  sparseDf = preproDataset(sparseDf)\n",
        "  x_train, x_test, y_train, y_test = train_test_split(sparseDf['reviewText'],sparseDf[['one','two','three','four','five']],test_size = 0.2,stratify=sparseDf[['one','two','three','four','five']])\n",
        "  model_trained = trainModel(modelID,nbrE,lossF,OF,x_train,y_train,embed_size = emb,filter_size = filter,cb =cb)\n",
        "\n",
        "  return model_trained,x_test,y_test\n",
        "\n",
        "def evaluateModel(model,x_test,y_test):\n",
        "  model.evaluate(x_test,y_test)\n",
        "\n",
        "def loadDataset(fileID):\n",
        "  dataset = pd.read_csv(DATA[fileID])\n",
        "  print(\"== FILE LOADED ==\")\n",
        "  return dataset\n",
        "\n",
        "def trainModel(modelID,nbrEpochs,lossF,OF,x_train ,y_train ,mid_layer_ratio=None,nb_layers=None,maxUserID = None,maxItemID = None,embed_size = None,filter_size = None, cb =None):\n",
        "  \n",
        "  if modelID =='BLCNN':\n",
        "    model = getBLCNNmodel(embed_size,filter_size)\n",
        "  if modelID == 'GMF':\n",
        "    model = getGMFmodel(maxUserID,maxItemID,embed_size)\n",
        "  elif modelID == 'S-AutoCF':\n",
        "    model = getAutoCFmodel(x_train,mid_layer_ratio,nb_layers)\n",
        "  elif modelID == 'SS-AutoCF':\n",
        "    model = getSS_HAEmodel(x_train,mid_layer_ratio,nb_layers)\n",
        "\n",
        "  model.compile(optimizer = OF,\n",
        "                    loss = lossF,\n",
        "                    metrics= METRICS)\n",
        "  print(\"== TRAINING IN PROGRESS ...\")\n",
        "  model.fit(x_train,y_train,epochs = nbrEpochs,callbacks = [cb],validation_split=0.14)\n",
        "  \n",
        "  return model"
      ],
      "metadata": {
        "id": "mmxBz3Ilee7b"
      },
      "execution_count": 19,
      "outputs": []
    },
    {
      "cell_type": "code",
      "execution_count": null,
      "metadata": {
        "id": "cHzYcIcgtKbV"
      },
      "outputs": [],
      "source": [
        "from google.colab import drive\n",
        " \n",
        "drive.mount('/content/gdrive')"
      ]
    },
    {
      "cell_type": "code",
      "source": [
        "#Creating checkpoint directory to save model's weights\n",
        "checkpoint_path = \"/content/gdrive/MyDrive/training_LSTM_CNN_Full_CP_Dataset/cp.ckpt\"\n",
        "checkpoint_dir = os.path.dirname(checkpoint_path)\n",
        "cp_callback = tf.keras.callbacks.ModelCheckpoint(filepath=checkpoint_path,\n",
        "                                                 save_weights_only=True,\n",
        "                                                 verbose=1)"
      ],
      "metadata": {
        "id": "aF0qvLb6-bjx"
      },
      "execution_count": 10,
      "outputs": []
    },
    {
      "cell_type": "code",
      "source": [
        "model_trained,x_test,y_test = createSentModel('BLCNN',0,20,tf.keras.losses.CategoricalCrossentropy(),'adam',400,128,cp_callback)"
      ],
      "metadata": {
        "id": "W60sdySWuaq3",
        "outputId": "a6c55b68-4a4e-47af-8830-5af1d204bef6",
        "colab": {
          "base_uri": "https://localhost:8080/"
        }
      },
      "execution_count": 20,
      "outputs": [
        {
          "output_type": "stream",
          "name": "stdout",
          "text": [
            "== FILE LOADED ==\n",
            "== PREPROCESSING DATA ...\n",
            "== DATA PREPROCESSED ==\n",
            "== LOADING BERT ...\n",
            "== BERT LOADED ==\n",
            "== TRAINING IN PROGRESS ...\n",
            "Epoch 1/20\n",
            "1070/1070 [==============================] - ETA: 0s - loss: 0.9903 - accuracy: 0.6033 - mae: 0.2051 - root_mean_squared_error: 0.3316 - precision: 0.7019\n",
            "Epoch 1: saving model to /content/gdrive/MyDrive/training_LSTM_CNN_Full_CP_Dataset/cp.ckpt\n",
            "1070/1070 [==============================] - 462s 422ms/step - loss: 0.9903 - accuracy: 0.6033 - mae: 0.2051 - root_mean_squared_error: 0.3316 - precision: 0.7019 - val_loss: 0.9249 - val_accuracy: 0.6470 - val_mae: 0.2107 - val_root_mean_squared_error: 0.3115 - val_precision: 0.8078\n",
            "Epoch 2/20\n",
            "1070/1070 [==============================] - ETA: 0s - loss: 0.8819 - accuracy: 0.6436 - mae: 0.1871 - root_mean_squared_error: 0.3061 - precision: 0.7584\n",
            "Epoch 2: saving model to /content/gdrive/MyDrive/training_LSTM_CNN_Full_CP_Dataset/cp.ckpt\n",
            "1070/1070 [==============================] - 451s 421ms/step - loss: 0.8819 - accuracy: 0.6436 - mae: 0.1871 - root_mean_squared_error: 0.3061 - precision: 0.7584 - val_loss: 0.8889 - val_accuracy: 0.6522 - val_mae: 0.1854 - val_root_mean_squared_error: 0.3048 - val_precision: 0.7607\n",
            "Epoch 3/20\n",
            "1070/1070 [==============================] - ETA: 0s - loss: 0.8251 - accuracy: 0.6697 - mae: 0.1767 - root_mean_squared_error: 0.2972 - precision: 0.7688\n",
            "Epoch 3: saving model to /content/gdrive/MyDrive/training_LSTM_CNN_Full_CP_Dataset/cp.ckpt\n",
            "1070/1070 [==============================] - 449s 420ms/step - loss: 0.8251 - accuracy: 0.6697 - mae: 0.1767 - root_mean_squared_error: 0.2972 - precision: 0.7688 - val_loss: 0.8687 - val_accuracy: 0.6570 - val_mae: 0.1838 - val_root_mean_squared_error: 0.3035 - val_precision: 0.7582\n",
            "Epoch 4/20\n",
            "1070/1070 [==============================] - ETA: 0s - loss: 0.7624 - accuracy: 0.6929 - mae: 0.1654 - root_mean_squared_error: 0.2875 - precision: 0.7769\n",
            "Epoch 4: saving model to /content/gdrive/MyDrive/training_LSTM_CNN_Full_CP_Dataset/cp.ckpt\n",
            "1070/1070 [==============================] - 449s 419ms/step - loss: 0.7624 - accuracy: 0.6929 - mae: 0.1654 - root_mean_squared_error: 0.2875 - precision: 0.7769 - val_loss: 0.8731 - val_accuracy: 0.6558 - val_mae: 0.1798 - val_root_mean_squared_error: 0.3045 - val_precision: 0.7405\n",
            "Epoch 5/20\n",
            "1070/1070 [==============================] - ETA: 0s - loss: 0.6794 - accuracy: 0.7240 - mae: 0.1505 - root_mean_squared_error: 0.2738 - precision: 0.7884\n",
            "Epoch 5: saving model to /content/gdrive/MyDrive/training_LSTM_CNN_Full_CP_Dataset/cp.ckpt\n",
            "1070/1070 [==============================] - 449s 419ms/step - loss: 0.6794 - accuracy: 0.7240 - mae: 0.1505 - root_mean_squared_error: 0.2738 - precision: 0.7884 - val_loss: 0.9286 - val_accuracy: 0.6538 - val_mae: 0.1680 - val_root_mean_squared_error: 0.3082 - val_precision: 0.7125\n",
            "Epoch 6/20\n",
            "1070/1070 [==============================] - ETA: 0s - loss: 0.5704 - accuracy: 0.7730 - mae: 0.1284 - root_mean_squared_error: 0.2514 - precision: 0.8200\n",
            "Epoch 6: saving model to /content/gdrive/MyDrive/training_LSTM_CNN_Full_CP_Dataset/cp.ckpt\n",
            "1070/1070 [==============================] - 449s 419ms/step - loss: 0.5704 - accuracy: 0.7730 - mae: 0.1284 - root_mean_squared_error: 0.2514 - precision: 0.8200 - val_loss: 1.0630 - val_accuracy: 0.6454 - val_mae: 0.1650 - val_root_mean_squared_error: 0.3179 - val_precision: 0.6876\n",
            "Epoch 7/20\n",
            "1070/1070 [==============================] - ETA: 0s - loss: 0.4378 - accuracy: 0.8264 - mae: 0.1005 - root_mean_squared_error: 0.2211 - precision: 0.8563\n",
            "Epoch 7: saving model to /content/gdrive/MyDrive/training_LSTM_CNN_Full_CP_Dataset/cp.ckpt\n",
            "1070/1070 [==============================] - 449s 420ms/step - loss: 0.4378 - accuracy: 0.8264 - mae: 0.1005 - root_mean_squared_error: 0.2211 - precision: 0.8563 - val_loss: 1.2207 - val_accuracy: 0.6138 - val_mae: 0.1709 - val_root_mean_squared_error: 0.3329 - val_precision: 0.6457\n",
            "Epoch 8/20\n",
            "1070/1070 [==============================] - ETA: 0s - loss: 0.3231 - accuracy: 0.8773 - mae: 0.0751 - root_mean_squared_error: 0.1896 - precision: 0.8948\n",
            "Epoch 8: saving model to /content/gdrive/MyDrive/training_LSTM_CNN_Full_CP_Dataset/cp.ckpt\n",
            "1070/1070 [==============================] - 448s 419ms/step - loss: 0.3231 - accuracy: 0.8773 - mae: 0.0751 - root_mean_squared_error: 0.1896 - precision: 0.8948 - val_loss: 1.3735 - val_accuracy: 0.6228 - val_mae: 0.1652 - val_root_mean_squared_error: 0.3379 - val_precision: 0.6422\n",
            "Epoch 9/20\n",
            "1070/1070 [==============================] - ETA: 0s - loss: 0.2384 - accuracy: 0.9111 - mae: 0.0553 - root_mean_squared_error: 0.1624 - precision: 0.9213\n",
            "Epoch 9: saving model to /content/gdrive/MyDrive/training_LSTM_CNN_Full_CP_Dataset/cp.ckpt\n",
            "1070/1070 [==============================] - 472s 441ms/step - loss: 0.2384 - accuracy: 0.9111 - mae: 0.0553 - root_mean_squared_error: 0.1624 - precision: 0.9213 - val_loss: 1.6134 - val_accuracy: 0.6307 - val_mae: 0.1561 - val_root_mean_squared_error: 0.3433 - val_precision: 0.6438\n",
            "Epoch 10/20\n",
            "1070/1070 [==============================] - ETA: 0s - loss: 0.1907 - accuracy: 0.9295 - mae: 0.0437 - root_mean_squared_error: 0.1444 - precision: 0.9369\n",
            "Epoch 10: saving model to /content/gdrive/MyDrive/training_LSTM_CNN_Full_CP_Dataset/cp.ckpt\n",
            "1070/1070 [==============================] - 449s 419ms/step - loss: 0.1907 - accuracy: 0.9295 - mae: 0.0437 - root_mean_squared_error: 0.1444 - precision: 0.9369 - val_loss: 1.8038 - val_accuracy: 0.6030 - val_mae: 0.1665 - val_root_mean_squared_error: 0.3575 - val_precision: 0.6149\n",
            "Epoch 11/20\n",
            "1070/1070 [==============================] - ETA: 0s - loss: 0.1533 - accuracy: 0.9436 - mae: 0.0350 - root_mean_squared_error: 0.1292 - precision: 0.9489\n",
            "Epoch 11: saving model to /content/gdrive/MyDrive/training_LSTM_CNN_Full_CP_Dataset/cp.ckpt\n",
            "1070/1070 [==============================] - 448s 419ms/step - loss: 0.1533 - accuracy: 0.9436 - mae: 0.0350 - root_mean_squared_error: 0.1292 - precision: 0.9489 - val_loss: 2.0488 - val_accuracy: 0.6039 - val_mae: 0.1640 - val_root_mean_squared_error: 0.3608 - val_precision: 0.6134\n",
            "Epoch 12/20\n",
            "1070/1070 [==============================] - ETA: 0s - loss: 0.1338 - accuracy: 0.9517 - mae: 0.0299 - root_mean_squared_error: 0.1203 - precision: 0.9560\n",
            "Epoch 12: saving model to /content/gdrive/MyDrive/training_LSTM_CNN_Full_CP_Dataset/cp.ckpt\n",
            "1070/1070 [==============================] - 449s 420ms/step - loss: 0.1338 - accuracy: 0.9517 - mae: 0.0299 - root_mean_squared_error: 0.1203 - precision: 0.9560 - val_loss: 2.2581 - val_accuracy: 0.6123 - val_mae: 0.1590 - val_root_mean_squared_error: 0.3603 - val_precision: 0.6171\n",
            "Epoch 13/20\n",
            "1070/1070 [==============================] - ETA: 0s - loss: 0.1256 - accuracy: 0.9537 - mae: 0.0277 - root_mean_squared_error: 0.1169 - precision: 0.9576\n",
            "Epoch 13: saving model to /content/gdrive/MyDrive/training_LSTM_CNN_Full_CP_Dataset/cp.ckpt\n",
            "1070/1070 [==============================] - 471s 440ms/step - loss: 0.1256 - accuracy: 0.9537 - mae: 0.0277 - root_mean_squared_error: 0.1169 - precision: 0.9576 - val_loss: 2.2128 - val_accuracy: 0.5951 - val_mae: 0.1669 - val_root_mean_squared_error: 0.3676 - val_precision: 0.6027\n",
            "Epoch 14/20\n",
            "1070/1070 [==============================] - ETA: 0s - loss: 0.1142 - accuracy: 0.9592 - mae: 0.0246 - root_mean_squared_error: 0.1105 - precision: 0.9624\n",
            "Epoch 14: saving model to /content/gdrive/MyDrive/training_LSTM_CNN_Full_CP_Dataset/cp.ckpt\n",
            "1070/1070 [==============================] - 449s 420ms/step - loss: 0.1142 - accuracy: 0.9592 - mae: 0.0246 - root_mean_squared_error: 0.1105 - precision: 0.9624 - val_loss: 2.3962 - val_accuracy: 0.6170 - val_mae: 0.1564 - val_root_mean_squared_error: 0.3610 - val_precision: 0.6257\n",
            "Epoch 15/20\n",
            "1070/1070 [==============================] - ETA: 0s - loss: 0.1066 - accuracy: 0.9611 - mae: 0.0232 - root_mean_squared_error: 0.1072 - precision: 0.9645\n",
            "Epoch 15: saving model to /content/gdrive/MyDrive/training_LSTM_CNN_Full_CP_Dataset/cp.ckpt\n",
            "1070/1070 [==============================] - 450s 420ms/step - loss: 0.1066 - accuracy: 0.9611 - mae: 0.0232 - root_mean_squared_error: 0.1072 - precision: 0.9645 - val_loss: 2.4694 - val_accuracy: 0.6226 - val_mae: 0.1560 - val_root_mean_squared_error: 0.3609 - val_precision: 0.6275\n",
            "Epoch 16/20\n",
            "1070/1070 [==============================] - ETA: 0s - loss: 0.1102 - accuracy: 0.9607 - mae: 0.0232 - root_mean_squared_error: 0.1086 - precision: 0.9633\n",
            "Epoch 16: saving model to /content/gdrive/MyDrive/training_LSTM_CNN_Full_CP_Dataset/cp.ckpt\n",
            "1070/1070 [==============================] - 450s 420ms/step - loss: 0.1102 - accuracy: 0.9607 - mae: 0.0232 - root_mean_squared_error: 0.1086 - precision: 0.9633 - val_loss: 2.4758 - val_accuracy: 0.6179 - val_mae: 0.1564 - val_root_mean_squared_error: 0.3617 - val_precision: 0.6251\n",
            "Epoch 17/20\n",
            "1070/1070 [==============================] - ETA: 0s - loss: 0.0872 - accuracy: 0.9689 - mae: 0.0191 - root_mean_squared_error: 0.0970 - precision: 0.9707\n",
            "Epoch 17: saving model to /content/gdrive/MyDrive/training_LSTM_CNN_Full_CP_Dataset/cp.ckpt\n",
            "1070/1070 [==============================] - 450s 421ms/step - loss: 0.0872 - accuracy: 0.9689 - mae: 0.0191 - root_mean_squared_error: 0.0970 - precision: 0.9707 - val_loss: 2.5373 - val_accuracy: 0.5987 - val_mae: 0.1636 - val_root_mean_squared_error: 0.3699 - val_precision: 0.6061\n",
            "Epoch 18/20\n",
            "1070/1070 [==============================] - ETA: 0s - loss: 0.0942 - accuracy: 0.9679 - mae: 0.0193 - root_mean_squared_error: 0.0996 - precision: 0.9694\n",
            "Epoch 18: saving model to /content/gdrive/MyDrive/training_LSTM_CNN_Full_CP_Dataset/cp.ckpt\n",
            "1070/1070 [==============================] - 450s 420ms/step - loss: 0.0942 - accuracy: 0.9679 - mae: 0.0193 - root_mean_squared_error: 0.0996 - precision: 0.9694 - val_loss: 2.5329 - val_accuracy: 0.6116 - val_mae: 0.1596 - val_root_mean_squared_error: 0.3658 - val_precision: 0.6179\n",
            "Epoch 19/20\n",
            "1070/1070 [==============================] - ETA: 0s - loss: 0.0901 - accuracy: 0.9679 - mae: 0.0189 - root_mean_squared_error: 0.0981 - precision: 0.9698\n",
            "Epoch 19: saving model to /content/gdrive/MyDrive/training_LSTM_CNN_Full_CP_Dataset/cp.ckpt\n",
            "1070/1070 [==============================] - 450s 421ms/step - loss: 0.0901 - accuracy: 0.9679 - mae: 0.0189 - root_mean_squared_error: 0.0981 - precision: 0.9698 - val_loss: 2.5801 - val_accuracy: 0.6106 - val_mae: 0.1588 - val_root_mean_squared_error: 0.3660 - val_precision: 0.6181\n",
            "Epoch 20/20\n",
            "1070/1070 [==============================] - ETA: 0s - loss: 0.0871 - accuracy: 0.9700 - mae: 0.0178 - root_mean_squared_error: 0.0960 - precision: 0.9718\n",
            "Epoch 20: saving model to /content/gdrive/MyDrive/training_LSTM_CNN_Full_CP_Dataset/cp.ckpt\n",
            "1070/1070 [==============================] - 449s 420ms/step - loss: 0.0871 - accuracy: 0.9700 - mae: 0.0178 - root_mean_squared_error: 0.0960 - precision: 0.9718 - val_loss: 2.6583 - val_accuracy: 0.6080 - val_mae: 0.1595 - val_root_mean_squared_error: 0.3676 - val_precision: 0.6132\n"
          ]
        }
      ]
    },
    {
      "cell_type": "code",
      "source": [
        "evaluateModel(model_trained,x_test,y_test)"
      ],
      "metadata": {
        "id": "RNMW-ekU42sU",
        "outputId": "de1773d5-1be1-49b5-d820-79d0a2f6c36e",
        "colab": {
          "base_uri": "https://localhost:8080/"
        }
      },
      "execution_count": 21,
      "outputs": [
        {
          "output_type": "stream",
          "name": "stdout",
          "text": [
            "311/311 [==============================] - 110s 355ms/step - loss: 2.8092 - accuracy: 0.5970 - mae: 0.1643 - root_mean_squared_error: 0.3740 - precision: 0.6020\n"
          ]
        }
      ]
    },
    {
      "cell_type": "code",
      "source": [
        "mode_trained.save(\"/content/gdrive/MyDrive/mode_LSTM_CNN_E20-EM200-F64\")"
      ],
      "metadata": {
        "id": "ZfxPIDgGpag8"
      },
      "execution_count": null,
      "outputs": []
    },
    {
      "cell_type": "code",
      "source": [
        "bert_cnn_model.load_weights(checkpoint_path)"
      ],
      "metadata": {
        "id": "r9fLRLCpBa5g"
      },
      "execution_count": null,
      "outputs": []
    }
  ],
  "metadata": {
    "accelerator": "GPU",
    "colab": {
      "collapsed_sections": [],
      "name": "SentimentAnalysis.ipynb",
      "provenance": []
    },
    "kernelspec": {
      "display_name": "Python 3",
      "name": "python3"
    },
    "language_info": {
      "name": "python"
    },
    "gpuClass": "standard"
  },
  "nbformat": 4,
  "nbformat_minor": 0
}
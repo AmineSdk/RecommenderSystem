{
  "nbformat": 4,
  "nbformat_minor": 0,
  "metadata": {
    "colab": {
      "name": "CF_Social_Autoencoder.ipynb",
      "provenance": [],
      "include_colab_link": true
    },
    "kernelspec": {
      "name": "python3",
      "display_name": "Python 3"
    },
    "language_info": {
      "name": "python"
    },
    "accelerator": "GPU",
    "gpuClass": "standard"
  },
  "cells": [
    {
      "cell_type": "markdown",
      "metadata": {
        "id": "view-in-github",
        "colab_type": "text"
      },
      "source": [
        "<a href=\"https://colab.research.google.com/github/AmineSdk/RecommenderSystem/blob/main/Notebook/CF_Social_Autoencoder.ipynb\" target=\"_parent\"><img src=\"https://colab.research.google.com/assets/colab-badge.svg\" alt=\"Open In Colab\"/></a>"
      ]
    },
    {
      "cell_type": "code",
      "source": [
        "from google.colab import drive\n",
        "drive.mount('/content/gdrive')"
      ],
      "metadata": {
        "id": "4fRXByYkGvia",
        "outputId": "1fccdff5-8195-43a2-c36e-ce4f8873ac69",
        "colab": {
          "base_uri": "https://localhost:8080/"
        }
      },
      "execution_count": 1,
      "outputs": [
        {
          "output_type": "stream",
          "name": "stdout",
          "text": [
            "Mounted at /content/gdrive\n"
          ]
        }
      ]
    },
    {
      "cell_type": "code",
      "source": [
        "! mkdir ~/.kaggle\n",
        "! cp kaggle.json ~/.kaggle/\n",
        "! chmod 600 ~/.kaggle/kaggle.json\n",
        "! kaggle datasets download yelp-shopping-rating-review -f review_shopping.csv\n",
        "! kaggle datasets download Yelp-shopping-GMF-filled-mat -f Yelp_shopping_GMF_filled_mat.csv\n",
        "# ! kaggle datasets download yelp-shopping-rating-review -f review_shopping.csv\n",
        "#! kaggle datasets download Aamazon-Cellphones-35k-GMF-filled-mat -f Aamazon_Cellphones_35k_GMF_filled_mat.csv\n",
        "# ! kaggle datasets download Yelp-restaurant-GMF-filled-mat -f Yelp_restaurant_GMF_filled_mat.csv"
      ],
      "metadata": {
        "id": "UM0vifCk9CB0",
        "colab": {
          "base_uri": "https://localhost:8080/"
        },
        "outputId": "a21d5f28-5e71-41ab-9a85-4333b14ead0e"
      },
      "execution_count": 41,
      "outputs": [
        {
          "output_type": "stream",
          "name": "stdout",
          "text": [
            "mkdir: cannot create directory ‘/root/.kaggle’: File exists\n",
            "Downloading review_shopping.csv.zip to /content\n",
            " 44% 10.0M/22.9M [00:00<00:00, 34.3MB/s]\n",
            "100% 22.9M/22.9M [00:00<00:00, 74.4MB/s]\n",
            "Downloading Yelp_shopping_GMF_filled_mat.csv.zip to /content\n",
            "  0% 0.00/287k [00:00<?, ?B/s]\n",
            "100% 287k/287k [00:00<00:00, 96.6MB/s]\n"
          ]
        }
      ]
    },
    {
      "cell_type": "code",
      "execution_count": 3,
      "metadata": {
        "id": "TcGcg4ZzRQD1"
      },
      "outputs": [],
      "source": [
        "from sklearn import preprocessing\n",
        "from scipy.sparse import csr_matrix\n",
        "import tensorflow as tf \n",
        "import numpy as np\n",
        "import tensorflow_hub as hub\n",
        "import pandas as pd\n",
        "import random\n",
        "from keras import datasets, layers, models\n",
        "from sklearn.model_selection import train_test_split\n",
        "from progressbar import progressbar"
      ]
    },
    {
      "cell_type": "code",
      "source": [
        "def amazonPreprocess(df):\n",
        "  \n",
        "  df = df[:35000]\n",
        "  df = df.dropna(how='any',axis=0)\n",
        "  df.rename(columns = {'reviewerID':'userID', 'productID' : 'itemID'},inplace = True)\n",
        "  df.drop_duplicates(subset =['itemID', 'userID'] , keep = 'first' , inplace = True)\n",
        "  print(\"DATASET PREPROCESSED\")\n",
        "\n",
        "  return df\n"
      ],
      "metadata": {
        "id": "lAZGdMRODRqE"
      },
      "execution_count": 4,
      "outputs": []
    },
    {
      "cell_type": "code",
      "source": [
        "def yelpPreprocess(df):\n",
        "\n",
        "  df = df.dropna(how='any',axis=0)\n",
        "  df.drop(columns=['funny', 'cool','review_id','useful','date'],inplace=True)\n",
        "  df.rename(columns = {'user_id':'userID', 'business_id':'itemID','stars':'rating'},inplace = True)\n",
        "  df.drop_duplicates(subset =['itemID', 'userID'] , keep = 'first' , inplace = True)\n",
        "  print(\"DATASET PREPROCESSED\")\n",
        "\n",
        "  return df\n"
      ],
      "metadata": {
        "id": "03zm3UHNDu8I"
      },
      "execution_count": 5,
      "outputs": []
    },
    {
      "cell_type": "code",
      "source": [
        "def DatasetToUserItemDataFrame(dataframe,userID,itemID,rating):\n",
        "  #Setting new item IDs from string to int \n",
        "  itemKeys = [] \n",
        "  i = 0\n",
        "  for item in dataframe[itemID].value_counts(sort=False):\n",
        "    temp = np.full((item),i)\n",
        "    itemKeys = np.append(itemKeys,temp)\n",
        "    i += 1\n",
        "\n",
        "  #Setting new user IDs from string to int\n",
        "  userKeysDic = {}\n",
        "  userKeys = np.zeros((dataframe[userID].size))\n",
        "  i = 0\n",
        "  for user in dataframe[userID].unique():\n",
        "    userKeysDic[user] = i\n",
        "    i += 1\n",
        "  i = 0\n",
        "  for user in dataframe[userID]:\n",
        "    userKeys[i] = userKeysDic[user]\n",
        "    i += 1\n",
        "\n",
        "  #Converting arrays from float to int \n",
        "  userKeys = userKeys.astype(int)\n",
        "  itemKeys = itemKeys.astype(int)\n",
        "\n",
        "  \n",
        "  user_item = csr_matrix((dataframe[rating].values.astype(int),(userKeys,itemKeys))) #Creating sparse matrix\n",
        "  user_item_matrix = user_item.toarray() #Converting sparse matrix into array\n",
        "  df_user_item = pd.DataFrame(user_item_matrix,index = dataframe[userID].unique()  ,columns = dataframe[itemID].unique() ) \n",
        "\n",
        "  return df_user_item\n",
        "\n",
        "def getUsersRatings(df,usersList): #returns df_rating containing only users that have friends \n",
        "  temp = df.copy()\n",
        "  for user in list(df['userID']):\n",
        "    if user not in usersList:\n",
        "      temp = temp.drop(temp.loc[temp['userID'] == user].index)\n",
        "  return temp\n",
        "\n",
        "def genIndexColumn(df,min_index,max_index,min_column,max_column): #generates random int index and columns for a given df\n",
        "  New_User_IDs = random.sample(range(min_index,max_index),df.index.size)\n",
        "  New_Item_IDs = random.sample(range(min_column,max_column),df.columns.size)\n",
        "\n",
        "  df_new = pd.DataFrame(df.to_numpy(),index = New_User_IDs,columns = New_Item_IDs)\n",
        "  return df_new\n",
        "\n",
        "def generateIDs(df,index,columns,min_index,max_index,min_column,max_column):\n",
        "  users = df[index].unique()\n",
        "  items = df[columns].unique()\n",
        "  df_train = df.copy()\n",
        "\n",
        "  New_User_IDs = random.sample(range(min_index,max_index),df[index].nunique())\n",
        "  New_Item_IDs = random.sample(range(min_column,max_column),df[columns].nunique())\n",
        "  i = 0\n",
        "  for d in progressbar(users) :\n",
        "    df_train[index].replace({d : New_User_IDs[i]}, inplace=True)\n",
        "    i+=1\n",
        "\n",
        "  i = 0\n",
        "  for d in progressbar(items) :\n",
        "    df_train[columns].replace({d : New_Item_IDs[i]}, inplace=True)\n",
        "    i+=1\n",
        "  return df_train\n",
        "\n",
        "def processGmfData(df,index,column,min_user_id,max_user_id,min_item_id,max_item_id):\n",
        "  \n",
        "  \n",
        "  df.rename(columns = {'text': 'reviewText', 'stars': 'rating', 'business_id': 'itemID', 'user_id': 'userID'}, inplace = True)\n",
        "  #df.rename(columns = {'reviewerID':'userID', 'productID' : 'itemID'},inplace = True)\n",
        "  df = generateIDs(df,index,column,min_user_id,max_user_id,min_item_id,max_item_id)\n",
        "  print(\"== PREPROCESSING DATA ...\")\n",
        "  df = df.dropna(how='any',axis=0)\n",
        "  df.drop_duplicates(subset =['itemID', 'userID'] , keep = 'first' , inplace = True)\n",
        "\n",
        "  df['one'] = df['rating'].apply(lambda x: 1 if x==1 else 0)\n",
        "  df['two'] = df['rating'].apply(lambda x: 1 if x==2 else 0)\n",
        "  df['three'] = df['rating'].apply(lambda x: 1 if x==3 else 0)\n",
        "  df['four'] = df['rating'].apply(lambda x: 1 if x==4 else 0)\n",
        "  df['five'] = df['rating'].apply(lambda x: 1 if x==5 else 0)\n",
        "  #df['six'] = df['rating'].apply(lambda x: 1 if x==6 else 0)\n",
        "  print(\"== DATA PREPROCESSED ==\")\n",
        "\n",
        "  return df"
      ],
      "metadata": {
        "id": "08ifZdzgO2u9"
      },
      "execution_count": 6,
      "outputs": []
    },
    {
      "cell_type": "code",
      "source": [
        "#GMF\n",
        "def getGMFmodel(num_users,num_items,SIZE_):\n",
        "\n",
        "  input_userID = layers.Input(shape=[1], name='user_ID')\n",
        "  input_itemID = layers.Input(shape=[1], name='item_ID')\n",
        "\n",
        "  user_emb_GMF = layers.Embedding(num_users, SIZE_, name='user_emb_GMF')(input_userID)\n",
        "  item_emb_GMF = layers.Embedding(num_items, SIZE_, name='item_emb_GMF')(input_itemID)\n",
        "\n",
        "  u_GMF = layers.Flatten()(user_emb_GMF)\n",
        "  i_GMF = layers.Flatten()(item_emb_GMF)\n",
        "\n",
        "  dot_layer = layers.Multiply()([u_GMF, i_GMF])\n",
        "\n",
        "  out_layer = layers.Dense(1, activation='relu', name='output')(dot_layer)\n",
        "\n",
        "  GMF = tf.keras.Model([input_userID, input_itemID], out_layer)\n",
        "  \n",
        "  return GMF\n",
        "\n",
        "\n",
        "def user_item_ID_lists(userIDs,itemIDs):\n",
        "  i = 0\n",
        "  item_s = pd.Series()\n",
        "  user_s = pd.Series()\n",
        "\n",
        "  if userIDs.size > itemIDs.size:\n",
        "    for item in progressbar(itemIDs):\n",
        "      temp = pd.Series(userIDs)\n",
        "      user_s = user_s.append(temp)\n",
        "      temp = []\n",
        "      temp = [item for user in userIDs]\n",
        "      temp = pd.Series(temp)\n",
        "      item_s = item_s.append(temp)\n",
        "  else:\n",
        "    for user in progressbar(userIDs):\n",
        "      temp = pd.Series(itemIDs)\n",
        "      item_s = item_s.append(temp)\n",
        "      temp = []\n",
        "      temp = [user for item in itemIDs]\n",
        "      temp = pd.Series(temp)\n",
        "      user_s = user_s.append(temp)\n",
        "\n",
        "  return user_s,item_s\n",
        "\n",
        "\n",
        "def Fill_Cf_Matrix(model,userList,itemList,userIDs,itemIDs):\n",
        "  rowLen = userIDs.size if userIDs.size > itemIDs.size else itemIDs.size\n",
        "\n",
        "  prediction = model.predict([userList,itemList],verbose = 1)\n",
        "  i = 0\n",
        "  row = []\n",
        "  matrix = []\n",
        "  print(\"pred done\")\n",
        "  \n",
        "  for i in progressbar(range(userList.shape[0])):\n",
        "    #result = np.where(prediction[i] == np.amax(prediction[i]))[0][0] + 1\n",
        "    result = prediction[i][0]\n",
        "    row.append(result)\n",
        "    if len(row) == rowLen:\n",
        "      matrix.append(row)\n",
        "      row = []\n",
        "       \n",
        "    i += 1\n",
        "\n",
        "  matrix_arr = np.array(matrix)\n",
        "  if(userIDs.size > itemIDs.size):\n",
        "    matrix_arr = matrix_arr.transpose()\n",
        "  dataframe = pd.DataFrame(matrix_arr, index = userIDs, columns = itemIDs)\n",
        "  \n",
        "  return dataframe\n",
        "\n",
        "def loadDataset(fileID):\n",
        "  dataset = pd.read_csv(DATA[fileID])\n",
        "  print(\"== FILE LOADED ==\")\n",
        "  return dataset\n",
        "\n",
        "def saveDataframe(df,fileID):\n",
        "  file_path = PATH+'GMF_filled_'+DATA[fileID]\n",
        "  df.to_csv(file_path)\n",
        "\n",
        "def genGMFmat(df,df_test,modelID,fileID,nbrE,lossF,OF,emb,filter=None,cb=None):\n",
        "\n",
        "  # df_og = loadDataset(fileID)\n",
        "  # df = processGmfData(df_og,'userID','itemID',1000,2000+df_og['reviewerID'].nunique(),60000,61000+df_og['productID'].nunique())\n",
        "  \n",
        "  x_train ,x_test,y_train,y_test = train_test_split(df_test[['userID','itemID']],df_test['rating'],test_size=0.2)\n",
        "  model_trained = trainModel(modelID,nbrE,lossF,OF,[x_train['userID'],x_train['itemID']],y_train,maxUserID=df_test['userID'].max() + 1,maxItemID =df_test['itemID'].max() + 1,embed_size=emb)\n",
        "  model_trained.evaluate([x_test['userID'],x_test['itemID']],y_test)\n",
        "\n",
        "  #df_mat_filled = FillSparseMat(model_trained,df_test,df)\n",
        "  \n",
        "  return model_trained\n",
        "\n",
        "def FillSparseMat(model,df_prepro,df_og):\n",
        "\n",
        "  user_s,item_s = user_item_ID_lists(df_prepro['userID'].unique(),df_prepro['itemID'].unique())\n",
        "  #df_mat_filled = Fill_Cf_Matrix(model,user_s,item_s,df_og['userID'].unique(),df_og['itemID'].unique())\n",
        "\n",
        "  return user_s,item_s\n",
        "\n",
        "\n",
        "def trainModel(modelID,nbrEpochs,lossF,OF,x_train ,y_train ,mid_layer_ratio=None,nb_layers=None,maxUserID = None,maxItemID = None,embed_size = None,filter_size = None,bs = 8):\n",
        "  \n",
        "  if modelID =='BLCNN':\n",
        "    model = getBLCNNmodel(embed_size,filter_size)\n",
        "    \n",
        "  if modelID == 'GMF':\n",
        "    model = getGMFmodel(maxUserID,maxItemID,embed_size)\n",
        "    print(model.summary())\n",
        "  elif modelID == 'S-AutoCF':\n",
        "    model = getAutoCFmodel(x_train,mid_layer_ratio,nb_layers)\n",
        "    print(model.summary())\n",
        "  elif modelID == 'SS-AutoCF':\n",
        "    model = getSS_HAEmodel(x_train,mid_layer_ratio,nb_layers)\n",
        "\n",
        "  model.compile(optimizer = OF,\n",
        "                    loss = lossF,\n",
        "                    metrics= METRICS)\n",
        "  model.fit(x_train,y_train,epochs = nbrEpochs,batch_size = bs,validation_split=0.14)\n",
        "  \n",
        "  return model\n",
        "\n",
        "def getAutoCFmodel(x_train,mid_layer_ratio,nb_layers):\n",
        "  #mid_layer_ratio [0 - 1]\n",
        "  layer_ratio =  mid_layer_ratio + nb_layers*0.05\n",
        "\n",
        "  encoder_input = layers.Input(shape=(x_train.shape[1]),name='user_item')\n",
        "  flat = layers.Flatten()(encoder_input)\n",
        "\n",
        "  if nb_layers != 1:\n",
        "    hid_encoder = layers.Dense(layer_ratio*x_train.shape[1],activation=\"relu\")(flat)\n",
        "    for i in range(nb_layers-1):\n",
        "      layer_ratio -= 0.05\n",
        "      hid_encoder = layers.Dense(layer_ratio*x_train.shape[1],activation=\"relu\")(hid_encoder)\n",
        "    encoder_output = layers.Dense(mid_layer_ratio*x_train.shape[1],activation=\"relu\")(hid_encoder)\n",
        "  else:\n",
        "    encoder_output = layers.Dense(mid_layer_ratio*x_train.shape[1],activation=\"relu\")(flat)\n",
        "\n",
        "  if nb_layers != 1:\n",
        "    decoder_input = layers.Dense(layer_ratio*x_train.shape[1],activation=\"relu\")(encoder_output)\n",
        "    for i in range(nb_layers-1):\n",
        "      layer_ratio += 0.05\n",
        "      decoder_input = layers.Dense(layer_ratio*x_train.shape[1],activation=\"relu\")(decoder_input)\n",
        "    decoder_output = layers.Dense(x_train.shape[1],activation=\"relu\")(decoder_input)\n",
        "  else:\n",
        "    decoder_output = layers.Dense(x_train.shape[1],activation=\"relu\")(encoder_output)\n",
        "\n",
        "  autoencoder = tf.keras.Model(inputs = encoder_input, outputs = decoder_output)\n",
        "\n",
        "  return autoencoder\n",
        "\n",
        "def getSS_HAEmodel(x_train,mid_layer_ratio,nb_layers):\n",
        "  \n",
        "  #mid_layer_ratio [0 - 1]\n",
        "  layer_ratio =  mid_layer_ratio + nb_layers*0.1\n",
        "\n",
        "  #Social_Autoencoder\n",
        "\n",
        "  rating_input = layers.Input(shape=(x_train.shape[1]),name='user_item')\n",
        "  social_input = layers.Input(shape=(x_train.shape[1]),name='user_user')\n",
        "\n",
        "  flat_rating = layers.Flatten()(rating_input)\n",
        "  flat_social = layers.Flatten()(social_input)\n",
        "\n",
        "  #dropout = layers.Dropout(.2)(flat)\n",
        "  SharedLayer_encoder = layers.Concatenate()([flat_rating,flat_social])\n",
        "  for i in range(nb_layers):\n",
        "    hid_encoder = layers.Dense(layer_ratio*x_train.shape[1],activation=\"relu\")(hid_encoder)\n",
        "    layer_ratio -= 0.1\n",
        "  hid_encoder(SharedLayer_encoder)\n",
        "  encoder_output = layers.Dense(mid_layer_ratio,activation=\"relu\")(hid_encoder)\n",
        "  for i in range(nb_layers):\n",
        "    hid_decoder = layers.Dense(layer_ratio*x_train.shape[1],activation=\"relu\")(hid_decoder)\n",
        "    layer_ratio += 0.1\n",
        "  hid_decoder(encoder_output)\n",
        "  SharedLayer_decoder =  layers.Dense(df_mat_rating.shape[1]+df_mat_trust.shape[1],activation=\"relu\")(hid_decoder)\n",
        "  rating_decoded , social_decoded = tf.split(SharedLayer_decoder,[df_mat_rating.shape[1],df_mat_trust.shape[1]],1)\n",
        "\n",
        "  rating_output = layers.Dense(df_mat_rating.shape[1],activation=\"relu\",name='rating_output')(rating_decoded)\n",
        "  social_output = layers.Dense(df_mat_trust.shape[1],activation=\"relu\",name='social_output')(social_decoded)\n",
        "\n",
        "  autoencoder = tf.keras.Model(inputs = [rating_input,social_input], outputs = [rating_output,social_output])\n",
        "\n",
        "  return autoencoder\n",
        "\n",
        "def createAutoCF(modelID,input_fileID,target_fileID,nbrEpochs,lossF,OF,mid_layer_ratio,nb_layers,bs):\n",
        "\n",
        "  sparseDf = loadDataset(input_fileID)\n",
        "  sparseDf = yelpPreprocess(sparseDf)\n",
        "  df_mat_filled = loadDataset(target_fileID)\n",
        "  df_mat_filled = df_mat_filled.set_index('Unnamed: 0')\n",
        "  df_mat = DatasetToUserItemDataFrame(sparseDf,'userID','itemID','rating')\n",
        "  if df_mat.shape[0]< df_mat.shape[1]:\n",
        "    df_mat = df_mat.T\n",
        "    df_mat_filled = df_mat_filled.T\n",
        "    print(df_mat_filled.shape,df_mat.shape)\n",
        "  x_train,x_test,y_train,y_test = train_test_split(df_mat,df_mat_filled,test_size = 0.2)\n",
        "  model_trained = trainModel(modelID,nbrEpochs,lossF,OF,x_train,y_train,mid_layer_ratio,nb_layers,bs = bs)\n",
        "\n",
        "  return model_trained , x_test, y_test\n",
        "\n",
        "def createSS_HAE(modelID,input_rating_fileID,target_rating_fileID,trust_fileID,nbrEpochs,lossF,OF,mid_layer_ratio,nb_layers):\n",
        "\n",
        "  sparseDf = loadDataset(input_rating_fileID)\n",
        "  df_rating_filled = loadDataset(target_rating_fileID)\n",
        "  df_trust_mat = loadDataset(trust_fileID)\n",
        "  trust_users_list = list(df_trust_mat.index)\n",
        "  df_rating_filled = getUsersRatings(df_rating_filled,trust_users_list) \n",
        "  df_rating_filled = orgDataframe(df_rating_filled,trust_users_list)\n",
        "\n",
        "  #input & target for autoencoder training\n",
        "  df_rating_mat = DatasetToUserItemDataFrame(sparseDf,'userID','itemID','rating')\n",
        "  df_rating_mat_filled = orgMatDataframe(df_rating_mat_filled,trust_users_list)\n",
        "\n",
        "  #data split\n",
        "  x_rating_train,x_rating_test,y_rating_train,y_rating_test = train_test_split(df_rating_mat,df_rating_mat_filled)\n",
        "  x_train,x_test = train_test_split(df_trust_mat)\n",
        "\n",
        "  model_trained = trainModel(modelID,nbrEpochs,lossF,OF,[x_rating_train,x_train],[y_rating_train,x_train],mid_layer_ratio,nb_layers)\n",
        "\n",
        "  return model_trained , [x_rating_test,y_rating_test] , x_test\n",
        "\n",
        "def evaluateModel(model,x_test,y_test):\n",
        "  model.evaluate(x_test,y_test) \n",
        "\n",
        "def orgDataframe(df_to_org,org_list):\n",
        "\n",
        "  df_org = pd.DataFrame(columns = ['userID','itemID','rating','reviewText'])\n",
        "  for user in org_list:\n",
        "    df_temp = df_to_org[(df_to_org['userID'] == user )]\n",
        "    df_org = pd.concat([df_org,df_temp])\n",
        "\n",
        "  return df_org\n",
        "\n",
        "def orgMatDataframe(df_to_org,org_list):\n",
        "  \n",
        "  df_org = pd.DataFrame(index = list(df_to_org.index),columns = list(df_to_org.columns))\n",
        "  for user in org_list:\n",
        "    df_org.loc[user] = list(df_to_org.loc[user])\n",
        "  \n",
        "  return df_org\n",
        "\n",
        "def getItemsScore(userID,modelID,fileID):\n",
        "  \n",
        "  listeItemScore = pd.DataFrame()\n",
        "  \n",
        "  if modelID == 0:\n",
        "    listItemScore = predSeCF(userID,modelID,fileID)   #CF\n",
        "  elif modelID == 1:\n",
        "    listItemScore = predSeCF(userID,modelID,fileID)   #CF + Sentiment\n",
        "  elif modelID == 2:\n",
        "    listItemScore = predSSeCF(userID,modelID,fileID)  #CF + Social\n",
        "  elif modelID == 3:\n",
        "    listItemScore = predSSeCF(userID,modelID,fileID)  #CF + Sentiment + Social\n",
        "\n",
        "  return listeItemScore \n",
        "\n",
        "def getModel(modelID):\n",
        "  model = tf.keras.models.load_model(MODEL_PATH[modelID])\n",
        "  return model\n",
        "\n",
        "def loadDataFrame(df):\n",
        "  df_loaded = pd.read_csv(DATA[df])\n",
        "  return  df_loaded\n",
        "\n",
        "def predSeCF(userID,modelID,fileID):\n",
        "  \n",
        "  model = getModel(modelID)\n",
        "  df_user_item_mat = pd.read_csv(DATA[fileID])\n",
        "  SparseScoresVec = df_user_item_mat.loc[userID].to_numpy()\n",
        "  listItemScores = df_user_item_mat.loc[userID].to_frame()\n",
        "  listItemScores = listItemScores.reset_index()\n",
        "  listItemScores.set_axis(['itemID','score'],axis='columns',inplace=True)\n",
        "  PredScoresVec = model.predict(SparseScoresVec)\n",
        "  listItemScores.replace(SparseScoresVec,PredScoresVec,inplace = True)\n",
        "\n",
        "  return listItemScores\n",
        "\n",
        "def predSSeCF(userID,modelID,ratings_fileID,trust_fileID):\n",
        "\n",
        "  model = getModel(modelID)\n",
        "  df_user_item_mat = loadDataset(fileID)\n",
        "  df_user_user_mat = pd.read_csv(trust_fileID)\n",
        "  SparseScoresVec = df_user_item_mat.loc[userID].to_numpy()\n",
        "  SparseTrustVec = df_user_user_mat.loc[userID].to_numpy()\n",
        "  listItemScores = df_user_item_mat.loc[userID].to_frame()\n",
        "  listItemScores = listItemScores.reset_index()\n",
        "  listItemScores.set_axis(['itemID','score'],axis='columns',inplace=True)\n",
        "  PredScoresVec,SparseTrustVec = model.predict([SparseScoresVec,SparseTrustVec])\n",
        "  listItemScores.replace(SparseScoresVec,PredScoresVec,inplace = True)\n",
        "\n",
        "  return listItemScores\n",
        "  "
      ],
      "metadata": {
        "id": "z6KHUFF9gwT5"
      },
      "execution_count": 32,
      "outputs": []
    },
    {
      "cell_type": "code",
      "source": [
        "def datapreprocess(df_sample):\n",
        "  \n",
        "  print(\"== PREPROCESSING DATA ...\")\n",
        "  df_sample = generateIDs(df_sample,'userID','itemID',5000,6000+df_sample['userID'].nunique(),8000,8000+df_sample['itemID'].nunique())\n",
        "  \n",
        "  df_sample['one'] = df_sample['rating'].apply(lambda x: 1 if x==1 else 0)\n",
        "  df_sample['two'] = df_sample['rating'].apply(lambda x: 1 if x==2 else 0)\n",
        "  df_sample['three'] = df_sample['rating'].apply(lambda x: 1 if x==3 else 0)\n",
        "  df_sample['four'] = df_sample['rating'].apply(lambda x: 1 if x==4 else 0)\n",
        "  df_sample['five'] = df_sample['rating'].apply(lambda x: 1 if x==5 else 0)\n",
        "  #df['six'] = df['rating'].apply(lambda x: 1 if x==6 else 0)\n",
        "  print(\"== DATA PREPROCESSED ==\")\n",
        "\n",
        "  return df_sample"
      ],
      "metadata": {
        "id": "EHC86cO8GJcK"
      },
      "execution_count": 8,
      "outputs": []
    },
    {
      "cell_type": "code",
      "source": [
        "!pip install tensorflow-ranking"
      ],
      "metadata": {
        "id": "TaV8wBuzlCtM"
      },
      "execution_count": null,
      "outputs": []
    },
    {
      "cell_type": "code",
      "source": [
        "import tensorflow_ranking as tfr"
      ],
      "metadata": {
        "id": "TZ7BFJ0HlG0P"
      },
      "execution_count": 97,
      "outputs": []
    },
    {
      "cell_type": "code",
      "source": [
        "DATA = ['/content/gdrive/MyDrive/shopping_Beta_0.7.csv','/content/Yelp_shopping_GMF_filled_mat_07_BETA.csv','/content/review_shopping.csv.zip','/content/Yelp_shopping_GMF_filled_mat.csv']\n",
        "MODEL_PATH = []\n",
        "PATH = ''\n",
        "rmse = tf.keras.metrics.RootMeanSquaredError()\n",
        "precision = tf.keras.metrics.Precision()\n",
        "ndcg = tfr.keras.metrics.NDCGMetric()\n",
        "METRICS = ['accuracy','mae',rmse,ndcg]"
      ],
      "metadata": {
        "id": "3eS1ZsrzFU-m"
      },
      "execution_count": 101,
      "outputs": []
    },
    {
      "cell_type": "code",
      "source": [
        "df_ = pd.read_csv('/content/Yelp_shopping_GMF_filled_mat.csv')"
      ],
      "metadata": {
        "id": "BUPRwF2FBGWZ"
      },
      "execution_count": 62,
      "outputs": []
    },
    {
      "cell_type": "code",
      "source": [
        "df_.head()"
      ],
      "metadata": {
        "id": "icxOA9RZBL0S"
      },
      "execution_count": null,
      "outputs": []
    },
    {
      "cell_type": "code",
      "source": [
        "model,x_test,y_test = createAutoCF('S-AutoCF',0,1,20,tf.keras.losses.MeanSquaredError(),'adam',0.3,2,32)"
      ],
      "metadata": {
        "id": "jWu3NfsAGS2b",
        "outputId": "15b1f5a5-5a4c-4329-9019-1b4b0d85b9af",
        "colab": {
          "base_uri": "https://localhost:8080/"
        }
      },
      "execution_count": 107,
      "outputs": [
        {
          "output_type": "stream",
          "name": "stdout",
          "text": [
            "== FILE LOADED ==\n",
            "DATASET PREPROCESSED\n",
            "== FILE LOADED ==\n",
            "(9637, 2935) (9637, 2935)\n",
            "Model: \"model_27\"\n",
            "_________________________________________________________________\n",
            " Layer (type)                Output Shape              Param #   \n",
            "=================================================================\n",
            " user_item (InputLayer)      [(None, 2935)]            0         \n",
            "                                                                 \n",
            " flatten_29 (Flatten)        (None, 2935)              0         \n",
            "                                                                 \n",
            " dense_138 (Dense)           (None, 1174)              3446864   \n",
            "                                                                 \n",
            " dense_139 (Dense)           (None, 1027)              1206725   \n",
            "                                                                 \n",
            " dense_140 (Dense)           (None, 880)               904640    \n",
            "                                                                 \n",
            " dense_141 (Dense)           (None, 1027)              904787    \n",
            "                                                                 \n",
            " dense_142 (Dense)           (None, 1174)              1206872   \n",
            "                                                                 \n",
            " dense_143 (Dense)           (None, 2935)              3448625   \n",
            "                                                                 \n",
            "=================================================================\n",
            "Total params: 11,118,513\n",
            "Trainable params: 11,118,513\n",
            "Non-trainable params: 0\n",
            "_________________________________________________________________\n",
            "None\n",
            "Epoch 1/20\n",
            "208/208 [==============================] - 3s 10ms/step - loss: 2.8482 - accuracy: 0.0044 - mae: 1.0979 - root_mean_squared_error: 1.4887 - ndcg_metric_1: 0.9870 - val_loss: 1.6104 - val_accuracy: 0.0287 - val_mae: 0.5365 - val_root_mean_squared_error: 1.2690 - val_ndcg_metric_1: 0.9867\n",
            "Epoch 2/20\n",
            "208/208 [==============================] - 2s 8ms/step - loss: 1.5942 - accuracy: 0.0134 - mae: 0.5077 - root_mean_squared_error: 1.2626 - ndcg_metric_1: 0.9873 - val_loss: 1.5844 - val_accuracy: 0.0269 - val_mae: 0.4892 - val_root_mean_squared_error: 1.2587 - val_ndcg_metric_1: 0.9870\n",
            "Epoch 3/20\n",
            "208/208 [==============================] - 2s 8ms/step - loss: 1.5823 - accuracy: 0.0160 - mae: 0.4891 - root_mean_squared_error: 1.2579 - ndcg_metric_1: 0.9873 - val_loss: 1.5903 - val_accuracy: 0.0000e+00 - val_mae: 0.4908 - val_root_mean_squared_error: 1.2611 - val_ndcg_metric_1: 0.9866\n",
            "Epoch 4/20\n",
            "208/208 [==============================] - 2s 8ms/step - loss: 1.5514 - accuracy: 0.0140 - mae: 0.4862 - root_mean_squared_error: 1.2455 - ndcg_metric_1: 0.9872 - val_loss: 1.5362 - val_accuracy: 9.2593e-04 - val_mae: 0.4770 - val_root_mean_squared_error: 1.2394 - val_ndcg_metric_1: 0.9870\n",
            "Epoch 5/20\n",
            "208/208 [==============================] - 2s 8ms/step - loss: 1.6127 - accuracy: 0.0143 - mae: 0.5205 - root_mean_squared_error: 1.2699 - ndcg_metric_1: 0.9872 - val_loss: 1.5539 - val_accuracy: 0.0000e+00 - val_mae: 0.4966 - val_root_mean_squared_error: 1.2466 - val_ndcg_metric_1: 0.9852\n",
            "Epoch 6/20\n",
            "208/208 [==============================] - 2s 8ms/step - loss: 1.5641 - accuracy: 4.5256e-04 - mae: 0.5107 - root_mean_squared_error: 1.2506 - ndcg_metric_1: 0.9865 - val_loss: 0.6029 - val_accuracy: 0.0000e+00 - val_mae: 0.2948 - val_root_mean_squared_error: 0.7765 - val_ndcg_metric_1: 0.9861\n",
            "Epoch 7/20\n",
            "208/208 [==============================] - 2s 8ms/step - loss: 0.5523 - accuracy: 0.0023 - mae: 0.2458 - root_mean_squared_error: 0.7432 - ndcg_metric_1: 0.9869 - val_loss: 0.4715 - val_accuracy: 0.0000e+00 - val_mae: 0.2093 - val_root_mean_squared_error: 0.6867 - val_ndcg_metric_1: 0.9861\n",
            "Epoch 8/20\n",
            "208/208 [==============================] - 2s 8ms/step - loss: 0.8532 - accuracy: 0.0018 - mae: 0.2745 - root_mean_squared_error: 0.9237 - ndcg_metric_1: 0.9868 - val_loss: 0.3600 - val_accuracy: 0.0056 - val_mae: 0.1745 - val_root_mean_squared_error: 0.6000 - val_ndcg_metric_1: 0.9864\n",
            "Epoch 9/20\n",
            "208/208 [==============================] - 2s 8ms/step - loss: 0.3752 - accuracy: 0.0018 - mae: 0.2041 - root_mean_squared_error: 0.6126 - ndcg_metric_1: 0.9867 - val_loss: 0.2598 - val_accuracy: 0.0000e+00 - val_mae: 0.3787 - val_root_mean_squared_error: 0.5097 - val_ndcg_metric_1: 0.9859\n",
            "Epoch 10/20\n",
            "208/208 [==============================] - 2s 8ms/step - loss: 0.1888 - accuracy: 0.0029 - mae: 0.1875 - root_mean_squared_error: 0.4346 - ndcg_metric_1: 0.9865 - val_loss: 0.0826 - val_accuracy: 0.0000e+00 - val_mae: 0.1003 - val_root_mean_squared_error: 0.2873 - val_ndcg_metric_1: 0.9856\n",
            "Epoch 11/20\n",
            "208/208 [==============================] - 2s 8ms/step - loss: 0.1525 - accuracy: 0.0078 - mae: 0.1517 - root_mean_squared_error: 0.3905 - ndcg_metric_1: 0.9869 - val_loss: 0.0488 - val_accuracy: 0.0380 - val_mae: 0.0913 - val_root_mean_squared_error: 0.2210 - val_ndcg_metric_1: 0.9871\n",
            "Epoch 12/20\n",
            "208/208 [==============================] - 2s 8ms/step - loss: 0.0715 - accuracy: 0.0240 - mae: 0.1033 - root_mean_squared_error: 0.2673 - ndcg_metric_1: 0.9871 - val_loss: 0.0451 - val_accuracy: 0.0398 - val_mae: 0.0990 - val_root_mean_squared_error: 0.2123 - val_ndcg_metric_1: 0.9874\n",
            "Epoch 13/20\n",
            "208/208 [==============================] - 2s 8ms/step - loss: 0.0830 - accuracy: 0.0148 - mae: 0.1117 - root_mean_squared_error: 0.2882 - ndcg_metric_1: 0.9871 - val_loss: 0.0391 - val_accuracy: 0.0000e+00 - val_mae: 0.0880 - val_root_mean_squared_error: 0.1976 - val_ndcg_metric_1: 0.9860\n",
            "Epoch 14/20\n",
            "208/208 [==============================] - 2s 8ms/step - loss: 0.1464 - accuracy: 0.0244 - mae: 0.1351 - root_mean_squared_error: 0.3826 - ndcg_metric_1: 0.9870 - val_loss: 0.0399 - val_accuracy: 0.0019 - val_mae: 0.0880 - val_root_mean_squared_error: 0.1997 - val_ndcg_metric_1: 0.9866\n",
            "Epoch 15/20\n",
            "208/208 [==============================] - 2s 8ms/step - loss: 0.1132 - accuracy: 0.0142 - mae: 0.1175 - root_mean_squared_error: 0.3365 - ndcg_metric_1: 0.9869 - val_loss: 0.0339 - val_accuracy: 0.0111 - val_mae: 0.0887 - val_root_mean_squared_error: 0.1841 - val_ndcg_metric_1: 0.9864\n",
            "Epoch 16/20\n",
            "208/208 [==============================] - 2s 8ms/step - loss: 0.0914 - accuracy: 0.0175 - mae: 0.1281 - root_mean_squared_error: 0.3024 - ndcg_metric_1: 0.9869 - val_loss: 0.0338 - val_accuracy: 0.0722 - val_mae: 0.0875 - val_root_mean_squared_error: 0.1838 - val_ndcg_metric_1: 0.9858\n",
            "Epoch 17/20\n",
            "208/208 [==============================] - 2s 8ms/step - loss: 0.0423 - accuracy: 0.0198 - mae: 0.0891 - root_mean_squared_error: 0.2056 - ndcg_metric_1: 0.9869 - val_loss: 0.0341 - val_accuracy: 0.0685 - val_mae: 0.0917 - val_root_mean_squared_error: 0.1848 - val_ndcg_metric_1: 0.9854\n",
            "Epoch 18/20\n",
            "208/208 [==============================] - 2s 8ms/step - loss: 0.0812 - accuracy: 0.0246 - mae: 0.0955 - root_mean_squared_error: 0.2850 - ndcg_metric_1: 0.9870 - val_loss: 0.0338 - val_accuracy: 0.0398 - val_mae: 0.0900 - val_root_mean_squared_error: 0.1839 - val_ndcg_metric_1: 0.9872\n",
            "Epoch 19/20\n",
            "208/208 [==============================] - 2s 8ms/step - loss: 0.0448 - accuracy: 0.0210 - mae: 0.0931 - root_mean_squared_error: 0.2118 - ndcg_metric_1: 0.9869 - val_loss: 0.0359 - val_accuracy: 0.0722 - val_mae: 0.0957 - val_root_mean_squared_error: 0.1894 - val_ndcg_metric_1: 0.9861\n",
            "Epoch 20/20\n",
            "208/208 [==============================] - 2s 8ms/step - loss: 0.0637 - accuracy: 0.0223 - mae: 0.1153 - root_mean_squared_error: 0.2524 - ndcg_metric_1: 0.9869 - val_loss: 0.0335 - val_accuracy: 0.0343 - val_mae: 0.0874 - val_root_mean_squared_error: 0.1830 - val_ndcg_metric_1: 0.9867\n"
          ]
        }
      ]
    },
    {
      "cell_type": "code",
      "source": [
        "evaluateModel(model,x_test,y_test)"
      ],
      "metadata": {
        "id": "6Yu8xuuKnpD0",
        "outputId": "47a66818-37b7-4356-f6ee-5607b3d5da80",
        "colab": {
          "base_uri": "https://localhost:8080/"
        }
      },
      "execution_count": 108,
      "outputs": [
        {
          "output_type": "stream",
          "name": "stdout",
          "text": [
            "61/61 [==============================] - 0s 6ms/step - loss: 0.0324 - accuracy: 0.0285 - mae: 0.0845 - root_mean_squared_error: 0.1799 - ndcg_metric_1: 0.9875\n"
          ]
        }
      ]
    },
    {
      "cell_type": "code",
      "source": [
        "evaluateModel(model,x_test,y_test)"
      ],
      "metadata": {
        "id": "AO9PKX3Dae5V",
        "outputId": "75ceb4d5-2405-431e-da45-5d1fc4527a67",
        "colab": {
          "base_uri": "https://localhost:8080/"
        }
      },
      "execution_count": 92,
      "outputs": [
        {
          "output_type": "stream",
          "name": "stdout",
          "text": [
            "61/61 [==============================] - 0s 4ms/step - loss: 0.0175 - accuracy: 0.0104 - mae: 0.0791 - root_mean_squared_error: 0.1322\n"
          ]
        }
      ]
    },
    {
      "cell_type": "markdown",
      "source": [
        "cf + 0.7\n"
      ],
      "metadata": {
        "id": "8DmR1fzonrdP"
      }
    },
    {
      "cell_type": "code",
      "source": [
        "evaluateModel(model,x_test,y_test)"
      ],
      "metadata": {
        "id": "b_zjz2jrR8Ah",
        "outputId": "7c76ddc6-1a34-412e-ccab-f0d65d868463",
        "colab": {
          "base_uri": "https://localhost:8080/"
        }
      },
      "execution_count": 94,
      "outputs": [
        {
          "output_type": "stream",
          "name": "stdout",
          "text": [
            "61/61 [==============================] - 0s 5ms/step - loss: 0.0240 - accuracy: 0.0373 - mae: 0.1102 - root_mean_squared_error: 0.1550\n"
          ]
        }
      ]
    },
    {
      "cell_type": "markdown",
      "source": [
        "cf"
      ],
      "metadata": {
        "id": "EZFlFqccnuBu"
      }
    },
    {
      "cell_type": "code",
      "source": [
        "df_sample = pd.read_csv(\"/content/review_shopping.csv.zip\")"
      ],
      "metadata": {
        "id": "YFf76MumHofs"
      },
      "execution_count": 50,
      "outputs": []
    },
    {
      "cell_type": "code",
      "source": [
        "df_sample.rename(columns = {'text': 'reviewText', 'stars': 'rating', 'business_id': 'itemID', 'user_id': 'userID'}, inplace = True)\n",
        "df_sample.dropna(how='any',axis=0)\n",
        "df_sample.drop_duplicates(subset =['itemID', 'userID'] , keep = 'first' , inplace = True)"
      ],
      "metadata": {
        "id": "mvGZ7ZP-IGG-"
      },
      "execution_count": 51,
      "outputs": []
    },
    {
      "cell_type": "code",
      "source": [
        "df_sample.head()"
      ],
      "metadata": {
        "id": "ZnJVhwlYIluq",
        "outputId": "e0d96a57-b2c2-481b-9dcf-f283a7a42720",
        "colab": {
          "base_uri": "https://localhost:8080/",
          "height": 206
        }
      },
      "execution_count": 52,
      "outputs": [
        {
          "output_type": "execute_result",
          "data": {
            "text/plain": [
              "                review_id                  userID                  itemID  \\\n",
              "0  suMtrxm_nUiAQMu6ZfG5Wg  0Igx-a1wAstiBDerGxXk2A  actDmpJyaQPnkds6knMdKA   \n",
              "1  i6qS_PlGj4kl_2u55WKa5Q  gasLVm0KRwrVhPGRcqATjw  CHh0ZFrQcsk4boOItr2Zuw   \n",
              "2  MIvAWbDNBsj5veOvsftNgw  758g6NGLp9deCbvowz62Ww  z6SVTb9eFIcWVpKXIfFEvQ   \n",
              "3  3B41BdxNIENFP1EsCCybnw  B0fzg0eUWplNBzfSJsCFDg  VUOD8yD1jwq_pqRP8EETBQ   \n",
              "4  kLgcYk9TxIjLe6y6eChetg  g7B4nU8SiXjir8NjCYY2Rg  SeAF6UA88vWbKFkZ7iQRhA   \n",
              "\n",
              "   rating  useful  funny  cool  \\\n",
              "0       5       3      2     1   \n",
              "1       4       1      0     2   \n",
              "2       4       0      0     0   \n",
              "3       3       1      0     0   \n",
              "4       1       1      1     0   \n",
              "\n",
              "                                          reviewText                 date  \n",
              "0  Say you decide that you need a new door...and ...  2009-03-01 05:30:45  \n",
              "1  I stopped in because I was hungry for some sna...  2015-06-09 03:30:56  \n",
              "2  Sometimes I just head on over to Kingsway if I...  2008-12-03 20:05:18  \n",
              "3  Second time's the charm. Stopped by once to ha...  2017-03-15 20:45:43  \n",
              "4  Unfortunately, I'm NOT happy after coming to t...  2018-02-11 04:01:35  "
            ],
            "text/html": [
              "\n",
              "  <div id=\"df-7a9ca1eb-d8fe-44f0-ac28-cee78f9d709c\">\n",
              "    <div class=\"colab-df-container\">\n",
              "      <div>\n",
              "<style scoped>\n",
              "    .dataframe tbody tr th:only-of-type {\n",
              "        vertical-align: middle;\n",
              "    }\n",
              "\n",
              "    .dataframe tbody tr th {\n",
              "        vertical-align: top;\n",
              "    }\n",
              "\n",
              "    .dataframe thead th {\n",
              "        text-align: right;\n",
              "    }\n",
              "</style>\n",
              "<table border=\"1\" class=\"dataframe\">\n",
              "  <thead>\n",
              "    <tr style=\"text-align: right;\">\n",
              "      <th></th>\n",
              "      <th>review_id</th>\n",
              "      <th>userID</th>\n",
              "      <th>itemID</th>\n",
              "      <th>rating</th>\n",
              "      <th>useful</th>\n",
              "      <th>funny</th>\n",
              "      <th>cool</th>\n",
              "      <th>reviewText</th>\n",
              "      <th>date</th>\n",
              "    </tr>\n",
              "  </thead>\n",
              "  <tbody>\n",
              "    <tr>\n",
              "      <th>0</th>\n",
              "      <td>suMtrxm_nUiAQMu6ZfG5Wg</td>\n",
              "      <td>0Igx-a1wAstiBDerGxXk2A</td>\n",
              "      <td>actDmpJyaQPnkds6knMdKA</td>\n",
              "      <td>5</td>\n",
              "      <td>3</td>\n",
              "      <td>2</td>\n",
              "      <td>1</td>\n",
              "      <td>Say you decide that you need a new door...and ...</td>\n",
              "      <td>2009-03-01 05:30:45</td>\n",
              "    </tr>\n",
              "    <tr>\n",
              "      <th>1</th>\n",
              "      <td>i6qS_PlGj4kl_2u55WKa5Q</td>\n",
              "      <td>gasLVm0KRwrVhPGRcqATjw</td>\n",
              "      <td>CHh0ZFrQcsk4boOItr2Zuw</td>\n",
              "      <td>4</td>\n",
              "      <td>1</td>\n",
              "      <td>0</td>\n",
              "      <td>2</td>\n",
              "      <td>I stopped in because I was hungry for some sna...</td>\n",
              "      <td>2015-06-09 03:30:56</td>\n",
              "    </tr>\n",
              "    <tr>\n",
              "      <th>2</th>\n",
              "      <td>MIvAWbDNBsj5veOvsftNgw</td>\n",
              "      <td>758g6NGLp9deCbvowz62Ww</td>\n",
              "      <td>z6SVTb9eFIcWVpKXIfFEvQ</td>\n",
              "      <td>4</td>\n",
              "      <td>0</td>\n",
              "      <td>0</td>\n",
              "      <td>0</td>\n",
              "      <td>Sometimes I just head on over to Kingsway if I...</td>\n",
              "      <td>2008-12-03 20:05:18</td>\n",
              "    </tr>\n",
              "    <tr>\n",
              "      <th>3</th>\n",
              "      <td>3B41BdxNIENFP1EsCCybnw</td>\n",
              "      <td>B0fzg0eUWplNBzfSJsCFDg</td>\n",
              "      <td>VUOD8yD1jwq_pqRP8EETBQ</td>\n",
              "      <td>3</td>\n",
              "      <td>1</td>\n",
              "      <td>0</td>\n",
              "      <td>0</td>\n",
              "      <td>Second time's the charm. Stopped by once to ha...</td>\n",
              "      <td>2017-03-15 20:45:43</td>\n",
              "    </tr>\n",
              "    <tr>\n",
              "      <th>4</th>\n",
              "      <td>kLgcYk9TxIjLe6y6eChetg</td>\n",
              "      <td>g7B4nU8SiXjir8NjCYY2Rg</td>\n",
              "      <td>SeAF6UA88vWbKFkZ7iQRhA</td>\n",
              "      <td>1</td>\n",
              "      <td>1</td>\n",
              "      <td>1</td>\n",
              "      <td>0</td>\n",
              "      <td>Unfortunately, I'm NOT happy after coming to t...</td>\n",
              "      <td>2018-02-11 04:01:35</td>\n",
              "    </tr>\n",
              "  </tbody>\n",
              "</table>\n",
              "</div>\n",
              "      <button class=\"colab-df-convert\" onclick=\"convertToInteractive('df-7a9ca1eb-d8fe-44f0-ac28-cee78f9d709c')\"\n",
              "              title=\"Convert this dataframe to an interactive table.\"\n",
              "              style=\"display:none;\">\n",
              "        \n",
              "  <svg xmlns=\"http://www.w3.org/2000/svg\" height=\"24px\"viewBox=\"0 0 24 24\"\n",
              "       width=\"24px\">\n",
              "    <path d=\"M0 0h24v24H0V0z\" fill=\"none\"/>\n",
              "    <path d=\"M18.56 5.44l.94 2.06.94-2.06 2.06-.94-2.06-.94-.94-2.06-.94 2.06-2.06.94zm-11 1L8.5 8.5l.94-2.06 2.06-.94-2.06-.94L8.5 2.5l-.94 2.06-2.06.94zm10 10l.94 2.06.94-2.06 2.06-.94-2.06-.94-.94-2.06-.94 2.06-2.06.94z\"/><path d=\"M17.41 7.96l-1.37-1.37c-.4-.4-.92-.59-1.43-.59-.52 0-1.04.2-1.43.59L10.3 9.45l-7.72 7.72c-.78.78-.78 2.05 0 2.83L4 21.41c.39.39.9.59 1.41.59.51 0 1.02-.2 1.41-.59l7.78-7.78 2.81-2.81c.8-.78.8-2.07 0-2.86zM5.41 20L4 18.59l7.72-7.72 1.47 1.35L5.41 20z\"/>\n",
              "  </svg>\n",
              "      </button>\n",
              "      \n",
              "  <style>\n",
              "    .colab-df-container {\n",
              "      display:flex;\n",
              "      flex-wrap:wrap;\n",
              "      gap: 12px;\n",
              "    }\n",
              "\n",
              "    .colab-df-convert {\n",
              "      background-color: #E8F0FE;\n",
              "      border: none;\n",
              "      border-radius: 50%;\n",
              "      cursor: pointer;\n",
              "      display: none;\n",
              "      fill: #1967D2;\n",
              "      height: 32px;\n",
              "      padding: 0 0 0 0;\n",
              "      width: 32px;\n",
              "    }\n",
              "\n",
              "    .colab-df-convert:hover {\n",
              "      background-color: #E2EBFA;\n",
              "      box-shadow: 0px 1px 2px rgba(60, 64, 67, 0.3), 0px 1px 3px 1px rgba(60, 64, 67, 0.15);\n",
              "      fill: #174EA6;\n",
              "    }\n",
              "\n",
              "    [theme=dark] .colab-df-convert {\n",
              "      background-color: #3B4455;\n",
              "      fill: #D2E3FC;\n",
              "    }\n",
              "\n",
              "    [theme=dark] .colab-df-convert:hover {\n",
              "      background-color: #434B5C;\n",
              "      box-shadow: 0px 1px 3px 1px rgba(0, 0, 0, 0.15);\n",
              "      filter: drop-shadow(0px 1px 2px rgba(0, 0, 0, 0.3));\n",
              "      fill: #FFFFFF;\n",
              "    }\n",
              "  </style>\n",
              "\n",
              "      <script>\n",
              "        const buttonEl =\n",
              "          document.querySelector('#df-7a9ca1eb-d8fe-44f0-ac28-cee78f9d709c button.colab-df-convert');\n",
              "        buttonEl.style.display =\n",
              "          google.colab.kernel.accessAllowed ? 'block' : 'none';\n",
              "\n",
              "        async function convertToInteractive(key) {\n",
              "          const element = document.querySelector('#df-7a9ca1eb-d8fe-44f0-ac28-cee78f9d709c');\n",
              "          const dataTable =\n",
              "            await google.colab.kernel.invokeFunction('convertToInteractive',\n",
              "                                                     [key], {});\n",
              "          if (!dataTable) return;\n",
              "\n",
              "          const docLinkHtml = 'Like what you see? Visit the ' +\n",
              "            '<a target=\"_blank\" href=https://colab.research.google.com/notebooks/data_table.ipynb>data table notebook</a>'\n",
              "            + ' to learn more about interactive tables.';\n",
              "          element.innerHTML = '';\n",
              "          dataTable['output_type'] = 'display_data';\n",
              "          await google.colab.output.renderOutput(dataTable, element);\n",
              "          const docLink = document.createElement('div');\n",
              "          docLink.innerHTML = docLinkHtml;\n",
              "          element.appendChild(docLink);\n",
              "        }\n",
              "      </script>\n",
              "    </div>\n",
              "  </div>\n",
              "  "
            ]
          },
          "metadata": {},
          "execution_count": 52
        }
      ]
    },
    {
      "cell_type": "code",
      "source": [
        "df_test = datapreprocess(df_sample)"
      ],
      "metadata": {
        "id": "c3PUFoU5GrhR",
        "outputId": "55908328-a3c5-4314-ac23-85b7d91a60a3",
        "colab": {
          "base_uri": "https://localhost:8080/"
        }
      },
      "execution_count": 53,
      "outputs": [
        {
          "output_type": "stream",
          "name": "stderr",
          "text": [
            "  0% (24 of 2935) |                      | Elapsed Time: 0:00:00 ETA:   0:00:12"
          ]
        },
        {
          "output_type": "stream",
          "name": "stdout",
          "text": [
            "== PREPROCESSING DATA ...\n"
          ]
        },
        {
          "output_type": "stream",
          "name": "stderr",
          "text": [
            "100% (2935 of 2935) |####################| Elapsed Time: 0:00:15 Time:  0:00:15\n",
            "100% (9637 of 9637) |####################| Elapsed Time: 0:01:33 Time:  0:01:33\n"
          ]
        },
        {
          "output_type": "stream",
          "name": "stdout",
          "text": [
            "== DATA PREPROCESSED ==\n"
          ]
        }
      ]
    },
    {
      "cell_type": "code",
      "source": [
        "df_test.head()"
      ],
      "metadata": {
        "id": "44G4_w6pgRAD",
        "outputId": "b7c049ad-bec1-406a-c8c5-30af3a841447",
        "colab": {
          "base_uri": "https://localhost:8080/",
          "height": 206
        }
      },
      "execution_count": 54,
      "outputs": [
        {
          "output_type": "execute_result",
          "data": {
            "text/plain": [
              "                review_id  userID  itemID  rating  useful  funny  cool  \\\n",
              "0  suMtrxm_nUiAQMu6ZfG5Wg    6701   17113       5       3      2     1   \n",
              "1  i6qS_PlGj4kl_2u55WKa5Q    7922   17310       4       1      0     2   \n",
              "2  MIvAWbDNBsj5veOvsftNgw    6212   12015       4       0      0     0   \n",
              "3  3B41BdxNIENFP1EsCCybnw    8356    9514       3       1      0     0   \n",
              "4  kLgcYk9TxIjLe6y6eChetg    6946   14601       1       1      1     0   \n",
              "\n",
              "                                          reviewText                 date  \\\n",
              "0  Say you decide that you need a new door...and ...  2009-03-01 05:30:45   \n",
              "1  I stopped in because I was hungry for some sna...  2015-06-09 03:30:56   \n",
              "2  Sometimes I just head on over to Kingsway if I...  2008-12-03 20:05:18   \n",
              "3  Second time's the charm. Stopped by once to ha...  2017-03-15 20:45:43   \n",
              "4  Unfortunately, I'm NOT happy after coming to t...  2018-02-11 04:01:35   \n",
              "\n",
              "   one  two  three  four  five  \n",
              "0    0    0      0     0     1  \n",
              "1    0    0      0     1     0  \n",
              "2    0    0      0     1     0  \n",
              "3    0    0      1     0     0  \n",
              "4    1    0      0     0     0  "
            ],
            "text/html": [
              "\n",
              "  <div id=\"df-827a41b8-210a-4e75-8456-720ca84d7dda\">\n",
              "    <div class=\"colab-df-container\">\n",
              "      <div>\n",
              "<style scoped>\n",
              "    .dataframe tbody tr th:only-of-type {\n",
              "        vertical-align: middle;\n",
              "    }\n",
              "\n",
              "    .dataframe tbody tr th {\n",
              "        vertical-align: top;\n",
              "    }\n",
              "\n",
              "    .dataframe thead th {\n",
              "        text-align: right;\n",
              "    }\n",
              "</style>\n",
              "<table border=\"1\" class=\"dataframe\">\n",
              "  <thead>\n",
              "    <tr style=\"text-align: right;\">\n",
              "      <th></th>\n",
              "      <th>review_id</th>\n",
              "      <th>userID</th>\n",
              "      <th>itemID</th>\n",
              "      <th>rating</th>\n",
              "      <th>useful</th>\n",
              "      <th>funny</th>\n",
              "      <th>cool</th>\n",
              "      <th>reviewText</th>\n",
              "      <th>date</th>\n",
              "      <th>one</th>\n",
              "      <th>two</th>\n",
              "      <th>three</th>\n",
              "      <th>four</th>\n",
              "      <th>five</th>\n",
              "    </tr>\n",
              "  </thead>\n",
              "  <tbody>\n",
              "    <tr>\n",
              "      <th>0</th>\n",
              "      <td>suMtrxm_nUiAQMu6ZfG5Wg</td>\n",
              "      <td>6701</td>\n",
              "      <td>17113</td>\n",
              "      <td>5</td>\n",
              "      <td>3</td>\n",
              "      <td>2</td>\n",
              "      <td>1</td>\n",
              "      <td>Say you decide that you need a new door...and ...</td>\n",
              "      <td>2009-03-01 05:30:45</td>\n",
              "      <td>0</td>\n",
              "      <td>0</td>\n",
              "      <td>0</td>\n",
              "      <td>0</td>\n",
              "      <td>1</td>\n",
              "    </tr>\n",
              "    <tr>\n",
              "      <th>1</th>\n",
              "      <td>i6qS_PlGj4kl_2u55WKa5Q</td>\n",
              "      <td>7922</td>\n",
              "      <td>17310</td>\n",
              "      <td>4</td>\n",
              "      <td>1</td>\n",
              "      <td>0</td>\n",
              "      <td>2</td>\n",
              "      <td>I stopped in because I was hungry for some sna...</td>\n",
              "      <td>2015-06-09 03:30:56</td>\n",
              "      <td>0</td>\n",
              "      <td>0</td>\n",
              "      <td>0</td>\n",
              "      <td>1</td>\n",
              "      <td>0</td>\n",
              "    </tr>\n",
              "    <tr>\n",
              "      <th>2</th>\n",
              "      <td>MIvAWbDNBsj5veOvsftNgw</td>\n",
              "      <td>6212</td>\n",
              "      <td>12015</td>\n",
              "      <td>4</td>\n",
              "      <td>0</td>\n",
              "      <td>0</td>\n",
              "      <td>0</td>\n",
              "      <td>Sometimes I just head on over to Kingsway if I...</td>\n",
              "      <td>2008-12-03 20:05:18</td>\n",
              "      <td>0</td>\n",
              "      <td>0</td>\n",
              "      <td>0</td>\n",
              "      <td>1</td>\n",
              "      <td>0</td>\n",
              "    </tr>\n",
              "    <tr>\n",
              "      <th>3</th>\n",
              "      <td>3B41BdxNIENFP1EsCCybnw</td>\n",
              "      <td>8356</td>\n",
              "      <td>9514</td>\n",
              "      <td>3</td>\n",
              "      <td>1</td>\n",
              "      <td>0</td>\n",
              "      <td>0</td>\n",
              "      <td>Second time's the charm. Stopped by once to ha...</td>\n",
              "      <td>2017-03-15 20:45:43</td>\n",
              "      <td>0</td>\n",
              "      <td>0</td>\n",
              "      <td>1</td>\n",
              "      <td>0</td>\n",
              "      <td>0</td>\n",
              "    </tr>\n",
              "    <tr>\n",
              "      <th>4</th>\n",
              "      <td>kLgcYk9TxIjLe6y6eChetg</td>\n",
              "      <td>6946</td>\n",
              "      <td>14601</td>\n",
              "      <td>1</td>\n",
              "      <td>1</td>\n",
              "      <td>1</td>\n",
              "      <td>0</td>\n",
              "      <td>Unfortunately, I'm NOT happy after coming to t...</td>\n",
              "      <td>2018-02-11 04:01:35</td>\n",
              "      <td>1</td>\n",
              "      <td>0</td>\n",
              "      <td>0</td>\n",
              "      <td>0</td>\n",
              "      <td>0</td>\n",
              "    </tr>\n",
              "  </tbody>\n",
              "</table>\n",
              "</div>\n",
              "      <button class=\"colab-df-convert\" onclick=\"convertToInteractive('df-827a41b8-210a-4e75-8456-720ca84d7dda')\"\n",
              "              title=\"Convert this dataframe to an interactive table.\"\n",
              "              style=\"display:none;\">\n",
              "        \n",
              "  <svg xmlns=\"http://www.w3.org/2000/svg\" height=\"24px\"viewBox=\"0 0 24 24\"\n",
              "       width=\"24px\">\n",
              "    <path d=\"M0 0h24v24H0V0z\" fill=\"none\"/>\n",
              "    <path d=\"M18.56 5.44l.94 2.06.94-2.06 2.06-.94-2.06-.94-.94-2.06-.94 2.06-2.06.94zm-11 1L8.5 8.5l.94-2.06 2.06-.94-2.06-.94L8.5 2.5l-.94 2.06-2.06.94zm10 10l.94 2.06.94-2.06 2.06-.94-2.06-.94-.94-2.06-.94 2.06-2.06.94z\"/><path d=\"M17.41 7.96l-1.37-1.37c-.4-.4-.92-.59-1.43-.59-.52 0-1.04.2-1.43.59L10.3 9.45l-7.72 7.72c-.78.78-.78 2.05 0 2.83L4 21.41c.39.39.9.59 1.41.59.51 0 1.02-.2 1.41-.59l7.78-7.78 2.81-2.81c.8-.78.8-2.07 0-2.86zM5.41 20L4 18.59l7.72-7.72 1.47 1.35L5.41 20z\"/>\n",
              "  </svg>\n",
              "      </button>\n",
              "      \n",
              "  <style>\n",
              "    .colab-df-container {\n",
              "      display:flex;\n",
              "      flex-wrap:wrap;\n",
              "      gap: 12px;\n",
              "    }\n",
              "\n",
              "    .colab-df-convert {\n",
              "      background-color: #E8F0FE;\n",
              "      border: none;\n",
              "      border-radius: 50%;\n",
              "      cursor: pointer;\n",
              "      display: none;\n",
              "      fill: #1967D2;\n",
              "      height: 32px;\n",
              "      padding: 0 0 0 0;\n",
              "      width: 32px;\n",
              "    }\n",
              "\n",
              "    .colab-df-convert:hover {\n",
              "      background-color: #E2EBFA;\n",
              "      box-shadow: 0px 1px 2px rgba(60, 64, 67, 0.3), 0px 1px 3px 1px rgba(60, 64, 67, 0.15);\n",
              "      fill: #174EA6;\n",
              "    }\n",
              "\n",
              "    [theme=dark] .colab-df-convert {\n",
              "      background-color: #3B4455;\n",
              "      fill: #D2E3FC;\n",
              "    }\n",
              "\n",
              "    [theme=dark] .colab-df-convert:hover {\n",
              "      background-color: #434B5C;\n",
              "      box-shadow: 0px 1px 3px 1px rgba(0, 0, 0, 0.15);\n",
              "      filter: drop-shadow(0px 1px 2px rgba(0, 0, 0, 0.3));\n",
              "      fill: #FFFFFF;\n",
              "    }\n",
              "  </style>\n",
              "\n",
              "      <script>\n",
              "        const buttonEl =\n",
              "          document.querySelector('#df-827a41b8-210a-4e75-8456-720ca84d7dda button.colab-df-convert');\n",
              "        buttonEl.style.display =\n",
              "          google.colab.kernel.accessAllowed ? 'block' : 'none';\n",
              "\n",
              "        async function convertToInteractive(key) {\n",
              "          const element = document.querySelector('#df-827a41b8-210a-4e75-8456-720ca84d7dda');\n",
              "          const dataTable =\n",
              "            await google.colab.kernel.invokeFunction('convertToInteractive',\n",
              "                                                     [key], {});\n",
              "          if (!dataTable) return;\n",
              "\n",
              "          const docLinkHtml = 'Like what you see? Visit the ' +\n",
              "            '<a target=\"_blank\" href=https://colab.research.google.com/notebooks/data_table.ipynb>data table notebook</a>'\n",
              "            + ' to learn more about interactive tables.';\n",
              "          element.innerHTML = '';\n",
              "          dataTable['output_type'] = 'display_data';\n",
              "          await google.colab.output.renderOutput(dataTable, element);\n",
              "          const docLink = document.createElement('div');\n",
              "          docLink.innerHTML = docLinkHtml;\n",
              "          element.appendChild(docLink);\n",
              "        }\n",
              "      </script>\n",
              "    </div>\n",
              "  </div>\n",
              "  "
            ]
          },
          "metadata": {},
          "execution_count": 54
        }
      ]
    },
    {
      "cell_type": "code",
      "source": [
        "model = genGMFmat(df_sample,df_test,'GMF',0,2,tf.keras.losses.MeanSquaredError(),'adam',8)"
      ],
      "metadata": {
        "id": "fZ9Cm1zW_lDY",
        "outputId": "29022ff2-4fb6-4c74-a5e9-c8ea7c8f2f40",
        "colab": {
          "base_uri": "https://localhost:8080/"
        }
      },
      "execution_count": 55,
      "outputs": [
        {
          "output_type": "stream",
          "name": "stdout",
          "text": [
            "Model: \"model_6\"\n",
            "__________________________________________________________________________________________________\n",
            " Layer (type)                   Output Shape         Param #     Connected to                     \n",
            "==================================================================================================\n",
            " user_ID (InputLayer)           [(None, 1)]          0           []                               \n",
            "                                                                                                  \n",
            " item_ID (InputLayer)           [(None, 1)]          0           []                               \n",
            "                                                                                                  \n",
            " user_emb_GMF (Embedding)       (None, 1, 8)         71480       ['user_ID[0][0]']                \n",
            "                                                                                                  \n",
            " item_emb_GMF (Embedding)       (None, 1, 8)         141096      ['item_ID[0][0]']                \n",
            "                                                                                                  \n",
            " flatten_7 (Flatten)            (None, 8)            0           ['user_emb_GMF[0][0]']           \n",
            "                                                                                                  \n",
            " flatten_8 (Flatten)            (None, 8)            0           ['item_emb_GMF[0][0]']           \n",
            "                                                                                                  \n",
            " multiply_1 (Multiply)          (None, 8)            0           ['flatten_7[0][0]',              \n",
            "                                                                  'flatten_8[0][0]']              \n",
            "                                                                                                  \n",
            " output (Dense)                 (None, 1)            9           ['multiply_1[0][0]']             \n",
            "                                                                                                  \n",
            "==================================================================================================\n",
            "Total params: 212,585\n",
            "Trainable params: 212,585\n",
            "Non-trainable params: 0\n",
            "__________________________________________________________________________________________________\n",
            "None\n",
            "Epoch 1/2\n",
            "4925/4925 [==============================] - 22s 4ms/step - loss: 5.9646 - accuracy: 0.0513 - mae: 2.1083 - root_mean_squared_error: 0.2524 - val_loss: 1.4827 - val_accuracy: 0.0571 - val_mae: 1.0602 - val_root_mean_squared_error: 1.2177\n",
            "Epoch 2/2\n",
            "4925/4925 [==============================] - 21s 4ms/step - loss: 1.2211 - accuracy: 0.0573 - mae: 0.8797 - root_mean_squared_error: 1.1050 - val_loss: 1.2423 - val_accuracy: 0.0571 - val_mae: 0.8894 - val_root_mean_squared_error: 1.1146\n",
            "358/358 [==============================] - 1s 2ms/step - loss: 1.2319 - accuracy: 0.0575 - mae: 0.8851 - root_mean_squared_error: 1.1099\n"
          ]
        }
      ]
    },
    {
      "cell_type": "code",
      "source": [
        "pred = model.predict([pd.Series([6701,5095,5064]),pd.Series([8997,12129,11058])])"
      ],
      "metadata": {
        "id": "xp5XF1O4B0-P"
      },
      "execution_count": 27,
      "outputs": []
    },
    {
      "cell_type": "code",
      "source": [
        "pred[2][0]"
      ],
      "metadata": {
        "id": "zhcOxWMvCWk0",
        "outputId": "197235c8-2ab2-40f1-e98f-7955f62819c3",
        "colab": {
          "base_uri": "https://localhost:8080/"
        }
      },
      "execution_count": 31,
      "outputs": [
        {
          "output_type": "execute_result",
          "data": {
            "text/plain": [
              "4.015209"
            ]
          },
          "metadata": {},
          "execution_count": 31
        }
      ]
    },
    {
      "cell_type": "code",
      "source": [
        "user_s,item_s = FillSparseMat(model,df_test,df_sample)"
      ],
      "metadata": {
        "id": "kwAWuOmaABjb",
        "outputId": "3601943b-fb9f-41b2-a65f-f7ab2f4060eb",
        "colab": {
          "base_uri": "https://localhost:8080/"
        }
      },
      "execution_count": 56,
      "outputs": [
        {
          "output_type": "stream",
          "name": "stderr",
          "text": [
            "/usr/local/lib/python3.7/dist-packages/ipykernel_launcher.py:24: DeprecationWarning: The default dtype for empty Series will be 'object' instead of 'float64' in a future version. Specify a dtype explicitly to silence this warning.\n",
            "/usr/local/lib/python3.7/dist-packages/ipykernel_launcher.py:25: DeprecationWarning: The default dtype for empty Series will be 'object' instead of 'float64' in a future version. Specify a dtype explicitly to silence this warning.\n",
            "100% (2935 of 2935) |####################| Elapsed Time: 0:11:55 Time:  0:11:55\n"
          ]
        }
      ]
    },
    {
      "cell_type": "code",
      "source": [
        "df_mat_filled = Fill_Cf_Matrix(model,user_s,item_s,df_sample['userID'].unique(),df_sample['itemID'].unique())"
      ],
      "metadata": {
        "id": "nuALg9eIArRd",
        "outputId": "1e299585-53c4-43ff-cd8f-ecc96fa4a4bf",
        "colab": {
          "base_uri": "https://localhost:8080/"
        }
      },
      "execution_count": 59,
      "outputs": [
        {
          "output_type": "stream",
          "name": "stdout",
          "text": [
            "883894/883894 [==============================] - 1211s 1ms/step\n"
          ]
        },
        {
          "output_type": "stream",
          "name": "stderr",
          "text": [
            "  0% (29617 of 28284595) |               | Elapsed Time: 0:00:00 ETA:   0:01:35"
          ]
        },
        {
          "output_type": "stream",
          "name": "stdout",
          "text": [
            "pred done\n"
          ]
        },
        {
          "output_type": "stream",
          "name": "stderr",
          "text": [
            "100% (28284595 of 28284595) |############| Elapsed Time: 0:01:31 Time:  0:01:31\n"
          ]
        }
      ]
    },
    {
      "cell_type": "code",
      "source": [
        "df_mat_filled.to_csv(\"/content/Yelp_shopping_GMF_filled_mat.csv\")"
      ],
      "metadata": {
        "id": "3b7mpg60dEsv"
      },
      "execution_count": 60,
      "outputs": []
    },
    {
      "cell_type": "code",
      "source": [
        "from google.colab import files\n",
        "files.download(\"/content/Yelp_shopping_GMF_filled_mat.csv\")"
      ],
      "metadata": {
        "id": "5STcxr2W2AKg",
        "outputId": "6cdc9f8e-159e-46f6-dc45-4d66960b088a",
        "colab": {
          "base_uri": "https://localhost:8080/",
          "height": 17
        }
      },
      "execution_count": 61,
      "outputs": [
        {
          "output_type": "display_data",
          "data": {
            "text/plain": [
              "<IPython.core.display.Javascript object>"
            ],
            "application/javascript": [
              "\n",
              "    async function download(id, filename, size) {\n",
              "      if (!google.colab.kernel.accessAllowed) {\n",
              "        return;\n",
              "      }\n",
              "      const div = document.createElement('div');\n",
              "      const label = document.createElement('label');\n",
              "      label.textContent = `Downloading \"${filename}\": `;\n",
              "      div.appendChild(label);\n",
              "      const progress = document.createElement('progress');\n",
              "      progress.max = size;\n",
              "      div.appendChild(progress);\n",
              "      document.body.appendChild(div);\n",
              "\n",
              "      const buffers = [];\n",
              "      let downloaded = 0;\n",
              "\n",
              "      const channel = await google.colab.kernel.comms.open(id);\n",
              "      // Send a message to notify the kernel that we're ready.\n",
              "      channel.send({})\n",
              "\n",
              "      for await (const message of channel.messages) {\n",
              "        // Send a message to notify the kernel that we're ready.\n",
              "        channel.send({})\n",
              "        if (message.buffers) {\n",
              "          for (const buffer of message.buffers) {\n",
              "            buffers.push(buffer);\n",
              "            downloaded += buffer.byteLength;\n",
              "            progress.value = downloaded;\n",
              "          }\n",
              "        }\n",
              "      }\n",
              "      const blob = new Blob(buffers, {type: 'application/binary'});\n",
              "      const a = document.createElement('a');\n",
              "      a.href = window.URL.createObjectURL(blob);\n",
              "      a.download = filename;\n",
              "      div.appendChild(a);\n",
              "      a.click();\n",
              "      div.remove();\n",
              "    }\n",
              "  "
            ]
          },
          "metadata": {}
        },
        {
          "output_type": "display_data",
          "data": {
            "text/plain": [
              "<IPython.core.display.Javascript object>"
            ],
            "application/javascript": [
              "download(\"download_1b756f68-2c86-4c72-9d58-add4c3ccd00a\", \"Yelp_shopping_GMF_filled_mat.csv\", 275500712)"
            ]
          },
          "metadata": {}
        }
      ]
    }
  ]
}
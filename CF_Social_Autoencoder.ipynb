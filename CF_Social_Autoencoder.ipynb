{
  "nbformat": 4,
  "nbformat_minor": 0,
  "metadata": {
    "colab": {
      "name": "CF_Social_Autoencoder.ipynb",
      "provenance": [],
      "authorship_tag": "ABX9TyNiJ19zVplGEKDDWjyySOsK",
      "include_colab_link": true
    },
    "kernelspec": {
      "name": "python3",
      "display_name": "Python 3"
    },
    "language_info": {
      "name": "python"
    },
    "accelerator": "GPU",
    "gpuClass": "standard"
  },
  "cells": [
    {
      "cell_type": "markdown",
      "metadata": {
        "id": "view-in-github",
        "colab_type": "text"
      },
      "source": [
        "<a href=\"https://colab.research.google.com/github/AmineSdk/RecommenderSystem/blob/main/CF_Social_Autoencoder.ipynb\" target=\"_parent\"><img src=\"https://colab.research.google.com/assets/colab-badge.svg\" alt=\"Open In Colab\"/></a>"
      ]
    },
    {
      "cell_type": "code",
      "source": [
        "!pip install tensorflow-text"
      ],
      "metadata": {
        "id": "nFsPPT0-cZms"
      },
      "execution_count": null,
      "outputs": []
    },
    {
      "cell_type": "code",
      "source": [
        "! mkdir ~/.kaggle\n",
        "! cp kaggle.json ~/.kaggle/\n",
        "! chmod 600 ~/.kaggle/kaggle.json\n",
        "! kaggle datasets download -d aminesedkaoui/yelp-user-user-trust\n",
        "! kaggle datasets download -d aminesedkaoui/yelp-review-ratings"
      ],
      "metadata": {
        "id": "UM0vifCk9CB0",
        "outputId": "9c49d348-39ba-4349-ba8c-ca24485dea23",
        "colab": {
          "base_uri": "https://localhost:8080/"
        }
      },
      "execution_count": 2,
      "outputs": [
        {
          "output_type": "stream",
          "name": "stdout",
          "text": [
            "Downloading yelp-user-user-trust.zip to /content\n",
            "\r  0% 0.00/40.1k [00:00<?, ?B/s]\n",
            "100% 40.1k/40.1k [00:00<00:00, 28.0MB/s]\n",
            "Downloading yelp-review-ratings.zip to /content\n",
            " 49% 25.0M/51.5M [00:00<00:00, 52.4MB/s]\n",
            "100% 51.5M/51.5M [00:00<00:00, 78.0MB/s]\n"
          ]
        }
      ]
    },
    {
      "cell_type": "code",
      "execution_count": 3,
      "metadata": {
        "id": "TcGcg4ZzRQD1"
      },
      "outputs": [],
      "source": [
        "from sklearn import preprocessing\n",
        "from scipy.sparse import csr_matrix\n",
        "import tensorflow as tf \n",
        "import numpy as np\n",
        "import tensorflow_hub as hub\n",
        "import pandas as pd\n",
        "import random\n",
        "from keras import datasets, layers, models\n",
        "from sklearn.model_selection import train_test_split"
      ]
    },
    {
      "cell_type": "code",
      "source": [
        "!unzip \"/content/yelp-user-user-trust.zip\" -d \"/content/\"\n",
        "!unzip \"/content/yelp-review-ratings.zip\" -d \"/content/\""
      ],
      "metadata": {
        "id": "ppVGlIh8Ce8q",
        "outputId": "022d88ef-16c2-4f80-9149-84b1165b5544",
        "colab": {
          "base_uri": "https://localhost:8080/"
        }
      },
      "execution_count": 4,
      "outputs": [
        {
          "output_type": "stream",
          "name": "stdout",
          "text": [
            "Archive:  /content/yelp-user-user-trust.zip\n",
            "  inflating: /content/yelp_user_user_trust.csv  \n",
            "Archive:  /content/yelp-review-ratings.zip\n",
            "  inflating: /content/yelp_review_ratings.csv  \n"
          ]
        }
      ]
    },
    {
      "cell_type": "code",
      "source": [
        "df_user_user = pd.read_csv('/content/yelp_user_user_trust.csv')\n",
        "df_rating = pd.read_csv('/content/yelp_review_ratings.csv')\n",
        "df_rating.rename(columns = {'text': 'reviewText', 'stars': 'rating', 'business_id': 'itemID', 'user_id': 'userID'}, inplace = True)\n",
        "df_rating = df_rating.drop(['Unnamed: 0'],axis=1)\n",
        "df_rating.head()"
      ],
      "metadata": {
        "id": "M-Fxg9TcRStc",
        "outputId": "36c2c188-1eb2-404c-b122-4075b0c9ea3e",
        "colab": {
          "base_uri": "https://localhost:8080/",
          "height": 206
        }
      },
      "execution_count": 5,
      "outputs": [
        {
          "output_type": "execute_result",
          "data": {
            "text/plain": [
              "                   userID                  itemID  rating  \\\n",
              "0  mh_-eMZ6K5RLWhZyISBhwA  XQfwVwDr-v0ZS3_CbbE5Xw     3.0   \n",
              "1  OyoGAe7OKpv6SyGZT5g77Q  7ATYjTIgM3jUlt4UM3IypQ     5.0   \n",
              "2  8g_iMtfSiwikVnbP2etR0A  YjUWPpI6HXG530lwP-fb2A     3.0   \n",
              "3  _7bHUi9Uuf5__HHc_Q8guQ  kxX2SOes4o-D3ZQBkiMRfA     5.0   \n",
              "4  bcjbaE6dDog4jkNY91ncLQ  e4Vwtrqf-wpJfwesgvdgxQ     4.0   \n",
              "\n",
              "                                          reviewText  \n",
              "0  If you decide to eat here, just be aware it is...  \n",
              "1  I've taken a lot of spin classes over the year...  \n",
              "2  Family diner. Had the buffet. Eclectic assortm...  \n",
              "3  Wow!  Yummy, different,  delicious.   Our favo...  \n",
              "4  Cute interior and owner (?) gave us tour of up...  "
            ],
            "text/html": [
              "\n",
              "  <div id=\"df-bd5299df-28a3-48e7-8330-a5f65e9ebcf4\">\n",
              "    <div class=\"colab-df-container\">\n",
              "      <div>\n",
              "<style scoped>\n",
              "    .dataframe tbody tr th:only-of-type {\n",
              "        vertical-align: middle;\n",
              "    }\n",
              "\n",
              "    .dataframe tbody tr th {\n",
              "        vertical-align: top;\n",
              "    }\n",
              "\n",
              "    .dataframe thead th {\n",
              "        text-align: right;\n",
              "    }\n",
              "</style>\n",
              "<table border=\"1\" class=\"dataframe\">\n",
              "  <thead>\n",
              "    <tr style=\"text-align: right;\">\n",
              "      <th></th>\n",
              "      <th>userID</th>\n",
              "      <th>itemID</th>\n",
              "      <th>rating</th>\n",
              "      <th>reviewText</th>\n",
              "    </tr>\n",
              "  </thead>\n",
              "  <tbody>\n",
              "    <tr>\n",
              "      <th>0</th>\n",
              "      <td>mh_-eMZ6K5RLWhZyISBhwA</td>\n",
              "      <td>XQfwVwDr-v0ZS3_CbbE5Xw</td>\n",
              "      <td>3.0</td>\n",
              "      <td>If you decide to eat here, just be aware it is...</td>\n",
              "    </tr>\n",
              "    <tr>\n",
              "      <th>1</th>\n",
              "      <td>OyoGAe7OKpv6SyGZT5g77Q</td>\n",
              "      <td>7ATYjTIgM3jUlt4UM3IypQ</td>\n",
              "      <td>5.0</td>\n",
              "      <td>I've taken a lot of spin classes over the year...</td>\n",
              "    </tr>\n",
              "    <tr>\n",
              "      <th>2</th>\n",
              "      <td>8g_iMtfSiwikVnbP2etR0A</td>\n",
              "      <td>YjUWPpI6HXG530lwP-fb2A</td>\n",
              "      <td>3.0</td>\n",
              "      <td>Family diner. Had the buffet. Eclectic assortm...</td>\n",
              "    </tr>\n",
              "    <tr>\n",
              "      <th>3</th>\n",
              "      <td>_7bHUi9Uuf5__HHc_Q8guQ</td>\n",
              "      <td>kxX2SOes4o-D3ZQBkiMRfA</td>\n",
              "      <td>5.0</td>\n",
              "      <td>Wow!  Yummy, different,  delicious.   Our favo...</td>\n",
              "    </tr>\n",
              "    <tr>\n",
              "      <th>4</th>\n",
              "      <td>bcjbaE6dDog4jkNY91ncLQ</td>\n",
              "      <td>e4Vwtrqf-wpJfwesgvdgxQ</td>\n",
              "      <td>4.0</td>\n",
              "      <td>Cute interior and owner (?) gave us tour of up...</td>\n",
              "    </tr>\n",
              "  </tbody>\n",
              "</table>\n",
              "</div>\n",
              "      <button class=\"colab-df-convert\" onclick=\"convertToInteractive('df-bd5299df-28a3-48e7-8330-a5f65e9ebcf4')\"\n",
              "              title=\"Convert this dataframe to an interactive table.\"\n",
              "              style=\"display:none;\">\n",
              "        \n",
              "  <svg xmlns=\"http://www.w3.org/2000/svg\" height=\"24px\"viewBox=\"0 0 24 24\"\n",
              "       width=\"24px\">\n",
              "    <path d=\"M0 0h24v24H0V0z\" fill=\"none\"/>\n",
              "    <path d=\"M18.56 5.44l.94 2.06.94-2.06 2.06-.94-2.06-.94-.94-2.06-.94 2.06-2.06.94zm-11 1L8.5 8.5l.94-2.06 2.06-.94-2.06-.94L8.5 2.5l-.94 2.06-2.06.94zm10 10l.94 2.06.94-2.06 2.06-.94-2.06-.94-.94-2.06-.94 2.06-2.06.94z\"/><path d=\"M17.41 7.96l-1.37-1.37c-.4-.4-.92-.59-1.43-.59-.52 0-1.04.2-1.43.59L10.3 9.45l-7.72 7.72c-.78.78-.78 2.05 0 2.83L4 21.41c.39.39.9.59 1.41.59.51 0 1.02-.2 1.41-.59l7.78-7.78 2.81-2.81c.8-.78.8-2.07 0-2.86zM5.41 20L4 18.59l7.72-7.72 1.47 1.35L5.41 20z\"/>\n",
              "  </svg>\n",
              "      </button>\n",
              "      \n",
              "  <style>\n",
              "    .colab-df-container {\n",
              "      display:flex;\n",
              "      flex-wrap:wrap;\n",
              "      gap: 12px;\n",
              "    }\n",
              "\n",
              "    .colab-df-convert {\n",
              "      background-color: #E8F0FE;\n",
              "      border: none;\n",
              "      border-radius: 50%;\n",
              "      cursor: pointer;\n",
              "      display: none;\n",
              "      fill: #1967D2;\n",
              "      height: 32px;\n",
              "      padding: 0 0 0 0;\n",
              "      width: 32px;\n",
              "    }\n",
              "\n",
              "    .colab-df-convert:hover {\n",
              "      background-color: #E2EBFA;\n",
              "      box-shadow: 0px 1px 2px rgba(60, 64, 67, 0.3), 0px 1px 3px 1px rgba(60, 64, 67, 0.15);\n",
              "      fill: #174EA6;\n",
              "    }\n",
              "\n",
              "    [theme=dark] .colab-df-convert {\n",
              "      background-color: #3B4455;\n",
              "      fill: #D2E3FC;\n",
              "    }\n",
              "\n",
              "    [theme=dark] .colab-df-convert:hover {\n",
              "      background-color: #434B5C;\n",
              "      box-shadow: 0px 1px 3px 1px rgba(0, 0, 0, 0.15);\n",
              "      filter: drop-shadow(0px 1px 2px rgba(0, 0, 0, 0.3));\n",
              "      fill: #FFFFFF;\n",
              "    }\n",
              "  </style>\n",
              "\n",
              "      <script>\n",
              "        const buttonEl =\n",
              "          document.querySelector('#df-bd5299df-28a3-48e7-8330-a5f65e9ebcf4 button.colab-df-convert');\n",
              "        buttonEl.style.display =\n",
              "          google.colab.kernel.accessAllowed ? 'block' : 'none';\n",
              "\n",
              "        async function convertToInteractive(key) {\n",
              "          const element = document.querySelector('#df-bd5299df-28a3-48e7-8330-a5f65e9ebcf4');\n",
              "          const dataTable =\n",
              "            await google.colab.kernel.invokeFunction('convertToInteractive',\n",
              "                                                     [key], {});\n",
              "          if (!dataTable) return;\n",
              "\n",
              "          const docLinkHtml = 'Like what you see? Visit the ' +\n",
              "            '<a target=\"_blank\" href=https://colab.research.google.com/notebooks/data_table.ipynb>data table notebook</a>'\n",
              "            + ' to learn more about interactive tables.';\n",
              "          element.innerHTML = '';\n",
              "          dataTable['output_type'] = 'display_data';\n",
              "          await google.colab.output.renderOutput(dataTable, element);\n",
              "          const docLink = document.createElement('div');\n",
              "          docLink.innerHTML = docLinkHtml;\n",
              "          element.appendChild(docLink);\n",
              "        }\n",
              "      </script>\n",
              "    </div>\n",
              "  </div>\n",
              "  "
            ]
          },
          "metadata": {},
          "execution_count": 5
        }
      ]
    },
    {
      "cell_type": "code",
      "source": [
        "def DatasetToUserItemDataFrame(dataframe,userID,itemID,rating):\n",
        "  #Setting new item IDs from string to int \n",
        "  itemKeys = [] \n",
        "  i = 0\n",
        "  for item in dataframe[itemID].value_counts(sort=False):\n",
        "    temp = np.full((item),i)\n",
        "    itemKeys = np.append(itemKeys,temp)\n",
        "    i += 1\n",
        "\n",
        "  #Setting new user IDs from string to int\n",
        "  userKeysDic = {}\n",
        "  userKeys = np.zeros((dataframe[userID].size))\n",
        "  i = 0\n",
        "  for user in dataframe[userID].unique():\n",
        "    userKeysDic[user] = i\n",
        "    i += 1\n",
        "  i = 0\n",
        "  for user in dataframe[userID]:\n",
        "    userKeys[i] = userKeysDic[user]\n",
        "    i += 1\n",
        "\n",
        "  #Converting arrays from float to int \n",
        "  userKeys = userKeys.astype(int)\n",
        "  itemKeys = itemKeys.astype(int)\n",
        "\n",
        "  \n",
        "  user_item = csr_matrix((dataframe[rating].values.astype(int),(userKeys,itemKeys))) #Creating sparse matrix\n",
        "  user_item_matrix = user_item.toarray() #Converting sparse matrix into array\n",
        "  df_user_item = pd.DataFrame(user_item_matrix,index = dataframe[userID].unique()  ,columns = dataframe[itemID].unique() ) \n",
        "\n",
        "  return user_item,df_user_item"
      ],
      "metadata": {
        "id": "HHmzbMvDVB0b"
      },
      "execution_count": 6,
      "outputs": []
    },
    {
      "cell_type": "code",
      "source": [
        "def getUsersRatings(df,usersList):\n",
        "  temp = df.copy()\n",
        "  for user in list(df['userID']):\n",
        "    if user not in usersList:\n",
        "      temp = temp.drop(temp.loc[temp['userID'] == user].index)\n",
        "  return temp"
      ],
      "metadata": {
        "id": "fbVQ62DroVDu"
      },
      "execution_count": 33,
      "outputs": []
    },
    {
      "cell_type": "code",
      "source": [
        "def genIndexColumn(df,min_index,max_index,min_column,max_column):\n",
        "  New_User_IDs = random.sample(range(min_index,max_index),df.index.size)\n",
        "  New_Item_IDs = random.sample(range(min_column,max_column),df.columns.size)\n",
        "\n",
        "  df_new = pd.DataFrame(df.to_numpy(),index = New_User_IDs,columns = New_Item_IDs)\n",
        "  return df_new"
      ],
      "metadata": {
        "id": "5a5J7Mkt5yzm"
      },
      "execution_count": 87,
      "outputs": []
    },
    {
      "cell_type": "code",
      "source": [
        "def generateIDs(df,index,columns,min_index,max_index,min_column,max_column):\n",
        "  users = df[index].unique()\n",
        "  items = df[columns].unique()\n",
        "  df_train = df.copy()\n",
        "\n",
        "  New_User_IDs = random.sample(range(min_index,max_index),df[index].nunique())\n",
        "  New_Item_IDs = random.sample(range(min_column,max_column),df[columns].nunique())\n",
        "  i = 0\n",
        "  for d in users :\n",
        "    df_train[index].replace({d : New_User_IDs[i]}, inplace=True)\n",
        "    i+=1\n",
        "\n",
        "  i = 0\n",
        "  for d in items :\n",
        "    df_train[columns].replace({d : New_Item_IDs[i]}, inplace=True)\n",
        "    i+=1\n",
        "  return df_train"
      ],
      "metadata": {
        "id": "mmzsdMDPmC8I"
      },
      "execution_count": 8,
      "outputs": []
    },
    {
      "cell_type": "code",
      "source": [
        "def preprocess_df(df,index,column,min_user_id,max_user_id,min_item_id,max_item_id):\n",
        "  \n",
        "  df_train = generateIDs(df,index,column,min_user_id,max_user_id,min_item_id,max_item_id)\n",
        "  \n",
        "  df_train['one']=df_train['rating'].apply(lambda x: 1 if x==1 else 0)\n",
        "  df_train['two']=df_train['rating'].apply(lambda x: 1 if x==2 else 0)\n",
        "  df_train['three']=df_train['rating'].apply(lambda x: 1 if x==3 else 0)\n",
        "  df_train['four']=df_train['rating'].apply(lambda x: 1 if x==4 else 0)\n",
        "  df_train['five']=df_train['rating'].apply(lambda x: 1 if x==5 else 0)\n",
        "  df_train['six']=df_train['rating'].apply(lambda x: 1 if x==6 else 0)\n",
        "\n",
        "  return df_train"
      ],
      "metadata": {
        "id": "08ifZdzgO2u9"
      },
      "execution_count": 9,
      "outputs": []
    },
    {
      "cell_type": "code",
      "source": [
        "from numpy.core.fromnumeric import size\n",
        "#GMF\n",
        "\n",
        "def Create_GMF(num_users,num_items,SIZE_):\n",
        "\n",
        "  input_userID = layers.Input(shape=[1], name='user_ID')\n",
        "  input_itemID = layers.Input(shape=[1], name='item_ID')\n",
        "\n",
        "  user_emb_GMF = layers.Embedding(num_users, SIZE_, name='user_emb_GMF')(input_userID)\n",
        "  item_emb_GMF = layers.Embedding(num_items, SIZE_, name='item_emb_GMF')(input_itemID)\n",
        "\n",
        "  u_GMF = layers.Flatten()(user_emb_GMF)\n",
        "  i_GMF = layers.Flatten()(item_emb_GMF)\n",
        "\n",
        "  dot_layer = layers.Multiply()([u_GMF, i_GMF])\n",
        "\n",
        "  out_layer = layers.Dense(6, activation='softmax', name='output')(dot_layer)\n",
        "\n",
        "  GMF = tf.keras.Model([input_userID, input_itemID], out_layer)\n",
        "  \n",
        "  return GMF\n",
        "\n",
        "def Train_GMF(model,X_train,Y_train,nbrEpochs):\n",
        "  model.compile(optimizer = 'adam',\n",
        "                    loss = tf.keras.losses.categorical_crossentropy ,\n",
        "                    metrics=['accuracy'])\n",
        "  model.fit(X_train,Y_train,epochs = nbrEpochs)\n",
        "  return model\n",
        "\n",
        "def user_item_ID_lists(userIDs,itemIDs):\n",
        "  i = 0\n",
        "  item_s = pd.Series()\n",
        "  user_s = pd.Series()\n",
        "  for user in userIDs:\n",
        "    temp = pd.Series(itemIDs)\n",
        "    item_s = item_s.append(temp)\n",
        "    temp = []\n",
        "    temp = [user for item in itemIDs]\n",
        "    temp = pd.Series(temp)\n",
        "    user_s = user_s.append(temp)\n",
        "    \n",
        "    progress = user_s.size*100/(userIDs.size * itemIDs.size)\n",
        "   \n",
        "    if (progress  > 10) & (int(progress) < 25) & (i == 0):\n",
        "      print(\"===== 10 % =====\")\n",
        "      i += 1\n",
        "    elif (progress > 25) & (int(progress) < 35) & (i == 1):\n",
        "      print(\"===== 25 % =====\")\n",
        "      i += 1\n",
        "    elif (progress > 35) & (int(progress) < 50) & (i == 2):\n",
        "      print(\"===== 35 % =====\")\n",
        "      i += 1\n",
        "    elif (progress > 50) & (int(progress) < 65) & (i == 3):\n",
        "      print(\"===== 50 % =====\")\n",
        "      i += 1\n",
        "    elif (progress > 65) & (int(progress) < 75) & (i == 4):\n",
        "      print(\"===== 65 % =====\")\n",
        "      i += 1\n",
        "    elif (progress > 75) & (int(progress) < 80) & (i == 5):\n",
        "      print(\"===== 75 % =====\")\n",
        "      i += 1\n",
        "    elif (progress > 80) & (int(progress) < 90) & (i == 6):\n",
        "      print(\"===== 80 % =====\")\n",
        "      i += 1\n",
        "    elif (progress > 90) & (int(progress) < 95) & (i == 7):\n",
        "      print(\"===== 90 % =====\")\n",
        "      i += 1\n",
        "    elif (progress > 95) & (i == 8):\n",
        "      print(\"===== 95 % =====\")\n",
        "      i += 1\n",
        "\n",
        "  return user_s,item_s\n",
        "\n",
        "def Fill_Cf_Matrix(model,userList,itemList,userIDs,itemIDs):\n",
        "\n",
        "  prediction = model.predict([userList,itemList],verbose = 0)\n",
        "  i = 0\n",
        "  row = []\n",
        "  matrix = []\n",
        "  print(\"pred done\")\n",
        "\n",
        "  while i < userList.shape[0]:\n",
        "    result = np.where(prediction[i] == np.amax(prediction[i]))[0][0] + 1\n",
        "    row.append(result)\n",
        "    if len(row) == itemIDs.size:\n",
        "      matrix.append(row)\n",
        "      row = []\n",
        "       \n",
        "    i += 1\n",
        "\n",
        "  matrix_arr = np.array(matrix)\n",
        "  dataframe = pd.DataFrame(matrix_arr, index = userIDs, columns = itemIDs)\n",
        "  \n",
        "  return dataframe\n"
      ],
      "metadata": {
        "id": "z6KHUFF9gwT5"
      },
      "execution_count": 25,
      "outputs": []
    },
    {
      "cell_type": "code",
      "source": [
        "df_train = df_rating[:5000]\n",
        "df_train['userID'].nunique()"
      ],
      "metadata": {
        "id": "NiGh7PeDdO19",
        "outputId": "17ebf41c-6437-40d4-83f5-47c22e397ab1",
        "colab": {
          "base_uri": "https://localhost:8080/"
        }
      },
      "execution_count": 133,
      "outputs": [
        {
          "output_type": "execute_result",
          "data": {
            "text/plain": [
              "4843"
            ]
          },
          "metadata": {},
          "execution_count": 133
        }
      ]
    },
    {
      "cell_type": "code",
      "source": [
        "df_train['itemID'].nunique()"
      ],
      "metadata": {
        "id": "1wnw7FpUdq7e",
        "outputId": "95d0e1e4-05c0-4ef0-807c-488087305cd6",
        "colab": {
          "base_uri": "https://localhost:8080/"
        }
      },
      "execution_count": 134,
      "outputs": [
        {
          "output_type": "execute_result",
          "data": {
            "text/plain": [
              "2663"
            ]
          },
          "metadata": {},
          "execution_count": 134
        }
      ]
    },
    {
      "cell_type": "code",
      "source": [
        "df_train_new = getUsersRatings(df_train,list(df_user_user.index))"
      ],
      "metadata": {
        "id": "sHLUWiZntXhC"
      },
      "execution_count": 136,
      "outputs": []
    },
    {
      "cell_type": "code",
      "source": [
        "df_train = preprocess_df(df_train_new,'userID','itemID',5000,9999,20000,30000)"
      ],
      "metadata": {
        "id": "5k7vteutejcS"
      },
      "execution_count": 137,
      "outputs": []
    },
    {
      "cell_type": "code",
      "source": [
        "df_user_user.set_index(['Unnamed: 0'],inplace=True)"
      ],
      "metadata": {
        "id": "P7w6CnHF0vhW"
      },
      "execution_count": 52,
      "outputs": []
    },
    {
      "cell_type": "code",
      "source": [
        "df_user_user"
      ],
      "metadata": {
        "id": "ocYneHlA1ogH"
      },
      "execution_count": null,
      "outputs": []
    },
    {
      "cell_type": "code",
      "source": [
        "df_train"
      ],
      "metadata": {
        "id": "T5bNxB4Q5BoN"
      },
      "execution_count": null,
      "outputs": []
    },
    {
      "cell_type": "code",
      "source": [
        "mat = []\n",
        "for user in df_user_user.index:\n",
        "  mat.append(list(df_mat.loc[user]))\n",
        "\n",
        "\n",
        "df_train_r = pd.DataFrame(mat,index= df_user_user.index,columns = df_mat.columns)"
      ],
      "metadata": {
        "id": "6pXHrM6_d9OJ"
      },
      "execution_count": 120,
      "outputs": []
    },
    {
      "cell_type": "code",
      "source": [
        "df_train['userID']"
      ],
      "metadata": {
        "id": "1u9xB40_462B"
      },
      "execution_count": null,
      "outputs": []
    },
    {
      "cell_type": "code",
      "source": [
        "df_train_r = genIndexColumn(df_train_r,5000,9999,20000,30000)"
      ],
      "metadata": {
        "id": "ji8IYJ8G6tHp"
      },
      "execution_count": 129,
      "outputs": []
    },
    {
      "cell_type": "code",
      "source": [
        "df_train_r"
      ],
      "metadata": {
        "id": "TRP_JpkS_UQ0"
      },
      "execution_count": null,
      "outputs": []
    },
    {
      "cell_type": "code",
      "source": [
        "GMF = Create_GMF(df_train['userID'].max() + 1,df_train['itemID'].max() + 1,64)"
      ],
      "metadata": {
        "id": "HHrM6Dgl8AP1"
      },
      "execution_count": 101,
      "outputs": []
    },
    {
      "cell_type": "code",
      "source": [
        "df_train_sample = df_train\n",
        "X_train, X_test,y_train,y_test= train_test_split(df_train_sample[['userID','itemID']],df_train_sample[['one','two','three','four','five','six']],stratify=df_train_sample[['one','two','three','four','five','six']])\n",
        "#X_train, X_test,y_train,y_test= train_test_split(df_train[['User_ID','Item_ID']],df_train['rating'],stratify=df_train['rating'])"
      ],
      "metadata": {
        "id": "BFid5Xf9_SG8"
      },
      "execution_count": 103,
      "outputs": []
    },
    {
      "cell_type": "code",
      "source": [
        "GMF_trained = Train_GMF(GMF,[X_train['userID'],X_train['itemID']],y_train,5)"
      ],
      "metadata": {
        "id": "grxA3dxt-HSR",
        "outputId": "3f70d5a4-73f4-46f9-95d1-2d2640f28864",
        "colab": {
          "base_uri": "https://localhost:8080/"
        }
      },
      "execution_count": 117,
      "outputs": [
        {
          "output_type": "stream",
          "name": "stdout",
          "text": [
            "Epoch 1/5\n",
            "16/16 [==============================] - 2s 31ms/step - loss: 0.0293 - accuracy: 1.0000\n",
            "Epoch 2/5\n",
            "16/16 [==============================] - 1s 36ms/step - loss: 0.0242 - accuracy: 1.0000\n",
            "Epoch 3/5\n",
            "16/16 [==============================] - 1s 39ms/step - loss: 0.0203 - accuracy: 1.0000\n",
            "Epoch 4/5\n",
            "16/16 [==============================] - 1s 45ms/step - loss: 0.0171 - accuracy: 1.0000\n",
            "Epoch 5/5\n",
            "16/16 [==============================] - 1s 43ms/step - loss: 0.0146 - accuracy: 1.0000\n"
          ]
        }
      ]
    },
    {
      "cell_type": "code",
      "source": [
        "GMF_trained.evaluate([X_test['userID'],X_test['itemID']],y_test)"
      ],
      "metadata": {
        "id": "AXTEr-r2tqij",
        "outputId": "20576577-06a6-4784-d983-2104ca74ed48",
        "colab": {
          "base_uri": "https://localhost:8080/"
        }
      },
      "execution_count": 118,
      "outputs": [
        {
          "output_type": "stream",
          "name": "stdout",
          "text": [
            "6/6 [==============================] - 0s 6ms/step - loss: 1.4787 - accuracy: 0.4136\n"
          ]
        },
        {
          "output_type": "execute_result",
          "data": {
            "text/plain": [
              "[1.478668451309204, 0.4135802388191223]"
            ]
          },
          "metadata": {},
          "execution_count": 118
        }
      ]
    },
    {
      "cell_type": "code",
      "source": [
        "user_item_matrix , df_mat = DatasetToUserItemDataFrame(df_train_new,'userID','itemID','rating')"
      ],
      "metadata": {
        "id": "Y5_US3dQs3ro"
      },
      "execution_count": 119,
      "outputs": []
    },
    {
      "cell_type": "code",
      "source": [
        "New_User_IDs = df_train_r.index\n",
        "New_Item_IDs = df_train_r.columns\n",
        "New_Item_IDs.size * New_User_IDs.size"
      ],
      "metadata": {
        "id": "1f_e0Smif07B",
        "outputId": "bfa60f4f-0801-4358-f30b-d0b441379ffa",
        "colab": {
          "base_uri": "https://localhost:8080/"
        }
      },
      "execution_count": 121,
      "outputs": [
        {
          "output_type": "execute_result",
          "data": {
            "text/plain": [
              "328160"
            ]
          },
          "metadata": {},
          "execution_count": 121
        }
      ]
    },
    {
      "cell_type": "code",
      "source": [
        "user_s,item_s = user_item_ID_lists( df_train['userID'],df_train['itemID'])"
      ],
      "metadata": {
        "id": "n9ECgL3BAAFw"
      },
      "execution_count": null,
      "outputs": []
    },
    {
      "cell_type": "code",
      "source": [
        "df_mat_filled = Fill_Cf_Matrix(GMF_trained,user_s,item_s,New_User_IDs,New_Item_IDs)"
      ],
      "metadata": {
        "id": "oqWfFRyBr0mJ"
      },
      "execution_count": null,
      "outputs": []
    },
    {
      "cell_type": "code",
      "source": [
        "df_mat_filled.head()"
      ],
      "metadata": {
        "id": "JAPemOqlbFFO"
      },
      "execution_count": null,
      "outputs": []
    },
    {
      "cell_type": "code",
      "source": [
        "df_mat.head()"
      ],
      "metadata": {
        "id": "XuhpPu1sGig6"
      },
      "execution_count": null,
      "outputs": []
    },
    {
      "cell_type": "code",
      "source": [
        "df_u_u = df_user_user.drop(['Unnamed: 0'],axis=1)"
      ],
      "metadata": {
        "id": "MOlve_QCkKdP"
      },
      "execution_count": 60,
      "outputs": []
    },
    {
      "cell_type": "code",
      "source": [
        "df_u_u"
      ],
      "metadata": {
        "id": "4AZZNVjRljMj"
      },
      "execution_count": null,
      "outputs": []
    },
    {
      "cell_type": "code",
      "source": [
        "df_arr = df_u_u.to_numpy()"
      ],
      "metadata": {
        "id": "MaMa_Rk4k4P0"
      },
      "execution_count": 61,
      "outputs": []
    },
    {
      "cell_type": "code",
      "source": [
        "df_mat_trust = df_arr"
      ],
      "metadata": {
        "id": "N5epPH31lAkS"
      },
      "execution_count": null,
      "outputs": []
    },
    {
      "cell_type": "code",
      "source": [
        "df_mat_sample =df_mat_filled"
      ],
      "metadata": {
        "id": "KIzOORSDYbS3"
      },
      "execution_count": 54,
      "outputs": []
    },
    {
      "cell_type": "code",
      "source": [
        "df_mat_sample.head()"
      ],
      "metadata": {
        "id": "jQBGD_QlcQvl"
      },
      "execution_count": null,
      "outputs": []
    },
    {
      "cell_type": "code",
      "source": [
        "def to_binary(x):\n",
        "  if (x > 0):\n",
        "    x = 1\n",
        "  return x"
      ],
      "metadata": {
        "id": "IydI5-fQWQD-"
      },
      "execution_count": null,
      "outputs": []
    },
    {
      "cell_type": "code",
      "source": [
        "def df_to_binary(df):\n",
        "  for col in df.columns:\n",
        "    df[col] = df[col].apply(to_binary)\n",
        "  return df"
      ],
      "metadata": {
        "id": "sYMNa0FTWJMA"
      },
      "execution_count": null,
      "outputs": []
    },
    {
      "cell_type": "code",
      "source": [
        "#Social_Autoencoder\n",
        "\n",
        "rating_input = layers.Input(shape=(df_mat_sample.shape[1]),name='user_item')\n",
        "social_input = layers.Input(shape=(df_mat_sample.shape[1]),name='user_user')\n",
        "\n",
        "flat_rating = layers.Flatten()(rating_input)\n",
        "flat_social = layers.Flatten()(social_input)\n",
        "\n",
        "#dropout = layers.Dropout(.2)(flat)\n",
        "SharedLayer_encoder = layers.Concatenate()([flat_rating,flat_social])\n",
        "hid_encoder = layers.Dense(256,activation=\"relu\")(SharedLayer_encoder)\n",
        "# hid_encoder1 = layers.Dense(256,activation=\"relu\")(hid_encoder)\n",
        "# hid_encoder2 = layers.Dense(128,activation=\"relu\")(hid_encoder1)\n",
        "# hid_encoder3 = layers.Dense(10,activation=\"relu\")(hid_encoder2)\n",
        "encoder_output = layers.Dense(128,activation=\"relu\")(hid_encoder)\n",
        "\n",
        "SharedLayer_decoder = layers.Dense(256,activation=\"relu\")(encoder_output)\n",
        "# decoder_hidden1 = layers.Dense(256,activation=\"relu\")(decoder_input)\n",
        "# decoder_hidden2 = layers.Dense(512,activation=\"relu\")(decoder_hidden1)\n",
        "# decoder_hidden3 = layers.Dense(25,activation=\"relu\")(decoder_hidden2)\n",
        "rating_decoded , social_decoded = tf.split(SharedLayer_decoder,[df_mat_sample.shape[1],df_mat_sample.shape[1]])\n",
        "\n",
        "rating_output = layers.Dense(df_mat_sample.shape[1],activation=\"relu\")(rating_decoded)\n",
        "social_output = layers.Dense(df_mat_sample.shape[1],activation=\"relu\")(social_decoded)\n",
        "\n",
        "autoencoder = tf.keras.Model(inputs = [rating_input,social_input], outputs = [rating_output,social_output])"
      ],
      "metadata": {
        "id": "YFYfUYa-e3w9"
      },
      "execution_count": 56,
      "outputs": []
    },
    {
      "cell_type": "code",
      "source": [
        "def rmse (y_true,y_pred):\n",
        "  y_pred = tf.cast(y_pred, tf.float32)\n",
        "  y_true = tf.cast(y_true, tf.float32)\n",
        "  rmse = y_true - y_pred\n",
        "  rmse = tf.square(rmse)\n",
        "  rmse = tf.math.reduce_mean(rmse)\n",
        "  rmse = tf.math.sqrt(rmse)\n",
        "  return rmse\n",
        "\n",
        "opt = tf.keras.optimizers.Adam(learning_rate=0.00001)"
      ],
      "metadata": {
        "id": "QVclLDh4C46p"
      },
      "execution_count": null,
      "outputs": []
    },
    {
      "cell_type": "code",
      "source": [
        "autoencoder.compile(optimizer ='adam',\n",
        "                    loss = tf.keras.losses.MeanAbsoluteError(),\n",
        "                    metrics=['accuracy'])"
      ],
      "metadata": {
        "id": "_h1-_AumilKy"
      },
      "execution_count": null,
      "outputs": []
    },
    {
      "cell_type": "code",
      "source": [
        "autoencoder.summary()"
      ],
      "metadata": {
        "id": "QxDl7Q-1jPdj"
      },
      "execution_count": null,
      "outputs": []
    },
    {
      "cell_type": "code",
      "source": [
        "X_train,X_test,y_train,y_test = train_test_split(df_mat,df_mat_sample)"
      ],
      "metadata": {
        "id": "fbfvR2O-HnPp"
      },
      "execution_count": null,
      "outputs": []
    },
    {
      "cell_type": "code",
      "source": [
        "X_train"
      ],
      "metadata": {
        "id": "mE4mZsc3cE8K"
      },
      "execution_count": null,
      "outputs": []
    },
    {
      "cell_type": "code",
      "source": [
        "autoencoder.fit(X_train, y_train, epochs = 2000)"
      ],
      "metadata": {
        "id": "dh7hlrNijRGN"
      },
      "execution_count": null,
      "outputs": []
    },
    {
      "cell_type": "code",
      "source": [
        "autoencoder.evaluate(X_test,y_test)"
      ],
      "metadata": {
        "id": "u50crOS0OGTQ",
        "outputId": "83f44b3c-d15a-4210-8c63-169782568790",
        "colab": {
          "base_uri": "https://localhost:8080/"
        }
      },
      "execution_count": null,
      "outputs": [
        {
          "output_type": "stream",
          "name": "stdout",
          "text": [
            "26/26 [==============================] - 0s 3ms/step - loss: 0.3342 - accuracy: 0.0012\n"
          ]
        },
        {
          "output_type": "execute_result",
          "data": {
            "text/plain": [
              "[0.33423539996147156, 0.0012330455938354135]"
            ]
          },
          "metadata": {},
          "execution_count": 36
        }
      ]
    },
    {
      "cell_type": "code",
      "source": [
        "df_mat"
      ],
      "metadata": {
        "id": "QZfdCQKpP1Fr"
      },
      "execution_count": null,
      "outputs": []
    },
    {
      "cell_type": "code",
      "source": [
        "mat_pred = autoencoder.predict(df_mat)"
      ],
      "metadata": {
        "id": "8mRENNR6OUvh",
        "outputId": "f552e084-05c5-4d12-f74d-ebf9052deb3f",
        "colab": {
          "base_uri": "https://localhost:8080/"
        }
      },
      "execution_count": null,
      "outputs": [
        {
          "output_type": "stream",
          "name": "stdout",
          "text": [
            "102/102 [==============================] - 0s 2ms/step\n"
          ]
        }
      ]
    },
    {
      "cell_type": "code",
      "source": [
        "mat_pred"
      ],
      "metadata": {
        "id": "kXiLEuz3vS3s"
      },
      "execution_count": null,
      "outputs": []
    },
    {
      "cell_type": "code",
      "source": [
        "df_mat_pred = pd.DataFrame(mat_pred, index = df_mat_sample.index, columns = df_mat_sample.columns)"
      ],
      "metadata": {
        "id": "NF1MKF0Fjigd"
      },
      "execution_count": null,
      "outputs": []
    },
    {
      "cell_type": "code",
      "source": [
        "df_mat_pred.max()"
      ],
      "metadata": {
        "id": "A-aIuIYrvf31",
        "outputId": "76ef2337-584c-4a3c-ebb4-6b39d8d4540d",
        "colab": {
          "base_uri": "https://localhost:8080/"
        }
      },
      "execution_count": null,
      "outputs": [
        {
          "output_type": "execute_result",
          "data": {
            "text/plain": [
              "189722    6.472934\n",
              "122571    6.492408\n",
              "100211    6.818763\n",
              "101960    6.571887\n",
              "105337    6.085056\n",
              "            ...   \n",
              "137594    5.982568\n",
              "198330    7.050071\n",
              "136306    6.202019\n",
              "197491    7.210152\n",
              "124494    5.497391\n",
              "Length: 1369, dtype: float32"
            ]
          },
          "metadata": {},
          "execution_count": 40
        }
      ]
    },
    {
      "cell_type": "code",
      "source": [
        "scaler = preprocessing.MinMaxScaler(feature_range=(1, 5))\n",
        "d = scaler.fit_transform(df_mat_pred)\n",
        "scaled_df = pd.DataFrame(d,index = df_mat_pred.index,columns = df_mat_pred.columns)\n",
        "scaled_df"
      ],
      "metadata": {
        "id": "ooHOSE20PMpK"
      },
      "execution_count": null,
      "outputs": []
    },
    {
      "cell_type": "code",
      "source": [
        "for col in df_mat_pred.columns:\n",
        " df_mat_pred[col] = df_mat_pred[col].apply(lambda x: 5 if x> 5.5 else x)"
      ],
      "metadata": {
        "id": "D_tWr8piYItf"
      },
      "execution_count": null,
      "outputs": []
    },
    {
      "cell_type": "code",
      "source": [
        "df_mat_pred"
      ],
      "metadata": {
        "id": "lmdZsU3IjTnX"
      },
      "execution_count": null,
      "outputs": []
    },
    {
      "cell_type": "code",
      "source": [
        "res = np.where(df_mat_pred.iloc[:,:].values == 1 )\n",
        "res[0].size"
      ],
      "metadata": {
        "id": "zVh18elW3IsL"
      },
      "execution_count": null,
      "outputs": []
    }
  ]
}
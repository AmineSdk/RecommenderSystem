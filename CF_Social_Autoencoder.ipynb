{
  "nbformat": 4,
  "nbformat_minor": 0,
  "metadata": {
    "colab": {
      "name": "CF_Social_Autoencoder.ipynb",
      "provenance": [],
      "authorship_tag": "ABX9TyPavQGdEbYOGj3kLm+T0YWX",
      "include_colab_link": true
    },
    "kernelspec": {
      "name": "python3",
      "display_name": "Python 3"
    },
    "language_info": {
      "name": "python"
    },
    "accelerator": "GPU",
    "gpuClass": "standard"
  },
  "cells": [
    {
      "cell_type": "markdown",
      "metadata": {
        "id": "view-in-github",
        "colab_type": "text"
      },
      "source": [
        "<a href=\"https://colab.research.google.com/github/AmineSdk/RecommenderSystem/blob/main/CF_Social_Autoencoder.ipynb\" target=\"_parent\"><img src=\"https://colab.research.google.com/assets/colab-badge.svg\" alt=\"Open In Colab\"/></a>"
      ]
    },
    {
      "cell_type": "code",
      "source": [
        "!pip install tensorflow-text"
      ],
      "metadata": {
        "id": "nFsPPT0-cZms"
      },
      "execution_count": null,
      "outputs": []
    },
    {
      "cell_type": "code",
      "source": [
        "! mkdir ~/.kaggle\n",
        "! cp kaggle.json ~/.kaggle/\n",
        "! chmod 600 ~/.kaggle/kaggle.json\n",
        "! kaggle datasets download -d aminesedkaoui/yelp-user-friends\n",
        "! kaggle datasets download -d aminesedkaoui/yelp-review-ratings"
      ],
      "metadata": {
        "id": "UM0vifCk9CB0"
      },
      "execution_count": null,
      "outputs": []
    },
    {
      "cell_type": "code",
      "source": [
        "from sklearn import preprocessing"
      ],
      "metadata": {
        "id": "36SaoEF2KWa2"
      },
      "execution_count": null,
      "outputs": []
    },
    {
      "cell_type": "code",
      "execution_count": null,
      "metadata": {
        "id": "TcGcg4ZzRQD1"
      },
      "outputs": [],
      "source": [
        "from scipy.sparse import csr_matrix\n",
        "import tensorflow as tf \n",
        "import numpy as np\n",
        "import tensorflow_hub as hub\n",
        "import pandas as pd\n",
        "import random\n",
        "from keras import datasets, layers, models\n",
        "from sklearn.model_selection import train_test_split"
      ]
    },
    {
      "cell_type": "code",
      "source": [
        "!unzip \"/content/yelp-user-friends.zip\" -d \"/content/\"\n",
        "!unzip \"/content/yelp-review-ratings.zip\" -d \"/content/\""
      ],
      "metadata": {
        "id": "ppVGlIh8Ce8q"
      },
      "execution_count": null,
      "outputs": []
    },
    {
      "cell_type": "code",
      "source": [
        "df = pd.read_csv('/content/epinions_rating_500k.csv')\n",
        "df = df.drop(['Unnamed: 0'],axis=1)\n",
        "df.head()"
      ],
      "metadata": {
        "id": "M-Fxg9TcRStc"
      },
      "execution_count": null,
      "outputs": []
    },
    {
      "cell_type": "code",
      "source": [
        "def DatasetToUserItemDataFrame(dataframe,userID,itemID,rating):\n",
        "  #Setting new item IDs from string to int \n",
        "  itemKeys = [] \n",
        "  i = 0\n",
        "  for item in dataframe[itemID].value_counts(sort=False):\n",
        "    temp = np.full((item),i)\n",
        "    itemKeys = np.append(itemKeys,temp)\n",
        "    i += 1\n",
        "\n",
        "  #Setting new user IDs from string to int\n",
        "  userKeysDic = {}\n",
        "  userKeys = np.zeros((dataframe[userID].size))\n",
        "  i = 0\n",
        "  for user in dataframe[userID].unique():\n",
        "    userKeysDic[user] = i\n",
        "    i += 1\n",
        "  i = 0\n",
        "  for user in dataframe[userID]:\n",
        "    userKeys[i] = userKeysDic[user]\n",
        "    i += 1\n",
        "\n",
        "  #Converting arrays from float to int \n",
        "  userKeys = userKeys.astype(int)\n",
        "  itemKeys = itemKeys.astype(int)\n",
        "\n",
        "  \n",
        "  user_item = csr_matrix((dataframe[rating].values.astype(int),(userKeys,itemKeys))) #Creating sparse matrix\n",
        "  user_item_matrix = user_item.toarray() #Converting sparse matrix into array\n",
        "  df_user_item = pd.DataFrame(user_item_matrix,index = dataframe[userID].unique()  ,columns = dataframe[itemID].unique() ) \n",
        "\n",
        "  return user_item,df_user_item"
      ],
      "metadata": {
        "id": "HHmzbMvDVB0b"
      },
      "execution_count": null,
      "outputs": []
    },
    {
      "cell_type": "code",
      "source": [
        "def preprocess_df(df):\n",
        "  users = df['User_ID'].unique()\n",
        "  items = df['Item_ID'].unique()\n",
        "  df_train = df.copy()\n",
        "\n",
        "  New_User_IDs = random.sample(range(10000,50000),df['User_ID'].nunique())\n",
        "  New_Item_IDs = random.sample(range(100000,200000),df['Item_ID'].nunique())\n",
        "  i = 0\n",
        "  for d in users :\n",
        "    df_train['User_ID'].replace({d : New_User_IDs[i]}, inplace=True)\n",
        "    i+=1\n",
        "\n",
        "  i = 0\n",
        "  for d in items :\n",
        "    df_train['Item_ID'].replace({d : New_Item_IDs[i]}, inplace=True)\n",
        "    i+=1\n",
        "  \n",
        "  df_train['one']=df_train['rating'].apply(lambda x: 1 if x==1 else 0)\n",
        "  df_train['two']=df_train['rating'].apply(lambda x: 1 if x==2 else 0)\n",
        "  df_train['three']=df_train['rating'].apply(lambda x: 1 if x==3 else 0)\n",
        "  df_train['four']=df_train['rating'].apply(lambda x: 1 if x==4 else 0)\n",
        "  df_train['five']=df_train['rating'].apply(lambda x: 1 if x==5 else 0)\n",
        "  df_train['six']=df_train['rating'].apply(lambda x: 1 if x==6 else 0)\n",
        "\n",
        "  return df_train"
      ],
      "metadata": {
        "id": "08ifZdzgO2u9"
      },
      "execution_count": null,
      "outputs": []
    },
    {
      "cell_type": "code",
      "source": [
        "from numpy.core.fromnumeric import size\n",
        "#GMF\n",
        "\n",
        "def Create_GMF(num_users,num_items,SIZE_):\n",
        "\n",
        "  input_userID = layers.Input(shape=[1], name='user_ID')\n",
        "  input_itemID = layers.Input(shape=[1], name='item_ID')\n",
        "\n",
        "  user_emb_GMF = layers.Embedding(num_users, SIZE_, name='user_emb_GMF')(input_userID)\n",
        "  item_emb_GMF = layers.Embedding(num_items, SIZE_, name='item_emb_GMF')(input_itemID)\n",
        "\n",
        "  u_GMF = layers.Flatten()(user_emb_GMF)\n",
        "  i_GMF = layers.Flatten()(item_emb_GMF)\n",
        "\n",
        "  dot_layer = layers.Multiply()([u_GMF, i_GMF])\n",
        "\n",
        "  out_layer = layers.Dense(6, activation='softmax', name='output')(dot_layer)\n",
        "\n",
        "  GMF = tf.keras.Model([input_userID, input_itemID], out_layer)\n",
        "  \n",
        "  return GMF\n",
        "\n",
        "def Train_GMF(model,X_train,Y_train,nbrEpochs):\n",
        "  model.compile(optimizer = 'adam',\n",
        "                    loss = tf.keras.losses.categorical_crossentropy ,\n",
        "                    metrics=['accuracy'])\n",
        "  model.fit(X_train,Y_train,epochs = nbrEpochs)\n",
        "  return model\n",
        "\n",
        "def user_item_ID_lists(userIDs,itemIDs):\n",
        "  i = 0\n",
        "  item_s = pd.Series()\n",
        "  user_s = pd.Series()\n",
        "  for user in userIDs:\n",
        "    temp = pd.Series(itemIDs)\n",
        "    item_s = item_s.append(temp)\n",
        "    temp = []\n",
        "    temp = [user for item in itemIDs]\n",
        "    temp = pd.Series(temp)\n",
        "    user_s = user_s.append(temp)\n",
        "    \n",
        "    progress = user_s.size*100/(userIDs.size * itemIDs.size)\n",
        "   \n",
        "    if (progress  > 10) & (int(progress) < 25) & (i == 0):\n",
        "      print(\"===== 10 % =====\")\n",
        "      i += 1\n",
        "    elif (progress > 25) & (int(progress) < 35) & (i == 1):\n",
        "      print(\"===== 25 % =====\")\n",
        "      i += 1\n",
        "    elif (progress > 35) & (int(progress) < 50) & (i == 2):\n",
        "      print(\"===== 35 % =====\")\n",
        "      i += 1\n",
        "    elif (progress > 50) & (int(progress) < 65) & (i == 3):\n",
        "      print(\"===== 50 % =====\")\n",
        "      i += 1\n",
        "    elif (progress > 65) & (int(progress) < 75) & (i == 4):\n",
        "      print(\"===== 65 % =====\")\n",
        "      i += 1\n",
        "    elif (progress > 75) & (int(progress) < 80) & (i == 5):\n",
        "      print(\"===== 75 % =====\")\n",
        "      i += 1\n",
        "    elif (progress > 80) & (int(progress) < 90) & (i == 6):\n",
        "      print(\"===== 80 % =====\")\n",
        "      i += 1\n",
        "    elif (progress > 90) & (int(progress) < 95) & (i == 7):\n",
        "      print(\"===== 90 % =====\")\n",
        "      i += 1\n",
        "    elif (progress > 95) & (i == 8):\n",
        "      print(\"===== 95 % =====\")\n",
        "      i += 1\n",
        "\n",
        "  return user_s,item_s\n",
        "\n",
        "def Fill_Cf_Matrix(model,userList,itemList,userIDs,itemIDs):\n",
        "\n",
        "  prediction = model.predict([userList,itemList],verbose = 0)\n",
        "  i = 0\n",
        "  row = []\n",
        "  matrix = []\n",
        "  print(\"pred done\")\n",
        "\n",
        "  while i < userList.shape[0]:\n",
        "    result = np.where(prediction[i] == np.amax(prediction[i]))[0][0] + 1\n",
        "    row.append(result)\n",
        "    if len(row) == itemIDs.size:\n",
        "      matrix.append(row)\n",
        "      row = []\n",
        "       \n",
        "    i += 1\n",
        "\n",
        "  matrix_arr = np.array(matrix)\n",
        "  dataframe = pd.DataFrame(matrix_arr, index = userIDs, columns = itemIDs)\n",
        "  # for user in userIDs:\n",
        "  #   user_s = pd.Series(user)\n",
        "  #   for item in itemIDs:\n",
        "  #     item_s = pd.Series(item)\n",
        "  #     if dataframe.loc[user][item] == 0:\n",
        "  #       prediction = model.predict([user_s,item_s],verbose = 0)\n",
        "  #       result = np.where(prediction[0] == np.amax(prediction[0]))[0][0] + 1\n",
        "  #       dataframe.loc[user][item] = result\n",
        "  return dataframe\n"
      ],
      "metadata": {
        "id": "z6KHUFF9gwT5"
      },
      "execution_count": null,
      "outputs": []
    },
    {
      "cell_type": "code",
      "source": [
        "df_train = preprocess_df(df)"
      ],
      "metadata": {
        "id": "5k7vteutejcS"
      },
      "execution_count": null,
      "outputs": []
    },
    {
      "cell_type": "code",
      "source": [
        "df_train"
      ],
      "metadata": {
        "id": "2e8LqELNCLSH"
      },
      "execution_count": null,
      "outputs": []
    },
    {
      "cell_type": "code",
      "source": [
        "GMF = Create_GMF(df_train['User_ID'].max() + 1,df_train['Item_ID'].max() + 1,64)"
      ],
      "metadata": {
        "id": "HHrM6Dgl8AP1"
      },
      "execution_count": null,
      "outputs": []
    },
    {
      "cell_type": "code",
      "source": [
        "df_train_sample = df_train[:25000]\n",
        "X_train, X_test,y_train,y_test= train_test_split(df_train_sample[['User_ID','Item_ID']],df_train_sample[['one','two','three','four','five','six']],stratify=df_train_sample[['one','two','three','four','five','six']])\n",
        "#X_train, X_test,y_train,y_test= train_test_split(df_train[['User_ID','Item_ID']],df_train['rating'],stratify=df_train['rating'])"
      ],
      "metadata": {
        "id": "BFid5Xf9_SG8"
      },
      "execution_count": null,
      "outputs": []
    },
    {
      "cell_type": "code",
      "source": [
        "GMF_trained = Train_GMF(GMF,[X_train['User_ID'],X_train['Item_ID']],y_train,5)"
      ],
      "metadata": {
        "id": "grxA3dxt-HSR"
      },
      "execution_count": null,
      "outputs": []
    },
    {
      "cell_type": "code",
      "source": [
        "GMF_trained.evaluate([X_test['User_ID'],X_test['Item_ID']],y_test)"
      ],
      "metadata": {
        "id": "AXTEr-r2tqij"
      },
      "execution_count": null,
      "outputs": []
    },
    {
      "cell_type": "code",
      "source": [
        "user_item_matrix , df_mat = DatasetToUserItemDataFrame(df_train_sample,'User_ID','Item_ID','rating')"
      ],
      "metadata": {
        "id": "Y5_US3dQs3ro"
      },
      "execution_count": null,
      "outputs": []
    },
    {
      "cell_type": "code",
      "source": [
        "New_User_IDs = df_train_sample.User_ID.unique()\n",
        "New_Item_IDs = df_train_sample.Item_ID.unique()\n",
        "New_Item_IDs.size * New_User_IDs.size"
      ],
      "metadata": {
        "id": "1f_e0Smif07B"
      },
      "execution_count": null,
      "outputs": []
    },
    {
      "cell_type": "code",
      "source": [
        "user_s,item_s = user_item_ID_lists(New_User_IDs,New_Item_IDs)"
      ],
      "metadata": {
        "id": "n9ECgL3BAAFw"
      },
      "execution_count": null,
      "outputs": []
    },
    {
      "cell_type": "code",
      "source": [
        "df_mat_filled = Fill_Cf_Matrix(GMF_trained,user_s,item_s,New_User_IDs,New_Item_IDs)"
      ],
      "metadata": {
        "id": "oqWfFRyBr0mJ",
        "colab": {
          "base_uri": "https://localhost:8080/"
        },
        "outputId": "4c55d900-e45a-46c4-dcb8-d765e290ac44"
      },
      "execution_count": null,
      "outputs": [
        {
          "output_type": "stream",
          "name": "stdout",
          "text": [
            "pred done\n"
          ]
        }
      ]
    },
    {
      "cell_type": "code",
      "source": [
        "df_mat_filled.head()"
      ],
      "metadata": {
        "id": "JAPemOqlbFFO"
      },
      "execution_count": null,
      "outputs": []
    },
    {
      "cell_type": "code",
      "source": [
        "df_mat_filled1 = pd.read_csv('/content/epinions_user_item_filled_75K_matrix_100k_leaning.csv')"
      ],
      "metadata": {
        "id": "HePIy9kSpui_"
      },
      "execution_count": null,
      "outputs": []
    },
    {
      "cell_type": "code",
      "source": [
        "df_mat.head()"
      ],
      "metadata": {
        "id": "XuhpPu1sGig6"
      },
      "execution_count": null,
      "outputs": []
    },
    {
      "cell_type": "code",
      "source": [
        "df_mat_sample =df_mat_filled"
      ],
      "metadata": {
        "id": "KIzOORSDYbS3"
      },
      "execution_count": null,
      "outputs": []
    },
    {
      "cell_type": "code",
      "source": [
        "df_mat_sample.head()"
      ],
      "metadata": {
        "id": "jQBGD_QlcQvl"
      },
      "execution_count": null,
      "outputs": []
    },
    {
      "cell_type": "code",
      "source": [
        "def to_binary(x):\n",
        "  if (x > 0):\n",
        "    x = 1\n",
        "  return x"
      ],
      "metadata": {
        "id": "IydI5-fQWQD-"
      },
      "execution_count": null,
      "outputs": []
    },
    {
      "cell_type": "code",
      "source": [
        "def df_to_binary(df):\n",
        "  for col in df.columns:\n",
        "    df[col] = df[col].apply(to_binary)\n",
        "  return df"
      ],
      "metadata": {
        "id": "sYMNa0FTWJMA"
      },
      "execution_count": null,
      "outputs": []
    },
    {
      "cell_type": "code",
      "source": [
        "#Social_Autoencoder\n",
        "\n",
        "rating_input = layers.Input(shape=(df_mat_sample.shape[1]),name='user_item')\n",
        "social_input = layers.Input(shape=(df_mat_sample.shape[1]),name='user_item')\n",
        "\n",
        "flat_rating = layers.Flatten()(rating_input)\n",
        "flat_social = layers.Flatten()(social_input)\n",
        "\n",
        "#dropout = layers.Dropout(.2)(flat)\n",
        "SharedLayer_encoder = layers.Concatenate()([flat_rating,flat_social])\n",
        "hid_encoder = layers.Dense(256,activation=\"relu\")(SharedLayer_encoder)\n",
        "# hid_encoder1 = layers.Dense(256,activation=\"relu\")(hid_encoder)\n",
        "# hid_encoder2 = layers.Dense(128,activation=\"relu\")(hid_encoder1)\n",
        "# hid_encoder3 = layers.Dense(10,activation=\"relu\")(hid_encoder2)\n",
        "encoder_output = layers.Dense(128,activation=\"relu\")(hid_encoder)\n",
        "\n",
        "SharedLayer_decoder = layers.Dense(256,activation=\"relu\")(encoder_output)\n",
        "# decoder_hidden1 = layers.Dense(256,activation=\"relu\")(decoder_input)\n",
        "# decoder_hidden2 = layers.Dense(512,activation=\"relu\")(decoder_hidden1)\n",
        "# decoder_hidden3 = layers.Dense(25,activation=\"relu\")(decoder_hidden2)\n",
        "rating_decoded , social_decoded = tf.split(SharedLayer_decoder,[df_mat_sample.shape[1],df_mat_sample.shape[1]])\n",
        "\n",
        "rating_output = layers.Dense(df_mat_sample.shape[1],activation=\"relu\")(rating_decoded)\n",
        "social_output = layers.Dense(df_mat_sample.shape[1],activation=\"relu\")(social_decoded)\n",
        "\n",
        "autoencoder = tf.keras.Model(inputs = [rating_input,social_input], outputs = [rating_output,social_output])"
      ],
      "metadata": {
        "id": "YFYfUYa-e3w9"
      },
      "execution_count": null,
      "outputs": []
    },
    {
      "cell_type": "code",
      "source": [
        "def rmse (y_true,y_pred):\n",
        "  y_pred = tf.cast(y_pred, tf.float32)\n",
        "  y_true = tf.cast(y_true, tf.float32)\n",
        "  rmse = y_true - y_pred\n",
        "  rmse = tf.square(rmse)\n",
        "  rmse = tf.math.reduce_mean(rmse)\n",
        "  rmse = tf.math.sqrt(rmse)\n",
        "  return rmse\n",
        "\n",
        "opt = tf.keras.optimizers.Adam(learning_rate=0.00001)"
      ],
      "metadata": {
        "id": "QVclLDh4C46p"
      },
      "execution_count": null,
      "outputs": []
    },
    {
      "cell_type": "code",
      "source": [
        "autoencoder.compile(optimizer ='adam',\n",
        "                    loss = tf.keras.losses.MeanAbsoluteError(),\n",
        "                    metrics=['accuracy'])"
      ],
      "metadata": {
        "id": "_h1-_AumilKy"
      },
      "execution_count": null,
      "outputs": []
    },
    {
      "cell_type": "code",
      "source": [
        "autoencoder.summary()"
      ],
      "metadata": {
        "id": "QxDl7Q-1jPdj"
      },
      "execution_count": null,
      "outputs": []
    },
    {
      "cell_type": "code",
      "source": [
        "X_train,X_test,y_train,y_test = train_test_split(df_mat,df_mat_sample)"
      ],
      "metadata": {
        "id": "fbfvR2O-HnPp"
      },
      "execution_count": null,
      "outputs": []
    },
    {
      "cell_type": "code",
      "source": [
        "X_train"
      ],
      "metadata": {
        "id": "mE4mZsc3cE8K"
      },
      "execution_count": null,
      "outputs": []
    },
    {
      "cell_type": "code",
      "source": [
        "autoencoder.fit(X_train, y_train, epochs = 2000)"
      ],
      "metadata": {
        "id": "dh7hlrNijRGN"
      },
      "execution_count": null,
      "outputs": []
    },
    {
      "cell_type": "code",
      "source": [
        "autoencoder.evaluate(X_test,y_test)"
      ],
      "metadata": {
        "id": "u50crOS0OGTQ",
        "outputId": "83f44b3c-d15a-4210-8c63-169782568790",
        "colab": {
          "base_uri": "https://localhost:8080/"
        }
      },
      "execution_count": null,
      "outputs": [
        {
          "output_type": "stream",
          "name": "stdout",
          "text": [
            "26/26 [==============================] - 0s 3ms/step - loss: 0.3342 - accuracy: 0.0012\n"
          ]
        },
        {
          "output_type": "execute_result",
          "data": {
            "text/plain": [
              "[0.33423539996147156, 0.0012330455938354135]"
            ]
          },
          "metadata": {},
          "execution_count": 36
        }
      ]
    },
    {
      "cell_type": "code",
      "source": [
        "df_mat"
      ],
      "metadata": {
        "id": "QZfdCQKpP1Fr"
      },
      "execution_count": null,
      "outputs": []
    },
    {
      "cell_type": "code",
      "source": [
        "mat_pred = autoencoder.predict(df_mat)"
      ],
      "metadata": {
        "id": "8mRENNR6OUvh",
        "outputId": "f552e084-05c5-4d12-f74d-ebf9052deb3f",
        "colab": {
          "base_uri": "https://localhost:8080/"
        }
      },
      "execution_count": null,
      "outputs": [
        {
          "output_type": "stream",
          "name": "stdout",
          "text": [
            "102/102 [==============================] - 0s 2ms/step\n"
          ]
        }
      ]
    },
    {
      "cell_type": "code",
      "source": [
        "mat_pred"
      ],
      "metadata": {
        "id": "kXiLEuz3vS3s",
        "outputId": "aaf1b275-5c3a-4870-c3f3-a04efda9534e",
        "colab": {
          "base_uri": "https://localhost:8080/"
        }
      },
      "execution_count": null,
      "outputs": [
        {
          "output_type": "execute_result",
          "data": {
            "text/plain": [
              "array([[5.0309396, 4.997768 , 5.486996 , ..., 5.0276556, 4.019191 ,\n",
              "        5.0223575],\n",
              "       [4.996603 , 4.997317 , 3.1208553, ..., 5.0028224, 3.7864075,\n",
              "        4.999507 ],\n",
              "       [4.9986353, 5.004016 , 2.3716743, ..., 5.0063057, 3.1234455,\n",
              "        5.0051513],\n",
              "       ...,\n",
              "       [4.9948664, 4.9963155, 4.4013014, ..., 5.003981 , 4.028637 ,\n",
              "        5.0001802],\n",
              "       [4.9948664, 4.9963155, 4.4013014, ..., 5.003981 , 4.028637 ,\n",
              "        5.0001802],\n",
              "       [4.9948664, 4.9963155, 4.4013014, ..., 5.003981 , 4.028637 ,\n",
              "        5.0001802]], dtype=float32)"
            ]
          },
          "metadata": {},
          "execution_count": 38
        }
      ]
    },
    {
      "cell_type": "code",
      "source": [
        "df_mat_pred = pd.DataFrame(mat_pred, index = df_mat_sample.index, columns = df_mat_sample.columns)"
      ],
      "metadata": {
        "id": "NF1MKF0Fjigd"
      },
      "execution_count": null,
      "outputs": []
    },
    {
      "cell_type": "code",
      "source": [
        "df_mat_pred.max()"
      ],
      "metadata": {
        "id": "A-aIuIYrvf31",
        "outputId": "76ef2337-584c-4a3c-ebb4-6b39d8d4540d",
        "colab": {
          "base_uri": "https://localhost:8080/"
        }
      },
      "execution_count": null,
      "outputs": [
        {
          "output_type": "execute_result",
          "data": {
            "text/plain": [
              "189722    6.472934\n",
              "122571    6.492408\n",
              "100211    6.818763\n",
              "101960    6.571887\n",
              "105337    6.085056\n",
              "            ...   \n",
              "137594    5.982568\n",
              "198330    7.050071\n",
              "136306    6.202019\n",
              "197491    7.210152\n",
              "124494    5.497391\n",
              "Length: 1369, dtype: float32"
            ]
          },
          "metadata": {},
          "execution_count": 40
        }
      ]
    },
    {
      "cell_type": "code",
      "source": [
        "scaler = preprocessing.MinMaxScaler(feature_range=(1, 5))\n",
        "d = scaler.fit_transform(df_mat_pred)\n",
        "scaled_df = pd.DataFrame(d,index = df_mat_pred.index,columns = df_mat_pred.columns)\n",
        "scaled_df"
      ],
      "metadata": {
        "id": "ooHOSE20PMpK"
      },
      "execution_count": null,
      "outputs": []
    },
    {
      "cell_type": "code",
      "source": [
        "for col in df_mat_pred.columns:\n",
        " df_mat_pred[col] = df_mat_pred[col].apply(lambda x: 5 if x> 5.5 else x)"
      ],
      "metadata": {
        "id": "D_tWr8piYItf"
      },
      "execution_count": null,
      "outputs": []
    },
    {
      "cell_type": "code",
      "source": [
        "df_mat_pred"
      ],
      "metadata": {
        "id": "lmdZsU3IjTnX"
      },
      "execution_count": null,
      "outputs": []
    },
    {
      "cell_type": "code",
      "source": [
        "res = np.where(df_mat_pred.iloc[:,:].values == 1 )\n",
        "res[0].size"
      ],
      "metadata": {
        "id": "zVh18elW3IsL"
      },
      "execution_count": null,
      "outputs": []
    }
  ]
}
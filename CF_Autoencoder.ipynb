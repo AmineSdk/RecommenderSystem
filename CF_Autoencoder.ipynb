{
  "cells": [
    {
      "cell_type": "markdown",
      "metadata": {
        "id": "view-in-github",
        "colab_type": "text"
      },
      "source": [
        "<a href=\"https://colab.research.google.com/github/AmineSdk/RecommenderSystem/blob/main/CF_Autoencoder.ipynb\" target=\"_parent\"><img src=\"https://colab.research.google.com/assets/colab-badge.svg\" alt=\"Open In Colab\"/></a>"
      ]
    },
    {
      "cell_type": "code",
      "execution_count": null,
      "metadata": {
        "colab": {
          "background_save": true
        },
        "id": "nFsPPT0-cZms"
      },
      "outputs": [],
      "source": [
        "!pip install tensorflow-text"
      ]
    },
    {
      "cell_type": "code",
      "execution_count": null,
      "metadata": {
        "id": "UM0vifCk9CB0"
      },
      "outputs": [],
      "source": [
        "! pip install kaggle\n",
        "! mkdir ~/.kaggle\n",
        "! cp kaggle.json ~/.kaggle/\n",
        "! chmod 600 ~/.kaggle/kaggle.json\n",
        "! kaggle datasets download CellPhones -f CellPhonesRating.csv"
      ]
    },
    {
      "cell_type": "code",
      "execution_count": null,
      "metadata": {
        "id": "TcGcg4ZzRQD1"
      },
      "outputs": [],
      "source": [
        "import tensorflow as tf \n",
        "import numpy as np\n",
        "import tensorflow_hub as hub\n",
        "import tensorflow_text as text\n",
        "import pandas as pd\n",
        "from tensorflow.keras import datasets, layers, models"
      ]
    },
    {
      "cell_type": "code",
      "execution_count": null,
      "metadata": {
        "id": "AeRax9AkAxij"
      },
      "outputs": [],
      "source": [
        "df = pd.read_csv(\"/content/CellPhonesRating.csv.zip\")\n",
        "df = df.dropna(how='any',axis=0)\n",
        "df = df.drop_duplicates(subset =['productID', 'reviewerID'] , keep = 'first')"
      ]
    },
    {
      "cell_type": "code",
      "execution_count": null,
      "metadata": {
        "id": "DMoFF-Swe1pY"
      },
      "outputs": [],
      "source": [
        "df = df[:300]"
      ]
    },
    {
      "cell_type": "code",
      "execution_count": null,
      "metadata": {
        "id": "I3Cpm36bpAGg"
      },
      "outputs": [],
      "source": [
        "df.drop('reviewText',axis='columns', inplace=True)"
      ]
    },
    {
      "cell_type": "code",
      "execution_count": null,
      "metadata": {
        "id": "UELEEqAmvOfG"
      },
      "outputs": [],
      "source": [
        "df[(df['reviewerID'] == 'AB6CHQWHZW4TV') & (df['productID'] == '7508492919')]['rating'].size"
      ]
    },
    {
      "cell_type": "code",
      "execution_count": null,
      "metadata": {
        "id": "4m6z9J2UC-hS"
      },
      "outputs": [],
      "source": [
        ""
      ]
    },
    {
      "cell_type": "code",
      "execution_count": null,
      "metadata": {
        "id": "4TeSDwXinW3u"
      },
      "outputs": [],
      "source": [
        "user_item ={}\n",
        "for item in df['productID']:\n",
        "  user_item[item] = {}\n",
        "  for user in df['reviewerID'].unique():\n",
        "      user_item[item][user] = 0"
      ]
    },
    {
      "cell_type": "code",
      "execution_count": null,
      "metadata": {
        "id": "0aageh406pyj"
      },
      "outputs": [],
      "source": [
        "user_item_df = pd.DataFrame(user_item)"
      ]
    },
    {
      "cell_type": "code",
      "execution_count": null,
      "metadata": {
        "id": "91hRokKe7Etm"
      },
      "outputs": [],
      "source": [
        "user_item_df"
      ]
    },
    {
      "cell_type": "code",
      "execution_count": null,
      "metadata": {
        "colab": {
          "base_uri": "https://localhost:8080/"
        },
        "id": "gM-KNN8mDnJc",
        "outputId": "04bb9a2e-6950-4c9e-81e8-3a40016f07ce"
      },
      "outputs": [
        {
          "data": {
            "text/plain": [
              "array([1, 5.0, 'A269FLZCB4GIPV', '7508492919'], dtype=object)"
            ]
          },
          "execution_count": 32,
          "metadata": {},
          "output_type": "execute_result"
        }
      ],
      "source": [
        "df.values[1]"
      ]
    },
    {
      "cell_type": "code",
      "execution_count": null,
      "metadata": {
        "id": "nfExddQcDaaX"
      },
      "outputs": [],
      "source": [
        "for row in df.values:\n",
        "  user_item_df[row[2],row[3]] = row[1]"
      ]
    },
    {
      "cell_type": "code",
      "execution_count": null,
      "metadata": {
        "id": "pVSVy5_RDycB"
      },
      "outputs": [],
      "source": [
        "user_item_df"
      ]
    },
    {
      "cell_type": "code",
      "execution_count": null,
      "metadata": {
        "id": "uLFdwRyWsU_V"
      },
      "outputs": [],
      "source": [
        "from google.colab import drive\n",
        "drive.mount('/content/drive')"
      ]
    },
    {
      "cell_type": "code",
      "execution_count": null,
      "metadata": {
        "id": "ZbzQndGjeJ7O"
      },
      "outputs": [],
      "source": [
        "#Train/Test data split\n",
        "from sklearn.model_selection import train_test_split\n",
        "X_train, X_test, y_train, y_test = train_test_split(df['reviewText'],df['rating'], stratify=df['rating'])"
      ]
    },
    {
      "cell_type": "code",
      "execution_count": null,
      "metadata": {
        "id": "YFYfUYa-e3w9"
      },
      "outputs": [],
      "source": [
        "encoder_input = layers.Input(shape=(),name='user_item')\n"
      ]
    }
  ],
  "metadata": {
    "accelerator": "GPU",
    "colab": {
      "collapsed_sections": [],
      "name": "CF_Autoencoder.ipynb",
      "provenance": [],
      "authorship_tag": "ABX9TyOFCbcXUjFsnUh4E7z5DMQQ",
      "include_colab_link": true
    },
    "gpuClass": "standard",
    "kernelspec": {
      "display_name": "Python 3",
      "name": "python3"
    },
    "language_info": {
      "name": "python"
    }
  },
  "nbformat": 4,
  "nbformat_minor": 0
}
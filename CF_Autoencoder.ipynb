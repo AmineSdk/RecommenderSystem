{
  "nbformat": 4,
  "nbformat_minor": 0,
  "metadata": {
    "colab": {
      "name": "CF_Autoencoder.ipynb",
      "provenance": [],
      "collapsed_sections": []
    },
    "kernelspec": {
      "name": "python3",
      "display_name": "Python 3"
    },
    "language_info": {
      "name": "python"
    },
    "gpuClass": "standard",
    "accelerator": "GPU"
  },
  "cells": [
    {
      "cell_type": "code",
      "source": [
        "!pip install tensorflow-text"
      ],
      "metadata": {
        "id": "nFsPPT0-cZms"
      },
      "execution_count": null,
      "outputs": []
    },
    {
      "cell_type": "code",
      "source": [
        "! mkdir ~/.kaggle\n",
        "! cp kaggle.json ~/.kaggle/\n",
        "! chmod 600 ~/.kaggle/kaggle.json\n",
        "! kaggle datasets download -d aminesedkaoui/yelp-review-ratings"
      ],
      "metadata": {
        "id": "UM0vifCk9CB0"
      },
      "execution_count": null,
      "outputs": []
    },
    {
      "cell_type": "code",
      "execution_count": 9,
      "metadata": {
        "id": "TcGcg4ZzRQD1"
      },
      "outputs": [],
      "source": [
        "from sklearn import preprocessing\n",
        "from scipy.sparse import csr_matrix\n",
        "import tensorflow as tf \n",
        "import numpy as np\n",
        "import tensorflow_hub as hub\n",
        "import pandas as pd\n",
        "import random\n",
        "from keras import datasets, layers, models\n",
        "from sklearn.model_selection import train_test_split\n",
        "from progressbar import progressbar"
      ]
    },
    {
      "cell_type": "code",
      "source": [
        "!unzip \"/content//yelp-review-ratings.zip\" -d \"/content/\""
      ],
      "metadata": {
        "id": "ppVGlIh8Ce8q"
      },
      "execution_count": null,
      "outputs": []
    },
    {
      "cell_type": "code",
      "source": [
        "df_rating = pd.read_csv('/content//yelp_review_ratings.csv')\n",
        "df_rating.rename(columns = {'text': 'reviewText', 'stars': 'rating', 'business_id': 'itemID', 'user_id': 'userID'}, inplace = True)\n",
        "df_rating = df_rating.drop(['Unnamed: 0'],axis=1)\n",
        "df_rating.head()"
      ],
      "metadata": {
        "id": "M-Fxg9TcRStc"
      },
      "execution_count": null,
      "outputs": []
    },
    {
      "cell_type": "code",
      "source": [
        "def DatasetToUserItemDataFrame(dataframe,userID,itemID,rating):\n",
        "  #Setting new item IDs from string to int \n",
        "  itemKeys = [] \n",
        "  i = 0\n",
        "  for item in dataframe[itemID].value_counts(sort=False):\n",
        "    temp = np.full((item),i)\n",
        "    itemKeys = np.append(itemKeys,temp)\n",
        "    i += 1\n",
        "\n",
        "  #Setting new user IDs from string to int\n",
        "  userKeysDic = {}\n",
        "  userKeys = np.zeros((dataframe[userID].size))\n",
        "  i = 0\n",
        "  for user in dataframe[userID].unique():\n",
        "    userKeysDic[user] = i\n",
        "    i += 1\n",
        "  i = 0\n",
        "  for user in dataframe[userID]:\n",
        "    userKeys[i] = userKeysDic[user]\n",
        "    i += 1\n",
        "\n",
        "  #Converting arrays from float to int \n",
        "  userKeys = userKeys.astype(int)\n",
        "  itemKeys = itemKeys.astype(int)\n",
        "\n",
        "  \n",
        "  user_item = csr_matrix((dataframe[rating].values.astype(int),(userKeys,itemKeys))) #Creating sparse matrix\n",
        "  user_item_matrix = user_item.toarray() #Converting sparse matrix into array\n",
        "  df_user_item = pd.DataFrame(user_item_matrix,index = dataframe[userID].unique()  ,columns = dataframe[itemID].unique() ) \n",
        "\n",
        "  return user_item,df_user_item"
      ],
      "metadata": {
        "id": "HHmzbMvDVB0b"
      },
      "execution_count": 6,
      "outputs": []
    },
    {
      "cell_type": "code",
      "source": [
        "def generateIDs(df,index,columns,min_index,max_index,min_column,max_column):\n",
        "  users = df[index].unique()\n",
        "  items = df[columns].unique()\n",
        "  df_train = df.copy()\n",
        "\n",
        "  New_User_IDs = random.sample(range(min_index,max_index),df[index].nunique())\n",
        "  New_Item_IDs = random.sample(range(min_column,max_column),df[columns].nunique())\n",
        "  i = 0\n",
        "  for d in users :\n",
        "    df_train[index].replace({d : New_User_IDs[i]}, inplace=True)\n",
        "    i+=1\n",
        "\n",
        "  i = 0\n",
        "  for d in items :\n",
        "    df_train[columns].replace({d : New_Item_IDs[i]}, inplace=True)\n",
        "    i+=1\n",
        "  return df_train"
      ],
      "metadata": {
        "id": "hQlVJ78S-DZ2"
      },
      "execution_count": 10,
      "outputs": []
    },
    {
      "cell_type": "code",
      "source": [
        "def preprocess_df(df,index,column,min_user_id,max_user_id,min_item_id,max_item_id):\n",
        "  \n",
        "  df_train = generateIDs(df,index,column,min_user_id,max_user_id,min_item_id,max_item_id)\n",
        "  \n",
        "  df_train['one']=df_train['rating'].apply(lambda x: 1 if x==1 else 0)\n",
        "  df_train['two']=df_train['rating'].apply(lambda x: 1 if x==2 else 0)\n",
        "  df_train['three']=df_train['rating'].apply(lambda x: 1 if x==3 else 0)\n",
        "  df_train['four']=df_train['rating'].apply(lambda x: 1 if x==4 else 0)\n",
        "  df_train['five']=df_train['rating'].apply(lambda x: 1 if x==5 else 0)\n",
        "  df_train['six']=df_train['rating'].apply(lambda x: 1 if x==6 else 0)\n",
        "\n",
        "  return df_train"
      ],
      "metadata": {
        "id": "08ifZdzgO2u9"
      },
      "execution_count": 11,
      "outputs": []
    },
    {
      "cell_type": "code",
      "source": [
        "from numpy.core.fromnumeric import size\n",
        "#GMF\n",
        "\n",
        "def Create_GMF(num_users,num_items,SIZE_):\n",
        "\n",
        "  input_userID = layers.Input(shape=[1], name='user_ID')\n",
        "  input_itemID = layers.Input(shape=[1], name='item_ID')\n",
        "\n",
        "  user_emb_GMF = layers.Embedding(num_users, SIZE_, name='user_emb_GMF')(input_userID)\n",
        "  item_emb_GMF = layers.Embedding(num_items, SIZE_, name='item_emb_GMF')(input_itemID)\n",
        "\n",
        "  u_GMF = layers.Flatten()(user_emb_GMF)\n",
        "  i_GMF = layers.Flatten()(item_emb_GMF)\n",
        "\n",
        "  dot_layer = layers.Multiply()([u_GMF, i_GMF])\n",
        "\n",
        "  out_layer = layers.Dense(6, activation='softmax', name='output')(dot_layer)\n",
        "\n",
        "  GMF = tf.keras.Model([input_userID, input_itemID], out_layer)\n",
        "  \n",
        "  return GMF\n",
        "\n",
        "def Train_GMF(model,X_train,Y_train,nbrEpochs):\n",
        "  model.compile(optimizer = 'adam',\n",
        "                    loss = tf.keras.losses.categorical_crossentropy ,\n",
        "                    metrics=['accuracy'])\n",
        "  model.fit(X_train,Y_train,epochs = nbrEpochs)\n",
        "  return model\n",
        "\n",
        "def user_item_ID_lists(userIDs,itemIDs):\n",
        "  i = 0\n",
        "  item_s = pd.Series()\n",
        "  user_s = pd.Series()\n",
        "  for user in progressbar(userIDs):\n",
        "    temp = pd.Series(itemIDs)\n",
        "    item_s = item_s.append(temp)\n",
        "    temp = []\n",
        "    temp = [user for item in itemIDs]\n",
        "    temp = pd.Series(temp)\n",
        "    user_s = user_s.append(temp)\n",
        "  \n",
        "  return user_s,item_s\n",
        "\n",
        "def Fill_Cf_Matrix(model,userList,itemList,userIDs,itemIDs):\n",
        "\n",
        "  prediction = model.predict([userList,itemList],verbose = 0)\n",
        "  i = 0\n",
        "  row = []\n",
        "  matrix = []\n",
        "  print(\"pred done\")\n",
        "\n",
        "  while i < userList.shape[0]:\n",
        "    result = np.where(prediction[i] == np.amax(prediction[i]))[0][0] + 1\n",
        "    row.append(result)\n",
        "    if len(row) == itemIDs.size:\n",
        "      matrix.append(row)\n",
        "      row = []\n",
        "       \n",
        "    i += 1\n",
        "\n",
        "  matrix_arr = np.array(matrix)\n",
        "  dataframe = pd.DataFrame(matrix_arr, index = userIDs, columns = itemIDs)\n",
        " \n",
        "  return dataframe\n"
      ],
      "metadata": {
        "id": "z6KHUFF9gwT5"
      },
      "execution_count": 12,
      "outputs": []
    },
    {
      "cell_type": "code",
      "source": [
        ""
      ],
      "metadata": {
        "id": "LVa-k4K_GuuK"
      },
      "execution_count": null,
      "outputs": []
    },
    {
      "cell_type": "code",
      "source": [
        "df_sample = df_rating[:1000]"
      ],
      "metadata": {
        "id": "tOT3lUAi-h0e"
      },
      "execution_count": 40,
      "outputs": []
    },
    {
      "cell_type": "code",
      "source": [
        "df_train = preprocess_df(df_sample,'userID','itemID',5000,9999,20000,30000)"
      ],
      "metadata": {
        "id": "5k7vteutejcS"
      },
      "execution_count": 41,
      "outputs": []
    },
    {
      "cell_type": "code",
      "source": [
        "df_train.shape"
      ],
      "metadata": {
        "id": "2e8LqELNCLSH"
      },
      "execution_count": null,
      "outputs": []
    },
    {
      "cell_type": "code",
      "source": [
        "GMF = Create_GMF(df_train['userID'].max() + 1,df_train['itemID'].max() + 1,64)"
      ],
      "metadata": {
        "id": "HHrM6Dgl8AP1"
      },
      "execution_count": 43,
      "outputs": []
    },
    {
      "cell_type": "code",
      "source": [
        "df_train_sample = df_train\n",
        "X_train, X_test,y_train,y_test= train_test_split(df_train_sample[['userID','itemID']],df_train_sample[['one','two','three','four','five','six']],stratify=df_train_sample[['one','two','three','four','five','six']])\n",
        "#X_train, X_test,y_train,y_test= train_test_split(df_train[['User_ID','Item_ID']],df_train['rating'],stratify=df_train['rating'])"
      ],
      "metadata": {
        "id": "BFid5Xf9_SG8"
      },
      "execution_count": 44,
      "outputs": []
    },
    {
      "cell_type": "code",
      "source": [
        "GMF_trained = Train_GMF(GMF,[X_train['userID'],X_train['itemID']],y_train,5)"
      ],
      "metadata": {
        "id": "grxA3dxt-HSR",
        "outputId": "3a996ab9-7c00-4626-cdc1-71d4433fc86d",
        "colab": {
          "base_uri": "https://localhost:8080/"
        }
      },
      "execution_count": 54,
      "outputs": [
        {
          "output_type": "stream",
          "name": "stdout",
          "text": [
            "Epoch 1/5\n",
            "24/24 [==============================] - 1s 5ms/step - loss: 0.0646 - accuracy: 1.0000\n",
            "Epoch 2/5\n",
            "24/24 [==============================] - 0s 5ms/step - loss: 0.0514 - accuracy: 1.0000\n",
            "Epoch 3/5\n",
            "24/24 [==============================] - 0s 5ms/step - loss: 0.0413 - accuracy: 1.0000\n",
            "Epoch 4/5\n",
            "24/24 [==============================] - 0s 5ms/step - loss: 0.0335 - accuracy: 1.0000\n",
            "Epoch 5/5\n",
            "24/24 [==============================] - 0s 5ms/step - loss: 0.0275 - accuracy: 1.0000\n"
          ]
        }
      ]
    },
    {
      "cell_type": "code",
      "source": [
        "user_item_matrix , df_mat = DatasetToUserItemDataFrame(df_train_sample,'userID','itemID','rating')"
      ],
      "metadata": {
        "id": "Y5_US3dQs3ro"
      },
      "execution_count": 55,
      "outputs": []
    },
    {
      "cell_type": "code",
      "source": [
        "GMF_trained.evaluate([X_test['userID'],X_test['itemID']],y_test)"
      ],
      "metadata": {
        "id": "AXTEr-r2tqij"
      },
      "execution_count": null,
      "outputs": []
    },
    {
      "cell_type": "code",
      "source": [
        "New_User_IDs = df_train_sample.userID.unique()\n",
        "New_Item_IDs = df_train_sample.itemID.unique()\n",
        "New_User_IDs.size*New_Item_IDs.size"
      ],
      "metadata": {
        "id": "1f_e0Smif07B",
        "outputId": "78884305-24ad-48f5-e450-708841ec0e97",
        "colab": {
          "base_uri": "https://localhost:8080/"
        }
      },
      "execution_count": 57,
      "outputs": [
        {
          "output_type": "execute_result",
          "data": {
            "text/plain": [
              "818062"
            ]
          },
          "metadata": {},
          "execution_count": 57
        }
      ]
    },
    {
      "cell_type": "code",
      "source": [
        "user_s,item_s = user_item_ID_lists(New_User_IDs,New_Item_IDs)"
      ],
      "metadata": {
        "id": "n9ECgL3BAAFw",
        "outputId": "4bbd783b-c13e-4f0c-de73-9a4e4036e655",
        "colab": {
          "base_uri": "https://localhost:8080/"
        }
      },
      "execution_count": 58,
      "outputs": [
        {
          "output_type": "stream",
          "name": "stderr",
          "text": [
            "/usr/local/lib/python3.7/dist-packages/ipykernel_launcher.py:32: DeprecationWarning: The default dtype for empty Series will be 'object' instead of 'float64' in a future version. Specify a dtype explicitly to silence this warning.\n",
            "/usr/local/lib/python3.7/dist-packages/ipykernel_launcher.py:33: DeprecationWarning: The default dtype for empty Series will be 'object' instead of 'float64' in a future version. Specify a dtype explicitly to silence this warning.\n",
            "100% (994 of 994) |######################| Elapsed Time: 0:00:05 Time:  0:00:05\n"
          ]
        }
      ]
    },
    {
      "cell_type": "code",
      "source": [
        "df_mat_filled = Fill_Cf_Matrix(GMF_trained,user_s,item_s,New_User_IDs,New_Item_IDs)"
      ],
      "metadata": {
        "id": "oqWfFRyBr0mJ",
        "colab": {
          "base_uri": "https://localhost:8080/"
        },
        "outputId": "733a0247-b806-4778-88f9-a87cba19a717"
      },
      "execution_count": 59,
      "outputs": [
        {
          "output_type": "stream",
          "name": "stdout",
          "text": [
            "pred done\n"
          ]
        }
      ]
    },
    {
      "cell_type": "code",
      "source": [
        "df_mat_filled.head()"
      ],
      "metadata": {
        "id": "JAPemOqlbFFO",
        "outputId": "78587818-a1f8-4344-ded1-0ad2dc56be6a",
        "colab": {
          "base_uri": "https://localhost:8080/",
          "height": 236
        }
      },
      "execution_count": 60,
      "outputs": [
        {
          "output_type": "execute_result",
          "data": {
            "text/plain": [
              "      27885  23256  25985  21644  24027  25702  28481  28893  22423  27585  \\\n",
              "6236      5      5      5      5      5      5      5      5      5      5   \n",
              "8696      5      5      5      5      5      4      4      5      4      5   \n",
              "9301      5      5      5      5      5      5      5      5      5      5   \n",
              "8128      5      5      5      5      5      3      5      1      5      5   \n",
              "7183      5      4      5      2      4      5      3      4      2      5   \n",
              "\n",
              "      ...  25693  25156  22961  20797  21776  20404  23710  28375  29613  \\\n",
              "6236  ...      5      5      5      5      5      5      5      5      5   \n",
              "8696  ...      2      5      5      5      5      5      5      4      5   \n",
              "9301  ...      5      5      5      5      5      5      5      5      5   \n",
              "8128  ...      4      5      5      5      5      3      5      3      5   \n",
              "7183  ...      3      4      5      5      3      4      5      3      5   \n",
              "\n",
              "      28998  \n",
              "6236      5  \n",
              "8696      3  \n",
              "9301      5  \n",
              "8128      1  \n",
              "7183      4  \n",
              "\n",
              "[5 rows x 823 columns]"
            ],
            "text/html": [
              "\n",
              "  <div id=\"df-4ec03bfb-87c0-43f5-90fd-5b382849bc13\">\n",
              "    <div class=\"colab-df-container\">\n",
              "      <div>\n",
              "<style scoped>\n",
              "    .dataframe tbody tr th:only-of-type {\n",
              "        vertical-align: middle;\n",
              "    }\n",
              "\n",
              "    .dataframe tbody tr th {\n",
              "        vertical-align: top;\n",
              "    }\n",
              "\n",
              "    .dataframe thead th {\n",
              "        text-align: right;\n",
              "    }\n",
              "</style>\n",
              "<table border=\"1\" class=\"dataframe\">\n",
              "  <thead>\n",
              "    <tr style=\"text-align: right;\">\n",
              "      <th></th>\n",
              "      <th>27885</th>\n",
              "      <th>23256</th>\n",
              "      <th>25985</th>\n",
              "      <th>21644</th>\n",
              "      <th>24027</th>\n",
              "      <th>25702</th>\n",
              "      <th>28481</th>\n",
              "      <th>28893</th>\n",
              "      <th>22423</th>\n",
              "      <th>27585</th>\n",
              "      <th>...</th>\n",
              "      <th>25693</th>\n",
              "      <th>25156</th>\n",
              "      <th>22961</th>\n",
              "      <th>20797</th>\n",
              "      <th>21776</th>\n",
              "      <th>20404</th>\n",
              "      <th>23710</th>\n",
              "      <th>28375</th>\n",
              "      <th>29613</th>\n",
              "      <th>28998</th>\n",
              "    </tr>\n",
              "  </thead>\n",
              "  <tbody>\n",
              "    <tr>\n",
              "      <th>6236</th>\n",
              "      <td>5</td>\n",
              "      <td>5</td>\n",
              "      <td>5</td>\n",
              "      <td>5</td>\n",
              "      <td>5</td>\n",
              "      <td>5</td>\n",
              "      <td>5</td>\n",
              "      <td>5</td>\n",
              "      <td>5</td>\n",
              "      <td>5</td>\n",
              "      <td>...</td>\n",
              "      <td>5</td>\n",
              "      <td>5</td>\n",
              "      <td>5</td>\n",
              "      <td>5</td>\n",
              "      <td>5</td>\n",
              "      <td>5</td>\n",
              "      <td>5</td>\n",
              "      <td>5</td>\n",
              "      <td>5</td>\n",
              "      <td>5</td>\n",
              "    </tr>\n",
              "    <tr>\n",
              "      <th>8696</th>\n",
              "      <td>5</td>\n",
              "      <td>5</td>\n",
              "      <td>5</td>\n",
              "      <td>5</td>\n",
              "      <td>5</td>\n",
              "      <td>4</td>\n",
              "      <td>4</td>\n",
              "      <td>5</td>\n",
              "      <td>4</td>\n",
              "      <td>5</td>\n",
              "      <td>...</td>\n",
              "      <td>2</td>\n",
              "      <td>5</td>\n",
              "      <td>5</td>\n",
              "      <td>5</td>\n",
              "      <td>5</td>\n",
              "      <td>5</td>\n",
              "      <td>5</td>\n",
              "      <td>4</td>\n",
              "      <td>5</td>\n",
              "      <td>3</td>\n",
              "    </tr>\n",
              "    <tr>\n",
              "      <th>9301</th>\n",
              "      <td>5</td>\n",
              "      <td>5</td>\n",
              "      <td>5</td>\n",
              "      <td>5</td>\n",
              "      <td>5</td>\n",
              "      <td>5</td>\n",
              "      <td>5</td>\n",
              "      <td>5</td>\n",
              "      <td>5</td>\n",
              "      <td>5</td>\n",
              "      <td>...</td>\n",
              "      <td>5</td>\n",
              "      <td>5</td>\n",
              "      <td>5</td>\n",
              "      <td>5</td>\n",
              "      <td>5</td>\n",
              "      <td>5</td>\n",
              "      <td>5</td>\n",
              "      <td>5</td>\n",
              "      <td>5</td>\n",
              "      <td>5</td>\n",
              "    </tr>\n",
              "    <tr>\n",
              "      <th>8128</th>\n",
              "      <td>5</td>\n",
              "      <td>5</td>\n",
              "      <td>5</td>\n",
              "      <td>5</td>\n",
              "      <td>5</td>\n",
              "      <td>3</td>\n",
              "      <td>5</td>\n",
              "      <td>1</td>\n",
              "      <td>5</td>\n",
              "      <td>5</td>\n",
              "      <td>...</td>\n",
              "      <td>4</td>\n",
              "      <td>5</td>\n",
              "      <td>5</td>\n",
              "      <td>5</td>\n",
              "      <td>5</td>\n",
              "      <td>3</td>\n",
              "      <td>5</td>\n",
              "      <td>3</td>\n",
              "      <td>5</td>\n",
              "      <td>1</td>\n",
              "    </tr>\n",
              "    <tr>\n",
              "      <th>7183</th>\n",
              "      <td>5</td>\n",
              "      <td>4</td>\n",
              "      <td>5</td>\n",
              "      <td>2</td>\n",
              "      <td>4</td>\n",
              "      <td>5</td>\n",
              "      <td>3</td>\n",
              "      <td>4</td>\n",
              "      <td>2</td>\n",
              "      <td>5</td>\n",
              "      <td>...</td>\n",
              "      <td>3</td>\n",
              "      <td>4</td>\n",
              "      <td>5</td>\n",
              "      <td>5</td>\n",
              "      <td>3</td>\n",
              "      <td>4</td>\n",
              "      <td>5</td>\n",
              "      <td>3</td>\n",
              "      <td>5</td>\n",
              "      <td>4</td>\n",
              "    </tr>\n",
              "  </tbody>\n",
              "</table>\n",
              "<p>5 rows × 823 columns</p>\n",
              "</div>\n",
              "      <button class=\"colab-df-convert\" onclick=\"convertToInteractive('df-4ec03bfb-87c0-43f5-90fd-5b382849bc13')\"\n",
              "              title=\"Convert this dataframe to an interactive table.\"\n",
              "              style=\"display:none;\">\n",
              "        \n",
              "  <svg xmlns=\"http://www.w3.org/2000/svg\" height=\"24px\"viewBox=\"0 0 24 24\"\n",
              "       width=\"24px\">\n",
              "    <path d=\"M0 0h24v24H0V0z\" fill=\"none\"/>\n",
              "    <path d=\"M18.56 5.44l.94 2.06.94-2.06 2.06-.94-2.06-.94-.94-2.06-.94 2.06-2.06.94zm-11 1L8.5 8.5l.94-2.06 2.06-.94-2.06-.94L8.5 2.5l-.94 2.06-2.06.94zm10 10l.94 2.06.94-2.06 2.06-.94-2.06-.94-.94-2.06-.94 2.06-2.06.94z\"/><path d=\"M17.41 7.96l-1.37-1.37c-.4-.4-.92-.59-1.43-.59-.52 0-1.04.2-1.43.59L10.3 9.45l-7.72 7.72c-.78.78-.78 2.05 0 2.83L4 21.41c.39.39.9.59 1.41.59.51 0 1.02-.2 1.41-.59l7.78-7.78 2.81-2.81c.8-.78.8-2.07 0-2.86zM5.41 20L4 18.59l7.72-7.72 1.47 1.35L5.41 20z\"/>\n",
              "  </svg>\n",
              "      </button>\n",
              "      \n",
              "  <style>\n",
              "    .colab-df-container {\n",
              "      display:flex;\n",
              "      flex-wrap:wrap;\n",
              "      gap: 12px;\n",
              "    }\n",
              "\n",
              "    .colab-df-convert {\n",
              "      background-color: #E8F0FE;\n",
              "      border: none;\n",
              "      border-radius: 50%;\n",
              "      cursor: pointer;\n",
              "      display: none;\n",
              "      fill: #1967D2;\n",
              "      height: 32px;\n",
              "      padding: 0 0 0 0;\n",
              "      width: 32px;\n",
              "    }\n",
              "\n",
              "    .colab-df-convert:hover {\n",
              "      background-color: #E2EBFA;\n",
              "      box-shadow: 0px 1px 2px rgba(60, 64, 67, 0.3), 0px 1px 3px 1px rgba(60, 64, 67, 0.15);\n",
              "      fill: #174EA6;\n",
              "    }\n",
              "\n",
              "    [theme=dark] .colab-df-convert {\n",
              "      background-color: #3B4455;\n",
              "      fill: #D2E3FC;\n",
              "    }\n",
              "\n",
              "    [theme=dark] .colab-df-convert:hover {\n",
              "      background-color: #434B5C;\n",
              "      box-shadow: 0px 1px 3px 1px rgba(0, 0, 0, 0.15);\n",
              "      filter: drop-shadow(0px 1px 2px rgba(0, 0, 0, 0.3));\n",
              "      fill: #FFFFFF;\n",
              "    }\n",
              "  </style>\n",
              "\n",
              "      <script>\n",
              "        const buttonEl =\n",
              "          document.querySelector('#df-4ec03bfb-87c0-43f5-90fd-5b382849bc13 button.colab-df-convert');\n",
              "        buttonEl.style.display =\n",
              "          google.colab.kernel.accessAllowed ? 'block' : 'none';\n",
              "\n",
              "        async function convertToInteractive(key) {\n",
              "          const element = document.querySelector('#df-4ec03bfb-87c0-43f5-90fd-5b382849bc13');\n",
              "          const dataTable =\n",
              "            await google.colab.kernel.invokeFunction('convertToInteractive',\n",
              "                                                     [key], {});\n",
              "          if (!dataTable) return;\n",
              "\n",
              "          const docLinkHtml = 'Like what you see? Visit the ' +\n",
              "            '<a target=\"_blank\" href=https://colab.research.google.com/notebooks/data_table.ipynb>data table notebook</a>'\n",
              "            + ' to learn more about interactive tables.';\n",
              "          element.innerHTML = '';\n",
              "          dataTable['output_type'] = 'display_data';\n",
              "          await google.colab.output.renderOutput(dataTable, element);\n",
              "          const docLink = document.createElement('div');\n",
              "          docLink.innerHTML = docLinkHtml;\n",
              "          element.appendChild(docLink);\n",
              "        }\n",
              "      </script>\n",
              "    </div>\n",
              "  </div>\n",
              "  "
            ]
          },
          "metadata": {},
          "execution_count": 60
        }
      ]
    },
    {
      "cell_type": "code",
      "source": [
        "df_mat_filled1 = pd.read_csv('/content/epinions_user_item_filled_75K_matrix_100k_leaning.csv')"
      ],
      "metadata": {
        "id": "HePIy9kSpui_"
      },
      "execution_count": null,
      "outputs": []
    },
    {
      "cell_type": "code",
      "source": [
        "df_mat.head()"
      ],
      "metadata": {
        "id": "XuhpPu1sGig6",
        "outputId": "1a9a0436-0330-4ad1-fa64-e16eb14f5d02",
        "colab": {
          "base_uri": "https://localhost:8080/",
          "height": 236
        }
      },
      "execution_count": 61,
      "outputs": [
        {
          "output_type": "execute_result",
          "data": {
            "text/plain": [
              "      27885  23256  25985  21644  24027  25702  28481  28893  22423  27585  \\\n",
              "6236      3      0      0      0      0      0      0      0      0      0   \n",
              "8696      0      5      0      0      0      0      0      0      0      0   \n",
              "9301      0      0      3      0      0      0      0      0      0      0   \n",
              "8128      0      0      0      5      0      0      0      0      0      0   \n",
              "7183      0      0      0      4      0      0      0      0      0      0   \n",
              "\n",
              "      ...  25693  25156  22961  20797  21776  20404  23710  28375  29613  \\\n",
              "6236  ...      0      0      0      0      0      0      0      0      0   \n",
              "8696  ...      0      0      0      0      0      0      0      0      0   \n",
              "9301  ...      0      0      0      0      0      0      0      0      0   \n",
              "8128  ...      0      0      0      0      0      0      0      0      0   \n",
              "7183  ...      0      0      0      0      0      0      0      0      0   \n",
              "\n",
              "      28998  \n",
              "6236      0  \n",
              "8696      0  \n",
              "9301      0  \n",
              "8128      0  \n",
              "7183      0  \n",
              "\n",
              "[5 rows x 823 columns]"
            ],
            "text/html": [
              "\n",
              "  <div id=\"df-1e3e45b4-47bc-4ccd-a06a-e8b2aa66d5c4\">\n",
              "    <div class=\"colab-df-container\">\n",
              "      <div>\n",
              "<style scoped>\n",
              "    .dataframe tbody tr th:only-of-type {\n",
              "        vertical-align: middle;\n",
              "    }\n",
              "\n",
              "    .dataframe tbody tr th {\n",
              "        vertical-align: top;\n",
              "    }\n",
              "\n",
              "    .dataframe thead th {\n",
              "        text-align: right;\n",
              "    }\n",
              "</style>\n",
              "<table border=\"1\" class=\"dataframe\">\n",
              "  <thead>\n",
              "    <tr style=\"text-align: right;\">\n",
              "      <th></th>\n",
              "      <th>27885</th>\n",
              "      <th>23256</th>\n",
              "      <th>25985</th>\n",
              "      <th>21644</th>\n",
              "      <th>24027</th>\n",
              "      <th>25702</th>\n",
              "      <th>28481</th>\n",
              "      <th>28893</th>\n",
              "      <th>22423</th>\n",
              "      <th>27585</th>\n",
              "      <th>...</th>\n",
              "      <th>25693</th>\n",
              "      <th>25156</th>\n",
              "      <th>22961</th>\n",
              "      <th>20797</th>\n",
              "      <th>21776</th>\n",
              "      <th>20404</th>\n",
              "      <th>23710</th>\n",
              "      <th>28375</th>\n",
              "      <th>29613</th>\n",
              "      <th>28998</th>\n",
              "    </tr>\n",
              "  </thead>\n",
              "  <tbody>\n",
              "    <tr>\n",
              "      <th>6236</th>\n",
              "      <td>3</td>\n",
              "      <td>0</td>\n",
              "      <td>0</td>\n",
              "      <td>0</td>\n",
              "      <td>0</td>\n",
              "      <td>0</td>\n",
              "      <td>0</td>\n",
              "      <td>0</td>\n",
              "      <td>0</td>\n",
              "      <td>0</td>\n",
              "      <td>...</td>\n",
              "      <td>0</td>\n",
              "      <td>0</td>\n",
              "      <td>0</td>\n",
              "      <td>0</td>\n",
              "      <td>0</td>\n",
              "      <td>0</td>\n",
              "      <td>0</td>\n",
              "      <td>0</td>\n",
              "      <td>0</td>\n",
              "      <td>0</td>\n",
              "    </tr>\n",
              "    <tr>\n",
              "      <th>8696</th>\n",
              "      <td>0</td>\n",
              "      <td>5</td>\n",
              "      <td>0</td>\n",
              "      <td>0</td>\n",
              "      <td>0</td>\n",
              "      <td>0</td>\n",
              "      <td>0</td>\n",
              "      <td>0</td>\n",
              "      <td>0</td>\n",
              "      <td>0</td>\n",
              "      <td>...</td>\n",
              "      <td>0</td>\n",
              "      <td>0</td>\n",
              "      <td>0</td>\n",
              "      <td>0</td>\n",
              "      <td>0</td>\n",
              "      <td>0</td>\n",
              "      <td>0</td>\n",
              "      <td>0</td>\n",
              "      <td>0</td>\n",
              "      <td>0</td>\n",
              "    </tr>\n",
              "    <tr>\n",
              "      <th>9301</th>\n",
              "      <td>0</td>\n",
              "      <td>0</td>\n",
              "      <td>3</td>\n",
              "      <td>0</td>\n",
              "      <td>0</td>\n",
              "      <td>0</td>\n",
              "      <td>0</td>\n",
              "      <td>0</td>\n",
              "      <td>0</td>\n",
              "      <td>0</td>\n",
              "      <td>...</td>\n",
              "      <td>0</td>\n",
              "      <td>0</td>\n",
              "      <td>0</td>\n",
              "      <td>0</td>\n",
              "      <td>0</td>\n",
              "      <td>0</td>\n",
              "      <td>0</td>\n",
              "      <td>0</td>\n",
              "      <td>0</td>\n",
              "      <td>0</td>\n",
              "    </tr>\n",
              "    <tr>\n",
              "      <th>8128</th>\n",
              "      <td>0</td>\n",
              "      <td>0</td>\n",
              "      <td>0</td>\n",
              "      <td>5</td>\n",
              "      <td>0</td>\n",
              "      <td>0</td>\n",
              "      <td>0</td>\n",
              "      <td>0</td>\n",
              "      <td>0</td>\n",
              "      <td>0</td>\n",
              "      <td>...</td>\n",
              "      <td>0</td>\n",
              "      <td>0</td>\n",
              "      <td>0</td>\n",
              "      <td>0</td>\n",
              "      <td>0</td>\n",
              "      <td>0</td>\n",
              "      <td>0</td>\n",
              "      <td>0</td>\n",
              "      <td>0</td>\n",
              "      <td>0</td>\n",
              "    </tr>\n",
              "    <tr>\n",
              "      <th>7183</th>\n",
              "      <td>0</td>\n",
              "      <td>0</td>\n",
              "      <td>0</td>\n",
              "      <td>4</td>\n",
              "      <td>0</td>\n",
              "      <td>0</td>\n",
              "      <td>0</td>\n",
              "      <td>0</td>\n",
              "      <td>0</td>\n",
              "      <td>0</td>\n",
              "      <td>...</td>\n",
              "      <td>0</td>\n",
              "      <td>0</td>\n",
              "      <td>0</td>\n",
              "      <td>0</td>\n",
              "      <td>0</td>\n",
              "      <td>0</td>\n",
              "      <td>0</td>\n",
              "      <td>0</td>\n",
              "      <td>0</td>\n",
              "      <td>0</td>\n",
              "    </tr>\n",
              "  </tbody>\n",
              "</table>\n",
              "<p>5 rows × 823 columns</p>\n",
              "</div>\n",
              "      <button class=\"colab-df-convert\" onclick=\"convertToInteractive('df-1e3e45b4-47bc-4ccd-a06a-e8b2aa66d5c4')\"\n",
              "              title=\"Convert this dataframe to an interactive table.\"\n",
              "              style=\"display:none;\">\n",
              "        \n",
              "  <svg xmlns=\"http://www.w3.org/2000/svg\" height=\"24px\"viewBox=\"0 0 24 24\"\n",
              "       width=\"24px\">\n",
              "    <path d=\"M0 0h24v24H0V0z\" fill=\"none\"/>\n",
              "    <path d=\"M18.56 5.44l.94 2.06.94-2.06 2.06-.94-2.06-.94-.94-2.06-.94 2.06-2.06.94zm-11 1L8.5 8.5l.94-2.06 2.06-.94-2.06-.94L8.5 2.5l-.94 2.06-2.06.94zm10 10l.94 2.06.94-2.06 2.06-.94-2.06-.94-.94-2.06-.94 2.06-2.06.94z\"/><path d=\"M17.41 7.96l-1.37-1.37c-.4-.4-.92-.59-1.43-.59-.52 0-1.04.2-1.43.59L10.3 9.45l-7.72 7.72c-.78.78-.78 2.05 0 2.83L4 21.41c.39.39.9.59 1.41.59.51 0 1.02-.2 1.41-.59l7.78-7.78 2.81-2.81c.8-.78.8-2.07 0-2.86zM5.41 20L4 18.59l7.72-7.72 1.47 1.35L5.41 20z\"/>\n",
              "  </svg>\n",
              "      </button>\n",
              "      \n",
              "  <style>\n",
              "    .colab-df-container {\n",
              "      display:flex;\n",
              "      flex-wrap:wrap;\n",
              "      gap: 12px;\n",
              "    }\n",
              "\n",
              "    .colab-df-convert {\n",
              "      background-color: #E8F0FE;\n",
              "      border: none;\n",
              "      border-radius: 50%;\n",
              "      cursor: pointer;\n",
              "      display: none;\n",
              "      fill: #1967D2;\n",
              "      height: 32px;\n",
              "      padding: 0 0 0 0;\n",
              "      width: 32px;\n",
              "    }\n",
              "\n",
              "    .colab-df-convert:hover {\n",
              "      background-color: #E2EBFA;\n",
              "      box-shadow: 0px 1px 2px rgba(60, 64, 67, 0.3), 0px 1px 3px 1px rgba(60, 64, 67, 0.15);\n",
              "      fill: #174EA6;\n",
              "    }\n",
              "\n",
              "    [theme=dark] .colab-df-convert {\n",
              "      background-color: #3B4455;\n",
              "      fill: #D2E3FC;\n",
              "    }\n",
              "\n",
              "    [theme=dark] .colab-df-convert:hover {\n",
              "      background-color: #434B5C;\n",
              "      box-shadow: 0px 1px 3px 1px rgba(0, 0, 0, 0.15);\n",
              "      filter: drop-shadow(0px 1px 2px rgba(0, 0, 0, 0.3));\n",
              "      fill: #FFFFFF;\n",
              "    }\n",
              "  </style>\n",
              "\n",
              "      <script>\n",
              "        const buttonEl =\n",
              "          document.querySelector('#df-1e3e45b4-47bc-4ccd-a06a-e8b2aa66d5c4 button.colab-df-convert');\n",
              "        buttonEl.style.display =\n",
              "          google.colab.kernel.accessAllowed ? 'block' : 'none';\n",
              "\n",
              "        async function convertToInteractive(key) {\n",
              "          const element = document.querySelector('#df-1e3e45b4-47bc-4ccd-a06a-e8b2aa66d5c4');\n",
              "          const dataTable =\n",
              "            await google.colab.kernel.invokeFunction('convertToInteractive',\n",
              "                                                     [key], {});\n",
              "          if (!dataTable) return;\n",
              "\n",
              "          const docLinkHtml = 'Like what you see? Visit the ' +\n",
              "            '<a target=\"_blank\" href=https://colab.research.google.com/notebooks/data_table.ipynb>data table notebook</a>'\n",
              "            + ' to learn more about interactive tables.';\n",
              "          element.innerHTML = '';\n",
              "          dataTable['output_type'] = 'display_data';\n",
              "          await google.colab.output.renderOutput(dataTable, element);\n",
              "          const docLink = document.createElement('div');\n",
              "          docLink.innerHTML = docLinkHtml;\n",
              "          element.appendChild(docLink);\n",
              "        }\n",
              "      </script>\n",
              "    </div>\n",
              "  </div>\n",
              "  "
            ]
          },
          "metadata": {},
          "execution_count": 61
        }
      ]
    },
    {
      "cell_type": "code",
      "source": [
        "df_mat_sample =df_mat_filled"
      ],
      "metadata": {
        "id": "KIzOORSDYbS3"
      },
      "execution_count": 62,
      "outputs": []
    },
    {
      "cell_type": "code",
      "source": [
        "df_mat_sample.head()"
      ],
      "metadata": {
        "id": "jQBGD_QlcQvl"
      },
      "execution_count": null,
      "outputs": []
    },
    {
      "cell_type": "code",
      "source": [
        "def to_binary(x):\n",
        "  if (x > 0):\n",
        "    x = 1\n",
        "  return x"
      ],
      "metadata": {
        "id": "IydI5-fQWQD-"
      },
      "execution_count": null,
      "outputs": []
    },
    {
      "cell_type": "code",
      "source": [
        "def df_to_binary(df):\n",
        "  for col in df.columns:\n",
        "    df[col] = df[col].apply(to_binary)\n",
        "  return df"
      ],
      "metadata": {
        "id": "sYMNa0FTWJMA"
      },
      "execution_count": null,
      "outputs": []
    },
    {
      "cell_type": "code",
      "source": [
        "#Autoencoder\n",
        "\n",
        "encoder_input = layers.Input(shape=(df_mat_sample.shape[1]),name='user_item')\n",
        "flat = layers.Flatten()(encoder_input)\n",
        "#dropout = layers.Dropout(.2)(flat)\n",
        "hid_encoder = layers.Dense(256,activation=\"relu\")(flat)\n",
        "# hid_encoder1 = layers.Dense(256,activation=\"relu\")(hid_encoder)\n",
        "# hid_encoder2 = layers.Dense(128,activation=\"relu\")(hid_encoder1)\n",
        "# hid_encoder3 = layers.Dense(10,activation=\"relu\")(hid_encoder2)\n",
        "encoder_output = layers.Dense(128,activation=\"relu\")(hid_encoder)\n",
        "\n",
        "decoder_input = layers.Dense(256,activation=\"relu\")(encoder_output)\n",
        "# decoder_hidden1 = layers.Dense(256,activation=\"relu\")(decoder_input)\n",
        "# decoder_hidden2 = layers.Dense(512,activation=\"relu\")(decoder_hidden1)\n",
        "# decoder_hidden3 = layers.Dense(25,activation=\"relu\")(decoder_hidden2)\n",
        "decoder_output = layers.Dense(df_mat_sample.shape[1],activation=\"relu\")(decoder_input)\n",
        "\n",
        "autoencoder = tf.keras.Model(inputs = encoder_input, outputs = decoder_output)"
      ],
      "metadata": {
        "id": "YFYfUYa-e3w9"
      },
      "execution_count": 65,
      "outputs": []
    },
    {
      "cell_type": "code",
      "source": [
        "def rmse (y_true,y_pred):\n",
        "  y_pred = tf.cast(y_pred, tf.float32)\n",
        "  y_true = tf.cast(y_true, tf.float32)\n",
        "  rmse = y_true - y_pred\n",
        "  rmse = tf.square(rmse)\n",
        "  rmse = tf.math.reduce_mean(rmse)\n",
        "  rmse = tf.math.sqrt(rmse)\n",
        "  return rmse\n",
        "\n",
        "opt = tf.keras.optimizers.Adam(learning_rate=0.00001)"
      ],
      "metadata": {
        "id": "QVclLDh4C46p"
      },
      "execution_count": null,
      "outputs": []
    },
    {
      "cell_type": "code",
      "source": [
        "autoencoder.compile(optimizer ='adam',\n",
        "                    loss = tf.keras.losses.MeanAbsoluteError(),\n",
        "                    metrics=['accuracy'])"
      ],
      "metadata": {
        "id": "_h1-_AumilKy"
      },
      "execution_count": 66,
      "outputs": []
    },
    {
      "cell_type": "code",
      "source": [
        "autoencoder.summary()"
      ],
      "metadata": {
        "id": "QxDl7Q-1jPdj"
      },
      "execution_count": null,
      "outputs": []
    },
    {
      "cell_type": "code",
      "source": [
        "X_train,X_test,y_train,y_test = train_test_split(df_mat,df_mat_sample)"
      ],
      "metadata": {
        "id": "fbfvR2O-HnPp"
      },
      "execution_count": 68,
      "outputs": []
    },
    {
      "cell_type": "code",
      "source": [
        "X_train"
      ],
      "metadata": {
        "id": "mE4mZsc3cE8K"
      },
      "execution_count": null,
      "outputs": []
    },
    {
      "cell_type": "code",
      "source": [
        "autoencoder.fit(X_train, y_train, epochs = 25)"
      ],
      "metadata": {
        "id": "dh7hlrNijRGN"
      },
      "execution_count": null,
      "outputs": []
    },
    {
      "cell_type": "code",
      "source": [
        "autoencoder.evaluate(X_test,y_test)"
      ],
      "metadata": {
        "id": "u50crOS0OGTQ",
        "outputId": "02b7d714-6326-4672-da83-996a15e7028b",
        "colab": {
          "base_uri": "https://localhost:8080/"
        }
      },
      "execution_count": 73,
      "outputs": [
        {
          "output_type": "stream",
          "name": "stdout",
          "text": [
            "8/8 [==============================] - 0s 3ms/step - loss: 0.8879 - accuracy: 0.0000e+00\n"
          ]
        },
        {
          "output_type": "execute_result",
          "data": {
            "text/plain": [
              "[0.8879443407058716, 0.0]"
            ]
          },
          "metadata": {},
          "execution_count": 73
        }
      ]
    },
    {
      "cell_type": "code",
      "source": [
        "df_mat"
      ],
      "metadata": {
        "id": "QZfdCQKpP1Fr"
      },
      "execution_count": null,
      "outputs": []
    },
    {
      "cell_type": "code",
      "source": [
        "mat_pred = autoencoder.predict(df_mat)"
      ],
      "metadata": {
        "id": "8mRENNR6OUvh",
        "outputId": "f552e084-05c5-4d12-f74d-ebf9052deb3f",
        "colab": {
          "base_uri": "https://localhost:8080/"
        }
      },
      "execution_count": null,
      "outputs": [
        {
          "output_type": "stream",
          "name": "stdout",
          "text": [
            "102/102 [==============================] - 0s 2ms/step\n"
          ]
        }
      ]
    },
    {
      "cell_type": "code",
      "source": [
        "mat_pred"
      ],
      "metadata": {
        "id": "kXiLEuz3vS3s",
        "outputId": "aaf1b275-5c3a-4870-c3f3-a04efda9534e",
        "colab": {
          "base_uri": "https://localhost:8080/"
        }
      },
      "execution_count": null,
      "outputs": [
        {
          "output_type": "execute_result",
          "data": {
            "text/plain": [
              "array([[5.0309396, 4.997768 , 5.486996 , ..., 5.0276556, 4.019191 ,\n",
              "        5.0223575],\n",
              "       [4.996603 , 4.997317 , 3.1208553, ..., 5.0028224, 3.7864075,\n",
              "        4.999507 ],\n",
              "       [4.9986353, 5.004016 , 2.3716743, ..., 5.0063057, 3.1234455,\n",
              "        5.0051513],\n",
              "       ...,\n",
              "       [4.9948664, 4.9963155, 4.4013014, ..., 5.003981 , 4.028637 ,\n",
              "        5.0001802],\n",
              "       [4.9948664, 4.9963155, 4.4013014, ..., 5.003981 , 4.028637 ,\n",
              "        5.0001802],\n",
              "       [4.9948664, 4.9963155, 4.4013014, ..., 5.003981 , 4.028637 ,\n",
              "        5.0001802]], dtype=float32)"
            ]
          },
          "metadata": {},
          "execution_count": 38
        }
      ]
    },
    {
      "cell_type": "code",
      "source": [
        "df_mat_pred = pd.DataFrame(mat_pred, index = df_mat_sample.index, columns = df_mat_sample.columns)"
      ],
      "metadata": {
        "id": "NF1MKF0Fjigd"
      },
      "execution_count": null,
      "outputs": []
    },
    {
      "cell_type": "code",
      "source": [
        "df_mat_pred.max()"
      ],
      "metadata": {
        "id": "A-aIuIYrvf31",
        "outputId": "76ef2337-584c-4a3c-ebb4-6b39d8d4540d",
        "colab": {
          "base_uri": "https://localhost:8080/"
        }
      },
      "execution_count": null,
      "outputs": [
        {
          "output_type": "execute_result",
          "data": {
            "text/plain": [
              "189722    6.472934\n",
              "122571    6.492408\n",
              "100211    6.818763\n",
              "101960    6.571887\n",
              "105337    6.085056\n",
              "            ...   \n",
              "137594    5.982568\n",
              "198330    7.050071\n",
              "136306    6.202019\n",
              "197491    7.210152\n",
              "124494    5.497391\n",
              "Length: 1369, dtype: float32"
            ]
          },
          "metadata": {},
          "execution_count": 40
        }
      ]
    },
    {
      "cell_type": "code",
      "source": [
        "scaler = preprocessing.MinMaxScaler(feature_range=(1, 5))\n",
        "d = scaler.fit_transform(df_mat_pred)\n",
        "scaled_df = pd.DataFrame(d,index = df_mat_pred.index,columns = df_mat_pred.columns)\n",
        "scaled_df"
      ],
      "metadata": {
        "id": "ooHOSE20PMpK"
      },
      "execution_count": null,
      "outputs": []
    },
    {
      "cell_type": "code",
      "source": [
        "for col in df_mat_pred.columns:\n",
        " df_mat_pred[col] = df_mat_pred[col].apply(lambda x: 5 if x> 5.5 else x)"
      ],
      "metadata": {
        "id": "D_tWr8piYItf"
      },
      "execution_count": null,
      "outputs": []
    },
    {
      "cell_type": "code",
      "source": [
        "df_mat_pred"
      ],
      "metadata": {
        "id": "lmdZsU3IjTnX"
      },
      "execution_count": null,
      "outputs": []
    },
    {
      "cell_type": "code",
      "source": [
        "res = np.where(df_mat_pred.iloc[:,:].values == 1 )\n",
        "res[0].size"
      ],
      "metadata": {
        "id": "zVh18elW3IsL"
      },
      "execution_count": null,
      "outputs": []
    }
  ]
}
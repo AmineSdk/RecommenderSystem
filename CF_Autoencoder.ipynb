{
  "nbformat": 4,
  "nbformat_minor": 0,
  "metadata": {
    "colab": {
      "name": "CF_Autoencoder.ipynb",
      "provenance": [],
      "collapsed_sections": []
    },
    "kernelspec": {
      "name": "python3",
      "display_name": "Python 3"
    },
    "language_info": {
      "name": "python"
    },
    "gpuClass": "standard",
    "accelerator": "GPU"
  },
  "cells": [
    {
      "cell_type": "code",
      "source": [
        "!pip install tensorflow-text"
      ],
      "metadata": {
        "id": "nFsPPT0-cZms"
      },
      "execution_count": null,
      "outputs": []
    },
    {
      "cell_type": "code",
      "source": [
        "! mkdir ~/.kaggle\n",
        "! cp kaggle.json ~/.kaggle/\n",
        "! chmod 600 ~/.kaggle/kaggle.json\n",
        "! kaggle datasets download -d aminesedkaoui/epinions-ratings-500k\n",
        "! kaggle datasets download -d aminesedkaoui/epinions-user-item-matrix-75k"
      ],
      "metadata": {
        "id": "UM0vifCk9CB0"
      },
      "execution_count": 1,
      "outputs": []
    },
    {
      "cell_type": "code",
      "execution_count": 2,
      "metadata": {
        "id": "TcGcg4ZzRQD1"
      },
      "outputs": [],
      "source": [
        "from scipy.sparse import csr_matrix\n",
        "import tensorflow as tf \n",
        "import numpy as np\n",
        "import tensorflow_hub as hub\n",
        "import tensorflow_text as text\n",
        "import pandas as pd\n",
        "import random\n",
        "from keras import datasets, layers, models\n",
        "from sklearn.model_selection import train_test_split"
      ]
    },
    {
      "cell_type": "code",
      "source": [
        "!unzip \"/content/epinions-ratings-500k.zip\" -d \"/content/\"\n",
        "!unzip \"/content/epinions-user-item-matrix-75k.zip\" -d \"/content/\""
      ],
      "metadata": {
        "id": "ppVGlIh8Ce8q"
      },
      "execution_count": null,
      "outputs": []
    },
    {
      "cell_type": "code",
      "source": [
        "df = pd.read_csv('/content/epinions_rating_500k.csv')\n",
        "df = df.drop(['Unnamed: 0'],axis=1)\n",
        "df.head()"
      ],
      "metadata": {
        "id": "M-Fxg9TcRStc",
        "outputId": "c97a1b90-7af4-4567-a112-71499b6feb0b",
        "colab": {
          "base_uri": "https://localhost:8080/",
          "height": 206
        }
      },
      "execution_count": 3,
      "outputs": [
        {
          "output_type": "execute_result",
          "data": {
            "text/plain": [
              "     Item_ID     User_ID  rating\n",
              "0  139431556  1312460676       5\n",
              "1  139431556      204358       5\n",
              "2  139431556      368725       5\n",
              "3  139431556      277629       5\n",
              "4  139431556      246386       5"
            ],
            "text/html": [
              "\n",
              "  <div id=\"df-76194083-3ed3-493c-8961-4a6cb5d60d99\">\n",
              "    <div class=\"colab-df-container\">\n",
              "      <div>\n",
              "<style scoped>\n",
              "    .dataframe tbody tr th:only-of-type {\n",
              "        vertical-align: middle;\n",
              "    }\n",
              "\n",
              "    .dataframe tbody tr th {\n",
              "        vertical-align: top;\n",
              "    }\n",
              "\n",
              "    .dataframe thead th {\n",
              "        text-align: right;\n",
              "    }\n",
              "</style>\n",
              "<table border=\"1\" class=\"dataframe\">\n",
              "  <thead>\n",
              "    <tr style=\"text-align: right;\">\n",
              "      <th></th>\n",
              "      <th>Item_ID</th>\n",
              "      <th>User_ID</th>\n",
              "      <th>rating</th>\n",
              "    </tr>\n",
              "  </thead>\n",
              "  <tbody>\n",
              "    <tr>\n",
              "      <th>0</th>\n",
              "      <td>139431556</td>\n",
              "      <td>1312460676</td>\n",
              "      <td>5</td>\n",
              "    </tr>\n",
              "    <tr>\n",
              "      <th>1</th>\n",
              "      <td>139431556</td>\n",
              "      <td>204358</td>\n",
              "      <td>5</td>\n",
              "    </tr>\n",
              "    <tr>\n",
              "      <th>2</th>\n",
              "      <td>139431556</td>\n",
              "      <td>368725</td>\n",
              "      <td>5</td>\n",
              "    </tr>\n",
              "    <tr>\n",
              "      <th>3</th>\n",
              "      <td>139431556</td>\n",
              "      <td>277629</td>\n",
              "      <td>5</td>\n",
              "    </tr>\n",
              "    <tr>\n",
              "      <th>4</th>\n",
              "      <td>139431556</td>\n",
              "      <td>246386</td>\n",
              "      <td>5</td>\n",
              "    </tr>\n",
              "  </tbody>\n",
              "</table>\n",
              "</div>\n",
              "      <button class=\"colab-df-convert\" onclick=\"convertToInteractive('df-76194083-3ed3-493c-8961-4a6cb5d60d99')\"\n",
              "              title=\"Convert this dataframe to an interactive table.\"\n",
              "              style=\"display:none;\">\n",
              "        \n",
              "  <svg xmlns=\"http://www.w3.org/2000/svg\" height=\"24px\"viewBox=\"0 0 24 24\"\n",
              "       width=\"24px\">\n",
              "    <path d=\"M0 0h24v24H0V0z\" fill=\"none\"/>\n",
              "    <path d=\"M18.56 5.44l.94 2.06.94-2.06 2.06-.94-2.06-.94-.94-2.06-.94 2.06-2.06.94zm-11 1L8.5 8.5l.94-2.06 2.06-.94-2.06-.94L8.5 2.5l-.94 2.06-2.06.94zm10 10l.94 2.06.94-2.06 2.06-.94-2.06-.94-.94-2.06-.94 2.06-2.06.94z\"/><path d=\"M17.41 7.96l-1.37-1.37c-.4-.4-.92-.59-1.43-.59-.52 0-1.04.2-1.43.59L10.3 9.45l-7.72 7.72c-.78.78-.78 2.05 0 2.83L4 21.41c.39.39.9.59 1.41.59.51 0 1.02-.2 1.41-.59l7.78-7.78 2.81-2.81c.8-.78.8-2.07 0-2.86zM5.41 20L4 18.59l7.72-7.72 1.47 1.35L5.41 20z\"/>\n",
              "  </svg>\n",
              "      </button>\n",
              "      \n",
              "  <style>\n",
              "    .colab-df-container {\n",
              "      display:flex;\n",
              "      flex-wrap:wrap;\n",
              "      gap: 12px;\n",
              "    }\n",
              "\n",
              "    .colab-df-convert {\n",
              "      background-color: #E8F0FE;\n",
              "      border: none;\n",
              "      border-radius: 50%;\n",
              "      cursor: pointer;\n",
              "      display: none;\n",
              "      fill: #1967D2;\n",
              "      height: 32px;\n",
              "      padding: 0 0 0 0;\n",
              "      width: 32px;\n",
              "    }\n",
              "\n",
              "    .colab-df-convert:hover {\n",
              "      background-color: #E2EBFA;\n",
              "      box-shadow: 0px 1px 2px rgba(60, 64, 67, 0.3), 0px 1px 3px 1px rgba(60, 64, 67, 0.15);\n",
              "      fill: #174EA6;\n",
              "    }\n",
              "\n",
              "    [theme=dark] .colab-df-convert {\n",
              "      background-color: #3B4455;\n",
              "      fill: #D2E3FC;\n",
              "    }\n",
              "\n",
              "    [theme=dark] .colab-df-convert:hover {\n",
              "      background-color: #434B5C;\n",
              "      box-shadow: 0px 1px 3px 1px rgba(0, 0, 0, 0.15);\n",
              "      filter: drop-shadow(0px 1px 2px rgba(0, 0, 0, 0.3));\n",
              "      fill: #FFFFFF;\n",
              "    }\n",
              "  </style>\n",
              "\n",
              "      <script>\n",
              "        const buttonEl =\n",
              "          document.querySelector('#df-76194083-3ed3-493c-8961-4a6cb5d60d99 button.colab-df-convert');\n",
              "        buttonEl.style.display =\n",
              "          google.colab.kernel.accessAllowed ? 'block' : 'none';\n",
              "\n",
              "        async function convertToInteractive(key) {\n",
              "          const element = document.querySelector('#df-76194083-3ed3-493c-8961-4a6cb5d60d99');\n",
              "          const dataTable =\n",
              "            await google.colab.kernel.invokeFunction('convertToInteractive',\n",
              "                                                     [key], {});\n",
              "          if (!dataTable) return;\n",
              "\n",
              "          const docLinkHtml = 'Like what you see? Visit the ' +\n",
              "            '<a target=\"_blank\" href=https://colab.research.google.com/notebooks/data_table.ipynb>data table notebook</a>'\n",
              "            + ' to learn more about interactive tables.';\n",
              "          element.innerHTML = '';\n",
              "          dataTable['output_type'] = 'display_data';\n",
              "          await google.colab.output.renderOutput(dataTable, element);\n",
              "          const docLink = document.createElement('div');\n",
              "          docLink.innerHTML = docLinkHtml;\n",
              "          element.appendChild(docLink);\n",
              "        }\n",
              "      </script>\n",
              "    </div>\n",
              "  </div>\n",
              "  "
            ]
          },
          "metadata": {},
          "execution_count": 3
        }
      ]
    },
    {
      "cell_type": "code",
      "source": [
        "def DatasetToUserItemDataFrame(dataframe,userID,itemID,rating):\n",
        "  #Setting new item IDs from string to int \n",
        "  itemKeys = [] \n",
        "  i = 0\n",
        "  for item in dataframe[itemID].value_counts(sort=False):\n",
        "    temp = np.full((item),i)\n",
        "    itemKeys = np.append(itemKeys,temp)\n",
        "    i += 1\n",
        "\n",
        "  #Setting new user IDs from string to int\n",
        "  userKeysDic = {}\n",
        "  userKeys = np.zeros((dataframe[userID].size))\n",
        "  i = 0\n",
        "  for user in dataframe[userID].unique():\n",
        "    userKeysDic[user] = i\n",
        "    i += 1\n",
        "  i = 0\n",
        "  for user in dataframe[userID]:\n",
        "    userKeys[i] = userKeysDic[user]\n",
        "    i += 1\n",
        "\n",
        "  #Converting arrays from float to int \n",
        "  userKeys = userKeys.astype(int)\n",
        "  itemKeys = itemKeys.astype(int)\n",
        "\n",
        "  \n",
        "  user_item = csr_matrix((dataframe[rating].values.astype(int),(userKeys,itemKeys))) #Creating sparse matrix\n",
        "  user_item_matrix = user_item.toarray() #Converting sparse matrix into array\n",
        "  df_user_item = pd.DataFrame(user_item_matrix,index = dataframe[userID].unique()  ,columns = dataframe[itemID].unique() ) \n",
        "\n",
        "  return user_item,df_user_item"
      ],
      "metadata": {
        "id": "HHmzbMvDVB0b"
      },
      "execution_count": 4,
      "outputs": []
    },
    {
      "cell_type": "code",
      "source": [
        "def preprocess_df(df):\n",
        "  users = df['User_ID'].unique()\n",
        "  items = df['Item_ID'].unique()\n",
        "  df_train = df.copy()\n",
        "\n",
        "  New_User_IDs = random.sample(range(10000,50000),df['User_ID'].nunique())\n",
        "  New_Item_IDs = random.sample(range(100000,200000),df['Item_ID'].nunique())\n",
        "  i = 0\n",
        "  for d in users :\n",
        "    df_train['User_ID'].replace({d : New_User_IDs[i]}, inplace=True)\n",
        "    i+=1\n",
        "\n",
        "  i = 0\n",
        "  for d in items :\n",
        "    df_train['Item_ID'].replace({d : New_Item_IDs[i]}, inplace=True)\n",
        "    i+=1\n",
        "  \n",
        "  df_train['one']=df_train['rating'].apply(lambda x: 1 if x==1 else 0)\n",
        "  df_train['two']=df_train['rating'].apply(lambda x: 1 if x==2 else 0)\n",
        "  df_train['three']=df_train['rating'].apply(lambda x: 1 if x==3 else 0)\n",
        "  df_train['four']=df_train['rating'].apply(lambda x: 1 if x==4 else 0)\n",
        "  df_train['five']=df_train['rating'].apply(lambda x: 1 if x==5 else 0)\n",
        "  df_train['six']=df_train['rating'].apply(lambda x: 1 if x==6 else 0)\n",
        "\n",
        "  return df_train"
      ],
      "metadata": {
        "id": "08ifZdzgO2u9"
      },
      "execution_count": 5,
      "outputs": []
    },
    {
      "cell_type": "code",
      "source": [
        "from numpy.core.fromnumeric import size\n",
        "#GMF\n",
        "\n",
        "def Create_GMF(num_users,num_items,SIZE_):\n",
        "\n",
        "  input_userID = layers.Input(shape=[1], name='user_ID')\n",
        "  input_itemID = layers.Input(shape=[1], name='item_ID')\n",
        "\n",
        "  user_emb_GMF = layers.Embedding(num_users, SIZE_, name='user_emb_GMF')(input_userID)\n",
        "  item_emb_GMF = layers.Embedding(num_items, SIZE_, name='item_emb_GMF')(input_itemID)\n",
        "\n",
        "  u_GMF = layers.Flatten()(user_emb_GMF)\n",
        "  i_GMF = layers.Flatten()(item_emb_GMF)\n",
        "\n",
        "  dot_layer = layers.Multiply()([u_GMF, i_GMF])\n",
        "\n",
        "  out_layer = layers.Dense(6, activation='softmax', name='output')(dot_layer)\n",
        "\n",
        "  GMF = tf.keras.Model([input_userID, input_itemID], out_layer)\n",
        "  \n",
        "  return GMF\n",
        "\n",
        "def Train_GMF(model,X_train,Y_train,nbrEpochs):\n",
        "  model.compile(optimizer = 'adam',\n",
        "                    loss = tf.keras.losses.categorical_crossentropy ,\n",
        "                    metrics=['accuracy'])\n",
        "  model.fit(X_train,Y_train,epochs = nbrEpochs)\n",
        "  return model\n",
        "\n",
        "def user_item_ID_lists(userIDs,itemIDs):\n",
        "  i = 0\n",
        "  item_s = pd.Series()\n",
        "  user_s = pd.Series()\n",
        "  for user in userIDs:\n",
        "    temp = pd.Series(itemIDs)\n",
        "    item_s = item_s.append(temp)\n",
        "    temp = []\n",
        "    temp = [user for item in itemIDs]\n",
        "    temp = pd.Series(temp)\n",
        "    user_s = user_s.append(temp)\n",
        "    progress = user_s.size*100/(userIDs.size * itemIDs.size)\n",
        "   \n",
        "    if (progress  > 10) & (int(progress) < 25) & (i == 0):\n",
        "      print(\"===== 10 % =====\")\n",
        "      i += 1\n",
        "    elif (progress > 25) & (int(progress) < 35) & (i == 1):\n",
        "      print(\"===== 25 % =====\")\n",
        "      i += 1\n",
        "    elif (progress > 35) & (int(progress) < 50) & (i == 2):\n",
        "      print(\"===== 35 % =====\")\n",
        "      i += 1\n",
        "    elif (progress > 50) & (int(progress) < 65) & (i == 3):\n",
        "      print(\"===== 50 % =====\")\n",
        "      i += 1\n",
        "    elif (progress > 65) & (int(progress) < 75) & (i == 4):\n",
        "      print(\"===== 65 % =====\")\n",
        "      i += 1\n",
        "    elif (progress > 75) & (int(progress) < 80) & (i == 5):\n",
        "      print(\"===== 75 % =====\")\n",
        "      i += 1\n",
        "    elif (progress > 80) & (int(progress) < 90) & (i == 6):\n",
        "      print(\"===== 80 % =====\")\n",
        "      i += 1\n",
        "    elif (progress > 90) & (int(progress) < 95) & (i == 7):\n",
        "      print(\"===== 90 % =====\")\n",
        "      i += 1\n",
        "    elif (progress > 95) & (i == 8):\n",
        "      print(\"===== 95 % =====\")\n",
        "      i += 1\n",
        "\n",
        "  return user_s,item_s\n",
        "\n",
        "def Fill_Cf_Matrix(model,userList,itemList,userIDs,itemIDs):\n",
        "\n",
        "  prediction = model.predict([userList,itemList],verbose = 0)\n",
        "  i = 0\n",
        "  row = []\n",
        "  matrix = []\n",
        "  print(\"pred done\")\n",
        "\n",
        "  while i < userList.shape[0]:\n",
        "    result = np.where(prediction[i] == np.amax(prediction[i]))[0][0] + 1\n",
        "    row.append(result)\n",
        "    if len(row) == itemIDs.size:\n",
        "      matrix.append(row)\n",
        "      row = []\n",
        "       \n",
        "    i += 1\n",
        "\n",
        "  matrix_arr = np.array(matrix)\n",
        "  dataframe = pd.DataFrame(matrix_arr, index = userIDs, columns = itemIDs)\n",
        "  # for user in userIDs:\n",
        "  #   user_s = pd.Series(user)\n",
        "  #   for item in itemIDs:\n",
        "  #     item_s = pd.Series(item)\n",
        "  #     if dataframe.loc[user][item] == 0:\n",
        "  #       prediction = model.predict([user_s,item_s],verbose = 0)\n",
        "  #       result = np.where(prediction[0] == np.amax(prediction[0]))[0][0] + 1\n",
        "  #       dataframe.loc[user][item] = result\n",
        "  return dataframe\n"
      ],
      "metadata": {
        "id": "z6KHUFF9gwT5"
      },
      "execution_count": 6,
      "outputs": []
    },
    {
      "cell_type": "code",
      "source": [
        "df_train = preprocess_df(df)"
      ],
      "metadata": {
        "id": "5k7vteutejcS"
      },
      "execution_count": 7,
      "outputs": []
    },
    {
      "cell_type": "code",
      "source": [
        "df_train"
      ],
      "metadata": {
        "id": "2e8LqELNCLSH"
      },
      "execution_count": null,
      "outputs": []
    },
    {
      "cell_type": "code",
      "source": [
        "GMF = Create_GMF(df_train['User_ID'].max() + 1,df_train['Item_ID'].max() + 1,64)"
      ],
      "metadata": {
        "id": "HHrM6Dgl8AP1"
      },
      "execution_count": 8,
      "outputs": []
    },
    {
      "cell_type": "code",
      "source": [
        "df_train_sample = df_train[:75000]\n",
        "X_train, X_test,y_train,y_test= train_test_split(df_train_sample[['User_ID','Item_ID']],df_train_sample[['one','two','three','four','five','six']],stratify=df_train_sample[['one','two','three','four','five','six']])\n",
        "#X_train, X_test,y_train,y_test= train_test_split(df_train[['User_ID','Item_ID']],df_train['rating'],stratify=df_train['rating'])"
      ],
      "metadata": {
        "id": "BFid5Xf9_SG8"
      },
      "execution_count": 9,
      "outputs": []
    },
    {
      "cell_type": "code",
      "source": [
        "GMF_trained = Train_GMF(GMF,[X_train['User_ID'],X_train['Item_ID']],y_train,5)"
      ],
      "metadata": {
        "id": "grxA3dxt-HSR"
      },
      "execution_count": null,
      "outputs": []
    },
    {
      "cell_type": "code",
      "source": [
        "user_item_matrix , df_mat = DatasetToUserItemDataFrame(df_train_sample,'User_ID','Item_ID','rating')"
      ],
      "metadata": {
        "id": "Y5_US3dQs3ro"
      },
      "execution_count": 10,
      "outputs": []
    },
    {
      "cell_type": "code",
      "source": [
        "GMF_trained.evaluate([X_test['User_ID'],X_test['Item_ID']],y_test)"
      ],
      "metadata": {
        "id": "AXTEr-r2tqij"
      },
      "execution_count": null,
      "outputs": []
    },
    {
      "cell_type": "code",
      "source": [
        "New_User_IDs = df_train_sample.User_ID.unique()\n",
        "New_Item_IDs = df_train_sample.Item_ID.unique()\n",
        "New_User_IDs"
      ],
      "metadata": {
        "id": "1f_e0Smif07B"
      },
      "execution_count": null,
      "outputs": []
    },
    {
      "cell_type": "code",
      "source": [
        "New_Item_IDs.size * New_User_IDs.size"
      ],
      "metadata": {
        "colab": {
          "base_uri": "https://localhost:8080/"
        },
        "id": "3oqCETBAP30e",
        "outputId": "223d0f64-e462-4ce0-d503-0ef765ce2208"
      },
      "execution_count": null,
      "outputs": [
        {
          "output_type": "execute_result",
          "data": {
            "text/plain": [
              "1731900"
            ]
          },
          "metadata": {},
          "execution_count": 135
        }
      ]
    },
    {
      "cell_type": "code",
      "source": [
        "user_s,item_s = user_item_ID_lists(New_User_IDs,New_Item_IDs)"
      ],
      "metadata": {
        "id": "n9ECgL3BAAFw"
      },
      "execution_count": null,
      "outputs": []
    },
    {
      "cell_type": "code",
      "source": [
        "df_mat_filled = Fill_Cf_Matrix(GMF_trained,user_s,item_s,New_User_IDs,New_Item_IDs)"
      ],
      "metadata": {
        "id": "oqWfFRyBr0mJ",
        "colab": {
          "base_uri": "https://localhost:8080/"
        },
        "outputId": "dac0357a-d62f-40e6-8751-8e6264c55489"
      },
      "execution_count": null,
      "outputs": [
        {
          "output_type": "stream",
          "name": "stdout",
          "text": [
            "pred done\n"
          ]
        }
      ]
    },
    {
      "cell_type": "code",
      "source": [
        "df_mat_filled"
      ],
      "metadata": {
        "id": "JAPemOqlbFFO"
      },
      "execution_count": null,
      "outputs": []
    },
    {
      "cell_type": "code",
      "source": [
        "df_mat_filled1 = pd.read_csv('/content/epinions_user_item_filled_75K_matrix_100k_leaning.csv')"
      ],
      "metadata": {
        "id": "HePIy9kSpui_"
      },
      "execution_count": 11,
      "outputs": []
    },
    {
      "cell_type": "code",
      "source": [
        "df_mat"
      ],
      "metadata": {
        "id": "XuhpPu1sGig6"
      },
      "execution_count": null,
      "outputs": []
    },
    {
      "cell_type": "code",
      "source": [
        "df_mat_filled1"
      ],
      "metadata": {
        "id": "vdnjmhWUFRTB"
      },
      "execution_count": null,
      "outputs": []
    },
    {
      "cell_type": "code",
      "source": [
        "df_mat_sample = df_mat_filled1.iloc[:,:4030]"
      ],
      "metadata": {
        "id": "vlobYj4aGHYG"
      },
      "execution_count": 14,
      "outputs": []
    },
    {
      "cell_type": "code",
      "source": [
        "\n",
        "df_mat_sample.replace(0,' ', inplace = True)\n"
      ],
      "metadata": {
        "id": "FdBTa2HtWUA6"
      },
      "execution_count": 15,
      "outputs": []
    },
    {
      "cell_type": "code",
      "source": [
        "df_mat_sample"
      ],
      "metadata": {
        "id": "KIzOORSDYbS3"
      },
      "execution_count": null,
      "outputs": []
    },
    {
      "cell_type": "code",
      "source": [
        "#Autoencoder\n",
        "\n",
        "encoder_input = layers.Input(shape=(df_mat_sample.shape[1]),name='user_item')\n",
        "flat = layers.Flatten()(encoder_input)\n",
        "dropout = layers.Dropout(.2)(flat)\n",
        "hid_encoder = layers.Dense(512,activation=\"relu\")(dropout)\n",
        "# hid_encoder1 = layers.Dense(256,activation=\"relu\")(hid_encoder)\n",
        "# hid_encoder2 = layers.Dense(128,activation=\"relu\")(hid_encoder1)\n",
        "# hid_encoder3 = layers.Dense(10,activation=\"relu\")(hid_encoder2)\n",
        "encoder_output = layers.Dense(256,activation=\"relu\")(hid_encoder)\n",
        "\n",
        "decoder_input = layers.Dense(512,activation=\"relu\")(encoder_output)\n",
        "# decoder_hidden1 = layers.Dense(256,activation=\"relu\")(decoder_input)\n",
        "# decoder_hidden2 = layers.Dense(512,activation=\"relu\")(decoder_hidden1)\n",
        "# decoder_hidden3 = layers.Dense(25,activation=\"relu\")(decoder_hidden2)\n",
        "decoder_output = layers.Dense(df_mat_sample.shape[1],activation=\"relu\")(decoder_input)\n",
        "\n",
        "autoencoder = tf.keras.Model(inputs = encoder_input, outputs = decoder_output)"
      ],
      "metadata": {
        "id": "YFYfUYa-e3w9"
      },
      "execution_count": 82,
      "outputs": []
    },
    {
      "cell_type": "code",
      "source": [
        "autoencoder.compile(optimizer = 'adam',\n",
        "                    loss = 'mse',\n",
        "                    metrics=['accuracy'])"
      ],
      "metadata": {
        "id": "_h1-_AumilKy"
      },
      "execution_count": 83,
      "outputs": []
    },
    {
      "cell_type": "code",
      "source": [
        "autoencoder.summary()"
      ],
      "metadata": {
        "id": "QxDl7Q-1jPdj"
      },
      "execution_count": null,
      "outputs": []
    },
    {
      "cell_type": "code",
      "source": [
        "X_train , X_test = train_test_split(df_mat_sample)"
      ],
      "metadata": {
        "id": "fbfvR2O-HnPp"
      },
      "execution_count": 84,
      "outputs": []
    },
    {
      "cell_type": "code",
      "source": [
        "X_test"
      ],
      "metadata": {
        "id": "o6YWwSj8ICeD"
      },
      "execution_count": null,
      "outputs": []
    },
    {
      "cell_type": "code",
      "source": [
        "autoencoder.fit(X_train, X_train, epochs = 200)"
      ],
      "metadata": {
        "id": "dh7hlrNijRGN",
        "outputId": "ba379efe-e6ba-4faa-d4f6-d52ae2a50ce0",
        "colab": {
          "base_uri": "https://localhost:8080/"
        }
      },
      "execution_count": 95,
      "outputs": [
        {
          "output_type": "stream",
          "name": "stdout",
          "text": [
            "Epoch 1/200\n",
            "119/119 [==============================] - 1s 6ms/step - loss: 0.1533 - accuracy: 0.0011\n",
            "Epoch 2/200\n",
            "119/119 [==============================] - 1s 5ms/step - loss: 0.1535 - accuracy: 7.8802e-04\n",
            "Epoch 3/200\n",
            "119/119 [==============================] - 1s 5ms/step - loss: 0.1535 - accuracy: 2.6267e-04\n",
            "Epoch 4/200\n",
            "119/119 [==============================] - 1s 4ms/step - loss: 0.1527 - accuracy: 0.0000e+00\n",
            "Epoch 5/200\n",
            "119/119 [==============================] - 1s 4ms/step - loss: 0.1564 - accuracy: 2.6267e-04\n",
            "Epoch 6/200\n",
            "119/119 [==============================] - 1s 4ms/step - loss: 0.1536 - accuracy: 0.0013\n",
            "Epoch 7/200\n",
            "119/119 [==============================] - 1s 4ms/step - loss: 0.1525 - accuracy: 0.0000e+00\n",
            "Epoch 8/200\n",
            "119/119 [==============================] - 1s 4ms/step - loss: 0.1530 - accuracy: 2.6267e-04\n",
            "Epoch 9/200\n",
            "119/119 [==============================] - 1s 4ms/step - loss: 0.1534 - accuracy: 0.0000e+00\n",
            "Epoch 10/200\n",
            "119/119 [==============================] - 1s 4ms/step - loss: 0.1537 - accuracy: 0.0000e+00\n",
            "Epoch 11/200\n",
            "119/119 [==============================] - 1s 4ms/step - loss: 0.1539 - accuracy: 0.0000e+00\n",
            "Epoch 12/200\n",
            "119/119 [==============================] - 1s 4ms/step - loss: 0.1499 - accuracy: 0.0000e+00\n",
            "Epoch 13/200\n",
            "119/119 [==============================] - 1s 4ms/step - loss: 0.1486 - accuracy: 2.6267e-04\n",
            "Epoch 14/200\n",
            "119/119 [==============================] - 1s 4ms/step - loss: 0.1488 - accuracy: 0.0011\n",
            "Epoch 15/200\n",
            "119/119 [==============================] - 1s 4ms/step - loss: 0.1487 - accuracy: 0.0000e+00\n",
            "Epoch 16/200\n",
            "119/119 [==============================] - 1s 5ms/step - loss: 0.1436 - accuracy: 2.6267e-04\n",
            "Epoch 17/200\n",
            "119/119 [==============================] - 1s 4ms/step - loss: 0.1406 - accuracy: 0.0000e+00\n",
            "Epoch 18/200\n",
            "119/119 [==============================] - 1s 4ms/step - loss: 0.1374 - accuracy: 0.0000e+00\n",
            "Epoch 19/200\n",
            "119/119 [==============================] - 1s 4ms/step - loss: 0.1367 - accuracy: 5.2535e-04\n",
            "Epoch 20/200\n",
            "119/119 [==============================] - 1s 5ms/step - loss: 0.1396 - accuracy: 0.0000e+00\n",
            "Epoch 21/200\n",
            "119/119 [==============================] - 1s 4ms/step - loss: 0.1379 - accuracy: 0.0000e+00\n",
            "Epoch 22/200\n",
            "119/119 [==============================] - 1s 4ms/step - loss: 0.1369 - accuracy: 0.0000e+00\n",
            "Epoch 23/200\n",
            "119/119 [==============================] - 1s 4ms/step - loss: 0.1371 - accuracy: 0.0000e+00\n",
            "Epoch 24/200\n",
            "119/119 [==============================] - 1s 4ms/step - loss: 0.1363 - accuracy: 0.0000e+00\n",
            "Epoch 25/200\n",
            "119/119 [==============================] - 1s 4ms/step - loss: 0.1379 - accuracy: 0.0000e+00\n",
            "Epoch 26/200\n",
            "119/119 [==============================] - 1s 4ms/step - loss: 0.1366 - accuracy: 0.0000e+00\n",
            "Epoch 27/200\n",
            "119/119 [==============================] - 1s 4ms/step - loss: 0.1363 - accuracy: 2.6267e-04\n",
            "Epoch 28/200\n",
            "119/119 [==============================] - 1s 4ms/step - loss: 0.1368 - accuracy: 0.0000e+00\n",
            "Epoch 29/200\n",
            "119/119 [==============================] - 1s 4ms/step - loss: 0.1380 - accuracy: 5.2535e-04\n",
            "Epoch 30/200\n",
            "119/119 [==============================] - 1s 4ms/step - loss: 0.1369 - accuracy: 2.6267e-04\n",
            "Epoch 31/200\n",
            "119/119 [==============================] - 1s 4ms/step - loss: 0.1374 - accuracy: 0.0000e+00\n",
            "Epoch 32/200\n",
            "119/119 [==============================] - 1s 4ms/step - loss: 0.1382 - accuracy: 2.6267e-04\n",
            "Epoch 33/200\n",
            "119/119 [==============================] - 1s 4ms/step - loss: 0.1343 - accuracy: 0.0000e+00\n",
            "Epoch 34/200\n",
            "119/119 [==============================] - 1s 4ms/step - loss: 0.1321 - accuracy: 2.6267e-04\n",
            "Epoch 35/200\n",
            "119/119 [==============================] - 1s 4ms/step - loss: 0.1325 - accuracy: 0.0000e+00\n",
            "Epoch 36/200\n",
            "119/119 [==============================] - 1s 4ms/step - loss: 0.1313 - accuracy: 2.6267e-04\n",
            "Epoch 37/200\n",
            "119/119 [==============================] - 1s 4ms/step - loss: 0.1312 - accuracy: 2.6267e-04\n",
            "Epoch 38/200\n",
            "119/119 [==============================] - 1s 4ms/step - loss: 0.1317 - accuracy: 2.6267e-04\n",
            "Epoch 39/200\n",
            "119/119 [==============================] - 1s 4ms/step - loss: 0.1312 - accuracy: 2.6267e-04\n",
            "Epoch 40/200\n",
            "119/119 [==============================] - 1s 4ms/step - loss: 0.1319 - accuracy: 0.0000e+00\n",
            "Epoch 41/200\n",
            "119/119 [==============================] - 1s 5ms/step - loss: 0.1244 - accuracy: 2.6267e-04\n",
            "Epoch 42/200\n",
            "119/119 [==============================] - 1s 4ms/step - loss: 0.1228 - accuracy: 0.0018\n",
            "Epoch 43/200\n",
            "119/119 [==============================] - 1s 4ms/step - loss: 0.1228 - accuracy: 2.6267e-04\n",
            "Epoch 44/200\n",
            "119/119 [==============================] - 1s 4ms/step - loss: 0.1227 - accuracy: 7.8802e-04\n",
            "Epoch 45/200\n",
            "119/119 [==============================] - 1s 4ms/step - loss: 0.1219 - accuracy: 0.0000e+00\n",
            "Epoch 46/200\n",
            "119/119 [==============================] - 1s 4ms/step - loss: 0.1210 - accuracy: 0.0000e+00\n",
            "Epoch 47/200\n",
            "119/119 [==============================] - 1s 4ms/step - loss: 0.1217 - accuracy: 0.0000e+00\n",
            "Epoch 48/200\n",
            "119/119 [==============================] - 1s 4ms/step - loss: 0.1223 - accuracy: 0.0000e+00\n",
            "Epoch 49/200\n",
            "119/119 [==============================] - 1s 4ms/step - loss: 0.1226 - accuracy: 0.0000e+00\n",
            "Epoch 50/200\n",
            "119/119 [==============================] - 1s 4ms/step - loss: 0.1217 - accuracy: 0.0000e+00\n",
            "Epoch 51/200\n",
            "119/119 [==============================] - 1s 4ms/step - loss: 0.1219 - accuracy: 0.0000e+00\n",
            "Epoch 52/200\n",
            "119/119 [==============================] - 1s 4ms/step - loss: 0.1229 - accuracy: 2.6267e-04\n",
            "Epoch 53/200\n",
            "119/119 [==============================] - 1s 4ms/step - loss: 0.1222 - accuracy: 2.6267e-04\n",
            "Epoch 54/200\n",
            "119/119 [==============================] - 1s 4ms/step - loss: 0.1218 - accuracy: 5.2535e-04\n",
            "Epoch 55/200\n",
            "119/119 [==============================] - 1s 4ms/step - loss: 0.1183 - accuracy: 5.2535e-04\n",
            "Epoch 56/200\n",
            "119/119 [==============================] - 1s 4ms/step - loss: 0.1180 - accuracy: 2.6267e-04\n",
            "Epoch 57/200\n",
            "119/119 [==============================] - 1s 4ms/step - loss: 0.1169 - accuracy: 0.0000e+00\n",
            "Epoch 58/200\n",
            "119/119 [==============================] - 1s 4ms/step - loss: 0.1176 - accuracy: 5.2535e-04\n",
            "Epoch 59/200\n",
            "119/119 [==============================] - 1s 4ms/step - loss: 0.1183 - accuracy: 0.0000e+00\n",
            "Epoch 60/200\n",
            "119/119 [==============================] - 1s 4ms/step - loss: 0.1177 - accuracy: 5.2535e-04\n",
            "Epoch 61/200\n",
            "119/119 [==============================] - 1s 4ms/step - loss: 0.1169 - accuracy: 0.0000e+00\n",
            "Epoch 62/200\n",
            "119/119 [==============================] - 1s 4ms/step - loss: 0.1116 - accuracy: 2.6267e-04\n",
            "Epoch 63/200\n",
            "119/119 [==============================] - 1s 4ms/step - loss: 0.1116 - accuracy: 2.6267e-04\n",
            "Epoch 64/200\n",
            "119/119 [==============================] - 1s 5ms/step - loss: 0.1125 - accuracy: 0.0000e+00\n",
            "Epoch 65/200\n",
            "119/119 [==============================] - 1s 4ms/step - loss: 0.1108 - accuracy: 2.6267e-04\n",
            "Epoch 66/200\n",
            "119/119 [==============================] - 1s 4ms/step - loss: 0.1108 - accuracy: 0.0000e+00\n",
            "Epoch 67/200\n",
            "119/119 [==============================] - 1s 4ms/step - loss: 0.1128 - accuracy: 0.0000e+00\n",
            "Epoch 68/200\n",
            "119/119 [==============================] - 1s 4ms/step - loss: 0.1125 - accuracy: 2.6267e-04\n",
            "Epoch 69/200\n",
            "119/119 [==============================] - 1s 4ms/step - loss: 0.1113 - accuracy: 7.8802e-04\n",
            "Epoch 70/200\n",
            "119/119 [==============================] - 1s 4ms/step - loss: 0.1111 - accuracy: 7.8802e-04\n",
            "Epoch 71/200\n",
            "119/119 [==============================] - 1s 4ms/step - loss: 0.1117 - accuracy: 0.0000e+00\n",
            "Epoch 72/200\n",
            "119/119 [==============================] - 1s 4ms/step - loss: 0.1119 - accuracy: 0.0000e+00\n",
            "Epoch 73/200\n",
            "119/119 [==============================] - 1s 5ms/step - loss: 0.1110 - accuracy: 0.0000e+00\n",
            "Epoch 74/200\n",
            "119/119 [==============================] - 1s 5ms/step - loss: 0.1071 - accuracy: 5.2535e-04\n",
            "Epoch 75/200\n",
            "119/119 [==============================] - 1s 4ms/step - loss: 0.1059 - accuracy: 0.0000e+00\n",
            "Epoch 76/200\n",
            "119/119 [==============================] - 1s 4ms/step - loss: 0.1062 - accuracy: 0.0000e+00\n",
            "Epoch 77/200\n",
            "119/119 [==============================] - 1s 4ms/step - loss: 0.1052 - accuracy: 0.0000e+00\n",
            "Epoch 78/200\n",
            "119/119 [==============================] - 1s 4ms/step - loss: 0.1057 - accuracy: 0.0000e+00\n",
            "Epoch 79/200\n",
            "119/119 [==============================] - 1s 4ms/step - loss: 0.1055 - accuracy: 0.0000e+00\n",
            "Epoch 80/200\n",
            "119/119 [==============================] - 1s 4ms/step - loss: 0.1048 - accuracy: 2.6267e-04\n",
            "Epoch 81/200\n",
            "119/119 [==============================] - 1s 4ms/step - loss: 0.1055 - accuracy: 2.6267e-04\n",
            "Epoch 82/200\n",
            "119/119 [==============================] - 1s 5ms/step - loss: 0.1055 - accuracy: 0.0000e+00\n",
            "Epoch 83/200\n",
            "119/119 [==============================] - 1s 4ms/step - loss: 0.1054 - accuracy: 0.0000e+00\n",
            "Epoch 84/200\n",
            "119/119 [==============================] - 1s 5ms/step - loss: 0.1056 - accuracy: 2.6267e-04\n",
            "Epoch 85/200\n",
            "119/119 [==============================] - 1s 4ms/step - loss: 0.1055 - accuracy: 0.0000e+00\n",
            "Epoch 86/200\n",
            "119/119 [==============================] - 1s 4ms/step - loss: 0.1045 - accuracy: 2.6267e-04\n",
            "Epoch 87/200\n",
            "119/119 [==============================] - 1s 5ms/step - loss: 0.1046 - accuracy: 0.0000e+00\n",
            "Epoch 88/200\n",
            "119/119 [==============================] - 1s 4ms/step - loss: 0.1068 - accuracy: 0.0000e+00\n",
            "Epoch 89/200\n",
            "119/119 [==============================] - 1s 4ms/step - loss: 0.1058 - accuracy: 2.6267e-04\n",
            "Epoch 90/200\n",
            "119/119 [==============================] - 1s 4ms/step - loss: 0.1064 - accuracy: 0.0000e+00\n",
            "Epoch 91/200\n",
            "119/119 [==============================] - 1s 5ms/step - loss: 0.1065 - accuracy: 0.0000e+00\n",
            "Epoch 92/200\n",
            "119/119 [==============================] - 1s 4ms/step - loss: 0.1051 - accuracy: 2.6267e-04\n",
            "Epoch 93/200\n",
            "119/119 [==============================] - 1s 4ms/step - loss: 0.1068 - accuracy: 0.0000e+00\n",
            "Epoch 94/200\n",
            "119/119 [==============================] - 1s 4ms/step - loss: 0.1062 - accuracy: 0.0000e+00\n",
            "Epoch 95/200\n",
            "119/119 [==============================] - 1s 4ms/step - loss: 0.1048 - accuracy: 0.0016\n",
            "Epoch 96/200\n",
            "119/119 [==============================] - 1s 4ms/step - loss: 0.1052 - accuracy: 2.6267e-04\n",
            "Epoch 97/200\n",
            "119/119 [==============================] - 1s 4ms/step - loss: 0.1050 - accuracy: 0.0000e+00\n",
            "Epoch 98/200\n",
            "119/119 [==============================] - 1s 4ms/step - loss: 0.1049 - accuracy: 7.8802e-04\n",
            "Epoch 99/200\n",
            "119/119 [==============================] - 1s 4ms/step - loss: 0.1056 - accuracy: 0.0000e+00\n",
            "Epoch 100/200\n",
            "119/119 [==============================] - 1s 4ms/step - loss: 0.1050 - accuracy: 0.0000e+00\n",
            "Epoch 101/200\n",
            "119/119 [==============================] - 1s 5ms/step - loss: 0.1049 - accuracy: 0.0000e+00\n",
            "Epoch 102/200\n",
            "119/119 [==============================] - 1s 4ms/step - loss: 0.1053 - accuracy: 0.0000e+00\n",
            "Epoch 103/200\n",
            "119/119 [==============================] - 1s 5ms/step - loss: 0.1058 - accuracy: 0.0000e+00\n",
            "Epoch 104/200\n",
            "119/119 [==============================] - 1s 4ms/step - loss: 0.1079 - accuracy: 2.6267e-04\n",
            "Epoch 105/200\n",
            "119/119 [==============================] - 1s 4ms/step - loss: 0.1051 - accuracy: 7.8802e-04\n",
            "Epoch 106/200\n",
            "119/119 [==============================] - 1s 4ms/step - loss: 0.1053 - accuracy: 0.0000e+00\n",
            "Epoch 107/200\n",
            "119/119 [==============================] - 1s 4ms/step - loss: 0.1061 - accuracy: 2.6267e-04\n",
            "Epoch 108/200\n",
            "119/119 [==============================] - 1s 4ms/step - loss: 0.1058 - accuracy: 0.0000e+00\n",
            "Epoch 109/200\n",
            "119/119 [==============================] - 1s 4ms/step - loss: 0.1052 - accuracy: 0.0000e+00\n",
            "Epoch 110/200\n",
            "119/119 [==============================] - 1s 4ms/step - loss: 0.1049 - accuracy: 0.0018\n",
            "Epoch 111/200\n",
            "119/119 [==============================] - 1s 4ms/step - loss: 0.1060 - accuracy: 0.0018\n",
            "Epoch 112/200\n",
            "119/119 [==============================] - 1s 4ms/step - loss: 0.1061 - accuracy: 0.0000e+00\n",
            "Epoch 113/200\n",
            "119/119 [==============================] - 1s 4ms/step - loss: 0.1049 - accuracy: 0.0000e+00\n",
            "Epoch 114/200\n",
            "119/119 [==============================] - 1s 4ms/step - loss: 0.1062 - accuracy: 0.0000e+00\n",
            "Epoch 115/200\n",
            "119/119 [==============================] - 1s 4ms/step - loss: 0.1056 - accuracy: 0.0000e+00\n",
            "Epoch 116/200\n",
            "119/119 [==============================] - 1s 5ms/step - loss: 0.1055 - accuracy: 0.0000e+00\n",
            "Epoch 117/200\n",
            "119/119 [==============================] - 1s 4ms/step - loss: 0.1054 - accuracy: 0.0000e+00\n",
            "Epoch 118/200\n",
            "119/119 [==============================] - 1s 4ms/step - loss: 0.1050 - accuracy: 2.6267e-04\n",
            "Epoch 119/200\n",
            "119/119 [==============================] - 1s 4ms/step - loss: 0.1054 - accuracy: 0.0000e+00\n",
            "Epoch 120/200\n",
            "119/119 [==============================] - 1s 4ms/step - loss: 0.1058 - accuracy: 0.0000e+00\n",
            "Epoch 121/200\n",
            "119/119 [==============================] - 1s 4ms/step - loss: 0.1046 - accuracy: 2.6267e-04\n",
            "Epoch 122/200\n",
            "119/119 [==============================] - 1s 5ms/step - loss: 0.1055 - accuracy: 0.0000e+00\n",
            "Epoch 123/200\n",
            "119/119 [==============================] - 1s 5ms/step - loss: 0.1056 - accuracy: 0.0000e+00\n",
            "Epoch 124/200\n",
            "119/119 [==============================] - 1s 5ms/step - loss: 0.1058 - accuracy: 2.6267e-04\n",
            "Epoch 125/200\n",
            "119/119 [==============================] - 1s 4ms/step - loss: 0.1062 - accuracy: 0.0016\n",
            "Epoch 126/200\n",
            "119/119 [==============================] - 1s 5ms/step - loss: 0.1073 - accuracy: 0.0000e+00\n",
            "Epoch 127/200\n",
            "119/119 [==============================] - 1s 4ms/step - loss: 0.1072 - accuracy: 0.0011\n",
            "Epoch 128/200\n",
            "119/119 [==============================] - 1s 4ms/step - loss: 0.1061 - accuracy: 0.0000e+00\n",
            "Epoch 129/200\n",
            "119/119 [==============================] - 1s 4ms/step - loss: 0.1067 - accuracy: 7.8802e-04\n",
            "Epoch 130/200\n",
            "119/119 [==============================] - 1s 4ms/step - loss: 0.1070 - accuracy: 2.6267e-04\n",
            "Epoch 131/200\n",
            "119/119 [==============================] - 1s 5ms/step - loss: 0.1067 - accuracy: 2.6267e-04\n",
            "Epoch 132/200\n",
            "119/119 [==============================] - 1s 5ms/step - loss: 0.1067 - accuracy: 0.0055\n",
            "Epoch 133/200\n",
            "119/119 [==============================] - 1s 5ms/step - loss: 0.1077 - accuracy: 0.0000e+00\n",
            "Epoch 134/200\n",
            "119/119 [==============================] - 1s 4ms/step - loss: 0.1066 - accuracy: 0.0000e+00\n",
            "Epoch 135/200\n",
            "119/119 [==============================] - 1s 4ms/step - loss: 0.1081 - accuracy: 5.2535e-04\n",
            "Epoch 136/200\n",
            "119/119 [==============================] - 1s 4ms/step - loss: 0.1070 - accuracy: 0.0000e+00\n",
            "Epoch 137/200\n",
            "119/119 [==============================] - 1s 4ms/step - loss: 0.1060 - accuracy: 7.8802e-04\n",
            "Epoch 138/200\n",
            "119/119 [==============================] - 1s 4ms/step - loss: 0.1058 - accuracy: 2.6267e-04\n",
            "Epoch 139/200\n",
            "119/119 [==============================] - 1s 5ms/step - loss: 0.1058 - accuracy: 0.0000e+00\n",
            "Epoch 140/200\n",
            "119/119 [==============================] - 1s 4ms/step - loss: 0.1058 - accuracy: 0.0000e+00\n",
            "Epoch 141/200\n",
            "119/119 [==============================] - 1s 5ms/step - loss: 0.1067 - accuracy: 0.0000e+00\n",
            "Epoch 142/200\n",
            "119/119 [==============================] - 1s 5ms/step - loss: 0.1060 - accuracy: 2.6267e-04\n",
            "Epoch 143/200\n",
            "119/119 [==============================] - 1s 5ms/step - loss: 0.1006 - accuracy: 0.0000e+00\n",
            "Epoch 144/200\n",
            "119/119 [==============================] - 1s 4ms/step - loss: 0.1005 - accuracy: 0.0000e+00\n",
            "Epoch 145/200\n",
            "119/119 [==============================] - 1s 5ms/step - loss: 0.1010 - accuracy: 0.0000e+00\n",
            "Epoch 146/200\n",
            "119/119 [==============================] - 1s 4ms/step - loss: 0.0997 - accuracy: 2.6267e-04\n",
            "Epoch 147/200\n",
            "119/119 [==============================] - 1s 4ms/step - loss: 0.1004 - accuracy: 2.6267e-04\n",
            "Epoch 148/200\n",
            "119/119 [==============================] - 1s 4ms/step - loss: 0.1006 - accuracy: 2.6267e-04\n",
            "Epoch 149/200\n",
            "119/119 [==============================] - 1s 4ms/step - loss: 0.1021 - accuracy: 0.0000e+00\n",
            "Epoch 150/200\n",
            "119/119 [==============================] - 1s 5ms/step - loss: 0.1000 - accuracy: 2.6267e-04\n",
            "Epoch 151/200\n",
            "119/119 [==============================] - 1s 4ms/step - loss: 0.1002 - accuracy: 0.0000e+00\n",
            "Epoch 152/200\n",
            "119/119 [==============================] - 1s 5ms/step - loss: 0.1012 - accuracy: 5.2535e-04\n",
            "Epoch 153/200\n",
            "119/119 [==============================] - 1s 4ms/step - loss: 0.1025 - accuracy: 2.6267e-04\n",
            "Epoch 154/200\n",
            "119/119 [==============================] - 1s 4ms/step - loss: 0.1004 - accuracy: 0.0000e+00\n",
            "Epoch 155/200\n",
            "119/119 [==============================] - 1s 4ms/step - loss: 0.0997 - accuracy: 0.0000e+00\n",
            "Epoch 156/200\n",
            "119/119 [==============================] - 1s 5ms/step - loss: 0.1015 - accuracy: 2.6267e-04\n",
            "Epoch 157/200\n",
            "119/119 [==============================] - 1s 4ms/step - loss: 0.1004 - accuracy: 0.0000e+00\n",
            "Epoch 158/200\n",
            "119/119 [==============================] - 1s 4ms/step - loss: 0.1000 - accuracy: 2.6267e-04\n",
            "Epoch 159/200\n",
            "119/119 [==============================] - 1s 4ms/step - loss: 0.0997 - accuracy: 7.8802e-04\n",
            "Epoch 160/200\n",
            "119/119 [==============================] - 1s 4ms/step - loss: 0.1003 - accuracy: 2.6267e-04\n",
            "Epoch 161/200\n",
            "119/119 [==============================] - 1s 4ms/step - loss: 0.0998 - accuracy: 0.0000e+00\n",
            "Epoch 162/200\n",
            "119/119 [==============================] - 1s 5ms/step - loss: 0.1004 - accuracy: 0.0000e+00\n",
            "Epoch 163/200\n",
            "119/119 [==============================] - 1s 4ms/step - loss: 0.1007 - accuracy: 5.2535e-04\n",
            "Epoch 164/200\n",
            "119/119 [==============================] - 1s 4ms/step - loss: 0.1005 - accuracy: 0.0000e+00\n",
            "Epoch 165/200\n",
            "119/119 [==============================] - 1s 4ms/step - loss: 0.1003 - accuracy: 0.0000e+00\n",
            "Epoch 166/200\n",
            "119/119 [==============================] - 1s 4ms/step - loss: 0.0999 - accuracy: 5.2535e-04\n",
            "Epoch 167/200\n",
            "119/119 [==============================] - 1s 5ms/step - loss: 0.0962 - accuracy: 0.0000e+00\n",
            "Epoch 168/200\n",
            "119/119 [==============================] - 1s 4ms/step - loss: 0.0953 - accuracy: 0.0000e+00\n",
            "Epoch 169/200\n",
            "119/119 [==============================] - 1s 5ms/step - loss: 0.0952 - accuracy: 5.2535e-04\n",
            "Epoch 170/200\n",
            "119/119 [==============================] - 1s 4ms/step - loss: 0.0960 - accuracy: 0.0016\n",
            "Epoch 171/200\n",
            "119/119 [==============================] - 1s 5ms/step - loss: 0.0957 - accuracy: 0.0018\n",
            "Epoch 172/200\n",
            "119/119 [==============================] - 1s 4ms/step - loss: 0.0959 - accuracy: 5.2535e-04\n",
            "Epoch 173/200\n",
            "119/119 [==============================] - 1s 4ms/step - loss: 0.0969 - accuracy: 5.2535e-04\n",
            "Epoch 174/200\n",
            "119/119 [==============================] - 1s 4ms/step - loss: 0.0967 - accuracy: 2.6267e-04\n",
            "Epoch 175/200\n",
            "119/119 [==============================] - 1s 4ms/step - loss: 0.0958 - accuracy: 2.6267e-04\n",
            "Epoch 176/200\n",
            "119/119 [==============================] - 1s 4ms/step - loss: 0.0956 - accuracy: 0.0000e+00\n",
            "Epoch 177/200\n",
            "119/119 [==============================] - 1s 4ms/step - loss: 0.0948 - accuracy: 5.2535e-04\n",
            "Epoch 178/200\n",
            "119/119 [==============================] - 1s 4ms/step - loss: 0.0955 - accuracy: 2.6267e-04\n",
            "Epoch 179/200\n",
            "119/119 [==============================] - 1s 4ms/step - loss: 0.0956 - accuracy: 7.8802e-04\n",
            "Epoch 180/200\n",
            "119/119 [==============================] - 1s 4ms/step - loss: 0.0950 - accuracy: 0.0000e+00\n",
            "Epoch 181/200\n",
            "119/119 [==============================] - 1s 5ms/step - loss: 0.0958 - accuracy: 7.8802e-04\n",
            "Epoch 182/200\n",
            "119/119 [==============================] - 1s 4ms/step - loss: 0.0952 - accuracy: 0.0000e+00\n",
            "Epoch 183/200\n",
            "119/119 [==============================] - 1s 5ms/step - loss: 0.0950 - accuracy: 0.0000e+00\n",
            "Epoch 184/200\n",
            "119/119 [==============================] - 1s 4ms/step - loss: 0.0950 - accuracy: 0.0021\n",
            "Epoch 185/200\n",
            "119/119 [==============================] - 1s 4ms/step - loss: 0.0949 - accuracy: 2.6267e-04\n",
            "Epoch 186/200\n",
            "119/119 [==============================] - 1s 5ms/step - loss: 0.0951 - accuracy: 0.0000e+00\n",
            "Epoch 187/200\n",
            "119/119 [==============================] - 1s 5ms/step - loss: 0.0961 - accuracy: 0.0000e+00\n",
            "Epoch 188/200\n",
            "119/119 [==============================] - 1s 4ms/step - loss: 0.0955 - accuracy: 2.6267e-04\n",
            "Epoch 189/200\n",
            "119/119 [==============================] - 1s 4ms/step - loss: 0.0958 - accuracy: 0.0000e+00\n",
            "Epoch 190/200\n",
            "119/119 [==============================] - 1s 5ms/step - loss: 0.0965 - accuracy: 0.0000e+00\n",
            "Epoch 191/200\n",
            "119/119 [==============================] - 1s 4ms/step - loss: 0.0953 - accuracy: 5.2535e-04\n",
            "Epoch 192/200\n",
            "119/119 [==============================] - 1s 4ms/step - loss: 0.0957 - accuracy: 0.0000e+00\n",
            "Epoch 193/200\n",
            "119/119 [==============================] - 1s 4ms/step - loss: 0.0975 - accuracy: 0.0018\n",
            "Epoch 194/200\n",
            "119/119 [==============================] - 1s 4ms/step - loss: 0.0965 - accuracy: 5.2535e-04\n",
            "Epoch 195/200\n",
            "119/119 [==============================] - 1s 4ms/step - loss: 0.0965 - accuracy: 2.6267e-04\n",
            "Epoch 196/200\n",
            "119/119 [==============================] - 1s 4ms/step - loss: 0.0955 - accuracy: 2.6267e-04\n",
            "Epoch 197/200\n",
            "119/119 [==============================] - 1s 5ms/step - loss: 0.0958 - accuracy: 0.0000e+00\n",
            "Epoch 198/200\n",
            "119/119 [==============================] - 1s 5ms/step - loss: 0.0954 - accuracy: 2.6267e-04\n",
            "Epoch 199/200\n",
            "119/119 [==============================] - 1s 5ms/step - loss: 0.0953 - accuracy: 2.6267e-04\n",
            "Epoch 200/200\n",
            "119/119 [==============================] - 1s 5ms/step - loss: 0.0962 - accuracy: 7.8802e-04\n"
          ]
        },
        {
          "output_type": "execute_result",
          "data": {
            "text/plain": [
              "<keras.callbacks.History at 0x7fe3cc7ca310>"
            ]
          },
          "metadata": {},
          "execution_count": 95
        }
      ]
    },
    {
      "cell_type": "code",
      "source": [
        "autoencoder.evaluate(X_test,X_test)"
      ],
      "metadata": {
        "id": "u50crOS0OGTQ",
        "outputId": "9f82bf19-93ff-4906-ed93-3c0a44468786",
        "colab": {
          "base_uri": "https://localhost:8080/"
        }
      },
      "execution_count": 88,
      "outputs": [
        {
          "output_type": "stream",
          "name": "stdout",
          "text": [
            "40/40 [==============================] - 0s 4ms/step - loss: 0.2418 - accuracy: 0.0000e+00\n"
          ]
        },
        {
          "output_type": "execute_result",
          "data": {
            "text/plain": [
              "[0.24179521203041077, 0.0]"
            ]
          },
          "metadata": {},
          "execution_count": 88
        }
      ]
    },
    {
      "cell_type": "code",
      "source": [
        "df_mat"
      ],
      "metadata": {
        "id": "QZfdCQKpP1Fr"
      },
      "execution_count": null,
      "outputs": []
    },
    {
      "cell_type": "code",
      "source": [
        "autoencoder.predict(df_mat)"
      ],
      "metadata": {
        "id": "8mRENNR6OUvh"
      },
      "execution_count": null,
      "outputs": []
    }
  ]
}
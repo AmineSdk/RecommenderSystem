{
  "nbformat": 4,
  "nbformat_minor": 0,
  "metadata": {
    "colab": {
      "name": "CF_Autoencoder.ipynb",
      "provenance": [],
      "collapsed_sections": []
    },
    "kernelspec": {
      "name": "python3",
      "display_name": "Python 3"
    },
    "language_info": {
      "name": "python"
    },
    "gpuClass": "standard",
    "accelerator": "GPU"
  },
  "cells": [
    {
      "cell_type": "code",
      "source": [
        "!pip install tensorflow-text"
      ],
      "metadata": {
        "id": "nFsPPT0-cZms"
      },
      "execution_count": null,
      "outputs": []
    },
    {
      "cell_type": "code",
      "source": [
        "! mkdir ~/.kaggle\n",
        "! cp kaggle.json ~/.kaggle/\n",
        "! chmod 600 ~/.kaggle/kaggle.json\n",
        "! kaggle datasets download -d aminesedkaoui/epinions-ratings-500k\n",
        "! kaggle datasets download -d aminesedkaoui/epinions-user-item-matrix-75k"
      ],
      "metadata": {
        "id": "UM0vifCk9CB0"
      },
      "execution_count": null,
      "outputs": []
    },
    {
      "cell_type": "code",
      "source": [
        "from sklearn import preprocessing"
      ],
      "metadata": {
        "id": "36SaoEF2KWa2"
      },
      "execution_count": 286,
      "outputs": []
    },
    {
      "cell_type": "code",
      "execution_count": 3,
      "metadata": {
        "id": "TcGcg4ZzRQD1"
      },
      "outputs": [],
      "source": [
        "from scipy.sparse import csr_matrix\n",
        "import tensorflow as tf \n",
        "import numpy as np\n",
        "import tensorflow_hub as hub\n",
        "import pandas as pd\n",
        "import random\n",
        "from keras import datasets, layers, models\n",
        "from sklearn.model_selection import train_test_split"
      ]
    },
    {
      "cell_type": "code",
      "source": [
        "!unzip \"/content/epinions-ratings-500k.zip\" -d \"/content/\"\n",
        "!unzip \"/content/epinions-user-item-matrix-75k.zip\" -d \"/content/\""
      ],
      "metadata": {
        "id": "ppVGlIh8Ce8q",
        "outputId": "86e6599b-3ae1-423a-f8a4-e0b7094b00af",
        "colab": {
          "base_uri": "https://localhost:8080/"
        }
      },
      "execution_count": 4,
      "outputs": [
        {
          "output_type": "stream",
          "name": "stdout",
          "text": [
            "Archive:  /content/epinions-ratings-500k.zip\n",
            "  inflating: /content/epinions_rating_500k.csv  \n",
            "Archive:  /content/epinions-user-item-matrix-75k.zip\n",
            "  inflating: /content/epinions_user_item_filled_75K_matrix_100k_leaning.csv  \n"
          ]
        }
      ]
    },
    {
      "cell_type": "code",
      "source": [
        "df = pd.read_csv('/content/epinions_rating_500k.csv')\n",
        "df = df.drop(['Unnamed: 0'],axis=1)\n",
        "df.head()"
      ],
      "metadata": {
        "id": "M-Fxg9TcRStc"
      },
      "execution_count": null,
      "outputs": []
    },
    {
      "cell_type": "code",
      "source": [
        "def DatasetToUserItemDataFrame(dataframe,userID,itemID,rating):\n",
        "  #Setting new item IDs from string to int \n",
        "  itemKeys = [] \n",
        "  i = 0\n",
        "  for item in dataframe[itemID].value_counts(sort=False):\n",
        "    temp = np.full((item),i)\n",
        "    itemKeys = np.append(itemKeys,temp)\n",
        "    i += 1\n",
        "\n",
        "  #Setting new user IDs from string to int\n",
        "  userKeysDic = {}\n",
        "  userKeys = np.zeros((dataframe[userID].size))\n",
        "  i = 0\n",
        "  for user in dataframe[userID].unique():\n",
        "    userKeysDic[user] = i\n",
        "    i += 1\n",
        "  i = 0\n",
        "  for user in dataframe[userID]:\n",
        "    userKeys[i] = userKeysDic[user]\n",
        "    i += 1\n",
        "\n",
        "  #Converting arrays from float to int \n",
        "  userKeys = userKeys.astype(int)\n",
        "  itemKeys = itemKeys.astype(int)\n",
        "\n",
        "  \n",
        "  user_item = csr_matrix((dataframe[rating].values.astype(int),(userKeys,itemKeys))) #Creating sparse matrix\n",
        "  user_item_matrix = user_item.toarray() #Converting sparse matrix into array\n",
        "  df_user_item = pd.DataFrame(user_item_matrix,index = dataframe[userID].unique()  ,columns = dataframe[itemID].unique() ) \n",
        "\n",
        "  return user_item,df_user_item"
      ],
      "metadata": {
        "id": "HHmzbMvDVB0b"
      },
      "execution_count": 6,
      "outputs": []
    },
    {
      "cell_type": "code",
      "source": [
        "def preprocess_df(df):\n",
        "  users = df['User_ID'].unique()\n",
        "  items = df['Item_ID'].unique()\n",
        "  df_train = df.copy()\n",
        "\n",
        "  New_User_IDs = random.sample(range(10000,50000),df['User_ID'].nunique())\n",
        "  New_Item_IDs = random.sample(range(100000,200000),df['Item_ID'].nunique())\n",
        "  i = 0\n",
        "  for d in users :\n",
        "    df_train['User_ID'].replace({d : New_User_IDs[i]}, inplace=True)\n",
        "    i+=1\n",
        "\n",
        "  i = 0\n",
        "  for d in items :\n",
        "    df_train['Item_ID'].replace({d : New_Item_IDs[i]}, inplace=True)\n",
        "    i+=1\n",
        "  \n",
        "  df_train['one']=df_train['rating'].apply(lambda x: 1 if x==1 else 0)\n",
        "  df_train['two']=df_train['rating'].apply(lambda x: 1 if x==2 else 0)\n",
        "  df_train['three']=df_train['rating'].apply(lambda x: 1 if x==3 else 0)\n",
        "  df_train['four']=df_train['rating'].apply(lambda x: 1 if x==4 else 0)\n",
        "  df_train['five']=df_train['rating'].apply(lambda x: 1 if x==5 else 0)\n",
        "  df_train['six']=df_train['rating'].apply(lambda x: 1 if x==6 else 0)\n",
        "\n",
        "  return df_train"
      ],
      "metadata": {
        "id": "08ifZdzgO2u9"
      },
      "execution_count": 7,
      "outputs": []
    },
    {
      "cell_type": "code",
      "source": [
        "from numpy.core.fromnumeric import size\n",
        "#GMF\n",
        "\n",
        "def Create_GMF(num_users,num_items,SIZE_):\n",
        "\n",
        "  input_userID = layers.Input(shape=[1], name='user_ID')\n",
        "  input_itemID = layers.Input(shape=[1], name='item_ID')\n",
        "\n",
        "  user_emb_GMF = layers.Embedding(num_users, SIZE_, name='user_emb_GMF')(input_userID)\n",
        "  item_emb_GMF = layers.Embedding(num_items, SIZE_, name='item_emb_GMF')(input_itemID)\n",
        "\n",
        "  u_GMF = layers.Flatten()(user_emb_GMF)\n",
        "  i_GMF = layers.Flatten()(item_emb_GMF)\n",
        "\n",
        "  dot_layer = layers.Multiply()([u_GMF, i_GMF])\n",
        "\n",
        "  out_layer = layers.Dense(6, activation='softmax', name='output')(dot_layer)\n",
        "\n",
        "  GMF = tf.keras.Model([input_userID, input_itemID], out_layer)\n",
        "  \n",
        "  return GMF\n",
        "\n",
        "def Train_GMF(model,X_train,Y_train,nbrEpochs):\n",
        "  model.compile(optimizer = 'adam',\n",
        "                    loss = tf.keras.losses.categorical_crossentropy ,\n",
        "                    metrics=['accuracy'])\n",
        "  model.fit(X_train,Y_train,epochs = nbrEpochs)\n",
        "  return model\n",
        "\n",
        "def user_item_ID_lists(userIDs,itemIDs):\n",
        "  i = 0\n",
        "  item_s = pd.Series()\n",
        "  user_s = pd.Series()\n",
        "  for user in userIDs:\n",
        "    temp = pd.Series(itemIDs)\n",
        "    item_s = item_s.append(temp)\n",
        "    temp = []\n",
        "    temp = [user for item in itemIDs]\n",
        "    temp = pd.Series(temp)\n",
        "    user_s = user_s.append(temp)\n",
        "    \n",
        "    progress = user_s.size*100/(userIDs.size * itemIDs.size)\n",
        "   \n",
        "    if (progress  > 10) & (int(progress) < 25) & (i == 0):\n",
        "      print(\"===== 10 % =====\")\n",
        "      i += 1\n",
        "    elif (progress > 25) & (int(progress) < 35) & (i == 1):\n",
        "      print(\"===== 25 % =====\")\n",
        "      i += 1\n",
        "    elif (progress > 35) & (int(progress) < 50) & (i == 2):\n",
        "      print(\"===== 35 % =====\")\n",
        "      i += 1\n",
        "    elif (progress > 50) & (int(progress) < 65) & (i == 3):\n",
        "      print(\"===== 50 % =====\")\n",
        "      i += 1\n",
        "    elif (progress > 65) & (int(progress) < 75) & (i == 4):\n",
        "      print(\"===== 65 % =====\")\n",
        "      i += 1\n",
        "    elif (progress > 75) & (int(progress) < 80) & (i == 5):\n",
        "      print(\"===== 75 % =====\")\n",
        "      i += 1\n",
        "    elif (progress > 80) & (int(progress) < 90) & (i == 6):\n",
        "      print(\"===== 80 % =====\")\n",
        "      i += 1\n",
        "    elif (progress > 90) & (int(progress) < 95) & (i == 7):\n",
        "      print(\"===== 90 % =====\")\n",
        "      i += 1\n",
        "    elif (progress > 95) & (i == 8):\n",
        "      print(\"===== 95 % =====\")\n",
        "      i += 1\n",
        "\n",
        "  return user_s,item_s\n",
        "\n",
        "def Fill_Cf_Matrix(model,userList,itemList,userIDs,itemIDs):\n",
        "\n",
        "  prediction = model.predict([userList,itemList],verbose = 0)\n",
        "  i = 0\n",
        "  row = []\n",
        "  matrix = []\n",
        "  print(\"pred done\")\n",
        "\n",
        "  while i < userList.shape[0]:\n",
        "    result = np.where(prediction[i] == np.amax(prediction[i]))[0][0] + 1\n",
        "    row.append(result)\n",
        "    if len(row) == itemIDs.size:\n",
        "      matrix.append(row)\n",
        "      row = []\n",
        "       \n",
        "    i += 1\n",
        "\n",
        "  matrix_arr = np.array(matrix)\n",
        "  dataframe = pd.DataFrame(matrix_arr, index = userIDs, columns = itemIDs)\n",
        "  # for user in userIDs:\n",
        "  #   user_s = pd.Series(user)\n",
        "  #   for item in itemIDs:\n",
        "  #     item_s = pd.Series(item)\n",
        "  #     if dataframe.loc[user][item] == 0:\n",
        "  #       prediction = model.predict([user_s,item_s],verbose = 0)\n",
        "  #       result = np.where(prediction[0] == np.amax(prediction[0]))[0][0] + 1\n",
        "  #       dataframe.loc[user][item] = result\n",
        "  return dataframe\n"
      ],
      "metadata": {
        "id": "z6KHUFF9gwT5"
      },
      "execution_count": 8,
      "outputs": []
    },
    {
      "cell_type": "code",
      "source": [
        "df_train = preprocess_df(df)"
      ],
      "metadata": {
        "id": "5k7vteutejcS"
      },
      "execution_count": 9,
      "outputs": []
    },
    {
      "cell_type": "code",
      "source": [
        "df_train"
      ],
      "metadata": {
        "id": "2e8LqELNCLSH"
      },
      "execution_count": null,
      "outputs": []
    },
    {
      "cell_type": "code",
      "source": [
        "GMF = Create_GMF(df_train['User_ID'].max() + 1,df_train['Item_ID'].max() + 1,64)"
      ],
      "metadata": {
        "id": "HHrM6Dgl8AP1"
      },
      "execution_count": 320,
      "outputs": []
    },
    {
      "cell_type": "code",
      "source": [
        "df_train_sample = df_train[:20000]\n",
        "X_train, X_test,y_train,y_test= train_test_split(df_train_sample[['User_ID','Item_ID']],df_train_sample[['one','two','three','four','five','six']],stratify=df_train_sample[['one','two','three','four','five','six']])\n",
        "#X_train, X_test,y_train,y_test= train_test_split(df_train[['User_ID','Item_ID']],df_train['rating'],stratify=df_train['rating'])"
      ],
      "metadata": {
        "id": "BFid5Xf9_SG8"
      },
      "execution_count": 319,
      "outputs": []
    },
    {
      "cell_type": "code",
      "source": [
        "GMF_trained = Train_GMF(GMF,[X_train['User_ID'],X_train['Item_ID']],y_train,5)"
      ],
      "metadata": {
        "id": "grxA3dxt-HSR",
        "outputId": "3536c5a4-97b1-4d77-f7a2-86538ab9dd65",
        "colab": {
          "base_uri": "https://localhost:8080/"
        }
      },
      "execution_count": 322,
      "outputs": [
        {
          "output_type": "stream",
          "name": "stdout",
          "text": [
            "Epoch 1/5\n",
            "469/469 [==============================] - 6s 11ms/step - loss: 0.1135 - accuracy: 0.9728\n",
            "Epoch 2/5\n",
            "469/469 [==============================] - 5s 11ms/step - loss: 0.0687 - accuracy: 0.9858\n",
            "Epoch 3/5\n",
            "469/469 [==============================] - 5s 11ms/step - loss: 0.0410 - accuracy: 0.9939\n",
            "Epoch 4/5\n",
            "469/469 [==============================] - 5s 12ms/step - loss: 0.0246 - accuracy: 0.9979\n",
            "Epoch 5/5\n",
            "469/469 [==============================] - 5s 12ms/step - loss: 0.0149 - accuracy: 0.9994\n"
          ]
        }
      ]
    },
    {
      "cell_type": "code",
      "source": [
        "user_item_matrix , df_mat = DatasetToUserItemDataFrame(df_train_sample,'User_ID','Item_ID','rating')"
      ],
      "metadata": {
        "id": "Y5_US3dQs3ro"
      },
      "execution_count": 323,
      "outputs": []
    },
    {
      "cell_type": "code",
      "source": [
        "GMF_trained.evaluate([X_test['User_ID'],X_test['Item_ID']],y_test)"
      ],
      "metadata": {
        "id": "AXTEr-r2tqij"
      },
      "execution_count": null,
      "outputs": []
    },
    {
      "cell_type": "code",
      "source": [
        "New_User_IDs = df_train_sample.User_ID.unique()\n",
        "New_Item_IDs = df_train_sample.Item_ID.unique()\n",
        "New_User_IDs"
      ],
      "metadata": {
        "id": "1f_e0Smif07B"
      },
      "execution_count": null,
      "outputs": []
    },
    {
      "cell_type": "code",
      "source": [
        "New_Item_IDs.size * New_User_IDs.size"
      ],
      "metadata": {
        "id": "3oqCETBAP30e"
      },
      "execution_count": null,
      "outputs": []
    },
    {
      "cell_type": "code",
      "source": [
        "user_s,item_s = user_item_ID_lists(New_User_IDs,New_Item_IDs)"
      ],
      "metadata": {
        "id": "n9ECgL3BAAFw"
      },
      "execution_count": null,
      "outputs": []
    },
    {
      "cell_type": "code",
      "source": [
        "df_mat_filled = Fill_Cf_Matrix(GMF_trained,user_s,item_s,New_User_IDs,New_Item_IDs)"
      ],
      "metadata": {
        "id": "oqWfFRyBr0mJ",
        "colab": {
          "base_uri": "https://localhost:8080/"
        },
        "outputId": "b708fae3-61f8-4f6e-f3f1-42c4eeae1eef"
      },
      "execution_count": 329,
      "outputs": [
        {
          "output_type": "stream",
          "name": "stdout",
          "text": [
            "pred done\n"
          ]
        }
      ]
    },
    {
      "cell_type": "code",
      "source": [
        "df_mat_filled"
      ],
      "metadata": {
        "id": "JAPemOqlbFFO"
      },
      "execution_count": null,
      "outputs": []
    },
    {
      "cell_type": "code",
      "source": [
        "df_mat_filled1 = pd.read_csv('/content/epinions_user_item_filled_75K_matrix_100k_leaning.csv')"
      ],
      "metadata": {
        "id": "HePIy9kSpui_"
      },
      "execution_count": 12,
      "outputs": []
    },
    {
      "cell_type": "code",
      "source": [
        "df_mat"
      ],
      "metadata": {
        "id": "XuhpPu1sGig6"
      },
      "execution_count": null,
      "outputs": []
    },
    {
      "cell_type": "code",
      "source": [
        "df_mat_filled1"
      ],
      "metadata": {
        "id": "vdnjmhWUFRTB"
      },
      "execution_count": null,
      "outputs": []
    },
    {
      "cell_type": "code",
      "source": [
        "\n",
        "df_mat_sample.replace(0,' ', inplace = True)\n"
      ],
      "metadata": {
        "id": "FdBTa2HtWUA6"
      },
      "execution_count": 267,
      "outputs": []
    },
    {
      "cell_type": "code",
      "source": [
        "df_mat_sample =df_mat_filled"
      ],
      "metadata": {
        "id": "KIzOORSDYbS3"
      },
      "execution_count": 332,
      "outputs": []
    },
    {
      "cell_type": "code",
      "source": [
        "df_mat_sample.head()"
      ],
      "metadata": {
        "id": "jQBGD_QlcQvl"
      },
      "execution_count": null,
      "outputs": []
    },
    {
      "cell_type": "code",
      "source": [
        "def to_binary(x):\n",
        "  if (x > 0):\n",
        "    x = 1\n",
        "  return x"
      ],
      "metadata": {
        "id": "IydI5-fQWQD-"
      },
      "execution_count": 135,
      "outputs": []
    },
    {
      "cell_type": "code",
      "source": [
        "def df_to_binary(df):\n",
        "  for col in df.columns:\n",
        "    df[col] = df[col].apply(to_binary)\n",
        "  return df"
      ],
      "metadata": {
        "id": "sYMNa0FTWJMA"
      },
      "execution_count": 141,
      "outputs": []
    },
    {
      "cell_type": "code",
      "source": [
        "df_to_binary(df_mat)\n",
        "df_to_binary(df_mat_sample)"
      ],
      "metadata": {
        "id": "jO3PjoSqBDVu"
      },
      "execution_count": null,
      "outputs": []
    },
    {
      "cell_type": "code",
      "source": [
        "df_mat_sample"
      ],
      "metadata": {
        "id": "W-scTHfWD1MC"
      },
      "execution_count": null,
      "outputs": []
    },
    {
      "cell_type": "code",
      "source": [
        "#Autoencoder\n",
        "\n",
        "encoder_input = layers.Input(shape=(df_mat_sample.shape[1]),name='user_item')\n",
        "flat = layers.Flatten()(encoder_input)\n",
        "#dropout = layers.Dropout(.2)(flat)\n",
        "hid_encoder = layers.Dense(128,activation=\"relu\")(flat)\n",
        "# hid_encoder1 = layers.Dense(256,activation=\"relu\")(hid_encoder)\n",
        "# hid_encoder2 = layers.Dense(128,activation=\"relu\")(hid_encoder1)\n",
        "# hid_encoder3 = layers.Dense(10,activation=\"relu\")(hid_encoder2)\n",
        "encoder_output = layers.Dense(64,activation=\"relu\")(hid_encoder)\n",
        "\n",
        "decoder_input = layers.Dense(128,activation=\"relu\")(encoder_output)\n",
        "# decoder_hidden1 = layers.Dense(256,activation=\"relu\")(decoder_input)\n",
        "# decoder_hidden2 = layers.Dense(512,activation=\"relu\")(decoder_hidden1)\n",
        "# decoder_hidden3 = layers.Dense(25,activation=\"relu\")(decoder_hidden2)\n",
        "decoder_output = layers.Dense(df_mat_sample.shape[1],activation=\"relu\")(decoder_input)\n",
        "\n",
        "autoencoder = tf.keras.Model(inputs = encoder_input, outputs = decoder_output)"
      ],
      "metadata": {
        "id": "YFYfUYa-e3w9"
      },
      "execution_count": 334,
      "outputs": []
    },
    {
      "cell_type": "code",
      "source": [
        "def rmse (y_true,y_pred):\n",
        "  y_pred = tf.cast(y_pred, tf.float32)\n",
        "  y_true = tf.cast(y_true, tf.float32)\n",
        "  rmse = y_true - y_pred\n",
        "  rmse = tf.square(rmse)\n",
        "  rmse = tf.math.reduce_mean(rmse)\n",
        "  rmse = tf.math.sqrt(rmse)\n",
        "  return rmse\n",
        "\n",
        "opt = tf.keras.optimizers.Adam(learning_rate=0.00001)"
      ],
      "metadata": {
        "id": "QVclLDh4C46p"
      },
      "execution_count": 100,
      "outputs": []
    },
    {
      "cell_type": "code",
      "source": [
        "autoencoder.compile(optimizer ='adam',\n",
        "                    loss = tf.keras.losses.MeanAbsoluteError(),\n",
        "                    metrics=['accuracy'])"
      ],
      "metadata": {
        "id": "_h1-_AumilKy"
      },
      "execution_count": 335,
      "outputs": []
    },
    {
      "cell_type": "code",
      "source": [
        "autoencoder.summary()"
      ],
      "metadata": {
        "id": "QxDl7Q-1jPdj"
      },
      "execution_count": null,
      "outputs": []
    },
    {
      "cell_type": "code",
      "source": [
        "X_train,X_test,y_train,y_test = train_test_split(df_mat,df_mat_sample)"
      ],
      "metadata": {
        "id": "fbfvR2O-HnPp"
      },
      "execution_count": 337,
      "outputs": []
    },
    {
      "cell_type": "code",
      "source": [
        "X_train"
      ],
      "metadata": {
        "id": "mE4mZsc3cE8K"
      },
      "execution_count": null,
      "outputs": []
    },
    {
      "cell_type": "code",
      "source": [
        "autoencoder.fit(X_train, y_train, epochs = 2000)"
      ],
      "metadata": {
        "id": "dh7hlrNijRGN"
      },
      "execution_count": null,
      "outputs": []
    },
    {
      "cell_type": "code",
      "source": [
        "autoencoder.evaluate(X_test,y_test)"
      ],
      "metadata": {
        "id": "u50crOS0OGTQ"
      },
      "execution_count": null,
      "outputs": []
    },
    {
      "cell_type": "code",
      "source": [
        "df_mat"
      ],
      "metadata": {
        "id": "QZfdCQKpP1Fr"
      },
      "execution_count": null,
      "outputs": []
    },
    {
      "cell_type": "code",
      "source": [
        "mat_pred = autoencoder.predict(df_mat)"
      ],
      "metadata": {
        "id": "8mRENNR6OUvh",
        "outputId": "1155e6fd-8b4a-445f-e398-457941015b95",
        "colab": {
          "base_uri": "https://localhost:8080/"
        }
      },
      "execution_count": 355,
      "outputs": [
        {
          "output_type": "stream",
          "name": "stdout",
          "text": [
            "91/91 [==============================] - 0s 2ms/step\n"
          ]
        }
      ]
    },
    {
      "cell_type": "code",
      "source": [
        "mat_pred"
      ],
      "metadata": {
        "id": "kXiLEuz3vS3s"
      },
      "execution_count": null,
      "outputs": []
    },
    {
      "cell_type": "code",
      "source": [
        "df_mat_pred = pd.DataFrame(mat_pred, index = df_mat_sample.index, columns = df_mat_sample.columns)"
      ],
      "metadata": {
        "id": "NF1MKF0Fjigd"
      },
      "execution_count": 357,
      "outputs": []
    },
    {
      "cell_type": "code",
      "source": [
        "df_mat_pred.max()"
      ],
      "metadata": {
        "id": "A-aIuIYrvf31"
      },
      "execution_count": null,
      "outputs": []
    },
    {
      "cell_type": "code",
      "source": [
        "scaler = preprocessing.MinMaxScaler(feature_range=(0, 1))\n",
        "d = scaler.fit_transform(df_mat_pred)\n",
        "scaled_df = pd.DataFrame(d,index = df_mat_pred.index,columns = df_mat_pred.columns)\n",
        "scaled_df"
      ],
      "metadata": {
        "id": "ooHOSE20PMpK",
        "outputId": "d53e6696-ce7d-402e-eac6-292963088194",
        "colab": {
          "base_uri": "https://localhost:8080/",
          "height": 488
        }
      },
      "execution_count": 364,
      "outputs": [
        {
          "output_type": "execute_result",
          "data": {
            "text/plain": [
              "         142900    193193    149668    109569    190973    130885    102356  \\\n",
              "24182  0.739560  0.690588  0.394466  0.393343  0.724470  0.457326  0.722702   \n",
              "10293  0.741335  0.691571  0.408539  0.376687  0.726362  0.458363  0.723970   \n",
              "39186  0.740762  0.691124  0.401990  0.352926  0.725216  0.456493  0.723390   \n",
              "36361  0.740440  0.691350  0.393258  0.354361  0.724953  0.454975  0.723332   \n",
              "48234  0.739536  0.690577  0.401818  0.419009  0.724415  0.455279  0.722702   \n",
              "...         ...       ...       ...       ...       ...       ...       ...   \n",
              "49603  0.490176  0.465485  0.683034  0.576619  0.483633  0.899976  0.490776   \n",
              "22328  0.740901  0.691945  0.552346  0.520014  0.725198  0.458674  0.723261   \n",
              "49900  0.740901  0.691945  0.552346  0.520014  0.725198  0.458674  0.723261   \n",
              "44339  0.740901  0.691945  0.552346  0.520014  0.725198  0.458674  0.723261   \n",
              "40291  0.740901  0.691945  0.552346  0.520014  0.725198  0.458674  0.723261   \n",
              "\n",
              "         140724  150894    121811  ...    148093    161328    162786  \\\n",
              "24182  0.545093     0.0  0.661743  ...  0.718401  0.620500  0.747101   \n",
              "10293  0.546680     0.0  0.663787  ...  0.720085  0.621630  0.749273   \n",
              "39186  0.545573     0.0  0.662940  ...  0.719465  0.620951  0.748868   \n",
              "36361  0.546809     0.0  0.663099  ...  0.719472  0.621969  0.748358   \n",
              "48234  0.544563     0.0  0.661844  ...  0.718436  0.620313  0.747451   \n",
              "...         ...     ...       ...  ...       ...       ...       ...   \n",
              "49603  0.920524     0.0  0.442354  ...  0.480517  0.924342  0.594342   \n",
              "22328  0.544917     0.0  0.662895  ...  0.720137  0.621196  0.748950   \n",
              "49900  0.544917     0.0  0.662895  ...  0.720137  0.621196  0.748950   \n",
              "44339  0.544917     0.0  0.662895  ...  0.720137  0.621196  0.748950   \n",
              "40291  0.544917     0.0  0.662895  ...  0.720137  0.621196  0.748950   \n",
              "\n",
              "         127922    182458    162746    111242    179615    196661    196174  \n",
              "24182  0.376430  0.443698  0.708718  0.604317  0.359654  0.382450  0.664147  \n",
              "10293  0.384166  0.446956  0.709549  0.608099  0.361604  0.376744  0.665603  \n",
              "39186  0.379751  0.445569  0.709728  0.604250  0.360029  0.368365  0.664972  \n",
              "36361  0.391833  0.448424  0.709648  0.605230  0.359348  0.349215  0.665215  \n",
              "48234  0.382252  0.443615  0.708749  0.602944  0.359200  0.363024  0.664120  \n",
              "...         ...       ...       ...       ...       ...       ...       ...  \n",
              "49603  0.667836  0.443056  0.476412  0.928867  0.918885  0.756639  0.449879  \n",
              "22328  0.410298  0.446678  0.710601  0.605720  0.358838  0.541753  0.665597  \n",
              "49900  0.410298  0.446678  0.710601  0.605720  0.358838  0.541753  0.665597  \n",
              "44339  0.410298  0.446678  0.710601  0.605720  0.358838  0.541753  0.665597  \n",
              "40291  0.410298  0.446678  0.710601  0.605720  0.358838  0.541753  0.665597  \n",
              "\n",
              "[2895 rows x 996 columns]"
            ],
            "text/html": [
              "\n",
              "  <div id=\"df-13fa6141-4d67-4919-a65f-383fe61fd525\">\n",
              "    <div class=\"colab-df-container\">\n",
              "      <div>\n",
              "<style scoped>\n",
              "    .dataframe tbody tr th:only-of-type {\n",
              "        vertical-align: middle;\n",
              "    }\n",
              "\n",
              "    .dataframe tbody tr th {\n",
              "        vertical-align: top;\n",
              "    }\n",
              "\n",
              "    .dataframe thead th {\n",
              "        text-align: right;\n",
              "    }\n",
              "</style>\n",
              "<table border=\"1\" class=\"dataframe\">\n",
              "  <thead>\n",
              "    <tr style=\"text-align: right;\">\n",
              "      <th></th>\n",
              "      <th>142900</th>\n",
              "      <th>193193</th>\n",
              "      <th>149668</th>\n",
              "      <th>109569</th>\n",
              "      <th>190973</th>\n",
              "      <th>130885</th>\n",
              "      <th>102356</th>\n",
              "      <th>140724</th>\n",
              "      <th>150894</th>\n",
              "      <th>121811</th>\n",
              "      <th>...</th>\n",
              "      <th>148093</th>\n",
              "      <th>161328</th>\n",
              "      <th>162786</th>\n",
              "      <th>127922</th>\n",
              "      <th>182458</th>\n",
              "      <th>162746</th>\n",
              "      <th>111242</th>\n",
              "      <th>179615</th>\n",
              "      <th>196661</th>\n",
              "      <th>196174</th>\n",
              "    </tr>\n",
              "  </thead>\n",
              "  <tbody>\n",
              "    <tr>\n",
              "      <th>24182</th>\n",
              "      <td>0.739560</td>\n",
              "      <td>0.690588</td>\n",
              "      <td>0.394466</td>\n",
              "      <td>0.393343</td>\n",
              "      <td>0.724470</td>\n",
              "      <td>0.457326</td>\n",
              "      <td>0.722702</td>\n",
              "      <td>0.545093</td>\n",
              "      <td>0.0</td>\n",
              "      <td>0.661743</td>\n",
              "      <td>...</td>\n",
              "      <td>0.718401</td>\n",
              "      <td>0.620500</td>\n",
              "      <td>0.747101</td>\n",
              "      <td>0.376430</td>\n",
              "      <td>0.443698</td>\n",
              "      <td>0.708718</td>\n",
              "      <td>0.604317</td>\n",
              "      <td>0.359654</td>\n",
              "      <td>0.382450</td>\n",
              "      <td>0.664147</td>\n",
              "    </tr>\n",
              "    <tr>\n",
              "      <th>10293</th>\n",
              "      <td>0.741335</td>\n",
              "      <td>0.691571</td>\n",
              "      <td>0.408539</td>\n",
              "      <td>0.376687</td>\n",
              "      <td>0.726362</td>\n",
              "      <td>0.458363</td>\n",
              "      <td>0.723970</td>\n",
              "      <td>0.546680</td>\n",
              "      <td>0.0</td>\n",
              "      <td>0.663787</td>\n",
              "      <td>...</td>\n",
              "      <td>0.720085</td>\n",
              "      <td>0.621630</td>\n",
              "      <td>0.749273</td>\n",
              "      <td>0.384166</td>\n",
              "      <td>0.446956</td>\n",
              "      <td>0.709549</td>\n",
              "      <td>0.608099</td>\n",
              "      <td>0.361604</td>\n",
              "      <td>0.376744</td>\n",
              "      <td>0.665603</td>\n",
              "    </tr>\n",
              "    <tr>\n",
              "      <th>39186</th>\n",
              "      <td>0.740762</td>\n",
              "      <td>0.691124</td>\n",
              "      <td>0.401990</td>\n",
              "      <td>0.352926</td>\n",
              "      <td>0.725216</td>\n",
              "      <td>0.456493</td>\n",
              "      <td>0.723390</td>\n",
              "      <td>0.545573</td>\n",
              "      <td>0.0</td>\n",
              "      <td>0.662940</td>\n",
              "      <td>...</td>\n",
              "      <td>0.719465</td>\n",
              "      <td>0.620951</td>\n",
              "      <td>0.748868</td>\n",
              "      <td>0.379751</td>\n",
              "      <td>0.445569</td>\n",
              "      <td>0.709728</td>\n",
              "      <td>0.604250</td>\n",
              "      <td>0.360029</td>\n",
              "      <td>0.368365</td>\n",
              "      <td>0.664972</td>\n",
              "    </tr>\n",
              "    <tr>\n",
              "      <th>36361</th>\n",
              "      <td>0.740440</td>\n",
              "      <td>0.691350</td>\n",
              "      <td>0.393258</td>\n",
              "      <td>0.354361</td>\n",
              "      <td>0.724953</td>\n",
              "      <td>0.454975</td>\n",
              "      <td>0.723332</td>\n",
              "      <td>0.546809</td>\n",
              "      <td>0.0</td>\n",
              "      <td>0.663099</td>\n",
              "      <td>...</td>\n",
              "      <td>0.719472</td>\n",
              "      <td>0.621969</td>\n",
              "      <td>0.748358</td>\n",
              "      <td>0.391833</td>\n",
              "      <td>0.448424</td>\n",
              "      <td>0.709648</td>\n",
              "      <td>0.605230</td>\n",
              "      <td>0.359348</td>\n",
              "      <td>0.349215</td>\n",
              "      <td>0.665215</td>\n",
              "    </tr>\n",
              "    <tr>\n",
              "      <th>48234</th>\n",
              "      <td>0.739536</td>\n",
              "      <td>0.690577</td>\n",
              "      <td>0.401818</td>\n",
              "      <td>0.419009</td>\n",
              "      <td>0.724415</td>\n",
              "      <td>0.455279</td>\n",
              "      <td>0.722702</td>\n",
              "      <td>0.544563</td>\n",
              "      <td>0.0</td>\n",
              "      <td>0.661844</td>\n",
              "      <td>...</td>\n",
              "      <td>0.718436</td>\n",
              "      <td>0.620313</td>\n",
              "      <td>0.747451</td>\n",
              "      <td>0.382252</td>\n",
              "      <td>0.443615</td>\n",
              "      <td>0.708749</td>\n",
              "      <td>0.602944</td>\n",
              "      <td>0.359200</td>\n",
              "      <td>0.363024</td>\n",
              "      <td>0.664120</td>\n",
              "    </tr>\n",
              "    <tr>\n",
              "      <th>...</th>\n",
              "      <td>...</td>\n",
              "      <td>...</td>\n",
              "      <td>...</td>\n",
              "      <td>...</td>\n",
              "      <td>...</td>\n",
              "      <td>...</td>\n",
              "      <td>...</td>\n",
              "      <td>...</td>\n",
              "      <td>...</td>\n",
              "      <td>...</td>\n",
              "      <td>...</td>\n",
              "      <td>...</td>\n",
              "      <td>...</td>\n",
              "      <td>...</td>\n",
              "      <td>...</td>\n",
              "      <td>...</td>\n",
              "      <td>...</td>\n",
              "      <td>...</td>\n",
              "      <td>...</td>\n",
              "      <td>...</td>\n",
              "      <td>...</td>\n",
              "    </tr>\n",
              "    <tr>\n",
              "      <th>49603</th>\n",
              "      <td>0.490176</td>\n",
              "      <td>0.465485</td>\n",
              "      <td>0.683034</td>\n",
              "      <td>0.576619</td>\n",
              "      <td>0.483633</td>\n",
              "      <td>0.899976</td>\n",
              "      <td>0.490776</td>\n",
              "      <td>0.920524</td>\n",
              "      <td>0.0</td>\n",
              "      <td>0.442354</td>\n",
              "      <td>...</td>\n",
              "      <td>0.480517</td>\n",
              "      <td>0.924342</td>\n",
              "      <td>0.594342</td>\n",
              "      <td>0.667836</td>\n",
              "      <td>0.443056</td>\n",
              "      <td>0.476412</td>\n",
              "      <td>0.928867</td>\n",
              "      <td>0.918885</td>\n",
              "      <td>0.756639</td>\n",
              "      <td>0.449879</td>\n",
              "    </tr>\n",
              "    <tr>\n",
              "      <th>22328</th>\n",
              "      <td>0.740901</td>\n",
              "      <td>0.691945</td>\n",
              "      <td>0.552346</td>\n",
              "      <td>0.520014</td>\n",
              "      <td>0.725198</td>\n",
              "      <td>0.458674</td>\n",
              "      <td>0.723261</td>\n",
              "      <td>0.544917</td>\n",
              "      <td>0.0</td>\n",
              "      <td>0.662895</td>\n",
              "      <td>...</td>\n",
              "      <td>0.720137</td>\n",
              "      <td>0.621196</td>\n",
              "      <td>0.748950</td>\n",
              "      <td>0.410298</td>\n",
              "      <td>0.446678</td>\n",
              "      <td>0.710601</td>\n",
              "      <td>0.605720</td>\n",
              "      <td>0.358838</td>\n",
              "      <td>0.541753</td>\n",
              "      <td>0.665597</td>\n",
              "    </tr>\n",
              "    <tr>\n",
              "      <th>49900</th>\n",
              "      <td>0.740901</td>\n",
              "      <td>0.691945</td>\n",
              "      <td>0.552346</td>\n",
              "      <td>0.520014</td>\n",
              "      <td>0.725198</td>\n",
              "      <td>0.458674</td>\n",
              "      <td>0.723261</td>\n",
              "      <td>0.544917</td>\n",
              "      <td>0.0</td>\n",
              "      <td>0.662895</td>\n",
              "      <td>...</td>\n",
              "      <td>0.720137</td>\n",
              "      <td>0.621196</td>\n",
              "      <td>0.748950</td>\n",
              "      <td>0.410298</td>\n",
              "      <td>0.446678</td>\n",
              "      <td>0.710601</td>\n",
              "      <td>0.605720</td>\n",
              "      <td>0.358838</td>\n",
              "      <td>0.541753</td>\n",
              "      <td>0.665597</td>\n",
              "    </tr>\n",
              "    <tr>\n",
              "      <th>44339</th>\n",
              "      <td>0.740901</td>\n",
              "      <td>0.691945</td>\n",
              "      <td>0.552346</td>\n",
              "      <td>0.520014</td>\n",
              "      <td>0.725198</td>\n",
              "      <td>0.458674</td>\n",
              "      <td>0.723261</td>\n",
              "      <td>0.544917</td>\n",
              "      <td>0.0</td>\n",
              "      <td>0.662895</td>\n",
              "      <td>...</td>\n",
              "      <td>0.720137</td>\n",
              "      <td>0.621196</td>\n",
              "      <td>0.748950</td>\n",
              "      <td>0.410298</td>\n",
              "      <td>0.446678</td>\n",
              "      <td>0.710601</td>\n",
              "      <td>0.605720</td>\n",
              "      <td>0.358838</td>\n",
              "      <td>0.541753</td>\n",
              "      <td>0.665597</td>\n",
              "    </tr>\n",
              "    <tr>\n",
              "      <th>40291</th>\n",
              "      <td>0.740901</td>\n",
              "      <td>0.691945</td>\n",
              "      <td>0.552346</td>\n",
              "      <td>0.520014</td>\n",
              "      <td>0.725198</td>\n",
              "      <td>0.458674</td>\n",
              "      <td>0.723261</td>\n",
              "      <td>0.544917</td>\n",
              "      <td>0.0</td>\n",
              "      <td>0.662895</td>\n",
              "      <td>...</td>\n",
              "      <td>0.720137</td>\n",
              "      <td>0.621196</td>\n",
              "      <td>0.748950</td>\n",
              "      <td>0.410298</td>\n",
              "      <td>0.446678</td>\n",
              "      <td>0.710601</td>\n",
              "      <td>0.605720</td>\n",
              "      <td>0.358838</td>\n",
              "      <td>0.541753</td>\n",
              "      <td>0.665597</td>\n",
              "    </tr>\n",
              "  </tbody>\n",
              "</table>\n",
              "<p>2895 rows × 996 columns</p>\n",
              "</div>\n",
              "      <button class=\"colab-df-convert\" onclick=\"convertToInteractive('df-13fa6141-4d67-4919-a65f-383fe61fd525')\"\n",
              "              title=\"Convert this dataframe to an interactive table.\"\n",
              "              style=\"display:none;\">\n",
              "        \n",
              "  <svg xmlns=\"http://www.w3.org/2000/svg\" height=\"24px\"viewBox=\"0 0 24 24\"\n",
              "       width=\"24px\">\n",
              "    <path d=\"M0 0h24v24H0V0z\" fill=\"none\"/>\n",
              "    <path d=\"M18.56 5.44l.94 2.06.94-2.06 2.06-.94-2.06-.94-.94-2.06-.94 2.06-2.06.94zm-11 1L8.5 8.5l.94-2.06 2.06-.94-2.06-.94L8.5 2.5l-.94 2.06-2.06.94zm10 10l.94 2.06.94-2.06 2.06-.94-2.06-.94-.94-2.06-.94 2.06-2.06.94z\"/><path d=\"M17.41 7.96l-1.37-1.37c-.4-.4-.92-.59-1.43-.59-.52 0-1.04.2-1.43.59L10.3 9.45l-7.72 7.72c-.78.78-.78 2.05 0 2.83L4 21.41c.39.39.9.59 1.41.59.51 0 1.02-.2 1.41-.59l7.78-7.78 2.81-2.81c.8-.78.8-2.07 0-2.86zM5.41 20L4 18.59l7.72-7.72 1.47 1.35L5.41 20z\"/>\n",
              "  </svg>\n",
              "      </button>\n",
              "      \n",
              "  <style>\n",
              "    .colab-df-container {\n",
              "      display:flex;\n",
              "      flex-wrap:wrap;\n",
              "      gap: 12px;\n",
              "    }\n",
              "\n",
              "    .colab-df-convert {\n",
              "      background-color: #E8F0FE;\n",
              "      border: none;\n",
              "      border-radius: 50%;\n",
              "      cursor: pointer;\n",
              "      display: none;\n",
              "      fill: #1967D2;\n",
              "      height: 32px;\n",
              "      padding: 0 0 0 0;\n",
              "      width: 32px;\n",
              "    }\n",
              "\n",
              "    .colab-df-convert:hover {\n",
              "      background-color: #E2EBFA;\n",
              "      box-shadow: 0px 1px 2px rgba(60, 64, 67, 0.3), 0px 1px 3px 1px rgba(60, 64, 67, 0.15);\n",
              "      fill: #174EA6;\n",
              "    }\n",
              "\n",
              "    [theme=dark] .colab-df-convert {\n",
              "      background-color: #3B4455;\n",
              "      fill: #D2E3FC;\n",
              "    }\n",
              "\n",
              "    [theme=dark] .colab-df-convert:hover {\n",
              "      background-color: #434B5C;\n",
              "      box-shadow: 0px 1px 3px 1px rgba(0, 0, 0, 0.15);\n",
              "      filter: drop-shadow(0px 1px 2px rgba(0, 0, 0, 0.3));\n",
              "      fill: #FFFFFF;\n",
              "    }\n",
              "  </style>\n",
              "\n",
              "      <script>\n",
              "        const buttonEl =\n",
              "          document.querySelector('#df-13fa6141-4d67-4919-a65f-383fe61fd525 button.colab-df-convert');\n",
              "        buttonEl.style.display =\n",
              "          google.colab.kernel.accessAllowed ? 'block' : 'none';\n",
              "\n",
              "        async function convertToInteractive(key) {\n",
              "          const element = document.querySelector('#df-13fa6141-4d67-4919-a65f-383fe61fd525');\n",
              "          const dataTable =\n",
              "            await google.colab.kernel.invokeFunction('convertToInteractive',\n",
              "                                                     [key], {});\n",
              "          if (!dataTable) return;\n",
              "\n",
              "          const docLinkHtml = 'Like what you see? Visit the ' +\n",
              "            '<a target=\"_blank\" href=https://colab.research.google.com/notebooks/data_table.ipynb>data table notebook</a>'\n",
              "            + ' to learn more about interactive tables.';\n",
              "          element.innerHTML = '';\n",
              "          dataTable['output_type'] = 'display_data';\n",
              "          await google.colab.output.renderOutput(dataTable, element);\n",
              "          const docLink = document.createElement('div');\n",
              "          docLink.innerHTML = docLinkHtml;\n",
              "          element.appendChild(docLink);\n",
              "        }\n",
              "      </script>\n",
              "    </div>\n",
              "  </div>\n",
              "  "
            ]
          },
          "metadata": {},
          "execution_count": 364
        }
      ]
    },
    {
      "cell_type": "code",
      "source": [
        "res = np.where(df_mat_pred.iloc[:,:].values == 1 )\n",
        "res[0].size"
      ],
      "metadata": {
        "id": "zVh18elW3IsL"
      },
      "execution_count": null,
      "outputs": []
    }
  ]
}
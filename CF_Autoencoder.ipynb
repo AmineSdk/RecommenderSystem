{
  "nbformat": 4,
  "nbformat_minor": 0,
  "metadata": {
    "colab": {
      "name": "CF_Autoencoder.ipynb",
      "provenance": [],
      "collapsed_sections": []
    },
    "kernelspec": {
      "name": "python3",
      "display_name": "Python 3"
    },
    "language_info": {
      "name": "python"
    }
  },
  "cells": [
    {
      "cell_type": "code",
      "source": [
        "!pip install tensorflow-text"
      ],
      "metadata": {
        "id": "nFsPPT0-cZms"
      },
      "execution_count": null,
      "outputs": []
    },
    {
      "cell_type": "code",
      "source": [
        "! mkdir ~/.kaggle\n",
        "! cp kaggle.json ~/.kaggle/\n",
        "! chmod 600 ~/.kaggle/kaggle.json\n",
        "! kaggle datasets download CellPhones -f CellPhonesRating.csv"
      ],
      "metadata": {
        "id": "UM0vifCk9CB0"
      },
      "execution_count": null,
      "outputs": []
    },
    {
      "cell_type": "code",
      "execution_count": null,
      "metadata": {
        "id": "TcGcg4ZzRQD1"
      },
      "outputs": [],
      "source": [
        "from scipy.sparse import csr_matrix\n",
        "import tensorflow as tf \n",
        "import numpy as np\n",
        "import tensorflow_hub as hub\n",
        "import tensorflow_text as text\n",
        "import pandas as pd\n",
        "from tensorflow.keras import datasets, layers, models"
      ]
    },
    {
      "cell_type": "code",
      "execution_count": null,
      "metadata": {
        "id": "AeRax9AkAxij"
      },
      "outputs": [],
      "source": [
        "df = pd.read_csv(\"/content/CellPhonesRating.csv.zip\")\n",
        "df = df.dropna(how='any',axis=0)\n",
        "df = df.drop_duplicates(subset =['productID', 'reviewerID'] , keep = 'first')"
      ]
    },
    {
      "cell_type": "code",
      "source": [
        "df = df[:20000]"
      ],
      "metadata": {
        "id": "VLKm-BT6mc5B"
      },
      "execution_count": null,
      "outputs": []
    },
    {
      "cell_type": "code",
      "source": [
        "def DatasetToUserItemDataFrame(dataframe,userID,itemID,rating):\n",
        "  #Setting new item IDs from string to int \n",
        "  itemKeys = [] \n",
        "  i = 0\n",
        "  for item in dataframe.groupby(itemID).count()['Unnamed: 0'].values:\n",
        "    temp = np.full((item),i)\n",
        "    itemKeys = np.append(itemKeys,temp)\n",
        "    i += 1\n",
        "\n",
        "  #Setting new user IDs from string to int\n",
        "  userKeysDic = {}\n",
        "  userKeys = np.zeros((dataframe[userID].size))\n",
        "  i = 0\n",
        "  for user in dataframe[userID].unique():\n",
        "    userKeysDic[user] = i\n",
        "    i += 1\n",
        "  i = 0\n",
        "  for user in dataframe[userID]:\n",
        "    userKeys[i] = userKeysDic[user]\n",
        "    i += 1\n",
        "\n",
        "  #Converting arrays from lfoat to int \n",
        "  userKeys = userKeys.astype(int)\n",
        "  itemKeys = itemKeys.astype(int)\n",
        "\n",
        "  \n",
        "  user_item = csr_matrix((dataframe[rating].values.astype(int),(userKeys,itemKeys))) #Creating sparse matrix\n",
        "  user_item_matrix = user_item.toarray() #Converting sparse matrix into array\n",
        "  #df_user_item = pd.DataFrame(user_item_matrix,index = dataframe[userID].unique()  ,columns = dataframe[itemID].unique() ) \n",
        "\n",
        "  return user_item"
      ],
      "metadata": {
        "id": "HHmzbMvDVB0b"
      },
      "execution_count": null,
      "outputs": []
    },
    {
      "cell_type": "code",
      "source": [
        "user_item_matrix = DatasetToUserItemDataFrame(df,'reviewerID','productID','rating')"
      ],
      "metadata": {
        "id": "1GU3nHQSWsg_"
      },
      "execution_count": null,
      "outputs": []
    },
    {
      "cell_type": "code",
      "source": [
        "user_item_matrix.shape"
      ],
      "metadata": {
        "id": "CSZkT6NzfWuM",
        "outputId": "8facd908-c783-4239-d271-8c64d6fef42c",
        "colab": {
          "base_uri": "https://localhost:8080/"
        }
      },
      "execution_count": null,
      "outputs": [
        {
          "output_type": "execute_result",
          "data": {
            "text/plain": [
              "(55954, 6118)"
            ]
          },
          "metadata": {},
          "execution_count": 12
        }
      ]
    },
    {
      "cell_type": "code",
      "source": [
        "#Train/Test data split\n",
        "from sklearn.model_selection import train_test_split\n",
        "X_train, X_test= train_test_split(user_item_matrix)"
      ],
      "metadata": {
        "id": "ZbzQndGjeJ7O"
      },
      "execution_count": null,
      "outputs": []
    },
    {
      "cell_type": "code",
      "source": [
        "X_train = X_train.toarray()"
      ],
      "metadata": {
        "id": "TCZ2iv47hnGw"
      },
      "execution_count": null,
      "outputs": []
    },
    {
      "cell_type": "code",
      "source": [
        "X_train.shape"
      ],
      "metadata": {
        "id": "ylTzr7U-fM2e"
      },
      "execution_count": null,
      "outputs": []
    },
    {
      "cell_type": "code",
      "source": [
        "X_test.shape"
      ],
      "metadata": {
        "id": "5pAzfNclfQkD"
      },
      "execution_count": null,
      "outputs": []
    },
    {
      "cell_type": "code",
      "source": [
        "encoder_input = layers.Input(shape=(),name='user_item')\n",
        "flat = layers.Flatten()(encoder_input)\n",
        "hid_encoder = layers.Dense(512,activation=\"relu\")(flat)\n",
        "encoder_output = layers.Dense(256,activation=\"relu\")(hid_encoder_1)\n",
        "\n",
        "decoder_input = layers.Dense(512,activation=\"relu\")(encoder_output)\n",
        "decoder_output = layers.Dense(X_train.shape[1],activation=\"relu\")(decoder_input)\n",
        "\n",
        "autoencoder = tf.keras.Model(inputs = encoder_input, outputs = decoder_output)"
      ],
      "metadata": {
        "id": "YFYfUYa-e3w9"
      },
      "execution_count": null,
      "outputs": []
    },
    {
      "cell_type": "code",
      "source": [
        "autoencoder.compile"
      ],
      "metadata": {
        "id": "_h1-_AumilKy"
      },
      "execution_count": null,
      "outputs": []
    }
  ]
}
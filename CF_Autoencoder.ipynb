{
  "nbformat": 4,
  "nbformat_minor": 0,
  "metadata": {
    "colab": {
      "name": "CF_Autoencoder.ipynb",
      "provenance": [],
      "collapsed_sections": []
    },
    "kernelspec": {
      "name": "python3",
      "display_name": "Python 3"
    },
    "language_info": {
      "name": "python"
    }
  },
  "cells": [
    {
      "cell_type": "code",
      "source": [
        "!pip install tensorflow-text"
      ],
      "metadata": {
        "id": "nFsPPT0-cZms"
      },
      "execution_count": null,
      "outputs": []
    },
    {
      "cell_type": "code",
      "source": [
        "! pip install kaggle\n",
        "! mkdir ~/.kaggle\n",
        "! cp kaggle.json ~/.kaggle/\n",
        "! chmod 600 ~/.kaggle/kaggle.json\n",
        "! kaggle datasets download CellPhones -f CellPhonesRating.csv"
      ],
      "metadata": {
        "id": "UM0vifCk9CB0"
      },
      "execution_count": null,
      "outputs": []
    },
    {
      "cell_type": "code",
      "execution_count": 3,
      "metadata": {
        "id": "TcGcg4ZzRQD1"
      },
      "outputs": [],
      "source": [
        "import tensorflow as tf \n",
        "import numpy as np\n",
        "import tensorflow_hub as hub\n",
        "import tensorflow_text as text\n",
        "import pandas as pd\n",
        "from tensorflow.keras import datasets, layers, models"
      ]
    },
    {
      "cell_type": "code",
      "execution_count": 15,
      "metadata": {
        "id": "AeRax9AkAxij"
      },
      "outputs": [],
      "source": [
        "df = pd.read_csv(\"/content/CellPhonesRating.csv.zip\")\n",
        "df = df.dropna(how='any',axis=0)\n",
        "df = df.drop_duplicates(subset =['productID', 'reviewerID'] , keep = 'first')"
      ]
    },
    {
      "cell_type": "code",
      "source": [
        "df = df[:300]"
      ],
      "metadata": {
        "id": "DMoFF-Swe1pY"
      },
      "execution_count": 18,
      "outputs": []
    },
    {
      "cell_type": "code",
      "source": [
        "df.drop('reviewText',axis='columns', inplace=True)"
      ],
      "metadata": {
        "id": "I3Cpm36bpAGg"
      },
      "execution_count": null,
      "outputs": []
    },
    {
      "cell_type": "code",
      "source": [
        "df[(df['reviewerID'] == 'AB6CHQWHZW4TV') & (df['productID'] == '7508492919')]['rating'].size"
      ],
      "metadata": {
        "id": "UELEEqAmvOfG"
      },
      "execution_count": null,
      "outputs": []
    },
    {
      "cell_type": "code",
      "source": [
        ""
      ],
      "metadata": {
        "id": "4m6z9J2UC-hS"
      },
      "execution_count": null,
      "outputs": []
    },
    {
      "cell_type": "code",
      "source": [
        "user_item ={}\n",
        "for item in df['productID']:\n",
        "  user_item[item] = {}\n",
        "  for user in df['reviewerID'].unique():\n",
        "      user_item[item][user] = 0"
      ],
      "metadata": {
        "id": "4TeSDwXinW3u"
      },
      "execution_count": 22,
      "outputs": []
    },
    {
      "cell_type": "code",
      "source": [
        "user_item_df = pd.DataFrame(user_item)"
      ],
      "metadata": {
        "id": "0aageh406pyj"
      },
      "execution_count": 23,
      "outputs": []
    },
    {
      "cell_type": "code",
      "source": [
        "user_item_df"
      ],
      "metadata": {
        "id": "91hRokKe7Etm"
      },
      "execution_count": null,
      "outputs": []
    },
    {
      "cell_type": "code",
      "source": [
        "df.values[1]"
      ],
      "metadata": {
        "colab": {
          "base_uri": "https://localhost:8080/"
        },
        "id": "gM-KNN8mDnJc",
        "outputId": "04bb9a2e-6950-4c9e-81e8-3a40016f07ce"
      },
      "execution_count": 32,
      "outputs": [
        {
          "output_type": "execute_result",
          "data": {
            "text/plain": [
              "array([1, 5.0, 'A269FLZCB4GIPV', '7508492919'], dtype=object)"
            ]
          },
          "metadata": {},
          "execution_count": 32
        }
      ]
    },
    {
      "cell_type": "code",
      "source": [
        "for row in df.values:\n",
        "  user_item_df[row[2],row[3]] = row[1]"
      ],
      "metadata": {
        "id": "nfExddQcDaaX"
      },
      "execution_count": null,
      "outputs": []
    },
    {
      "cell_type": "code",
      "source": [
        "user_item_df"
      ],
      "metadata": {
        "id": "pVSVy5_RDycB"
      },
      "execution_count": null,
      "outputs": []
    },
    {
      "cell_type": "code",
      "source": [
        "from google.colab import drive\n",
        "drive.mount('/content/drive')"
      ],
      "metadata": {
        "id": "uLFdwRyWsU_V"
      },
      "execution_count": null,
      "outputs": []
    },
    {
      "cell_type": "code",
      "source": [
        "#Train/Test data split\n",
        "from sklearn.model_selection import train_test_split\n",
        "X_train, X_test, y_train, y_test = train_test_split(df['reviewText'],df['rating'], stratify=df['rating'])"
      ],
      "metadata": {
        "id": "ZbzQndGjeJ7O"
      },
      "execution_count": 10,
      "outputs": []
    },
    {
      "cell_type": "code",
      "source": [
        "encoder_input = layers.Input(shape=(),name='user_item')\n"
      ],
      "metadata": {
        "id": "YFYfUYa-e3w9"
      },
      "execution_count": null,
      "outputs": []
    }
  ]
}
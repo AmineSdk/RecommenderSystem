{
  "nbformat": 4,
  "nbformat_minor": 0,
  "metadata": {
    "colab": {
      "name": "CF_Autoencoder.ipynb",
      "provenance": [],
      "collapsed_sections": []
    },
    "kernelspec": {
      "name": "python3",
      "display_name": "Python 3"
    },
    "language_info": {
      "name": "python"
    },
    "gpuClass": "standard",
    "accelerator": "GPU"
  },
  "cells": [
    {
      "cell_type": "code",
      "source": [
        "!pip install tensorflow-text"
      ],
      "metadata": {
        "id": "nFsPPT0-cZms"
      },
      "execution_count": null,
      "outputs": []
    },
    {
      "cell_type": "code",
      "source": [
        "! mkdir ~/.kaggle\n",
        "! cp kaggle.json ~/.kaggle/\n",
        "! chmod 600 ~/.kaggle/kaggle.json\n",
        "! kaggle datasets download -d aminesedkaoui/epinions-ratings-500k\n",
        "! kaggle datasets download -d aminesedkaoui/epinions-user-item-matrix-75k"
      ],
      "metadata": {
        "id": "UM0vifCk9CB0"
      },
      "execution_count": null,
      "outputs": []
    },
    {
      "cell_type": "code",
      "execution_count": 5,
      "metadata": {
        "id": "TcGcg4ZzRQD1"
      },
      "outputs": [],
      "source": [
        "from scipy.sparse import csr_matrix\n",
        "import tensorflow as tf \n",
        "import numpy as np\n",
        "import tensorflow_hub as hub\n",
        "import pandas as pd\n",
        "import random\n",
        "from keras import datasets, layers, models\n",
        "from sklearn.model_selection import train_test_split"
      ]
    },
    {
      "cell_type": "code",
      "source": [
        "!unzip \"/content/epinions-ratings-500k.zip\" -d \"/content/\"\n",
        "!unzip \"/content/epinions-user-item-matrix-75k.zip\" -d \"/content/\""
      ],
      "metadata": {
        "id": "ppVGlIh8Ce8q",
        "outputId": "4d5e581a-d292-481c-ce4f-73f6400a678d",
        "colab": {
          "base_uri": "https://localhost:8080/"
        }
      },
      "execution_count": 6,
      "outputs": [
        {
          "output_type": "stream",
          "name": "stdout",
          "text": [
            "Archive:  /content/epinions-ratings-500k.zip\n",
            "  inflating: /content/epinions_rating_500k.csv  \n",
            "Archive:  /content/epinions-user-item-matrix-75k.zip\n",
            "  inflating: /content/epinions_user_item_filled_75K_matrix_100k_leaning.csv  \n"
          ]
        }
      ]
    },
    {
      "cell_type": "code",
      "source": [
        "df = pd.read_csv('/content/epinions_rating_500k.csv')\n",
        "df = df.drop(['Unnamed: 0'],axis=1)\n",
        "df.head()"
      ],
      "metadata": {
        "id": "M-Fxg9TcRStc",
        "outputId": "977860a6-5f14-4d02-f21c-b36515f4ad7d",
        "colab": {
          "base_uri": "https://localhost:8080/",
          "height": 206
        }
      },
      "execution_count": 7,
      "outputs": [
        {
          "output_type": "execute_result",
          "data": {
            "text/plain": [
              "     Item_ID     User_ID  rating\n",
              "0  139431556  1312460676       5\n",
              "1  139431556      204358       5\n",
              "2  139431556      368725       5\n",
              "3  139431556      277629       5\n",
              "4  139431556      246386       5"
            ],
            "text/html": [
              "\n",
              "  <div id=\"df-b283ec86-62ee-4460-a0f7-bb00eef012f3\">\n",
              "    <div class=\"colab-df-container\">\n",
              "      <div>\n",
              "<style scoped>\n",
              "    .dataframe tbody tr th:only-of-type {\n",
              "        vertical-align: middle;\n",
              "    }\n",
              "\n",
              "    .dataframe tbody tr th {\n",
              "        vertical-align: top;\n",
              "    }\n",
              "\n",
              "    .dataframe thead th {\n",
              "        text-align: right;\n",
              "    }\n",
              "</style>\n",
              "<table border=\"1\" class=\"dataframe\">\n",
              "  <thead>\n",
              "    <tr style=\"text-align: right;\">\n",
              "      <th></th>\n",
              "      <th>Item_ID</th>\n",
              "      <th>User_ID</th>\n",
              "      <th>rating</th>\n",
              "    </tr>\n",
              "  </thead>\n",
              "  <tbody>\n",
              "    <tr>\n",
              "      <th>0</th>\n",
              "      <td>139431556</td>\n",
              "      <td>1312460676</td>\n",
              "      <td>5</td>\n",
              "    </tr>\n",
              "    <tr>\n",
              "      <th>1</th>\n",
              "      <td>139431556</td>\n",
              "      <td>204358</td>\n",
              "      <td>5</td>\n",
              "    </tr>\n",
              "    <tr>\n",
              "      <th>2</th>\n",
              "      <td>139431556</td>\n",
              "      <td>368725</td>\n",
              "      <td>5</td>\n",
              "    </tr>\n",
              "    <tr>\n",
              "      <th>3</th>\n",
              "      <td>139431556</td>\n",
              "      <td>277629</td>\n",
              "      <td>5</td>\n",
              "    </tr>\n",
              "    <tr>\n",
              "      <th>4</th>\n",
              "      <td>139431556</td>\n",
              "      <td>246386</td>\n",
              "      <td>5</td>\n",
              "    </tr>\n",
              "  </tbody>\n",
              "</table>\n",
              "</div>\n",
              "      <button class=\"colab-df-convert\" onclick=\"convertToInteractive('df-b283ec86-62ee-4460-a0f7-bb00eef012f3')\"\n",
              "              title=\"Convert this dataframe to an interactive table.\"\n",
              "              style=\"display:none;\">\n",
              "        \n",
              "  <svg xmlns=\"http://www.w3.org/2000/svg\" height=\"24px\"viewBox=\"0 0 24 24\"\n",
              "       width=\"24px\">\n",
              "    <path d=\"M0 0h24v24H0V0z\" fill=\"none\"/>\n",
              "    <path d=\"M18.56 5.44l.94 2.06.94-2.06 2.06-.94-2.06-.94-.94-2.06-.94 2.06-2.06.94zm-11 1L8.5 8.5l.94-2.06 2.06-.94-2.06-.94L8.5 2.5l-.94 2.06-2.06.94zm10 10l.94 2.06.94-2.06 2.06-.94-2.06-.94-.94-2.06-.94 2.06-2.06.94z\"/><path d=\"M17.41 7.96l-1.37-1.37c-.4-.4-.92-.59-1.43-.59-.52 0-1.04.2-1.43.59L10.3 9.45l-7.72 7.72c-.78.78-.78 2.05 0 2.83L4 21.41c.39.39.9.59 1.41.59.51 0 1.02-.2 1.41-.59l7.78-7.78 2.81-2.81c.8-.78.8-2.07 0-2.86zM5.41 20L4 18.59l7.72-7.72 1.47 1.35L5.41 20z\"/>\n",
              "  </svg>\n",
              "      </button>\n",
              "      \n",
              "  <style>\n",
              "    .colab-df-container {\n",
              "      display:flex;\n",
              "      flex-wrap:wrap;\n",
              "      gap: 12px;\n",
              "    }\n",
              "\n",
              "    .colab-df-convert {\n",
              "      background-color: #E8F0FE;\n",
              "      border: none;\n",
              "      border-radius: 50%;\n",
              "      cursor: pointer;\n",
              "      display: none;\n",
              "      fill: #1967D2;\n",
              "      height: 32px;\n",
              "      padding: 0 0 0 0;\n",
              "      width: 32px;\n",
              "    }\n",
              "\n",
              "    .colab-df-convert:hover {\n",
              "      background-color: #E2EBFA;\n",
              "      box-shadow: 0px 1px 2px rgba(60, 64, 67, 0.3), 0px 1px 3px 1px rgba(60, 64, 67, 0.15);\n",
              "      fill: #174EA6;\n",
              "    }\n",
              "\n",
              "    [theme=dark] .colab-df-convert {\n",
              "      background-color: #3B4455;\n",
              "      fill: #D2E3FC;\n",
              "    }\n",
              "\n",
              "    [theme=dark] .colab-df-convert:hover {\n",
              "      background-color: #434B5C;\n",
              "      box-shadow: 0px 1px 3px 1px rgba(0, 0, 0, 0.15);\n",
              "      filter: drop-shadow(0px 1px 2px rgba(0, 0, 0, 0.3));\n",
              "      fill: #FFFFFF;\n",
              "    }\n",
              "  </style>\n",
              "\n",
              "      <script>\n",
              "        const buttonEl =\n",
              "          document.querySelector('#df-b283ec86-62ee-4460-a0f7-bb00eef012f3 button.colab-df-convert');\n",
              "        buttonEl.style.display =\n",
              "          google.colab.kernel.accessAllowed ? 'block' : 'none';\n",
              "\n",
              "        async function convertToInteractive(key) {\n",
              "          const element = document.querySelector('#df-b283ec86-62ee-4460-a0f7-bb00eef012f3');\n",
              "          const dataTable =\n",
              "            await google.colab.kernel.invokeFunction('convertToInteractive',\n",
              "                                                     [key], {});\n",
              "          if (!dataTable) return;\n",
              "\n",
              "          const docLinkHtml = 'Like what you see? Visit the ' +\n",
              "            '<a target=\"_blank\" href=https://colab.research.google.com/notebooks/data_table.ipynb>data table notebook</a>'\n",
              "            + ' to learn more about interactive tables.';\n",
              "          element.innerHTML = '';\n",
              "          dataTable['output_type'] = 'display_data';\n",
              "          await google.colab.output.renderOutput(dataTable, element);\n",
              "          const docLink = document.createElement('div');\n",
              "          docLink.innerHTML = docLinkHtml;\n",
              "          element.appendChild(docLink);\n",
              "        }\n",
              "      </script>\n",
              "    </div>\n",
              "  </div>\n",
              "  "
            ]
          },
          "metadata": {},
          "execution_count": 7
        }
      ]
    },
    {
      "cell_type": "code",
      "source": [
        "def DatasetToUserItemDataFrame(dataframe,userID,itemID,rating):\n",
        "  #Setting new item IDs from string to int \n",
        "  itemKeys = [] \n",
        "  i = 0\n",
        "  for item in dataframe[itemID].value_counts(sort=False):\n",
        "    temp = np.full((item),i)\n",
        "    itemKeys = np.append(itemKeys,temp)\n",
        "    i += 1\n",
        "\n",
        "  #Setting new user IDs from string to int\n",
        "  userKeysDic = {}\n",
        "  userKeys = np.zeros((dataframe[userID].size))\n",
        "  i = 0\n",
        "  for user in dataframe[userID].unique():\n",
        "    userKeysDic[user] = i\n",
        "    i += 1\n",
        "  i = 0\n",
        "  for user in dataframe[userID]:\n",
        "    userKeys[i] = userKeysDic[user]\n",
        "    i += 1\n",
        "\n",
        "  #Converting arrays from float to int \n",
        "  userKeys = userKeys.astype(int)\n",
        "  itemKeys = itemKeys.astype(int)\n",
        "\n",
        "  \n",
        "  user_item = csr_matrix((dataframe[rating].values.astype(int),(userKeys,itemKeys))) #Creating sparse matrix\n",
        "  user_item_matrix = user_item.toarray() #Converting sparse matrix into array\n",
        "  df_user_item = pd.DataFrame(user_item_matrix,index = dataframe[userID].unique()  ,columns = dataframe[itemID].unique() ) \n",
        "\n",
        "  return user_item,df_user_item"
      ],
      "metadata": {
        "id": "HHmzbMvDVB0b"
      },
      "execution_count": 8,
      "outputs": []
    },
    {
      "cell_type": "code",
      "source": [
        "def preprocess_df(df):\n",
        "  users = df['User_ID'].unique()\n",
        "  items = df['Item_ID'].unique()\n",
        "  df_train = df.copy()\n",
        "\n",
        "  New_User_IDs = random.sample(range(10000,50000),df['User_ID'].nunique())\n",
        "  New_Item_IDs = random.sample(range(100000,200000),df['Item_ID'].nunique())\n",
        "  i = 0\n",
        "  for d in users :\n",
        "    df_train['User_ID'].replace({d : New_User_IDs[i]}, inplace=True)\n",
        "    i+=1\n",
        "\n",
        "  i = 0\n",
        "  for d in items :\n",
        "    df_train['Item_ID'].replace({d : New_Item_IDs[i]}, inplace=True)\n",
        "    i+=1\n",
        "  \n",
        "  df_train['one']=df_train['rating'].apply(lambda x: 1 if x==1 else 0)\n",
        "  df_train['two']=df_train['rating'].apply(lambda x: 1 if x==2 else 0)\n",
        "  df_train['three']=df_train['rating'].apply(lambda x: 1 if x==3 else 0)\n",
        "  df_train['four']=df_train['rating'].apply(lambda x: 1 if x==4 else 0)\n",
        "  df_train['five']=df_train['rating'].apply(lambda x: 1 if x==5 else 0)\n",
        "  df_train['six']=df_train['rating'].apply(lambda x: 1 if x==6 else 0)\n",
        "\n",
        "  return df_train"
      ],
      "metadata": {
        "id": "08ifZdzgO2u9"
      },
      "execution_count": 9,
      "outputs": []
    },
    {
      "cell_type": "code",
      "source": [
        "from numpy.core.fromnumeric import size\n",
        "#GMF\n",
        "\n",
        "def Create_GMF(num_users,num_items,SIZE_):\n",
        "\n",
        "  input_userID = layers.Input(shape=[1], name='user_ID')\n",
        "  input_itemID = layers.Input(shape=[1], name='item_ID')\n",
        "\n",
        "  user_emb_GMF = layers.Embedding(num_users, SIZE_, name='user_emb_GMF')(input_userID)\n",
        "  item_emb_GMF = layers.Embedding(num_items, SIZE_, name='item_emb_GMF')(input_itemID)\n",
        "\n",
        "  u_GMF = layers.Flatten()(user_emb_GMF)\n",
        "  i_GMF = layers.Flatten()(item_emb_GMF)\n",
        "\n",
        "  dot_layer = layers.Multiply()([u_GMF, i_GMF])\n",
        "\n",
        "  out_layer = layers.Dense(6, activation='softmax', name='output')(dot_layer)\n",
        "\n",
        "  GMF = tf.keras.Model([input_userID, input_itemID], out_layer)\n",
        "  \n",
        "  return GMF\n",
        "\n",
        "def Train_GMF(model,X_train,Y_train,nbrEpochs):\n",
        "  model.compile(optimizer = 'adam',\n",
        "                    loss = tf.keras.losses.categorical_crossentropy ,\n",
        "                    metrics=['accuracy'])\n",
        "  model.fit(X_train,Y_train,epochs = nbrEpochs)\n",
        "  return model\n",
        "\n",
        "def user_item_ID_lists(userIDs,itemIDs):\n",
        "  i = 0\n",
        "  item_s = pd.Series()\n",
        "  user_s = pd.Series()\n",
        "  for user in userIDs:\n",
        "    temp = pd.Series(itemIDs)\n",
        "    item_s = item_s.append(temp)\n",
        "    temp = []\n",
        "    temp = [user for item in itemIDs]\n",
        "    temp = pd.Series(temp)\n",
        "    user_s = user_s.append(temp)\n",
        "    progress = user_s.size*100/(userIDs.size * itemIDs.size)\n",
        "   \n",
        "    if (progress  > 10) & (int(progress) < 25) & (i == 0):\n",
        "      print(\"===== 10 % =====\")\n",
        "      i += 1\n",
        "    elif (progress > 25) & (int(progress) < 35) & (i == 1):\n",
        "      print(\"===== 25 % =====\")\n",
        "      i += 1\n",
        "    elif (progress > 35) & (int(progress) < 50) & (i == 2):\n",
        "      print(\"===== 35 % =====\")\n",
        "      i += 1\n",
        "    elif (progress > 50) & (int(progress) < 65) & (i == 3):\n",
        "      print(\"===== 50 % =====\")\n",
        "      i += 1\n",
        "    elif (progress > 65) & (int(progress) < 75) & (i == 4):\n",
        "      print(\"===== 65 % =====\")\n",
        "      i += 1\n",
        "    elif (progress > 75) & (int(progress) < 80) & (i == 5):\n",
        "      print(\"===== 75 % =====\")\n",
        "      i += 1\n",
        "    elif (progress > 80) & (int(progress) < 90) & (i == 6):\n",
        "      print(\"===== 80 % =====\")\n",
        "      i += 1\n",
        "    elif (progress > 90) & (int(progress) < 95) & (i == 7):\n",
        "      print(\"===== 90 % =====\")\n",
        "      i += 1\n",
        "    elif (progress > 95) & (i == 8):\n",
        "      print(\"===== 95 % =====\")\n",
        "      i += 1\n",
        "\n",
        "  return user_s,item_s\n",
        "\n",
        "def Fill_Cf_Matrix(model,userList,itemList,userIDs,itemIDs):\n",
        "\n",
        "  prediction = model.predict([userList,itemList],verbose = 0)\n",
        "  i = 0\n",
        "  row = []\n",
        "  matrix = []\n",
        "  print(\"pred done\")\n",
        "\n",
        "  while i < userList.shape[0]:\n",
        "    result = np.where(prediction[i] == np.amax(prediction[i]))[0][0] + 1\n",
        "    row.append(result)\n",
        "    if len(row) == itemIDs.size:\n",
        "      matrix.append(row)\n",
        "      row = []\n",
        "       \n",
        "    i += 1\n",
        "\n",
        "  matrix_arr = np.array(matrix)\n",
        "  dataframe = pd.DataFrame(matrix_arr, index = userIDs, columns = itemIDs)\n",
        "  # for user in userIDs:\n",
        "  #   user_s = pd.Series(user)\n",
        "  #   for item in itemIDs:\n",
        "  #     item_s = pd.Series(item)\n",
        "  #     if dataframe.loc[user][item] == 0:\n",
        "  #       prediction = model.predict([user_s,item_s],verbose = 0)\n",
        "  #       result = np.where(prediction[0] == np.amax(prediction[0]))[0][0] + 1\n",
        "  #       dataframe.loc[user][item] = result\n",
        "  return dataframe\n"
      ],
      "metadata": {
        "id": "z6KHUFF9gwT5"
      },
      "execution_count": 10,
      "outputs": []
    },
    {
      "cell_type": "code",
      "source": [
        "df_train = preprocess_df(df)"
      ],
      "metadata": {
        "id": "5k7vteutejcS"
      },
      "execution_count": 11,
      "outputs": []
    },
    {
      "cell_type": "code",
      "source": [
        "df_train"
      ],
      "metadata": {
        "id": "2e8LqELNCLSH"
      },
      "execution_count": null,
      "outputs": []
    },
    {
      "cell_type": "code",
      "source": [
        "GMF = Create_GMF(df_train['User_ID'].max() + 1,df_train['Item_ID'].max() + 1,64)"
      ],
      "metadata": {
        "id": "HHrM6Dgl8AP1"
      },
      "execution_count": null,
      "outputs": []
    },
    {
      "cell_type": "code",
      "source": [
        "df_train_sample = df_train[:75000]\n",
        "X_train, X_test,y_train,y_test= train_test_split(df_train_sample[['User_ID','Item_ID']],df_train_sample[['one','two','three','four','five','six']],stratify=df_train_sample[['one','two','three','four','five','six']])\n",
        "#X_train, X_test,y_train,y_test= train_test_split(df_train[['User_ID','Item_ID']],df_train['rating'],stratify=df_train['rating'])"
      ],
      "metadata": {
        "id": "BFid5Xf9_SG8"
      },
      "execution_count": 12,
      "outputs": []
    },
    {
      "cell_type": "code",
      "source": [
        "GMF_trained = Train_GMF(GMF,[X_train['User_ID'],X_train['Item_ID']],y_train,5)"
      ],
      "metadata": {
        "id": "grxA3dxt-HSR"
      },
      "execution_count": null,
      "outputs": []
    },
    {
      "cell_type": "code",
      "source": [
        "user_item_matrix , df_mat = DatasetToUserItemDataFrame(df_train_sample,'User_ID','Item_ID','rating')"
      ],
      "metadata": {
        "id": "Y5_US3dQs3ro"
      },
      "execution_count": 13,
      "outputs": []
    },
    {
      "cell_type": "code",
      "source": [
        "GMF_trained.evaluate([X_test['User_ID'],X_test['Item_ID']],y_test)"
      ],
      "metadata": {
        "id": "AXTEr-r2tqij"
      },
      "execution_count": null,
      "outputs": []
    },
    {
      "cell_type": "code",
      "source": [
        "New_User_IDs = df_train_sample.User_ID.unique()\n",
        "New_Item_IDs = df_train_sample.Item_ID.unique()\n",
        "New_User_IDs"
      ],
      "metadata": {
        "id": "1f_e0Smif07B"
      },
      "execution_count": null,
      "outputs": []
    },
    {
      "cell_type": "code",
      "source": [
        "New_Item_IDs.size * New_User_IDs.size"
      ],
      "metadata": {
        "colab": {
          "base_uri": "https://localhost:8080/"
        },
        "id": "3oqCETBAP30e",
        "outputId": "223d0f64-e462-4ce0-d503-0ef765ce2208"
      },
      "execution_count": null,
      "outputs": [
        {
          "output_type": "execute_result",
          "data": {
            "text/plain": [
              "1731900"
            ]
          },
          "metadata": {},
          "execution_count": 135
        }
      ]
    },
    {
      "cell_type": "code",
      "source": [
        "user_s,item_s = user_item_ID_lists(New_User_IDs,New_Item_IDs)"
      ],
      "metadata": {
        "id": "n9ECgL3BAAFw"
      },
      "execution_count": null,
      "outputs": []
    },
    {
      "cell_type": "code",
      "source": [
        "df_mat_filled = Fill_Cf_Matrix(GMF_trained,user_s,item_s,New_User_IDs,New_Item_IDs)"
      ],
      "metadata": {
        "id": "oqWfFRyBr0mJ",
        "colab": {
          "base_uri": "https://localhost:8080/"
        },
        "outputId": "dac0357a-d62f-40e6-8751-8e6264c55489"
      },
      "execution_count": null,
      "outputs": [
        {
          "output_type": "stream",
          "name": "stdout",
          "text": [
            "pred done\n"
          ]
        }
      ]
    },
    {
      "cell_type": "code",
      "source": [
        "res = np.where(df_mat.iloc[1,:].values == 5 )\n",
        "res[0].size\n"
      ],
      "metadata": {
        "id": "JAPemOqlbFFO",
        "outputId": "0a8f95a4-0c6e-4e3e-b5e4-c5b05c433f5d",
        "colab": {
          "base_uri": "https://localhost:8080/"
        }
      },
      "execution_count": 164,
      "outputs": [
        {
          "output_type": "execute_result",
          "data": {
            "text/plain": [
              "69"
            ]
          },
          "metadata": {},
          "execution_count": 164
        }
      ]
    },
    {
      "cell_type": "code",
      "source": [
        "df_mat_filled1 = pd.read_csv('/content/epinions_user_item_filled_75K_matrix_100k_leaning.csv')"
      ],
      "metadata": {
        "id": "HePIy9kSpui_"
      },
      "execution_count": 14,
      "outputs": []
    },
    {
      "cell_type": "code",
      "source": [
        "df_mat"
      ],
      "metadata": {
        "id": "XuhpPu1sGig6"
      },
      "execution_count": null,
      "outputs": []
    },
    {
      "cell_type": "code",
      "source": [
        "df_mat_filled1"
      ],
      "metadata": {
        "id": "vdnjmhWUFRTB"
      },
      "execution_count": null,
      "outputs": []
    },
    {
      "cell_type": "code",
      "source": [
        "df_mat_sample = df_mat_filled1.iloc[:,:4030]"
      ],
      "metadata": {
        "id": "vlobYj4aGHYG"
      },
      "execution_count": null,
      "outputs": []
    },
    {
      "cell_type": "code",
      "source": [
        "\n",
        "df_mat_sample.replace(0,' ', inplace = True)\n"
      ],
      "metadata": {
        "id": "FdBTa2HtWUA6"
      },
      "execution_count": null,
      "outputs": []
    },
    {
      "cell_type": "code",
      "source": [
        "df_mat_sample =df_mat_filled1"
      ],
      "metadata": {
        "id": "KIzOORSDYbS3"
      },
      "execution_count": 15,
      "outputs": []
    },
    {
      "cell_type": "code",
      "source": [
        "#Autoencoder\n",
        "\n",
        "encoder_input = layers.Input(shape=(df_mat_sample.shape[1]),name='user_item')\n",
        "flat = layers.Flatten()(encoder_input)\n",
        "dropout = layers.Dropout(.2)(flat)\n",
        "hid_encoder = layers.Dense(512,activation=\"relu\")(dropout)\n",
        "# hid_encoder1 = layers.Dense(256,activation=\"relu\")(hid_encoder)\n",
        "# hid_encoder2 = layers.Dense(128,activation=\"relu\")(hid_encoder1)\n",
        "# hid_encoder3 = layers.Dense(10,activation=\"relu\")(hid_encoder2)\n",
        "encoder_output = layers.Dense(256,activation=\"relu\")(hid_encoder)\n",
        "\n",
        "decoder_input = layers.Dense(512,activation=\"relu\")(encoder_output)\n",
        "# decoder_hidden1 = layers.Dense(256,activation=\"relu\")(decoder_input)\n",
        "# decoder_hidden2 = layers.Dense(512,activation=\"relu\")(decoder_hidden1)\n",
        "# decoder_hidden3 = layers.Dense(25,activation=\"relu\")(decoder_hidden2)\n",
        "decoder_output = layers.Dense(df_mat_sample.shape[1],activation=\"relu\")(decoder_input)\n",
        "\n",
        "autoencoder = tf.keras.Model(inputs = encoder_input, outputs = decoder_output)"
      ],
      "metadata": {
        "id": "YFYfUYa-e3w9"
      },
      "execution_count": 16,
      "outputs": []
    },
    {
      "cell_type": "code",
      "source": [
        "def rmse (y_true,y_pred):\n",
        "  y_pred = tf.cast(y_pred, tf.float32)\n",
        "  y_true = tf.cast(y_true, tf.float32)\n",
        "  rmse = y_true - y_pred\n",
        "  rmse = tf.square(rmse)\n",
        "  rmse = tf.math.reduce_mean(rmse)\n",
        "  rmse = tf.math.sqrt(rmse)\n",
        "  return rmse\n",
        "\n",
        "opt = tf.keras.optimizers.Adam(learning_rate=0.00001)"
      ],
      "metadata": {
        "id": "QVclLDh4C46p"
      },
      "execution_count": 17,
      "outputs": []
    },
    {
      "cell_type": "code",
      "source": [
        "autoencoder.compile(optimizer ='adam',\n",
        "                    loss = rmse,\n",
        "                    metrics=['accuracy'])"
      ],
      "metadata": {
        "id": "_h1-_AumilKy"
      },
      "execution_count": 18,
      "outputs": []
    },
    {
      "cell_type": "code",
      "source": [
        "autoencoder.summary()"
      ],
      "metadata": {
        "id": "QxDl7Q-1jPdj"
      },
      "execution_count": null,
      "outputs": []
    },
    {
      "cell_type": "code",
      "source": [
        "X_train , X_test = train_test_split(df_mat_sample)"
      ],
      "metadata": {
        "id": "fbfvR2O-HnPp"
      },
      "execution_count": 19,
      "outputs": []
    },
    {
      "cell_type": "code",
      "source": [
        "X_test"
      ],
      "metadata": {
        "id": "o6YWwSj8ICeD"
      },
      "execution_count": null,
      "outputs": []
    },
    {
      "cell_type": "code",
      "source": [
        "autoencoder.fit(X_train, X_train, epochs = 400)"
      ],
      "metadata": {
        "id": "dh7hlrNijRGN"
      },
      "execution_count": null,
      "outputs": []
    },
    {
      "cell_type": "code",
      "source": [
        "autoencoder.evaluate(X_test,X_test)"
      ],
      "metadata": {
        "id": "u50crOS0OGTQ"
      },
      "execution_count": null,
      "outputs": []
    },
    {
      "cell_type": "code",
      "source": [
        "df_mat"
      ],
      "metadata": {
        "id": "QZfdCQKpP1Fr"
      },
      "execution_count": null,
      "outputs": []
    },
    {
      "cell_type": "code",
      "source": [
        "mat_pred = autoencoder.predict(df_mat)"
      ],
      "metadata": {
        "id": "8mRENNR6OUvh"
      },
      "execution_count": 34,
      "outputs": []
    },
    {
      "cell_type": "code",
      "source": [
        "mat_pred"
      ],
      "metadata": {
        "id": "kXiLEuz3vS3s"
      },
      "execution_count": null,
      "outputs": []
    },
    {
      "cell_type": "code",
      "source": [
        "df_mat_pred = pd.DataFrame(mat_pred, index = df_train_sample.User_ID.unique(), columns = df_train_sample.Item_ID.unique())"
      ],
      "metadata": {
        "id": "NF1MKF0Fjigd"
      },
      "execution_count": 36,
      "outputs": []
    },
    {
      "cell_type": "code",
      "source": [
        "df_mat_pred"
      ],
      "metadata": {
        "id": "A-aIuIYrvf31"
      },
      "execution_count": null,
      "outputs": []
    },
    {
      "cell_type": "code",
      "source": [
        "df_mat_pred = df_mat_pred.apply(round)"
      ],
      "metadata": {
        "id": "WGzgJbw31bSM"
      },
      "execution_count": 44,
      "outputs": []
    },
    {
      "cell_type": "code",
      "source": [
        "res = np.where(df_mat_pred.iloc[:,:].values == 1 )\n",
        "res[0].size"
      ],
      "metadata": {
        "id": "zVh18elW3IsL"
      },
      "execution_count": null,
      "outputs": []
    }
  ]
}
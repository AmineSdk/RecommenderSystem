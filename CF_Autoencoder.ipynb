{
  "nbformat": 4,
  "nbformat_minor": 0,
  "metadata": {
    "colab": {
      "name": "CF_Autoencoder.ipynb",
      "provenance": [],
      "collapsed_sections": []
    },
    "kernelspec": {
      "name": "python3",
      "display_name": "Python 3"
    },
    "language_info": {
      "name": "python"
    },
    "gpuClass": "standard",
    "accelerator": "GPU"
  },
  "cells": [
    {
      "cell_type": "code",
      "source": [
        "!pip install tensorflow-text"
      ],
      "metadata": {
        "id": "nFsPPT0-cZms"
      },
      "execution_count": null,
      "outputs": []
    },
    {
      "cell_type": "code",
      "source": [
        "! mkdir ~/.kaggle\n",
        "! cp kaggle.json ~/.kaggle/\n",
        "! chmod 600 ~/.kaggle/kaggle.json\n",
        "! kaggle datasets download -d aminesedkaoui/epinions-ratings-500k"
      ],
      "metadata": {
        "id": "UM0vifCk9CB0",
        "outputId": "a6e12573-06df-4c9d-de62-6d3ff2090e4a",
        "colab": {
          "base_uri": "https://localhost:8080/"
        }
      },
      "execution_count": 2,
      "outputs": [
        {
          "output_type": "stream",
          "name": "stdout",
          "text": [
            "Downloading epinions-ratings-500k.zip to /content\n",
            "\r  0% 0.00/3.25M [00:00<?, ?B/s]\n",
            "\r100% 3.25M/3.25M [00:00<00:00, 150MB/s]\n"
          ]
        }
      ]
    },
    {
      "cell_type": "code",
      "execution_count": 4,
      "metadata": {
        "id": "TcGcg4ZzRQD1"
      },
      "outputs": [],
      "source": [
        "from scipy.sparse import csr_matrix\n",
        "import tensorflow as tf \n",
        "import numpy as np\n",
        "import tensorflow_hub as hub\n",
        "import tensorflow_text as text\n",
        "import pandas as pd\n",
        "import random\n",
        "from keras import datasets, layers, models"
      ]
    },
    {
      "cell_type": "code",
      "source": [
        "!unzip \"/content/epinions-ratings-500k.zip\" -d \"/content/\""
      ],
      "metadata": {
        "id": "ppVGlIh8Ce8q",
        "outputId": "66a4603e-7a4b-45ce-f9be-4346c674195c",
        "colab": {
          "base_uri": "https://localhost:8080/"
        }
      },
      "execution_count": 4,
      "outputs": [
        {
          "output_type": "stream",
          "name": "stdout",
          "text": [
            "Archive:  /content/epinions-ratings-500k.zip\n",
            "  inflating: /content/epinions_rating_500k.csv  \n"
          ]
        }
      ]
    },
    {
      "cell_type": "code",
      "source": [
        "df = pd.read_csv('/content/epinions_rating_500k.csv')\n",
        "df = df.drop(['Unnamed: 0'],axis=1)\n",
        "df.head()"
      ],
      "metadata": {
        "id": "M-Fxg9TcRStc"
      },
      "execution_count": null,
      "outputs": []
    },
    {
      "cell_type": "code",
      "source": [
        "def DatasetToUserItemDataFrame(dataframe,userID,itemID,rating):\n",
        "  #Setting new item IDs from string to int \n",
        "  itemKeys = [] \n",
        "  i = 0\n",
        "  for item in dataframe[itemID].value_counts(sort=False):\n",
        "    temp = np.full((item),i)\n",
        "    itemKeys = np.append(itemKeys,temp)\n",
        "    i += 1\n",
        "\n",
        "  #Setting new user IDs from string to int\n",
        "  userKeysDic = {}\n",
        "  userKeys = np.zeros((dataframe[userID].size))\n",
        "  i = 0\n",
        "  for user in dataframe[userID].unique():\n",
        "    userKeysDic[user] = i\n",
        "    i += 1\n",
        "  i = 0\n",
        "  for user in dataframe[userID]:\n",
        "    userKeys[i] = userKeysDic[user]\n",
        "    i += 1\n",
        "\n",
        "  #Converting arrays from float to int \n",
        "  userKeys = userKeys.astype(int)\n",
        "  itemKeys = itemKeys.astype(int)\n",
        "\n",
        "  \n",
        "  user_item = csr_matrix((dataframe[rating].values.astype(int),(userKeys,itemKeys))) #Creating sparse matrix\n",
        "  user_item_matrix = user_item.toarray() #Converting sparse matrix into array\n",
        "  df_user_item = pd.DataFrame(user_item_matrix,index = dataframe[userID].unique()  ,columns = dataframe[itemID].unique() ) \n",
        "\n",
        "  return user_item,df_user_item"
      ],
      "metadata": {
        "id": "HHmzbMvDVB0b"
      },
      "execution_count": 6,
      "outputs": []
    },
    {
      "cell_type": "code",
      "source": [
        "def preprocess_df(df):\n",
        "  users = df['User_ID'].unique()\n",
        "  items = df['Item_ID'].unique()\n",
        "  df_train = df.copy()\n",
        "\n",
        "  New_User_IDs = random.sample(range(10000,50000),df['User_ID'].nunique())\n",
        "  New_Item_IDs = random.sample(range(100000,200000),df['Item_ID'].nunique())\n",
        "  i = 0\n",
        "  for d in users :\n",
        "    df_train['User_ID'].replace({d : New_User_IDs[i]}, inplace=True)\n",
        "    i+=1\n",
        "\n",
        "  i = 0\n",
        "  for d in items :\n",
        "    df_train['Item_ID'].replace({d : New_Item_IDs[i]}, inplace=True)\n",
        "    i+=1\n",
        "  \n",
        "  df_train['one']=df_train['rating'].apply(lambda x: 1 if x==1 else 0)\n",
        "  df_train['two']=df_train['rating'].apply(lambda x: 1 if x==2 else 0)\n",
        "  df_train['three']=df_train['rating'].apply(lambda x: 1 if x==3 else 0)\n",
        "  df_train['four']=df_train['rating'].apply(lambda x: 1 if x==4 else 0)\n",
        "  df_train['five']=df_train['rating'].apply(lambda x: 1 if x==5 else 0)\n",
        "  df_train['six']=df_train['rating'].apply(lambda x: 1 if x==6 else 0)\n",
        "\n",
        "  return df_train"
      ],
      "metadata": {
        "id": "08ifZdzgO2u9"
      },
      "execution_count": 7,
      "outputs": []
    },
    {
      "cell_type": "code",
      "source": [
        "from numpy.core.fromnumeric import size\n",
        "#GMF\n",
        "\n",
        "def Create_GMF(num_users,num_items,SIZE_):\n",
        "\n",
        "  input_userID = layers.Input(shape=[1], name='user_ID')\n",
        "  input_itemID = layers.Input(shape=[1], name='item_ID')\n",
        "\n",
        "  user_emb_GMF = layers.Embedding(num_users, SIZE_, name='user_emb_GMF')(input_userID)\n",
        "  item_emb_GMF = layers.Embedding(num_items, SIZE_, name='item_emb_GMF')(input_itemID)\n",
        "\n",
        "  u_GMF = layers.Flatten()(user_emb_GMF)\n",
        "  i_GMF = layers.Flatten()(item_emb_GMF)\n",
        "\n",
        "  dot_layer = layers.Multiply()([u_GMF, i_GMF])\n",
        "\n",
        "  out_layer = layers.Dense(6, activation='softmax', name='output')(dot_layer)\n",
        "\n",
        "  GMF = tf.keras.Model([input_userID, input_itemID], out_layer)\n",
        "  \n",
        "  return GMF\n",
        "\n",
        "def Train_GMF(model,X_train,Y_train,nbrEpochs):\n",
        "  model.compile(optimizer = 'adam',\n",
        "                    loss = tf.keras.losses.categorical_crossentropy ,\n",
        "                    metrics=['accuracy'])\n",
        "  model.fit(X_train,Y_train,epochs = nbrEpochs)\n",
        "  return model\n",
        "\n",
        "def user_item_ID_lists(userIDs,itemIDs):\n",
        "\n",
        "  item_s = pd.Series()\n",
        "  user_s = pd.Series()\n",
        "  for user in userIDs:\n",
        "    temp = pd.Series(itemIDs)\n",
        "    item_s = item_s.append(temp)\n",
        "    temp = []\n",
        "    temp = [user for item in itemIDs]\n",
        "    temp = pd.Series(temp)\n",
        "    user_s = user_s.append(temp)\n",
        "  return user_s,item_s\n",
        "\n",
        "def Fill_Cf_Matrix(model,userList,itemList,userIDs,itemIDs):\n",
        "\n",
        "  prediction = model.predict([userList,itemList],verbose = 0)\n",
        "  i = 0\n",
        "  row = []\n",
        "  matrix = []\n",
        "  print(\"pred done\")\n",
        "  \n",
        "  while i < userList.shape[0]:\n",
        "    result = np.where(prediction[i] == np.amax(prediction[i]))[0][0] + 1\n",
        "    row.append(result)\n",
        "    if (i % 10000) == 0:\n",
        "        print( str(i) +\"== row ==\")\n",
        "    if len(row) == itemIDs.size:\n",
        "      matrix.append(row)\n",
        "      row = []\n",
        "       \n",
        "    i += 1\n",
        "\n",
        "  matrix_arr = np.array(matrix)\n",
        "  dataframe = pd.DataFrame(matrix_arr, index = userIDs, columns = itemIDs)\n",
        "  # for user in userIDs:\n",
        "  #   user_s = pd.Series(user)\n",
        "  #   for item in itemIDs:\n",
        "  #     item_s = pd.Series(item)\n",
        "  #     if dataframe.loc[user][item] == 0:\n",
        "  #       prediction = model.predict([user_s,item_s],verbose = 0)\n",
        "  #       result = np.where(prediction[0] == np.amax(prediction[0]))[0][0] + 1\n",
        "  #       dataframe.loc[user][item] = result\n",
        "  return dataframe\n"
      ],
      "metadata": {
        "id": "z6KHUFF9gwT5"
      },
      "execution_count": 205,
      "outputs": []
    },
    {
      "cell_type": "code",
      "source": [
        "df_train = preprocess_df(df)"
      ],
      "metadata": {
        "id": "5k7vteutejcS"
      },
      "execution_count": 8,
      "outputs": []
    },
    {
      "cell_type": "code",
      "source": [
        "GMF = Create_GMF(df_train['User_ID'].max() + 1,df_train['Item_ID'].max() + 1,64)"
      ],
      "metadata": {
        "id": "HHrM6Dgl8AP1"
      },
      "execution_count": 9,
      "outputs": []
    },
    {
      "cell_type": "code",
      "source": [
        "from sklearn.model_selection import train_test_split\n",
        "df_train_sample = df_train[:2000]\n",
        "X_train, X_test,y_train,y_test= train_test_split(df_train_sample[['User_ID','Item_ID']],df_train_sample[['one','two','three','four','five','six']],stratify=df_train_sample[['one','two','three','four','five','six']])\n",
        "#X_train, X_test,y_train,y_test= train_test_split(df_train[['User_ID','Item_ID']],df_train['rating'],stratify=df_train['rating'])"
      ],
      "metadata": {
        "id": "BFid5Xf9_SG8"
      },
      "execution_count": 182,
      "outputs": []
    },
    {
      "cell_type": "code",
      "source": [
        "X_train"
      ],
      "metadata": {
        "id": "Ge4w-iLcII30"
      },
      "execution_count": null,
      "outputs": []
    },
    {
      "cell_type": "code",
      "source": [
        "GMF_trained = Train_GMF(GMF,[X_train['User_ID'],X_train['Item_ID']],y_train,5)"
      ],
      "metadata": {
        "id": "grxA3dxt-HSR",
        "outputId": "987d00e4-1d13-4384-970a-6f7f63badcd7",
        "colab": {
          "base_uri": "https://localhost:8080/"
        }
      },
      "execution_count": 131,
      "outputs": [
        {
          "output_type": "stream",
          "name": "stdout",
          "text": [
            "Epoch 1/5\n",
            "469/469 [==============================] - 6s 12ms/step - loss: 0.1505 - accuracy: 0.9565\n",
            "Epoch 2/5\n",
            "469/469 [==============================] - 5s 12ms/step - loss: 0.1012 - accuracy: 0.9713\n",
            "Epoch 3/5\n",
            "469/469 [==============================] - 6s 12ms/step - loss: 0.0648 - accuracy: 0.9827\n",
            "Epoch 4/5\n",
            "469/469 [==============================] - 5s 12ms/step - loss: 0.0406 - accuracy: 0.9910\n",
            "Epoch 5/5\n",
            "469/469 [==============================] - 5s 12ms/step - loss: 0.0252 - accuracy: 0.9955\n"
          ]
        }
      ]
    },
    {
      "cell_type": "code",
      "source": [
        "user_item_matrix , df_mat = DatasetToUserItemDataFrame(df_train_sample,'User_ID','Item_ID','rating')"
      ],
      "metadata": {
        "id": "Y5_US3dQs3ro"
      },
      "execution_count": 60,
      "outputs": []
    },
    {
      "cell_type": "code",
      "source": [
        "GMF_trained.evaluate([X_test['User_ID'],X_test['Item_ID']],y_test)"
      ],
      "metadata": {
        "id": "AXTEr-r2tqij",
        "outputId": "ba92e1a2-684f-45a1-b5b6-be3ddd8044ac",
        "colab": {
          "base_uri": "https://localhost:8080/"
        }
      },
      "execution_count": 15,
      "outputs": [
        {
          "output_type": "stream",
          "name": "stdout",
          "text": [
            "16/16 [==============================] - 0s 6ms/step - loss: 0.1561 - accuracy: 0.9540\n"
          ]
        },
        {
          "output_type": "execute_result",
          "data": {
            "text/plain": [
              "[0.15614736080169678, 0.9539999961853027]"
            ]
          },
          "metadata": {},
          "execution_count": 15
        }
      ]
    },
    {
      "cell_type": "code",
      "source": [
        "New_User_IDs = df_train_sample.User_ID.unique()\n",
        "New_Item_IDs = df_train_sample.Item_ID.unique()"
      ],
      "metadata": {
        "id": "1f_e0Smif07B"
      },
      "execution_count": 191,
      "outputs": []
    },
    {
      "cell_type": "code",
      "source": [
        "New_Item_IDs.size * New_User_IDs.size"
      ],
      "metadata": {
        "id": "3oqCETBAP30e",
        "outputId": "5bbcf0d8-66c0-40a5-97c3-9deab416aed2",
        "colab": {
          "base_uri": "https://localhost:8080/"
        }
      },
      "execution_count": 192,
      "outputs": [
        {
          "output_type": "execute_result",
          "data": {
            "text/plain": [
              "98838"
            ]
          },
          "metadata": {},
          "execution_count": 192
        }
      ]
    },
    {
      "cell_type": "code",
      "source": [
        "user_s,item_s = user_item_ID_lists(New_User_IDs,New_Item_IDs)"
      ],
      "metadata": {
        "id": "n9ECgL3BAAFw",
        "outputId": "537ea49f-72e4-4f75-86e0-eaa7d2048979",
        "colab": {
          "base_uri": "https://localhost:8080/"
        }
      },
      "execution_count": 201,
      "outputs": [
        {
          "output_type": "stream",
          "name": "stderr",
          "text": [
            "/usr/local/lib/python3.7/dist-packages/ipykernel_launcher.py:32: DeprecationWarning: The default dtype for empty Series will be 'object' instead of 'float64' in a future version. Specify a dtype explicitly to silence this warning.\n",
            "/usr/local/lib/python3.7/dist-packages/ipykernel_launcher.py:33: DeprecationWarning: The default dtype for empty Series will be 'object' instead of 'float64' in a future version. Specify a dtype explicitly to silence this warning.\n"
          ]
        }
      ]
    },
    {
      "cell_type": "code",
      "source": [
        "df_mat_filled = Fill_Cf_Matrix(GMF_trained,user_s,item_s,New_User_IDs,New_Item_IDs)"
      ],
      "metadata": {
        "id": "oqWfFRyBr0mJ",
        "outputId": "f7bc8edd-2d41-405f-eb1a-8125675f03e9",
        "colab": {
          "base_uri": "https://localhost:8080/"
        }
      },
      "execution_count": 204,
      "outputs": [
        {
          "output_type": "stream",
          "name": "stdout",
          "text": [
            "pred done\n",
            "98838\n",
            "0== row ==\n",
            "1000== row ==\n",
            "2000== row ==\n",
            "3000== row ==\n",
            "4000== row ==\n",
            "5000== row ==\n",
            "6000== row ==\n",
            "7000== row ==\n",
            "8000== row ==\n",
            "9000== row ==\n",
            "10000== row ==\n",
            "11000== row ==\n",
            "12000== row ==\n",
            "13000== row ==\n",
            "14000== row ==\n",
            "15000== row ==\n",
            "16000== row ==\n",
            "17000== row ==\n",
            "18000== row ==\n",
            "19000== row ==\n",
            "20000== row ==\n",
            "21000== row ==\n",
            "22000== row ==\n",
            "23000== row ==\n",
            "24000== row ==\n",
            "25000== row ==\n",
            "26000== row ==\n",
            "27000== row ==\n",
            "28000== row ==\n",
            "29000== row ==\n",
            "30000== row ==\n",
            "31000== row ==\n",
            "32000== row ==\n",
            "33000== row ==\n",
            "34000== row ==\n",
            "35000== row ==\n",
            "36000== row ==\n",
            "37000== row ==\n",
            "38000== row ==\n",
            "39000== row ==\n",
            "40000== row ==\n",
            "41000== row ==\n",
            "42000== row ==\n",
            "43000== row ==\n",
            "44000== row ==\n",
            "45000== row ==\n",
            "46000== row ==\n",
            "47000== row ==\n",
            "48000== row ==\n",
            "49000== row ==\n",
            "50000== row ==\n",
            "51000== row ==\n",
            "52000== row ==\n",
            "53000== row ==\n",
            "54000== row ==\n",
            "55000== row ==\n",
            "56000== row ==\n",
            "57000== row ==\n",
            "58000== row ==\n",
            "59000== row ==\n",
            "60000== row ==\n",
            "61000== row ==\n",
            "62000== row ==\n",
            "63000== row ==\n",
            "64000== row ==\n",
            "65000== row ==\n",
            "66000== row ==\n",
            "67000== row ==\n",
            "68000== row ==\n",
            "69000== row ==\n",
            "70000== row ==\n",
            "71000== row ==\n",
            "72000== row ==\n",
            "73000== row ==\n",
            "74000== row ==\n",
            "75000== row ==\n",
            "76000== row ==\n",
            "77000== row ==\n",
            "78000== row ==\n",
            "79000== row ==\n",
            "80000== row ==\n",
            "81000== row ==\n",
            "82000== row ==\n",
            "83000== row ==\n",
            "84000== row ==\n",
            "85000== row ==\n",
            "86000== row ==\n",
            "87000== row ==\n",
            "88000== row ==\n",
            "89000== row ==\n",
            "90000== row ==\n",
            "91000== row ==\n",
            "92000== row ==\n",
            "93000== row ==\n",
            "94000== row ==\n",
            "95000== row ==\n",
            "96000== row ==\n",
            "97000== row ==\n",
            "98000== row ==\n"
          ]
        }
      ]
    },
    {
      "cell_type": "code",
      "source": [
        "user_s_100K , item_s_100k = user_s, item_s"
      ],
      "metadata": {
        "id": "HePIy9kSpui_"
      },
      "execution_count": 175,
      "outputs": []
    },
    {
      "cell_type": "code",
      "source": [
        "df_mat_filled.to_csv('epinions_user_item_filled_100K_matrix_100k_leaning.csv',index = False)"
      ],
      "metadata": {
        "id": "wLPpxtA10boY"
      },
      "execution_count": 172,
      "outputs": []
    },
    {
      "cell_type": "code",
      "source": [
        "df_mat_filled.shape"
      ],
      "metadata": {
        "id": "XuhpPu1sGig6",
        "outputId": "4a8224ff-13c7-4220-fbec-61de147351bc",
        "colab": {
          "base_uri": "https://localhost:8080/"
        }
      },
      "execution_count": 173,
      "outputs": [
        {
          "output_type": "execute_result",
          "data": {
            "text/plain": [
              "(2895, 996)"
            ]
          },
          "metadata": {},
          "execution_count": 173
        }
      ]
    },
    {
      "cell_type": "code",
      "source": [
        "#Autoencoder\n",
        "\n",
        "encoder_input = layers.Input(shape=(df_mat_filled.shape[1]),name='user_item')\n",
        "flat = layers.Flatten()(encoder_input)\n",
        "hid_encoder = layers.Dense(900,activation=\"relu\")(flat)\n",
        "encoder_output = layers.Dense(800,activation=\"relu\")(hid_encoder)\n",
        "\n",
        "decoder_input = layers.Dense(900,activation=\"relu\")(encoder_output)\n",
        "decoder_output = layers.Dense(df_mat_filled.shape[1],activation=\"relu\")(decoder_input)\n",
        "\n",
        "autoencoder = tf.keras.Model(inputs = encoder_input, outputs = decoder_output)"
      ],
      "metadata": {
        "id": "YFYfUYa-e3w9"
      },
      "execution_count": 137,
      "outputs": []
    },
    {
      "cell_type": "code",
      "source": [
        "autoencoder.compile(optimizer = 'adam',\n",
        "                    loss = 'mse',\n",
        "                    metrics=['accuracy'])"
      ],
      "metadata": {
        "id": "_h1-_AumilKy"
      },
      "execution_count": 138,
      "outputs": []
    },
    {
      "cell_type": "code",
      "source": [
        "autoencoder.summary()"
      ],
      "metadata": {
        "id": "QxDl7Q-1jPdj",
        "outputId": "ac614c7c-684c-45e5-b21e-24a9469245e9",
        "colab": {
          "base_uri": "https://localhost:8080/"
        }
      },
      "execution_count": 139,
      "outputs": [
        {
          "output_type": "stream",
          "name": "stdout",
          "text": [
            "Model: \"model_7\"\n",
            "_________________________________________________________________\n",
            " Layer (type)                Output Shape              Param #   \n",
            "=================================================================\n",
            " user_item (InputLayer)      [(None, 996)]             0         \n",
            "                                                                 \n",
            " flatten_8 (Flatten)         (None, 996)               0         \n",
            "                                                                 \n",
            " dense_24 (Dense)            (None, 900)               897300    \n",
            "                                                                 \n",
            " dense_25 (Dense)            (None, 800)               720800    \n",
            "                                                                 \n",
            " dense_26 (Dense)            (None, 900)               720900    \n",
            "                                                                 \n",
            " dense_27 (Dense)            (None, 996)               897396    \n",
            "                                                                 \n",
            "=================================================================\n",
            "Total params: 3,236,396\n",
            "Trainable params: 3,236,396\n",
            "Non-trainable params: 0\n",
            "_________________________________________________________________\n"
          ]
        }
      ]
    },
    {
      "cell_type": "code",
      "source": [
        "X_train , X_test = train_test_split(df_mat_filled)"
      ],
      "metadata": {
        "id": "fbfvR2O-HnPp"
      },
      "execution_count": 140,
      "outputs": []
    },
    {
      "cell_type": "code",
      "source": [
        "X_train"
      ],
      "metadata": {
        "id": "o6YWwSj8ICeD"
      },
      "execution_count": null,
      "outputs": []
    },
    {
      "cell_type": "code",
      "source": [
        "autoencoder.fit(X_train, X_train, epochs = 5)"
      ],
      "metadata": {
        "id": "dh7hlrNijRGN",
        "outputId": "109808a8-923c-4086-fd1a-15931145d560",
        "colab": {
          "base_uri": "https://localhost:8080/"
        }
      },
      "execution_count": 142,
      "outputs": [
        {
          "output_type": "stream",
          "name": "stdout",
          "text": [
            "Epoch 1/5\n",
            "68/68 [==============================] - 1s 4ms/step - loss: 5.6762 - accuracy: 0.0000e+00\n",
            "Epoch 2/5\n",
            "68/68 [==============================] - 0s 4ms/step - loss: 4.0366 - accuracy: 0.0000e+00\n",
            "Epoch 3/5\n",
            "68/68 [==============================] - 0s 4ms/step - loss: 3.9501 - accuracy: 0.0106\n",
            "Epoch 4/5\n",
            "68/68 [==============================] - 0s 5ms/step - loss: 3.9278 - accuracy: 0.0032\n",
            "Epoch 5/5\n",
            "68/68 [==============================] - 0s 4ms/step - loss: 3.8801 - accuracy: 0.0018\n"
          ]
        },
        {
          "output_type": "execute_result",
          "data": {
            "text/plain": [
              "<keras.callbacks.History at 0x7ff136ee1890>"
            ]
          },
          "metadata": {},
          "execution_count": 142
        }
      ]
    }
  ]
}
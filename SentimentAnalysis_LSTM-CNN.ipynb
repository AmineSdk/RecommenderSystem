{
  "cells": [
    {
      "cell_type": "code",
      "source": [
        "! pip install kaggle\n",
        "! mkdir ~/.kaggle\n",
        "! cp kaggle.json ~/.kaggle/\n",
        "! chmod 600 ~/.kaggle/kaggle.json\n",
        "! kaggle datasets download CellPhones -f CellPhonesRating.csv"
      ],
      "metadata": {
        "id": "UM0vifCk9CB0"
      },
      "execution_count": null,
      "outputs": []
    },
    {
      "cell_type": "code",
      "execution_count": null,
      "metadata": {
        "id": "hzC-uuMYYvXk"
      },
      "outputs": [],
      "source": [
        "!pip install tensorflow-text"
      ]
    },
    {
      "cell_type": "code",
      "execution_count": null,
      "metadata": {
        "id": "LOYIL86oOtQo"
      },
      "outputs": [],
      "source": [
        "import os\n",
        "import tensorflow as tf \n",
        "import numpy as np\n",
        "import tensorflow_hub as hub\n",
        "import tensorflow_text as text\n",
        "import pandas as pd\n",
        "from tensorflow.keras import datasets, layers, models"
      ]
    },
    {
      "cell_type": "code",
      "execution_count": null,
      "metadata": {
        "id": "vW_veoaUsf9v"
      },
      "outputs": [],
      "source": [
        "bert_preprocess_model = hub.KerasLayer(\"https://tfhub.dev/tensorflow/bert_en_uncased_preprocess/3\")\n",
        "bert_encoder = hub.KerasLayer(\"https://tfhub.dev/tensorflow/bert_en_uncased_L-12_H-768_A-12/4\")"
      ]
    },
    {
      "cell_type": "code",
      "execution_count": null,
      "metadata": {
        "id": "cHzYcIcgtKbV"
      },
      "outputs": [],
      "source": [
        "from google.colab import drive\n",
        " \n",
        "drive.mount('/content/gdrive')"
      ]
    },
    {
      "cell_type": "code",
      "execution_count": null,
      "metadata": {
        "id": "AeRax9AkAxij"
      },
      "outputs": [],
      "source": [
        "df = pd.read_csv(\"/content/CellPhonesRating.csv.zip\")\n",
        "df = df.dropna(how='any',axis=0)\n",
        "df.drop_duplicates(subset =['productID', 'reviewerID'] , keep = 'first' , inplace = True)\n",
        "df.head()"
      ]
    },
    {
      "cell_type": "code",
      "execution_count": null,
      "metadata": {
        "id": "FhkLrQSj2NQH"
      },
      "outputs": [],
      "source": [
        "df['one']=df['rating'].apply(lambda x: 1 if x==1.0 else 0)\n",
        "df['two']=df['rating'].apply(lambda x: 1 if x==2.0 else 0)\n",
        "df['three']=df['rating'].apply(lambda x: 1 if x==3.0 else 0)\n",
        "df['four']=df['rating'].apply(lambda x: 1 if x==4.0 else 0)\n",
        "df['five']=df['rating'].apply(lambda x: 1 if x==5.0 else 0)"
      ]
    },
    {
      "cell_type": "code",
      "execution_count": null,
      "metadata": {
        "id": "djuS1oTrL5eA"
      },
      "outputs": [],
      "source": [
        "#Train/Test data split\n",
        "from sklearn.model_selection import train_test_split\n",
        "X_train, X_test, y_train, y_test = train_test_split(df['reviewText'],df[['one','two','three','four','five']], stratify=df[['one','two','three','four','five']])"
      ]
    },
    {
      "cell_type": "code",
      "execution_count": null,
      "metadata": {
        "id": "FjYKA4rvYWJR",
        "colab": {
          "base_uri": "https://localhost:8080/"
        },
        "outputId": "5324154a-2997-48fe-f6a9-19fd2452e842"
      },
      "outputs": [
        {
          "output_type": "execute_result",
          "data": {
            "text/plain": [
              "(921911,)"
            ]
          },
          "metadata": {},
          "execution_count": 40
        }
      ],
      "source": [
        "X_test.shape"
      ]
    },
    {
      "cell_type": "code",
      "execution_count": null,
      "metadata": {
        "id": "R17aK28zho2U"
      },
      "outputs": [],
      "source": [
        "#BERT layers\n",
        "text_input = tf.keras.layers.Input(shape=(), dtype=tf.string, name='text')\n",
        "preprocessed_review = bert_preprocess_model(text_input)\n",
        "outputs = bert_encoder(preprocessed_review)"
      ]
    },
    {
      "cell_type": "code",
      "execution_count": null,
      "metadata": {
        "id": "1IxwAebhrk_X"
      },
      "outputs": [],
      "source": [
        "# LSTM + CNN layers\n",
        "\n",
        "l = tf.keras.layers.LSTM(768, dropout = 0.1, return_sequences=True)(outputs['sequence_output'])\n",
        "\n",
        "conv_1 = tf.keras.layers.Conv1D(filters=128, kernel_size=(3), activation='relu')(l)\n",
        "pool_1 = tf.keras.layers.MaxPooling1D((3))(conv_1)\n",
        "      \n",
        "flatten = layers.Flatten()(pool_1)\n",
        "hidden1 = layers.Dense(64, activation='relu')(flatten)\n",
        "output = layers.Dense(5, activation='softmax')(hidden1)\n",
        "\n",
        "bert_cnn_model = tf.keras.Model(inputs = text_input, outputs = output)"
      ]
    },
    {
      "cell_type": "code",
      "execution_count": null,
      "metadata": {
        "id": "1dlgta7736Kr"
      },
      "outputs": [],
      "source": [
        "bert_cnn_model.compile(optimizer='adam',\n",
        "              loss=tf.keras.losses.CategoricalCrossentropy(),\n",
        "              metrics=['accuracy'])"
      ]
    },
    {
      "cell_type": "code",
      "execution_count": null,
      "metadata": {
        "id": "aEJG_M3Y9VlV"
      },
      "outputs": [],
      "source": [
        "bert_cnn_model.summary()"
      ]
    },
    {
      "cell_type": "code",
      "source": [
        "#Creating checkpoint directory to save model's weights\n",
        "checkpoint_path = \"/content/gdrive/MyDrive/training_LSTM_CNN_Full_CP_Dataset/cp.ckpt\"\n",
        "checkpoint_dir = os.path.dirname(checkpoint_path)\n",
        "\n",
        "cp_callback = tf.keras.callbacks.ModelCheckpoint(filepath=checkpoint_path,\n",
        "                                                 save_weights_only=True,\n",
        "                                                 verbose=1)"
      ],
      "metadata": {
        "id": "aF0qvLb6-bjx"
      },
      "execution_count": null,
      "outputs": []
    },
    {
      "cell_type": "code",
      "execution_count": null,
      "metadata": {
        "id": "7Isc-ZQ9lHa4"
      },
      "outputs": [],
      "source": [
        "bert_cnn_model.fit(X_train,y_train,epochs = 25,callbacks=[cp_callback])"
      ]
    },
    {
      "cell_type": "code",
      "source": [
        "bert_cnn_model.load_weights(checkpoint_path)"
      ],
      "metadata": {
        "id": "r9fLRLCpBa5g"
      },
      "execution_count": null,
      "outputs": []
    },
    {
      "cell_type": "code",
      "source": [
        "bert_cnn_model.evaluate(X_test[:1000],y_test[:1000])"
      ],
      "metadata": {
        "colab": {
          "base_uri": "https://localhost:8080/"
        },
        "id": "PYKei3tsdiwc",
        "outputId": "c92f3a7e-0efd-4e77-c979-559c76942143"
      },
      "execution_count": null,
      "outputs": [
        {
          "output_type": "stream",
          "name": "stdout",
          "text": [
            "32/32 [==============================] - 11s 353ms/step - loss: 2.3407 - accuracy: 0.6520\n"
          ]
        },
        {
          "output_type": "execute_result",
          "data": {
            "text/plain": [
              "[2.3407304286956787, 0.6520000100135803]"
            ]
          },
          "metadata": {},
          "execution_count": 44
        }
      ]
    },
    {
      "cell_type": "code",
      "source": [
        "bert_cnn_model.fit(X_train,y_train,epochs = 5,callbacks=[cp_callback])"
      ],
      "metadata": {
        "id": "lCk19Evb-fu7"
      },
      "execution_count": null,
      "outputs": []
    }
  ],
  "metadata": {
    "accelerator": "GPU",
    "colab": {
      "collapsed_sections": [],
      "name": "SentimentAnalysis.ipynb",
      "provenance": []
    },
    "kernelspec": {
      "display_name": "Python 3",
      "name": "python3"
    },
    "language_info": {
      "name": "python"
    }
  },
  "nbformat": 4,
  "nbformat_minor": 0
}
